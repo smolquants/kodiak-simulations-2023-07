{
 "cells": [
  {
   "cell_type": "code",
   "execution_count": 1,
   "id": "cc6c0ccf-006d-4371-ab38-235ce62eb9c2",
   "metadata": {},
   "outputs": [],
   "source": [
    "from sympy import Function, Symbol, E, Integral, diff, limit, sqrt, simplify, series, pi, oo, erf, cosh, ln\n",
    "from sympy.stats import Normal, cdf"
   ]
  },
  {
   "cell_type": "code",
   "execution_count": 2,
   "id": "7b166fb0-014a-461d-9d88-a6460055df8a",
   "metadata": {},
   "outputs": [],
   "source": [
    "delta = Symbol('Delta', positive=True)\n",
    "l = Symbol('l', positive=True)\n",
    "tau = Symbol('tau', positive=True)\n",
    "theta = Symbol('theta', positive=True)\n",
    "mu = Symbol('mu')\n",
    "sig = Symbol('sigma', positive=True)\n",
    "f = Symbol('f', positive=True)"
   ]
  },
  {
   "cell_type": "code",
   "execution_count": 3,
   "id": "3687774e-d0ee-4309-9071-69353468a2c9",
   "metadata": {},
   "outputs": [
    {
     "data": {
      "text/latex": [
       "$\\displaystyle \\Delta$"
      ],
      "text/plain": [
       "Delta"
      ]
     },
     "execution_count": 3,
     "metadata": {},
     "output_type": "execute_result"
    }
   ],
   "source": [
    "# tick width\n",
    "delta"
   ]
  },
  {
   "cell_type": "code",
   "execution_count": 4,
   "id": "94c715d1-5ec1-4151-aaa6-64c8c4fb7063",
   "metadata": {},
   "outputs": [
    {
     "data": {
      "text/latex": [
       "$\\displaystyle l$"
      ],
      "text/plain": [
       "l"
      ]
     },
     "execution_count": 4,
     "metadata": {},
     "output_type": "execute_result"
    }
   ],
   "source": [
    "# liquidity deployed per unit of external virtual reserves\n",
    "l"
   ]
  },
  {
   "cell_type": "code",
   "execution_count": 5,
   "id": "9a4cb065-20e1-446a-8874-860274b65274",
   "metadata": {},
   "outputs": [
    {
     "data": {
      "text/latex": [
       "$\\displaystyle \\tau$"
      ],
      "text/plain": [
       "tau"
      ]
     },
     "execution_count": 5,
     "metadata": {},
     "output_type": "execute_result"
    }
   ],
   "source": [
    "# rebalancing period\n",
    "tau"
   ]
  },
  {
   "cell_type": "code",
   "execution_count": 6,
   "id": "e6cc5a5f-b58d-4884-91f8-6b85eb241036",
   "metadata": {},
   "outputs": [
    {
     "data": {
      "text/latex": [
       "$\\displaystyle \\theta$"
      ],
      "text/plain": [
       "theta"
      ]
     },
     "execution_count": 6,
     "metadata": {},
     "output_type": "execute_result"
    }
   ],
   "source": [
    "# pool fee volume per unit of external virtual reserves\n",
    "theta"
   ]
  },
  {
   "cell_type": "code",
   "execution_count": 7,
   "id": "c49c0eaa-fab0-4140-a0df-b5a475b6815b",
   "metadata": {},
   "outputs": [
    {
     "data": {
      "text/latex": [
       "$\\displaystyle f$"
      ],
      "text/plain": [
       "f"
      ]
     },
     "execution_count": 7,
     "metadata": {},
     "output_type": "execute_result"
    }
   ],
   "source": [
    "# pool fee rate\n",
    "f"
   ]
  },
  {
   "cell_type": "code",
   "execution_count": 8,
   "id": "3c0b58ee-741d-44a1-b805-24fc23308334",
   "metadata": {},
   "outputs": [
    {
     "data": {
      "text/latex": [
       "$\\displaystyle \\mu$"
      ],
      "text/plain": [
       "mu"
      ]
     },
     "execution_count": 8,
     "metadata": {},
     "output_type": "execute_result"
    }
   ],
   "source": [
    "# log-normal drift\n",
    "mu"
   ]
  },
  {
   "cell_type": "code",
   "execution_count": 9,
   "id": "a9cf5e4f-324b-4519-b12f-7112472e60eb",
   "metadata": {},
   "outputs": [
    {
     "data": {
      "text/latex": [
       "$\\displaystyle \\sigma$"
      ],
      "text/plain": [
       "sigma"
      ]
     },
     "execution_count": 9,
     "metadata": {},
     "output_type": "execute_result"
    }
   ],
   "source": [
    "# log-normal vol\n",
    "sig"
   ]
  },
  {
   "cell_type": "code",
   "execution_count": 10,
   "id": "7f8c8c6f-1837-4826-9910-9b04815e1829",
   "metadata": {},
   "outputs": [
    {
     "data": {
      "text/latex": [
       "$\\displaystyle \\mu - \\frac{\\sigma^{2}}{2}$"
      ],
      "text/plain": [
       "mu - sigma**2/2"
      ]
     },
     "execution_count": 10,
     "metadata": {},
     "output_type": "execute_result"
    }
   ],
   "source": [
    "# log-normal drift adjusted for vol\n",
    "mu_p = mu - sig**2 / 2\n",
    "mu_p"
   ]
  },
  {
   "cell_type": "code",
   "execution_count": 11,
   "id": "cdd0d864-89f6-44f6-b88b-e6f6971be58c",
   "metadata": {},
   "outputs": [
    {
     "data": {
      "text/latex": [
       "$\\displaystyle Z$"
      ],
      "text/plain": [
       "Z"
      ]
     },
     "execution_count": 11,
     "metadata": {},
     "output_type": "execute_result"
    }
   ],
   "source": [
    "# standard normal RV\n",
    "Z = Normal('Z', 0, 1)\n",
    "Z"
   ]
  },
  {
   "cell_type": "code",
   "execution_count": 12,
   "id": "67dc97ed-cefa-421d-b4bd-2e0131dd6c54",
   "metadata": {},
   "outputs": [],
   "source": [
    "# alias standard norm cdf: Phi(z)\n",
    "Phi = cdf(Z)"
   ]
  },
  {
   "cell_type": "code",
   "execution_count": 13,
   "id": "15c5f539-982a-4c7b-8f7d-5101b872530b",
   "metadata": {},
   "outputs": [
    {
     "data": {
      "text/latex": [
       "$\\displaystyle \\frac{\\Delta - \\tau \\left(\\mu - \\frac{\\sigma^{2}}{2}\\right)}{\\sigma \\sqrt{\\tau}}$"
      ],
      "text/plain": [
       "(Delta - tau*(mu - sigma**2/2))/(sigma*sqrt(tau))"
      ]
     },
     "execution_count": 13,
     "metadata": {},
     "output_type": "execute_result"
    }
   ],
   "source": [
    "# \"normalized\" delta (+)\n",
    "d_plus = (delta - mu_p * tau) / (sig * sqrt(tau))\n",
    "d_plus"
   ]
  },
  {
   "cell_type": "code",
   "execution_count": 14,
   "id": "f3d2b7a9-ba34-4e27-a71d-fee34d7c1c87",
   "metadata": {},
   "outputs": [
    {
     "data": {
      "text/latex": [
       "$\\displaystyle \\frac{- \\Delta - \\tau \\left(\\mu - \\frac{\\sigma^{2}}{2}\\right)}{\\sigma \\sqrt{\\tau}}$"
      ],
      "text/plain": [
       "(-Delta - tau*(mu - sigma**2/2))/(sigma*sqrt(tau))"
      ]
     },
     "execution_count": 14,
     "metadata": {},
     "output_type": "execute_result"
    }
   ],
   "source": [
    "# \"normalized\" delta (-)\n",
    "d_minus = (-delta - mu_p * tau) / (sig * sqrt(tau))\n",
    "d_minus"
   ]
  },
  {
   "cell_type": "code",
   "execution_count": 15,
   "id": "55fffbfb-9137-472b-b39a-0ef67feaee1d",
   "metadata": {},
   "outputs": [
    {
     "data": {
      "text/latex": [
       "$\\displaystyle \\frac{\\theta \\int\\limits_{0}^{\\tau} \\left(\\left(- \\frac{\\operatorname{erf}{\\left(\\frac{\\sqrt{2} \\left(- \\sigma \\sqrt{t} + \\frac{- \\Delta - t \\left(\\mu - \\frac{\\sigma^{2}}{2}\\right)}{\\sigma \\sqrt{t}}\\right)}{2} \\right)}}{2} + \\frac{\\operatorname{erf}{\\left(\\frac{\\sqrt{2} \\left(- \\sigma \\sqrt{t} + \\frac{\\Delta - t \\left(\\mu - \\frac{\\sigma^{2}}{2}\\right)}{\\sigma \\sqrt{t}}\\right)}{2} \\right)}}{2}\\right) e^{\\mu \\tau} - \\frac{\\operatorname{erf}{\\left(\\frac{\\sqrt{2} \\left(- \\Delta - t \\left(\\mu - \\frac{\\sigma^{2}}{2}\\right)\\right)}{2 \\sigma \\sqrt{t}} \\right)}}{2} + \\frac{\\operatorname{erf}{\\left(\\frac{\\sqrt{2} \\left(\\Delta - t \\left(\\mu - \\frac{\\sigma^{2}}{2}\\right)\\right)}{2 \\sigma \\sqrt{t}} \\right)}}{2}\\right)\\, dt}{l + 1 - e^{- \\frac{\\Delta}{2}}}$"
      ],
      "text/plain": [
       "theta*Integral((-erf(sqrt(2)*(-sigma*sqrt(t) + (-Delta - t*(mu - sigma**2/2))/(sigma*sqrt(t)))/2)/2 + erf(sqrt(2)*(-sigma*sqrt(t) + (Delta - t*(mu - sigma**2/2))/(sigma*sqrt(t)))/2)/2)*exp(mu*tau) - erf(sqrt(2)*(-Delta - t*(mu - sigma**2/2))/(2*sigma*sqrt(t)))/2 + erf(sqrt(2)*(Delta - t*(mu - sigma**2/2))/(2*sigma*sqrt(t)))/2, (t, 0, tau))/(l + 1 - exp(-Delta/2))"
      ]
     },
     "execution_count": 15,
     "metadata": {},
     "output_type": "execute_result"
    }
   ],
   "source": [
    "# term for fee revenue EV (integral unevaluated)\n",
    "t = Symbol('t')\n",
    "d_plus_t = (delta - mu_p * t) / (sig * sqrt(t))\n",
    "d_minus_t = (-delta - mu_p * t) / (sig * sqrt(t))\n",
    "\n",
    "integrand_fee = Phi(d_plus_t) - Phi(d_minus_t) + E**(mu * tau) * ( Phi(d_plus_t - sig * sqrt(t)) - Phi(d_minus_t - sig * sqrt(t)) )\n",
    "\n",
    "ev_fee = (theta / (1-E**(-delta/2) + l)) * Integral(integrand_fee, (t, 0, tau))\n",
    "ev_fee"
   ]
  },
  {
   "cell_type": "code",
   "execution_count": 16,
   "id": "811f1e03-baae-4316-8660-331b8250ce52",
   "metadata": {},
   "outputs": [],
   "source": [
    "# TODO: re-evaluate integral on wolfram\n"
   ]
  },
  {
   "cell_type": "code",
   "execution_count": 17,
   "id": "9b854785-f3c8-4131-af13-ff63d4fd0ec6",
   "metadata": {},
   "outputs": [
    {
     "data": {
      "text/latex": [
       "$\\displaystyle \\left(e^{\\frac{\\Delta}{2}} + 1\\right) \\left(\\left(\\frac{\\operatorname{erf}{\\left(\\frac{\\sqrt{2} \\left(- \\sigma \\sqrt{\\tau} + \\frac{- \\Delta - \\tau \\left(\\mu - \\frac{\\sigma^{2}}{2}\\right)}{\\sigma \\sqrt{\\tau}}\\right)}{2} \\right)}}{2} + \\frac{1}{2}\\right) e^{\\mu \\tau} - \\frac{\\operatorname{erf}{\\left(\\frac{\\sqrt{2} \\left(\\Delta - \\tau \\left(\\mu - \\frac{\\sigma^{2}}{2}\\right)\\right)}{2 \\sigma \\sqrt{\\tau}} \\right)}}{2} + \\frac{1}{2}\\right)$"
      ],
      "text/plain": [
       "(exp(Delta/2) + 1)*((erf(sqrt(2)*(-sigma*sqrt(tau) + (-Delta - tau*(mu - sigma**2/2))/(sigma*sqrt(tau)))/2)/2 + 1/2)*exp(mu*tau) - erf(sqrt(2)*(Delta - tau*(mu - sigma**2/2))/(2*sigma*sqrt(tau)))/2 + 1/2)"
      ]
     },
     "execution_count": 17,
     "metadata": {},
     "output_type": "execute_result"
    }
   ],
   "source": [
    "# terms for principal before rebalancing\n",
    "ev_principal_before_a = (E**(delta/2) + 1) * (E**(mu*tau) * Phi(d_minus - sig * sqrt(tau)) + 1 - Phi(d_plus))\n",
    "ev_principal_before_a"
   ]
  },
  {
   "cell_type": "code",
   "execution_count": 18,
   "id": "eb93ca24-1547-4ae7-8d5f-17184f7dda1b",
   "metadata": {},
   "outputs": [
    {
     "data": {
      "text/latex": [
       "$\\displaystyle \\frac{2 \\left(- \\frac{\\operatorname{erf}{\\left(\\frac{\\sqrt{2} \\left(- \\frac{\\sigma \\sqrt{\\tau}}{2} + \\frac{- \\Delta - \\tau \\left(\\mu - \\frac{\\sigma^{2}}{2}\\right)}{\\sigma \\sqrt{\\tau}}\\right)}{2} \\right)}}{2} + \\frac{\\operatorname{erf}{\\left(\\frac{\\sqrt{2} \\left(- \\frac{\\sigma \\sqrt{\\tau}}{2} + \\frac{\\Delta - \\tau \\left(\\mu - \\frac{\\sigma^{2}}{2}\\right)}{\\sigma \\sqrt{\\tau}}\\right)}{2} \\right)}}{2}\\right) e^{\\frac{\\tau \\left(\\mu - \\frac{\\sigma^{2}}{4}\\right)}{2}}}{1 - e^{- \\frac{\\Delta}{2}}}$"
      ],
      "text/plain": [
       "2*(-erf(sqrt(2)*(-sigma*sqrt(tau)/2 + (-Delta - tau*(mu - sigma**2/2))/(sigma*sqrt(tau)))/2)/2 + erf(sqrt(2)*(-sigma*sqrt(tau)/2 + (Delta - tau*(mu - sigma**2/2))/(sigma*sqrt(tau)))/2)/2)*exp(tau*(mu - sigma**2/4)/2)/(1 - exp(-Delta/2))"
      ]
     },
     "execution_count": 18,
     "metadata": {},
     "output_type": "execute_result"
    }
   ],
   "source": [
    "ev_principal_before_b = (1/(1-E**(-delta/2))) * (2 * E**((mu-sig**2/4) * (tau/2))) * (Phi(d_plus - sig * sqrt(tau) / 2) - Phi(d_minus - sig * sqrt(tau) / 2))\n",
    "ev_principal_before_b"
   ]
  },
  {
   "cell_type": "code",
   "execution_count": 19,
   "id": "51927137-f760-415f-9847-995f7e6db8f3",
   "metadata": {},
   "outputs": [
    {
     "data": {
      "text/latex": [
       "$\\displaystyle - \\frac{\\left(\\left(- \\frac{\\operatorname{erf}{\\left(\\frac{\\sqrt{2} \\left(- \\sigma \\sqrt{\\tau} + \\frac{- \\Delta - \\tau \\left(\\mu - \\frac{\\sigma^{2}}{2}\\right)}{\\sigma \\sqrt{\\tau}}\\right)}{2} \\right)}}{2} + \\frac{\\operatorname{erf}{\\left(\\frac{\\sqrt{2} \\left(- \\sigma \\sqrt{\\tau} + \\frac{\\Delta - \\tau \\left(\\mu - \\frac{\\sigma^{2}}{2}\\right)}{\\sigma \\sqrt{\\tau}}\\right)}{2} \\right)}}{2}\\right) e^{\\mu \\tau} - \\frac{\\operatorname{erf}{\\left(\\frac{\\sqrt{2} \\left(- \\Delta - \\tau \\left(\\mu - \\frac{\\sigma^{2}}{2}\\right)\\right)}{2 \\sigma \\sqrt{\\tau}} \\right)}}{2} + \\frac{\\operatorname{erf}{\\left(\\frac{\\sqrt{2} \\left(\\Delta - \\tau \\left(\\mu - \\frac{\\sigma^{2}}{2}\\right)\\right)}{2 \\sigma \\sqrt{\\tau}} \\right)}}{2}\\right) e^{- \\frac{\\Delta}{2}}}{1 - e^{- \\frac{\\Delta}{2}}}$"
      ],
      "text/plain": [
       "-((-erf(sqrt(2)*(-sigma*sqrt(tau) + (-Delta - tau*(mu - sigma**2/2))/(sigma*sqrt(tau)))/2)/2 + erf(sqrt(2)*(-sigma*sqrt(tau) + (Delta - tau*(mu - sigma**2/2))/(sigma*sqrt(tau)))/2)/2)*exp(mu*tau) - erf(sqrt(2)*(-Delta - tau*(mu - sigma**2/2))/(2*sigma*sqrt(tau)))/2 + erf(sqrt(2)*(Delta - tau*(mu - sigma**2/2))/(2*sigma*sqrt(tau)))/2)*exp(-Delta/2)/(1 - exp(-Delta/2))"
      ]
     },
     "execution_count": 19,
     "metadata": {},
     "output_type": "execute_result"
    }
   ],
   "source": [
    "ev_principal_before_c = -(E**(-delta/2)/(1-E**(-delta/2))) * (Phi(d_plus) - Phi(d_minus) + E**(mu*tau) * (Phi(d_plus - sig * sqrt(tau)) - Phi(d_minus - sig * sqrt(tau))))\n",
    "ev_principal_before_c"
   ]
  },
  {
   "cell_type": "code",
   "execution_count": 20,
   "id": "4d283d18-8f45-41d1-88c9-8ce4a09ad353",
   "metadata": {},
   "outputs": [],
   "source": [
    "ev_principal_before = ev_principal_before_a + ev_principal_before_b + ev_principal_before_c"
   ]
  },
  {
   "cell_type": "code",
   "execution_count": 21,
   "id": "0a999f7a-642e-4a77-a563-ba397a55a69b",
   "metadata": {},
   "outputs": [
    {
     "data": {
      "text/latex": [
       "$\\displaystyle - \\frac{f \\left(e^{\\frac{\\Delta}{2}} + 1\\right) \\left(\\left(\\frac{\\operatorname{erf}{\\left(\\frac{\\sqrt{2} \\left(- \\sigma \\sqrt{\\tau} + \\frac{- \\Delta - \\tau \\left(\\mu - \\frac{\\sigma^{2}}{2}\\right)}{\\sigma \\sqrt{\\tau}}\\right)}{2} \\right)}}{2} + \\frac{1}{2}\\right) e^{\\mu \\tau} - \\frac{\\operatorname{erf}{\\left(\\frac{\\sqrt{2} \\left(\\Delta - \\tau \\left(\\mu - \\frac{\\sigma^{2}}{2}\\right)\\right)}{2 \\sigma \\sqrt{\\tau}} \\right)}}{2} + \\frac{1}{2}\\right)}{2}$"
      ],
      "text/plain": [
       "-f*(exp(Delta/2) + 1)*((erf(sqrt(2)*(-sigma*sqrt(tau) + (-Delta - tau*(mu - sigma**2/2))/(sigma*sqrt(tau)))/2)/2 + 1/2)*exp(mu*tau) - erf(sqrt(2)*(Delta - tau*(mu - sigma**2/2))/(2*sigma*sqrt(tau)))/2 + 1/2)/2"
      ]
     },
     "execution_count": 21,
     "metadata": {},
     "output_type": "execute_result"
    }
   ],
   "source": [
    "# terms for swap fees paid on rebalance\n",
    "ev_swap_fees_a = - (f/2) * (E**(delta/2) + 1) * (E**(mu * tau) * Phi(d_minus - sig * sqrt(tau)) + 1 - Phi(d_plus))\n",
    "ev_swap_fees_a"
   ]
  },
  {
   "cell_type": "code",
   "execution_count": 22,
   "id": "d536c2e1-fdeb-4f61-a885-ee4e006ef5f4",
   "metadata": {},
   "outputs": [
    {
     "data": {
      "text/latex": [
       "$\\displaystyle - \\frac{f \\left(\\left(\\frac{\\operatorname{erf}{\\left(\\frac{\\sqrt{2} \\left(- \\sigma \\sqrt{\\tau} + \\frac{- \\Delta - \\tau \\left(\\mu - \\frac{\\sigma^{2}}{2}\\right)}{\\sigma \\sqrt{\\tau}}\\right)}{2} \\right)}}{2} + \\frac{\\operatorname{erf}{\\left(\\frac{\\sqrt{2} \\left(- \\sigma \\sqrt{\\tau} + \\frac{\\Delta - \\tau \\left(\\mu - \\frac{\\sigma^{2}}{2}\\right)}{\\sigma \\sqrt{\\tau}}\\right)}{2} \\right)}}{2} - \\operatorname{erf}{\\left(\\frac{\\sqrt{2} \\left(- \\sigma \\sqrt{\\tau} + \\frac{\\sqrt{\\tau} \\left(- \\mu + \\frac{\\sigma^{2}}{2}\\right)}{\\sigma}\\right)}{2} \\right)}\\right) e^{\\mu \\tau} - \\frac{\\operatorname{erf}{\\left(\\frac{\\sqrt{2} \\left(- \\Delta - \\tau \\left(\\mu - \\frac{\\sigma^{2}}{2}\\right)\\right)}{2 \\sigma \\sqrt{\\tau}} \\right)}}{2} - \\frac{\\operatorname{erf}{\\left(\\frac{\\sqrt{2} \\left(\\Delta - \\tau \\left(\\mu - \\frac{\\sigma^{2}}{2}\\right)\\right)}{2 \\sigma \\sqrt{\\tau}} \\right)}}{2} + \\operatorname{erf}{\\left(\\frac{\\sqrt{2} \\sqrt{\\tau} \\left(- \\mu + \\frac{\\sigma^{2}}{2}\\right)}{2 \\sigma} \\right)}\\right)}{2 \\left(e^{\\frac{\\Delta}{2}} - 1\\right)}$"
      ],
      "text/plain": [
       "-f*((erf(sqrt(2)*(-sigma*sqrt(tau) + (-Delta - tau*(mu - sigma**2/2))/(sigma*sqrt(tau)))/2)/2 + erf(sqrt(2)*(-sigma*sqrt(tau) + (Delta - tau*(mu - sigma**2/2))/(sigma*sqrt(tau)))/2)/2 - erf(sqrt(2)*(-sigma*sqrt(tau) + sqrt(tau)*(-mu + sigma**2/2)/sigma)/2))*exp(mu*tau) - erf(sqrt(2)*(-Delta - tau*(mu - sigma**2/2))/(2*sigma*sqrt(tau)))/2 - erf(sqrt(2)*(Delta - tau*(mu - sigma**2/2))/(2*sigma*sqrt(tau)))/2 + erf(sqrt(2)*sqrt(tau)*(-mu + sigma**2/2)/(2*sigma)))/(2*(exp(Delta/2) - 1))"
      ]
     },
     "execution_count": 22,
     "metadata": {},
     "output_type": "execute_result"
    }
   ],
   "source": [
    "ev_swap_fees_b = - (f/2) * (1/(E**(delta/2) - 1)) * (E**(mu * tau) * (Phi(d_plus - sig*sqrt(tau)) + Phi(d_minus - sig * sqrt(tau)) - 2 * Phi(-mu_p * tau / (sig * sqrt(tau)) - sig * sqrt(tau))) + 2*Phi(-mu_p * tau/(sig * sqrt(tau))) - Phi(d_plus) - Phi(d_minus))\n",
    "ev_swap_fees_b"
   ]
  },
  {
   "cell_type": "code",
   "execution_count": 23,
   "id": "a24f2414-fb38-485d-9437-eddd6f01e442",
   "metadata": {},
   "outputs": [],
   "source": [
    "ev_swap_fees = ev_swap_fees_a + ev_swap_fees_b"
   ]
  },
  {
   "cell_type": "code",
   "execution_count": 24,
   "id": "f308a70a-37be-4b5f-95c3-d6d36b232fc1",
   "metadata": {},
   "outputs": [
    {
     "data": {
      "text/latex": [
       "$\\displaystyle - \\frac{l \\left(\\left(\\frac{1}{2} - \\frac{\\operatorname{erf}{\\left(\\frac{\\sqrt{2} \\left(\\frac{\\sigma \\sqrt{\\tau}}{2} + \\frac{\\Delta - \\tau \\left(\\mu - \\frac{\\sigma^{2}}{2}\\right)}{\\sigma \\sqrt{\\tau}}\\right)}{2} \\right)}}{2}\\right) e^{- \\mu \\tau} + \\left(\\frac{\\operatorname{erf}{\\left(\\frac{\\sqrt{2} \\left(- \\frac{3 \\sigma \\sqrt{\\tau}}{2} + \\frac{- \\Delta - \\tau \\left(\\mu - \\frac{\\sigma^{2}}{2}\\right)}{\\sigma \\sqrt{\\tau}}\\right)}{2} \\right)}}{2} + \\frac{1}{2}\\right) e^{\\mu \\tau}\\right) \\left(e^{\\frac{\\Delta}{2}} + 1\\right)^{2} e^{\\frac{\\tau \\left(\\mu + \\frac{3 \\sigma^{2}}{4}\\right)}{2}}}{4}$"
      ],
      "text/plain": [
       "-l*((1/2 - erf(sqrt(2)*(sigma*sqrt(tau)/2 + (Delta - tau*(mu - sigma**2/2))/(sigma*sqrt(tau)))/2)/2)*exp(-mu*tau) + (erf(sqrt(2)*(-3*sigma*sqrt(tau)/2 + (-Delta - tau*(mu - sigma**2/2))/(sigma*sqrt(tau)))/2)/2 + 1/2)*exp(mu*tau))*(exp(Delta/2) + 1)**2*exp(tau*(mu + 3*sigma**2/4)/2)/4"
      ]
     },
     "execution_count": 24,
     "metadata": {},
     "output_type": "execute_result"
    }
   ],
   "source": [
    "# terms for slippage paid on rebalance\n",
    "ev_slippage_a = -(l/4) * E**((mu + 3 * sig**2/4) * (tau / 2)) * (E**(delta/2) + 1)**2 * (E**(-mu*tau) * (1 - Phi(d_plus + sig * sqrt(tau)/2)) + E**(mu*tau) * Phi(d_minus - 3*sig*sqrt(tau) / 2))\n",
    "ev_slippage_a"
   ]
  },
  {
   "cell_type": "code",
   "execution_count": 25,
   "id": "a10000f5-eafb-4034-8cf4-7d05ca4dee51",
   "metadata": {},
   "outputs": [
    {
     "data": {
      "text/latex": [
       "$\\displaystyle - \\frac{l \\left(\\left(- \\frac{\\operatorname{erf}{\\left(\\frac{\\sqrt{2} \\left(- \\frac{3 \\sigma \\sqrt{\\tau}}{2} + \\frac{- \\Delta - \\tau \\left(\\mu - \\frac{\\sigma^{2}}{2}\\right)}{\\sigma \\sqrt{\\tau}}\\right)}{2} \\right)}}{2} + \\frac{\\operatorname{erf}{\\left(\\frac{\\sqrt{2} \\left(- \\frac{3 \\sigma \\sqrt{\\tau}}{2} + \\frac{\\Delta - \\tau \\left(\\mu - \\frac{\\sigma^{2}}{2}\\right)}{\\sigma \\sqrt{\\tau}}\\right)}{2} \\right)}}{2}\\right) e^{\\mu \\tau} + \\left(- \\frac{\\operatorname{erf}{\\left(\\frac{\\sqrt{2} \\left(\\frac{\\sigma \\sqrt{\\tau}}{2} + \\frac{- \\Delta - \\tau \\left(\\mu - \\frac{\\sigma^{2}}{2}\\right)}{\\sigma \\sqrt{\\tau}}\\right)}{2} \\right)}}{2} + \\frac{\\operatorname{erf}{\\left(\\frac{\\sqrt{2} \\left(\\frac{\\sigma \\sqrt{\\tau}}{2} + \\frac{\\Delta - \\tau \\left(\\mu - \\frac{\\sigma^{2}}{2}\\right)}{\\sigma \\sqrt{\\tau}}\\right)}{2} \\right)}}{2}\\right) e^{- \\mu \\tau}\\right) e^{\\frac{\\tau \\left(\\mu + \\frac{3 \\sigma^{2}}{4}\\right)}{2}}}{4 \\left(e^{\\frac{\\Delta}{2}} - 1\\right)^{2}}$"
      ],
      "text/plain": [
       "-l*((-erf(sqrt(2)*(-3*sigma*sqrt(tau)/2 + (-Delta - tau*(mu - sigma**2/2))/(sigma*sqrt(tau)))/2)/2 + erf(sqrt(2)*(-3*sigma*sqrt(tau)/2 + (Delta - tau*(mu - sigma**2/2))/(sigma*sqrt(tau)))/2)/2)*exp(mu*tau) + (-erf(sqrt(2)*(sigma*sqrt(tau)/2 + (-Delta - tau*(mu - sigma**2/2))/(sigma*sqrt(tau)))/2)/2 + erf(sqrt(2)*(sigma*sqrt(tau)/2 + (Delta - tau*(mu - sigma**2/2))/(sigma*sqrt(tau)))/2)/2)*exp(-mu*tau))*exp(tau*(mu + 3*sigma**2/4)/2)/(4*(exp(Delta/2) - 1)**2)"
      ]
     },
     "execution_count": 25,
     "metadata": {},
     "output_type": "execute_result"
    }
   ],
   "source": [
    "ev_slippage_b = -(l/4) * E**((mu + 3 * sig**2/4) * (tau / 2)) * (1/(E**(delta/2) - 1)**2) * (E**(mu * tau) * (Phi(d_plus - 3 * sig * sqrt(tau) / 2) - Phi(d_minus - 3 * sig * sqrt(tau) / 2)) + E**(-mu*tau) * (Phi(d_plus + sig * sqrt(tau) / 2) - Phi(d_minus + sig * sqrt(tau) / 2)))\n",
    "ev_slippage_b"
   ]
  },
  {
   "cell_type": "code",
   "execution_count": 26,
   "id": "5d492161-4847-4f73-82b6-d05afe1257ca",
   "metadata": {},
   "outputs": [
    {
     "data": {
      "text/latex": [
       "$\\displaystyle \\frac{l \\left(- \\frac{\\operatorname{erf}{\\left(\\frac{\\sqrt{2} \\left(- \\frac{\\sigma \\sqrt{\\tau}}{2} + \\frac{- \\Delta - \\tau \\left(\\mu - \\frac{\\sigma^{2}}{2}\\right)}{\\sigma \\sqrt{\\tau}}\\right)}{2} \\right)}}{2} + \\frac{\\operatorname{erf}{\\left(\\frac{\\sqrt{2} \\left(- \\frac{\\sigma \\sqrt{\\tau}}{2} + \\frac{\\Delta - \\tau \\left(\\mu - \\frac{\\sigma^{2}}{2}\\right)}{\\sigma \\sqrt{\\tau}}\\right)}{2} \\right)}}{2}\\right) e^{- \\frac{\\sigma^{2} \\tau}{2}} e^{\\frac{\\tau \\left(\\mu + \\frac{3 \\sigma^{2}}{4}\\right)}{2}}}{2 \\left(e^{\\frac{\\Delta}{2}} - 1\\right)^{2}}$"
      ],
      "text/plain": [
       "l*(-erf(sqrt(2)*(-sigma*sqrt(tau)/2 + (-Delta - tau*(mu - sigma**2/2))/(sigma*sqrt(tau)))/2)/2 + erf(sqrt(2)*(-sigma*sqrt(tau)/2 + (Delta - tau*(mu - sigma**2/2))/(sigma*sqrt(tau)))/2)/2)*exp(-sigma**2*tau/2)*exp(tau*(mu + 3*sigma**2/4)/2)/(2*(exp(Delta/2) - 1)**2)"
      ]
     },
     "execution_count": 26,
     "metadata": {},
     "output_type": "execute_result"
    }
   ],
   "source": [
    "ev_slippage_c = (l/2) * E**((mu + 3 * sig**2/4) * (tau / 2)) * (1/(E**(delta/2) - 1)**2) * (E**(-sig**2 * tau / 2)) * (Phi(d_plus - sig * sqrt(tau)/2) - Phi(d_minus - sig * sqrt(tau)/2))\n",
    "ev_slippage_c"
   ]
  },
  {
   "cell_type": "code",
   "execution_count": 27,
   "id": "ee8c3374-f978-4184-940b-5260461d9cf9",
   "metadata": {},
   "outputs": [],
   "source": [
    "ev_slippage = ev_slippage_a + ev_slippage_b + ev_slippage_c"
   ]
  },
  {
   "cell_type": "code",
   "execution_count": 28,
   "id": "95f982e4-e66d-4e61-b7a0-424432275961",
   "metadata": {},
   "outputs": [],
   "source": [
    "ev_principal = ev_principal_before + ev_swap_fees + ev_slippage"
   ]
  },
  {
   "cell_type": "code",
   "execution_count": 29,
   "id": "d8bcb96c-a1fe-4d5c-beaa-7e560c376694",
   "metadata": {},
   "outputs": [],
   "source": [
    "rho_bar = ev_principal"
   ]
  },
  {
   "cell_type": "code",
   "execution_count": 30,
   "id": "598652cb-3672-4f19-8b2d-33fe99d284f8",
   "metadata": {},
   "outputs": [],
   "source": [
    "psi_bar = ev_fee"
   ]
  },
  {
   "cell_type": "code",
   "execution_count": 31,
   "id": "e88f178a-851a-4766-bba5-a3321a7a101c",
   "metadata": {},
   "outputs": [],
   "source": [
    "# v_bar = ev of LP value\n",
    "v_bar = ev_principal + ev_fee"
   ]
  },
  {
   "cell_type": "code",
   "execution_count": 32,
   "id": "d47637d7-9c0c-4f3b-985c-2307beece749",
   "metadata": {},
   "outputs": [
    {
     "data": {
      "text/latex": [
       "$\\displaystyle V{\\left(\\Delta,l \\right)}$"
      ],
      "text/plain": [
       "V(Delta, l)"
      ]
     },
     "execution_count": 32,
     "metadata": {},
     "output_type": "execute_result"
    }
   ],
   "source": [
    "v_bar_fn = Function('V')(delta, l)\n",
    "v_bar_fn"
   ]
  },
  {
   "cell_type": "code",
   "execution_count": 33,
   "id": "5fa9f8dd-f180-41f8-ba85-990e88f47731",
   "metadata": {},
   "outputs": [
    {
     "data": {
      "text/latex": [
       "$\\displaystyle \\rho{\\left(\\Delta,l \\right)}$"
      ],
      "text/plain": [
       "rho(Delta, l)"
      ]
     },
     "execution_count": 33,
     "metadata": {},
     "output_type": "execute_result"
    }
   ],
   "source": [
    "rho_bar_fn = Function('rho')(delta, l)\n",
    "rho_bar_fn"
   ]
  },
  {
   "cell_type": "code",
   "execution_count": 34,
   "id": "addb3943-bce9-4ed3-9ab4-e16203ce8646",
   "metadata": {},
   "outputs": [
    {
     "data": {
      "text/latex": [
       "$\\displaystyle \\psi{\\left(\\Delta,l \\right)}$"
      ],
      "text/plain": [
       "psi(Delta, l)"
      ]
     },
     "execution_count": 34,
     "metadata": {},
     "output_type": "execute_result"
    }
   ],
   "source": [
    "psi_bar_fn = Function('psi')(delta, l)\n",
    "psi_bar_fn"
   ]
  },
  {
   "cell_type": "markdown",
   "id": "113622a5-c123-4868-bf8e-4b78f298ba2f",
   "metadata": {},
   "source": [
    "### Expansion about $(0, 0)$\n",
    "\n",
    "For first order expansion about $(\\Delta, l) \\to (0, 0)$, need the following terms at $(0, 0)$:\n",
    "\n",
    "- $\\partial_{\\Delta} V$\n",
    "- $\\partial_{l} V$\n",
    "- $\\partial^2_{l} V$\n",
    "- $\\partial^2_{\\Delta} V$\n",
    "- $\\partial_{l} \\partial_{\\Delta} V$"
   ]
  },
  {
   "cell_type": "code",
   "execution_count": 35,
   "id": "d93ce7dd-3b43-4a5b-a1d9-2316a0a374fe",
   "metadata": {},
   "outputs": [],
   "source": [
    "# TODO: use wolfram to integrate fees expression for limits"
   ]
  },
  {
   "cell_type": "code",
   "execution_count": 36,
   "id": "413fa80f-527c-411b-8332-a0595666e69d",
   "metadata": {},
   "outputs": [
    {
     "data": {
      "text/latex": [
       "$\\displaystyle - \\frac{f \\left(- \\frac{\\sqrt{2} e^{\\mu \\tau} e^{- \\frac{\\left(- \\sigma \\sqrt{\\tau} + \\frac{- \\Delta - \\tau \\left(\\mu - \\frac{\\sigma^{2}}{2}\\right)}{\\sigma \\sqrt{\\tau}}\\right)^{2}}{2}}}{2 \\sqrt{\\pi} \\sigma \\sqrt{\\tau}} - \\frac{\\sqrt{2} e^{- \\frac{\\left(\\Delta - \\tau \\left(\\mu - \\frac{\\sigma^{2}}{2}\\right)\\right)^{2}}{2 \\sigma^{2} \\tau}}}{2 \\sqrt{\\pi} \\sigma \\sqrt{\\tau}}\\right) \\left(e^{\\frac{\\Delta}{2}} + 1\\right)}{2} - \\frac{f \\left(\\left(\\frac{\\operatorname{erf}{\\left(\\frac{\\sqrt{2} \\left(- \\sigma \\sqrt{\\tau} + \\frac{- \\Delta - \\tau \\left(\\mu - \\frac{\\sigma^{2}}{2}\\right)}{\\sigma \\sqrt{\\tau}}\\right)}{2} \\right)}}{2} + \\frac{1}{2}\\right) e^{\\mu \\tau} - \\frac{\\operatorname{erf}{\\left(\\frac{\\sqrt{2} \\left(\\Delta - \\tau \\left(\\mu - \\frac{\\sigma^{2}}{2}\\right)\\right)}{2 \\sigma \\sqrt{\\tau}} \\right)}}{2} + \\frac{1}{2}\\right) e^{\\frac{\\Delta}{2}}}{4} - \\frac{f \\left(\\left(\\frac{\\sqrt{2} e^{- \\frac{\\left(- \\sigma \\sqrt{\\tau} + \\frac{\\Delta - \\tau \\left(\\mu - \\frac{\\sigma^{2}}{2}\\right)}{\\sigma \\sqrt{\\tau}}\\right)^{2}}{2}}}{2 \\sqrt{\\pi} \\sigma \\sqrt{\\tau}} - \\frac{\\sqrt{2} e^{- \\frac{\\left(- \\sigma \\sqrt{\\tau} + \\frac{- \\Delta - \\tau \\left(\\mu - \\frac{\\sigma^{2}}{2}\\right)}{\\sigma \\sqrt{\\tau}}\\right)^{2}}{2}}}{2 \\sqrt{\\pi} \\sigma \\sqrt{\\tau}}\\right) e^{\\mu \\tau} - \\frac{\\sqrt{2} e^{- \\frac{\\left(\\Delta - \\tau \\left(\\mu - \\frac{\\sigma^{2}}{2}\\right)\\right)^{2}}{2 \\sigma^{2} \\tau}}}{2 \\sqrt{\\pi} \\sigma \\sqrt{\\tau}} + \\frac{\\sqrt{2} e^{- \\frac{\\left(- \\Delta - \\tau \\left(\\mu - \\frac{\\sigma^{2}}{2}\\right)\\right)^{2}}{2 \\sigma^{2} \\tau}}}{2 \\sqrt{\\pi} \\sigma \\sqrt{\\tau}}\\right)}{2 \\left(e^{\\frac{\\Delta}{2}} - 1\\right)} + \\frac{f \\left(\\left(\\frac{\\operatorname{erf}{\\left(\\frac{\\sqrt{2} \\left(- \\sigma \\sqrt{\\tau} + \\frac{- \\Delta - \\tau \\left(\\mu - \\frac{\\sigma^{2}}{2}\\right)}{\\sigma \\sqrt{\\tau}}\\right)}{2} \\right)}}{2} + \\frac{\\operatorname{erf}{\\left(\\frac{\\sqrt{2} \\left(- \\sigma \\sqrt{\\tau} + \\frac{\\Delta - \\tau \\left(\\mu - \\frac{\\sigma^{2}}{2}\\right)}{\\sigma \\sqrt{\\tau}}\\right)}{2} \\right)}}{2} - \\operatorname{erf}{\\left(\\frac{\\sqrt{2} \\left(- \\sigma \\sqrt{\\tau} + \\frac{\\sqrt{\\tau} \\left(- \\mu + \\frac{\\sigma^{2}}{2}\\right)}{\\sigma}\\right)}{2} \\right)}\\right) e^{\\mu \\tau} - \\frac{\\operatorname{erf}{\\left(\\frac{\\sqrt{2} \\left(- \\Delta - \\tau \\left(\\mu - \\frac{\\sigma^{2}}{2}\\right)\\right)}{2 \\sigma \\sqrt{\\tau}} \\right)}}{2} - \\frac{\\operatorname{erf}{\\left(\\frac{\\sqrt{2} \\left(\\Delta - \\tau \\left(\\mu - \\frac{\\sigma^{2}}{2}\\right)\\right)}{2 \\sigma \\sqrt{\\tau}} \\right)}}{2} + \\operatorname{erf}{\\left(\\frac{\\sqrt{2} \\sqrt{\\tau} \\left(- \\mu + \\frac{\\sigma^{2}}{2}\\right)}{2 \\sigma} \\right)}\\right) e^{\\frac{\\Delta}{2}}}{4 \\left(e^{\\frac{\\Delta}{2}} - 1\\right)^{2}} - \\frac{l \\left(\\left(\\frac{1}{2} - \\frac{\\operatorname{erf}{\\left(\\frac{\\sqrt{2} \\left(\\frac{\\sigma \\sqrt{\\tau}}{2} + \\frac{\\Delta - \\tau \\left(\\mu - \\frac{\\sigma^{2}}{2}\\right)}{\\sigma \\sqrt{\\tau}}\\right)}{2} \\right)}}{2}\\right) e^{- \\mu \\tau} + \\left(\\frac{\\operatorname{erf}{\\left(\\frac{\\sqrt{2} \\left(- \\frac{3 \\sigma \\sqrt{\\tau}}{2} + \\frac{- \\Delta - \\tau \\left(\\mu - \\frac{\\sigma^{2}}{2}\\right)}{\\sigma \\sqrt{\\tau}}\\right)}{2} \\right)}}{2} + \\frac{1}{2}\\right) e^{\\mu \\tau}\\right) \\left(e^{\\frac{\\Delta}{2}} + 1\\right) e^{\\frac{\\Delta}{2}} e^{\\frac{\\tau \\left(\\mu + \\frac{3 \\sigma^{2}}{4}\\right)}{2}}}{4} - \\frac{l \\left(\\left(\\frac{\\sqrt{2} e^{- \\frac{\\left(- \\frac{3 \\sigma \\sqrt{\\tau}}{2} + \\frac{\\Delta - \\tau \\left(\\mu - \\frac{\\sigma^{2}}{2}\\right)}{\\sigma \\sqrt{\\tau}}\\right)^{2}}{2}}}{2 \\sqrt{\\pi} \\sigma \\sqrt{\\tau}} + \\frac{\\sqrt{2} e^{- \\frac{\\left(- \\frac{3 \\sigma \\sqrt{\\tau}}{2} + \\frac{- \\Delta - \\tau \\left(\\mu - \\frac{\\sigma^{2}}{2}\\right)}{\\sigma \\sqrt{\\tau}}\\right)^{2}}{2}}}{2 \\sqrt{\\pi} \\sigma \\sqrt{\\tau}}\\right) e^{\\mu \\tau} + \\left(\\frac{\\sqrt{2} e^{- \\frac{\\left(\\frac{\\sigma \\sqrt{\\tau}}{2} + \\frac{\\Delta - \\tau \\left(\\mu - \\frac{\\sigma^{2}}{2}\\right)}{\\sigma \\sqrt{\\tau}}\\right)^{2}}{2}}}{2 \\sqrt{\\pi} \\sigma \\sqrt{\\tau}} + \\frac{\\sqrt{2} e^{- \\frac{\\left(\\frac{\\sigma \\sqrt{\\tau}}{2} + \\frac{- \\Delta - \\tau \\left(\\mu - \\frac{\\sigma^{2}}{2}\\right)}{\\sigma \\sqrt{\\tau}}\\right)^{2}}{2}}}{2 \\sqrt{\\pi} \\sigma \\sqrt{\\tau}}\\right) e^{- \\mu \\tau}\\right) e^{\\frac{\\tau \\left(\\mu + \\frac{3 \\sigma^{2}}{4}\\right)}{2}}}{4 \\left(e^{\\frac{\\Delta}{2}} - 1\\right)^{2}} + \\frac{l \\left(\\left(- \\frac{\\operatorname{erf}{\\left(\\frac{\\sqrt{2} \\left(- \\frac{3 \\sigma \\sqrt{\\tau}}{2} + \\frac{- \\Delta - \\tau \\left(\\mu - \\frac{\\sigma^{2}}{2}\\right)}{\\sigma \\sqrt{\\tau}}\\right)}{2} \\right)}}{2} + \\frac{\\operatorname{erf}{\\left(\\frac{\\sqrt{2} \\left(- \\frac{3 \\sigma \\sqrt{\\tau}}{2} + \\frac{\\Delta - \\tau \\left(\\mu - \\frac{\\sigma^{2}}{2}\\right)}{\\sigma \\sqrt{\\tau}}\\right)}{2} \\right)}}{2}\\right) e^{\\mu \\tau} + \\left(- \\frac{\\operatorname{erf}{\\left(\\frac{\\sqrt{2} \\left(\\frac{\\sigma \\sqrt{\\tau}}{2} + \\frac{- \\Delta - \\tau \\left(\\mu - \\frac{\\sigma^{2}}{2}\\right)}{\\sigma \\sqrt{\\tau}}\\right)}{2} \\right)}}{2} + \\frac{\\operatorname{erf}{\\left(\\frac{\\sqrt{2} \\left(\\frac{\\sigma \\sqrt{\\tau}}{2} + \\frac{\\Delta - \\tau \\left(\\mu - \\frac{\\sigma^{2}}{2}\\right)}{\\sigma \\sqrt{\\tau}}\\right)}{2} \\right)}}{2}\\right) e^{- \\mu \\tau}\\right) e^{\\frac{\\Delta}{2}} e^{\\frac{\\tau \\left(\\mu + \\frac{3 \\sigma^{2}}{4}\\right)}{2}}}{4 \\left(e^{\\frac{\\Delta}{2}} - 1\\right)^{3}} + \\frac{l \\left(\\frac{\\sqrt{2} e^{- \\frac{\\left(- \\frac{\\sigma \\sqrt{\\tau}}{2} + \\frac{\\Delta - \\tau \\left(\\mu - \\frac{\\sigma^{2}}{2}\\right)}{\\sigma \\sqrt{\\tau}}\\right)^{2}}{2}}}{2 \\sqrt{\\pi} \\sigma \\sqrt{\\tau}} + \\frac{\\sqrt{2} e^{- \\frac{\\left(- \\frac{\\sigma \\sqrt{\\tau}}{2} + \\frac{- \\Delta - \\tau \\left(\\mu - \\frac{\\sigma^{2}}{2}\\right)}{\\sigma \\sqrt{\\tau}}\\right)^{2}}{2}}}{2 \\sqrt{\\pi} \\sigma \\sqrt{\\tau}}\\right) e^{- \\frac{\\sigma^{2} \\tau}{2}} e^{\\frac{\\tau \\left(\\mu + \\frac{3 \\sigma^{2}}{4}\\right)}{2}}}{2 \\left(e^{\\frac{\\Delta}{2}} - 1\\right)^{2}} - \\frac{l \\left(- \\frac{\\sqrt{2} e^{\\mu \\tau} e^{- \\frac{\\left(- \\frac{3 \\sigma \\sqrt{\\tau}}{2} + \\frac{- \\Delta - \\tau \\left(\\mu - \\frac{\\sigma^{2}}{2}\\right)}{\\sigma \\sqrt{\\tau}}\\right)^{2}}{2}}}{2 \\sqrt{\\pi} \\sigma \\sqrt{\\tau}} - \\frac{\\sqrt{2} e^{- \\mu \\tau} e^{- \\frac{\\left(\\frac{\\sigma \\sqrt{\\tau}}{2} + \\frac{\\Delta - \\tau \\left(\\mu - \\frac{\\sigma^{2}}{2}\\right)}{\\sigma \\sqrt{\\tau}}\\right)^{2}}{2}}}{2 \\sqrt{\\pi} \\sigma \\sqrt{\\tau}}\\right) \\left(e^{\\frac{\\Delta}{2}} + 1\\right)^{2} e^{\\frac{\\tau \\left(\\mu + \\frac{3 \\sigma^{2}}{4}\\right)}{2}}}{4} - \\frac{l \\left(- \\frac{\\operatorname{erf}{\\left(\\frac{\\sqrt{2} \\left(- \\frac{\\sigma \\sqrt{\\tau}}{2} + \\frac{- \\Delta - \\tau \\left(\\mu - \\frac{\\sigma^{2}}{2}\\right)}{\\sigma \\sqrt{\\tau}}\\right)}{2} \\right)}}{2} + \\frac{\\operatorname{erf}{\\left(\\frac{\\sqrt{2} \\left(- \\frac{\\sigma \\sqrt{\\tau}}{2} + \\frac{\\Delta - \\tau \\left(\\mu - \\frac{\\sigma^{2}}{2}\\right)}{\\sigma \\sqrt{\\tau}}\\right)}{2} \\right)}}{2}\\right) e^{\\frac{\\Delta}{2}} e^{- \\frac{\\sigma^{2} \\tau}{2}} e^{\\frac{\\tau \\left(\\mu + \\frac{3 \\sigma^{2}}{4}\\right)}{2}}}{2 \\left(e^{\\frac{\\Delta}{2}} - 1\\right)^{3}} + \\frac{\\theta \\int\\limits_{0}^{\\tau} \\left(\\left(\\frac{\\sqrt{2} e^{- \\frac{\\left(- \\sigma \\sqrt{t} + \\frac{\\Delta - t \\left(\\mu - \\frac{\\sigma^{2}}{2}\\right)}{\\sigma \\sqrt{t}}\\right)^{2}}{2}}}{2 \\sqrt{\\pi} \\sigma \\sqrt{t}} + \\frac{\\sqrt{2} e^{- \\frac{\\left(- \\sigma \\sqrt{t} + \\frac{- \\Delta - t \\left(\\mu - \\frac{\\sigma^{2}}{2}\\right)}{\\sigma \\sqrt{t}}\\right)^{2}}{2}}}{2 \\sqrt{\\pi} \\sigma \\sqrt{t}}\\right) e^{\\mu \\tau} + \\frac{\\sqrt{2} e^{- \\frac{\\left(\\Delta - t \\left(\\mu - \\frac{\\sigma^{2}}{2}\\right)\\right)^{2}}{2 \\sigma^{2} t}}}{2 \\sqrt{\\pi} \\sigma \\sqrt{t}} + \\frac{\\sqrt{2} e^{- \\frac{\\left(- \\Delta - t \\left(\\mu - \\frac{\\sigma^{2}}{2}\\right)\\right)^{2}}{2 \\sigma^{2} t}}}{2 \\sqrt{\\pi} \\sigma \\sqrt{t}}\\right)\\, dt}{l + 1 - e^{- \\frac{\\Delta}{2}}} - \\frac{\\theta e^{- \\frac{\\Delta}{2}} \\int\\limits_{0}^{\\tau} \\left(\\left(- \\frac{\\operatorname{erf}{\\left(\\frac{\\sqrt{2} \\left(- \\sigma \\sqrt{t} + \\frac{- \\Delta - t \\left(\\mu - \\frac{\\sigma^{2}}{2}\\right)}{\\sigma \\sqrt{t}}\\right)}{2} \\right)}}{2} + \\frac{\\operatorname{erf}{\\left(\\frac{\\sqrt{2} \\left(- \\sigma \\sqrt{t} + \\frac{\\Delta - t \\left(\\mu - \\frac{\\sigma^{2}}{2}\\right)}{\\sigma \\sqrt{t}}\\right)}{2} \\right)}}{2}\\right) e^{\\mu \\tau} - \\frac{\\operatorname{erf}{\\left(\\frac{\\sqrt{2} \\left(- \\Delta - t \\left(\\mu - \\frac{\\sigma^{2}}{2}\\right)\\right)}{2 \\sigma \\sqrt{t}} \\right)}}{2} + \\frac{\\operatorname{erf}{\\left(\\frac{\\sqrt{2} \\left(\\Delta - t \\left(\\mu - \\frac{\\sigma^{2}}{2}\\right)\\right)}{2 \\sigma \\sqrt{t}} \\right)}}{2}\\right)\\, dt}{2 \\left(l + 1 - e^{- \\frac{\\Delta}{2}}\\right)^{2}} + \\left(- \\frac{\\sqrt{2} e^{\\mu \\tau} e^{- \\frac{\\left(- \\sigma \\sqrt{\\tau} + \\frac{- \\Delta - \\tau \\left(\\mu - \\frac{\\sigma^{2}}{2}\\right)}{\\sigma \\sqrt{\\tau}}\\right)^{2}}{2}}}{2 \\sqrt{\\pi} \\sigma \\sqrt{\\tau}} - \\frac{\\sqrt{2} e^{- \\frac{\\left(\\Delta - \\tau \\left(\\mu - \\frac{\\sigma^{2}}{2}\\right)\\right)^{2}}{2 \\sigma^{2} \\tau}}}{2 \\sqrt{\\pi} \\sigma \\sqrt{\\tau}}\\right) \\left(e^{\\frac{\\Delta}{2}} + 1\\right) + \\frac{\\left(\\left(\\frac{\\operatorname{erf}{\\left(\\frac{\\sqrt{2} \\left(- \\sigma \\sqrt{\\tau} + \\frac{- \\Delta - \\tau \\left(\\mu - \\frac{\\sigma^{2}}{2}\\right)}{\\sigma \\sqrt{\\tau}}\\right)}{2} \\right)}}{2} + \\frac{1}{2}\\right) e^{\\mu \\tau} - \\frac{\\operatorname{erf}{\\left(\\frac{\\sqrt{2} \\left(\\Delta - \\tau \\left(\\mu - \\frac{\\sigma^{2}}{2}\\right)\\right)}{2 \\sigma \\sqrt{\\tau}} \\right)}}{2} + \\frac{1}{2}\\right) e^{\\frac{\\Delta}{2}}}{2} + \\frac{2 \\left(\\frac{\\sqrt{2} e^{- \\frac{\\left(- \\frac{\\sigma \\sqrt{\\tau}}{2} + \\frac{\\Delta - \\tau \\left(\\mu - \\frac{\\sigma^{2}}{2}\\right)}{\\sigma \\sqrt{\\tau}}\\right)^{2}}{2}}}{2 \\sqrt{\\pi} \\sigma \\sqrt{\\tau}} + \\frac{\\sqrt{2} e^{- \\frac{\\left(- \\frac{\\sigma \\sqrt{\\tau}}{2} + \\frac{- \\Delta - \\tau \\left(\\mu - \\frac{\\sigma^{2}}{2}\\right)}{\\sigma \\sqrt{\\tau}}\\right)^{2}}{2}}}{2 \\sqrt{\\pi} \\sigma \\sqrt{\\tau}}\\right) e^{\\frac{\\tau \\left(\\mu - \\frac{\\sigma^{2}}{4}\\right)}{2}}}{1 - e^{- \\frac{\\Delta}{2}}} - \\frac{\\left(\\left(\\frac{\\sqrt{2} e^{- \\frac{\\left(- \\sigma \\sqrt{\\tau} + \\frac{\\Delta - \\tau \\left(\\mu - \\frac{\\sigma^{2}}{2}\\right)}{\\sigma \\sqrt{\\tau}}\\right)^{2}}{2}}}{2 \\sqrt{\\pi} \\sigma \\sqrt{\\tau}} + \\frac{\\sqrt{2} e^{- \\frac{\\left(- \\sigma \\sqrt{\\tau} + \\frac{- \\Delta - \\tau \\left(\\mu - \\frac{\\sigma^{2}}{2}\\right)}{\\sigma \\sqrt{\\tau}}\\right)^{2}}{2}}}{2 \\sqrt{\\pi} \\sigma \\sqrt{\\tau}}\\right) e^{\\mu \\tau} + \\frac{\\sqrt{2} e^{- \\frac{\\left(\\Delta - \\tau \\left(\\mu - \\frac{\\sigma^{2}}{2}\\right)\\right)^{2}}{2 \\sigma^{2} \\tau}}}{2 \\sqrt{\\pi} \\sigma \\sqrt{\\tau}} + \\frac{\\sqrt{2} e^{- \\frac{\\left(- \\Delta - \\tau \\left(\\mu - \\frac{\\sigma^{2}}{2}\\right)\\right)^{2}}{2 \\sigma^{2} \\tau}}}{2 \\sqrt{\\pi} \\sigma \\sqrt{\\tau}}\\right) e^{- \\frac{\\Delta}{2}}}{1 - e^{- \\frac{\\Delta}{2}}} + \\frac{\\left(\\left(- \\frac{\\operatorname{erf}{\\left(\\frac{\\sqrt{2} \\left(- \\sigma \\sqrt{\\tau} + \\frac{- \\Delta - \\tau \\left(\\mu - \\frac{\\sigma^{2}}{2}\\right)}{\\sigma \\sqrt{\\tau}}\\right)}{2} \\right)}}{2} + \\frac{\\operatorname{erf}{\\left(\\frac{\\sqrt{2} \\left(- \\sigma \\sqrt{\\tau} + \\frac{\\Delta - \\tau \\left(\\mu - \\frac{\\sigma^{2}}{2}\\right)}{\\sigma \\sqrt{\\tau}}\\right)}{2} \\right)}}{2}\\right) e^{\\mu \\tau} - \\frac{\\operatorname{erf}{\\left(\\frac{\\sqrt{2} \\left(- \\Delta - \\tau \\left(\\mu - \\frac{\\sigma^{2}}{2}\\right)\\right)}{2 \\sigma \\sqrt{\\tau}} \\right)}}{2} + \\frac{\\operatorname{erf}{\\left(\\frac{\\sqrt{2} \\left(\\Delta - \\tau \\left(\\mu - \\frac{\\sigma^{2}}{2}\\right)\\right)}{2 \\sigma \\sqrt{\\tau}} \\right)}}{2}\\right) e^{- \\frac{\\Delta}{2}}}{2 \\cdot \\left(1 - e^{- \\frac{\\Delta}{2}}\\right)} - \\frac{\\left(- \\frac{\\operatorname{erf}{\\left(\\frac{\\sqrt{2} \\left(- \\frac{\\sigma \\sqrt{\\tau}}{2} + \\frac{- \\Delta - \\tau \\left(\\mu - \\frac{\\sigma^{2}}{2}\\right)}{\\sigma \\sqrt{\\tau}}\\right)}{2} \\right)}}{2} + \\frac{\\operatorname{erf}{\\left(\\frac{\\sqrt{2} \\left(- \\frac{\\sigma \\sqrt{\\tau}}{2} + \\frac{\\Delta - \\tau \\left(\\mu - \\frac{\\sigma^{2}}{2}\\right)}{\\sigma \\sqrt{\\tau}}\\right)}{2} \\right)}}{2}\\right) e^{- \\frac{\\Delta}{2}} e^{\\frac{\\tau \\left(\\mu - \\frac{\\sigma^{2}}{4}\\right)}{2}}}{\\left(1 - e^{- \\frac{\\Delta}{2}}\\right)^{2}} + \\frac{\\left(\\left(- \\frac{\\operatorname{erf}{\\left(\\frac{\\sqrt{2} \\left(- \\sigma \\sqrt{\\tau} + \\frac{- \\Delta - \\tau \\left(\\mu - \\frac{\\sigma^{2}}{2}\\right)}{\\sigma \\sqrt{\\tau}}\\right)}{2} \\right)}}{2} + \\frac{\\operatorname{erf}{\\left(\\frac{\\sqrt{2} \\left(- \\sigma \\sqrt{\\tau} + \\frac{\\Delta - \\tau \\left(\\mu - \\frac{\\sigma^{2}}{2}\\right)}{\\sigma \\sqrt{\\tau}}\\right)}{2} \\right)}}{2}\\right) e^{\\mu \\tau} - \\frac{\\operatorname{erf}{\\left(\\frac{\\sqrt{2} \\left(- \\Delta - \\tau \\left(\\mu - \\frac{\\sigma^{2}}{2}\\right)\\right)}{2 \\sigma \\sqrt{\\tau}} \\right)}}{2} + \\frac{\\operatorname{erf}{\\left(\\frac{\\sqrt{2} \\left(\\Delta - \\tau \\left(\\mu - \\frac{\\sigma^{2}}{2}\\right)\\right)}{2 \\sigma \\sqrt{\\tau}} \\right)}}{2}\\right) e^{- \\Delta}}{2 \\left(1 - e^{- \\frac{\\Delta}{2}}\\right)^{2}}$"
      ],
      "text/plain": [
       "-f*(-sqrt(2)*exp(mu*tau)*exp(-(-sigma*sqrt(tau) + (-Delta - tau*(mu - sigma**2/2))/(sigma*sqrt(tau)))**2/2)/(2*sqrt(pi)*sigma*sqrt(tau)) - sqrt(2)*exp(-(Delta - tau*(mu - sigma**2/2))**2/(2*sigma**2*tau))/(2*sqrt(pi)*sigma*sqrt(tau)))*(exp(Delta/2) + 1)/2 - f*((erf(sqrt(2)*(-sigma*sqrt(tau) + (-Delta - tau*(mu - sigma**2/2))/(sigma*sqrt(tau)))/2)/2 + 1/2)*exp(mu*tau) - erf(sqrt(2)*(Delta - tau*(mu - sigma**2/2))/(2*sigma*sqrt(tau)))/2 + 1/2)*exp(Delta/2)/4 - f*((sqrt(2)*exp(-(-sigma*sqrt(tau) + (Delta - tau*(mu - sigma**2/2))/(sigma*sqrt(tau)))**2/2)/(2*sqrt(pi)*sigma*sqrt(tau)) - sqrt(2)*exp(-(-sigma*sqrt(tau) + (-Delta - tau*(mu - sigma**2/2))/(sigma*sqrt(tau)))**2/2)/(2*sqrt(pi)*sigma*sqrt(tau)))*exp(mu*tau) - sqrt(2)*exp(-(Delta - tau*(mu - sigma**2/2))**2/(2*sigma**2*tau))/(2*sqrt(pi)*sigma*sqrt(tau)) + sqrt(2)*exp(-(-Delta - tau*(mu - sigma**2/2))**2/(2*sigma**2*tau))/(2*sqrt(pi)*sigma*sqrt(tau)))/(2*(exp(Delta/2) - 1)) + f*((erf(sqrt(2)*(-sigma*sqrt(tau) + (-Delta - tau*(mu - sigma**2/2))/(sigma*sqrt(tau)))/2)/2 + erf(sqrt(2)*(-sigma*sqrt(tau) + (Delta - tau*(mu - sigma**2/2))/(sigma*sqrt(tau)))/2)/2 - erf(sqrt(2)*(-sigma*sqrt(tau) + sqrt(tau)*(-mu + sigma**2/2)/sigma)/2))*exp(mu*tau) - erf(sqrt(2)*(-Delta - tau*(mu - sigma**2/2))/(2*sigma*sqrt(tau)))/2 - erf(sqrt(2)*(Delta - tau*(mu - sigma**2/2))/(2*sigma*sqrt(tau)))/2 + erf(sqrt(2)*sqrt(tau)*(-mu + sigma**2/2)/(2*sigma)))*exp(Delta/2)/(4*(exp(Delta/2) - 1)**2) - l*((1/2 - erf(sqrt(2)*(sigma*sqrt(tau)/2 + (Delta - tau*(mu - sigma**2/2))/(sigma*sqrt(tau)))/2)/2)*exp(-mu*tau) + (erf(sqrt(2)*(-3*sigma*sqrt(tau)/2 + (-Delta - tau*(mu - sigma**2/2))/(sigma*sqrt(tau)))/2)/2 + 1/2)*exp(mu*tau))*(exp(Delta/2) + 1)*exp(Delta/2)*exp(tau*(mu + 3*sigma**2/4)/2)/4 - l*((sqrt(2)*exp(-(-3*sigma*sqrt(tau)/2 + (Delta - tau*(mu - sigma**2/2))/(sigma*sqrt(tau)))**2/2)/(2*sqrt(pi)*sigma*sqrt(tau)) + sqrt(2)*exp(-(-3*sigma*sqrt(tau)/2 + (-Delta - tau*(mu - sigma**2/2))/(sigma*sqrt(tau)))**2/2)/(2*sqrt(pi)*sigma*sqrt(tau)))*exp(mu*tau) + (sqrt(2)*exp(-(sigma*sqrt(tau)/2 + (Delta - tau*(mu - sigma**2/2))/(sigma*sqrt(tau)))**2/2)/(2*sqrt(pi)*sigma*sqrt(tau)) + sqrt(2)*exp(-(sigma*sqrt(tau)/2 + (-Delta - tau*(mu - sigma**2/2))/(sigma*sqrt(tau)))**2/2)/(2*sqrt(pi)*sigma*sqrt(tau)))*exp(-mu*tau))*exp(tau*(mu + 3*sigma**2/4)/2)/(4*(exp(Delta/2) - 1)**2) + l*((-erf(sqrt(2)*(-3*sigma*sqrt(tau)/2 + (-Delta - tau*(mu - sigma**2/2))/(sigma*sqrt(tau)))/2)/2 + erf(sqrt(2)*(-3*sigma*sqrt(tau)/2 + (Delta - tau*(mu - sigma**2/2))/(sigma*sqrt(tau)))/2)/2)*exp(mu*tau) + (-erf(sqrt(2)*(sigma*sqrt(tau)/2 + (-Delta - tau*(mu - sigma**2/2))/(sigma*sqrt(tau)))/2)/2 + erf(sqrt(2)*(sigma*sqrt(tau)/2 + (Delta - tau*(mu - sigma**2/2))/(sigma*sqrt(tau)))/2)/2)*exp(-mu*tau))*exp(Delta/2)*exp(tau*(mu + 3*sigma**2/4)/2)/(4*(exp(Delta/2) - 1)**3) + l*(sqrt(2)*exp(-(-sigma*sqrt(tau)/2 + (Delta - tau*(mu - sigma**2/2))/(sigma*sqrt(tau)))**2/2)/(2*sqrt(pi)*sigma*sqrt(tau)) + sqrt(2)*exp(-(-sigma*sqrt(tau)/2 + (-Delta - tau*(mu - sigma**2/2))/(sigma*sqrt(tau)))**2/2)/(2*sqrt(pi)*sigma*sqrt(tau)))*exp(-sigma**2*tau/2)*exp(tau*(mu + 3*sigma**2/4)/2)/(2*(exp(Delta/2) - 1)**2) - l*(-sqrt(2)*exp(mu*tau)*exp(-(-3*sigma*sqrt(tau)/2 + (-Delta - tau*(mu - sigma**2/2))/(sigma*sqrt(tau)))**2/2)/(2*sqrt(pi)*sigma*sqrt(tau)) - sqrt(2)*exp(-mu*tau)*exp(-(sigma*sqrt(tau)/2 + (Delta - tau*(mu - sigma**2/2))/(sigma*sqrt(tau)))**2/2)/(2*sqrt(pi)*sigma*sqrt(tau)))*(exp(Delta/2) + 1)**2*exp(tau*(mu + 3*sigma**2/4)/2)/4 - l*(-erf(sqrt(2)*(-sigma*sqrt(tau)/2 + (-Delta - tau*(mu - sigma**2/2))/(sigma*sqrt(tau)))/2)/2 + erf(sqrt(2)*(-sigma*sqrt(tau)/2 + (Delta - tau*(mu - sigma**2/2))/(sigma*sqrt(tau)))/2)/2)*exp(Delta/2)*exp(-sigma**2*tau/2)*exp(tau*(mu + 3*sigma**2/4)/2)/(2*(exp(Delta/2) - 1)**3) + theta*Integral((sqrt(2)*exp(-(-sigma*sqrt(t) + (Delta - t*(mu - sigma**2/2))/(sigma*sqrt(t)))**2/2)/(2*sqrt(pi)*sigma*sqrt(t)) + sqrt(2)*exp(-(-sigma*sqrt(t) + (-Delta - t*(mu - sigma**2/2))/(sigma*sqrt(t)))**2/2)/(2*sqrt(pi)*sigma*sqrt(t)))*exp(mu*tau) + sqrt(2)*exp(-(Delta - t*(mu - sigma**2/2))**2/(2*sigma**2*t))/(2*sqrt(pi)*sigma*sqrt(t)) + sqrt(2)*exp(-(-Delta - t*(mu - sigma**2/2))**2/(2*sigma**2*t))/(2*sqrt(pi)*sigma*sqrt(t)), (t, 0, tau))/(l + 1 - exp(-Delta/2)) - theta*exp(-Delta/2)*Integral((-erf(sqrt(2)*(-sigma*sqrt(t) + (-Delta - t*(mu - sigma**2/2))/(sigma*sqrt(t)))/2)/2 + erf(sqrt(2)*(-sigma*sqrt(t) + (Delta - t*(mu - sigma**2/2))/(sigma*sqrt(t)))/2)/2)*exp(mu*tau) - erf(sqrt(2)*(-Delta - t*(mu - sigma**2/2))/(2*sigma*sqrt(t)))/2 + erf(sqrt(2)*(Delta - t*(mu - sigma**2/2))/(2*sigma*sqrt(t)))/2, (t, 0, tau))/(2*(l + 1 - exp(-Delta/2))**2) + (-sqrt(2)*exp(mu*tau)*exp(-(-sigma*sqrt(tau) + (-Delta - tau*(mu - sigma**2/2))/(sigma*sqrt(tau)))**2/2)/(2*sqrt(pi)*sigma*sqrt(tau)) - sqrt(2)*exp(-(Delta - tau*(mu - sigma**2/2))**2/(2*sigma**2*tau))/(2*sqrt(pi)*sigma*sqrt(tau)))*(exp(Delta/2) + 1) + ((erf(sqrt(2)*(-sigma*sqrt(tau) + (-Delta - tau*(mu - sigma**2/2))/(sigma*sqrt(tau)))/2)/2 + 1/2)*exp(mu*tau) - erf(sqrt(2)*(Delta - tau*(mu - sigma**2/2))/(2*sigma*sqrt(tau)))/2 + 1/2)*exp(Delta/2)/2 + 2*(sqrt(2)*exp(-(-sigma*sqrt(tau)/2 + (Delta - tau*(mu - sigma**2/2))/(sigma*sqrt(tau)))**2/2)/(2*sqrt(pi)*sigma*sqrt(tau)) + sqrt(2)*exp(-(-sigma*sqrt(tau)/2 + (-Delta - tau*(mu - sigma**2/2))/(sigma*sqrt(tau)))**2/2)/(2*sqrt(pi)*sigma*sqrt(tau)))*exp(tau*(mu - sigma**2/4)/2)/(1 - exp(-Delta/2)) - ((sqrt(2)*exp(-(-sigma*sqrt(tau) + (Delta - tau*(mu - sigma**2/2))/(sigma*sqrt(tau)))**2/2)/(2*sqrt(pi)*sigma*sqrt(tau)) + sqrt(2)*exp(-(-sigma*sqrt(tau) + (-Delta - tau*(mu - sigma**2/2))/(sigma*sqrt(tau)))**2/2)/(2*sqrt(pi)*sigma*sqrt(tau)))*exp(mu*tau) + sqrt(2)*exp(-(Delta - tau*(mu - sigma**2/2))**2/(2*sigma**2*tau))/(2*sqrt(pi)*sigma*sqrt(tau)) + sqrt(2)*exp(-(-Delta - tau*(mu - sigma**2/2))**2/(2*sigma**2*tau))/(2*sqrt(pi)*sigma*sqrt(tau)))*exp(-Delta/2)/(1 - exp(-Delta/2)) + ((-erf(sqrt(2)*(-sigma*sqrt(tau) + (-Delta - tau*(mu - sigma**2/2))/(sigma*sqrt(tau)))/2)/2 + erf(sqrt(2)*(-sigma*sqrt(tau) + (Delta - tau*(mu - sigma**2/2))/(sigma*sqrt(tau)))/2)/2)*exp(mu*tau) - erf(sqrt(2)*(-Delta - tau*(mu - sigma**2/2))/(2*sigma*sqrt(tau)))/2 + erf(sqrt(2)*(Delta - tau*(mu - sigma**2/2))/(2*sigma*sqrt(tau)))/2)*exp(-Delta/2)/(2*(1 - exp(-Delta/2))) - (-erf(sqrt(2)*(-sigma*sqrt(tau)/2 + (-Delta - tau*(mu - sigma**2/2))/(sigma*sqrt(tau)))/2)/2 + erf(sqrt(2)*(-sigma*sqrt(tau)/2 + (Delta - tau*(mu - sigma**2/2))/(sigma*sqrt(tau)))/2)/2)*exp(-Delta/2)*exp(tau*(mu - sigma**2/4)/2)/(1 - exp(-Delta/2))**2 + ((-erf(sqrt(2)*(-sigma*sqrt(tau) + (-Delta - tau*(mu - sigma**2/2))/(sigma*sqrt(tau)))/2)/2 + erf(sqrt(2)*(-sigma*sqrt(tau) + (Delta - tau*(mu - sigma**2/2))/(sigma*sqrt(tau)))/2)/2)*exp(mu*tau) - erf(sqrt(2)*(-Delta - tau*(mu - sigma**2/2))/(2*sigma*sqrt(tau)))/2 + erf(sqrt(2)*(Delta - tau*(mu - sigma**2/2))/(2*sigma*sqrt(tau)))/2)*exp(-Delta)/(2*(1 - exp(-Delta/2))**2)"
      ]
     },
     "execution_count": 36,
     "metadata": {},
     "output_type": "execute_result"
    }
   ],
   "source": [
    "diff(v_bar, delta)"
   ]
  },
  {
   "cell_type": "code",
   "execution_count": 37,
   "id": "861686a5-27a0-4e71-bb65-78055d55d818",
   "metadata": {},
   "outputs": [
    {
     "data": {
      "text/latex": [
       "$\\displaystyle - \\frac{\\theta \\int\\limits_{0}^{\\tau} \\left(\\left(- \\frac{\\operatorname{erf}{\\left(\\frac{\\sqrt{2} \\left(- \\sigma \\sqrt{t} + \\frac{- \\Delta - t \\left(\\mu - \\frac{\\sigma^{2}}{2}\\right)}{\\sigma \\sqrt{t}}\\right)}{2} \\right)}}{2} + \\frac{\\operatorname{erf}{\\left(\\frac{\\sqrt{2} \\left(- \\sigma \\sqrt{t} + \\frac{\\Delta - t \\left(\\mu - \\frac{\\sigma^{2}}{2}\\right)}{\\sigma \\sqrt{t}}\\right)}{2} \\right)}}{2}\\right) e^{\\mu \\tau} - \\frac{\\operatorname{erf}{\\left(\\frac{\\sqrt{2} \\left(- \\Delta - t \\left(\\mu - \\frac{\\sigma^{2}}{2}\\right)\\right)}{2 \\sigma \\sqrt{t}} \\right)}}{2} + \\frac{\\operatorname{erf}{\\left(\\frac{\\sqrt{2} \\left(\\Delta - t \\left(\\mu - \\frac{\\sigma^{2}}{2}\\right)\\right)}{2 \\sigma \\sqrt{t}} \\right)}}{2}\\right)\\, dt}{\\left(l + 1 - e^{- \\frac{\\Delta}{2}}\\right)^{2}} - \\frac{\\left(\\left(\\frac{1}{2} - \\frac{\\operatorname{erf}{\\left(\\frac{\\sqrt{2} \\left(\\frac{\\sigma \\sqrt{\\tau}}{2} + \\frac{\\Delta - \\tau \\left(\\mu - \\frac{\\sigma^{2}}{2}\\right)}{\\sigma \\sqrt{\\tau}}\\right)}{2} \\right)}}{2}\\right) e^{- \\mu \\tau} + \\left(\\frac{\\operatorname{erf}{\\left(\\frac{\\sqrt{2} \\left(- \\frac{3 \\sigma \\sqrt{\\tau}}{2} + \\frac{- \\Delta - \\tau \\left(\\mu - \\frac{\\sigma^{2}}{2}\\right)}{\\sigma \\sqrt{\\tau}}\\right)}{2} \\right)}}{2} + \\frac{1}{2}\\right) e^{\\mu \\tau}\\right) \\left(e^{\\frac{\\Delta}{2}} + 1\\right)^{2} e^{\\frac{\\tau \\left(\\mu + \\frac{3 \\sigma^{2}}{4}\\right)}{2}}}{4} - \\frac{\\left(\\left(- \\frac{\\operatorname{erf}{\\left(\\frac{\\sqrt{2} \\left(- \\frac{3 \\sigma \\sqrt{\\tau}}{2} + \\frac{- \\Delta - \\tau \\left(\\mu - \\frac{\\sigma^{2}}{2}\\right)}{\\sigma \\sqrt{\\tau}}\\right)}{2} \\right)}}{2} + \\frac{\\operatorname{erf}{\\left(\\frac{\\sqrt{2} \\left(- \\frac{3 \\sigma \\sqrt{\\tau}}{2} + \\frac{\\Delta - \\tau \\left(\\mu - \\frac{\\sigma^{2}}{2}\\right)}{\\sigma \\sqrt{\\tau}}\\right)}{2} \\right)}}{2}\\right) e^{\\mu \\tau} + \\left(- \\frac{\\operatorname{erf}{\\left(\\frac{\\sqrt{2} \\left(\\frac{\\sigma \\sqrt{\\tau}}{2} + \\frac{- \\Delta - \\tau \\left(\\mu - \\frac{\\sigma^{2}}{2}\\right)}{\\sigma \\sqrt{\\tau}}\\right)}{2} \\right)}}{2} + \\frac{\\operatorname{erf}{\\left(\\frac{\\sqrt{2} \\left(\\frac{\\sigma \\sqrt{\\tau}}{2} + \\frac{\\Delta - \\tau \\left(\\mu - \\frac{\\sigma^{2}}{2}\\right)}{\\sigma \\sqrt{\\tau}}\\right)}{2} \\right)}}{2}\\right) e^{- \\mu \\tau}\\right) e^{\\frac{\\tau \\left(\\mu + \\frac{3 \\sigma^{2}}{4}\\right)}{2}}}{4 \\left(e^{\\frac{\\Delta}{2}} - 1\\right)^{2}} + \\frac{\\left(- \\frac{\\operatorname{erf}{\\left(\\frac{\\sqrt{2} \\left(- \\frac{\\sigma \\sqrt{\\tau}}{2} + \\frac{- \\Delta - \\tau \\left(\\mu - \\frac{\\sigma^{2}}{2}\\right)}{\\sigma \\sqrt{\\tau}}\\right)}{2} \\right)}}{2} + \\frac{\\operatorname{erf}{\\left(\\frac{\\sqrt{2} \\left(- \\frac{\\sigma \\sqrt{\\tau}}{2} + \\frac{\\Delta - \\tau \\left(\\mu - \\frac{\\sigma^{2}}{2}\\right)}{\\sigma \\sqrt{\\tau}}\\right)}{2} \\right)}}{2}\\right) e^{- \\frac{\\sigma^{2} \\tau}{2}} e^{\\frac{\\tau \\left(\\mu + \\frac{3 \\sigma^{2}}{4}\\right)}{2}}}{2 \\left(e^{\\frac{\\Delta}{2}} - 1\\right)^{2}}$"
      ],
      "text/plain": [
       "-theta*Integral((-erf(sqrt(2)*(-sigma*sqrt(t) + (-Delta - t*(mu - sigma**2/2))/(sigma*sqrt(t)))/2)/2 + erf(sqrt(2)*(-sigma*sqrt(t) + (Delta - t*(mu - sigma**2/2))/(sigma*sqrt(t)))/2)/2)*exp(mu*tau) - erf(sqrt(2)*(-Delta - t*(mu - sigma**2/2))/(2*sigma*sqrt(t)))/2 + erf(sqrt(2)*(Delta - t*(mu - sigma**2/2))/(2*sigma*sqrt(t)))/2, (t, 0, tau))/(l + 1 - exp(-Delta/2))**2 - ((1/2 - erf(sqrt(2)*(sigma*sqrt(tau)/2 + (Delta - tau*(mu - sigma**2/2))/(sigma*sqrt(tau)))/2)/2)*exp(-mu*tau) + (erf(sqrt(2)*(-3*sigma*sqrt(tau)/2 + (-Delta - tau*(mu - sigma**2/2))/(sigma*sqrt(tau)))/2)/2 + 1/2)*exp(mu*tau))*(exp(Delta/2) + 1)**2*exp(tau*(mu + 3*sigma**2/4)/2)/4 - ((-erf(sqrt(2)*(-3*sigma*sqrt(tau)/2 + (-Delta - tau*(mu - sigma**2/2))/(sigma*sqrt(tau)))/2)/2 + erf(sqrt(2)*(-3*sigma*sqrt(tau)/2 + (Delta - tau*(mu - sigma**2/2))/(sigma*sqrt(tau)))/2)/2)*exp(mu*tau) + (-erf(sqrt(2)*(sigma*sqrt(tau)/2 + (-Delta - tau*(mu - sigma**2/2))/(sigma*sqrt(tau)))/2)/2 + erf(sqrt(2)*(sigma*sqrt(tau)/2 + (Delta - tau*(mu - sigma**2/2))/(sigma*sqrt(tau)))/2)/2)*exp(-mu*tau))*exp(tau*(mu + 3*sigma**2/4)/2)/(4*(exp(Delta/2) - 1)**2) + (-erf(sqrt(2)*(-sigma*sqrt(tau)/2 + (-Delta - tau*(mu - sigma**2/2))/(sigma*sqrt(tau)))/2)/2 + erf(sqrt(2)*(-sigma*sqrt(tau)/2 + (Delta - tau*(mu - sigma**2/2))/(sigma*sqrt(tau)))/2)/2)*exp(-sigma**2*tau/2)*exp(tau*(mu + 3*sigma**2/4)/2)/(2*(exp(Delta/2) - 1)**2)"
      ]
     },
     "execution_count": 37,
     "metadata": {},
     "output_type": "execute_result"
    }
   ],
   "source": [
    "diff(v_bar, l)"
   ]
  },
  {
   "cell_type": "code",
   "execution_count": 38,
   "id": "c87224bc-71a9-494e-93fe-0ad71048e612",
   "metadata": {},
   "outputs": [
    {
     "data": {
      "text/latex": [
       "$\\displaystyle \\frac{f \\left(\\left(\\operatorname{erf}{\\left(\\frac{\\sqrt{2} \\left(\\sigma \\sqrt{\\tau} + \\frac{2 \\Delta + \\tau \\left(2 \\mu - \\sigma^{2}\\right)}{2 \\sigma \\sqrt{\\tau}}\\right)}{2} \\right)} - 1\\right) e^{\\mu \\tau} + \\operatorname{erf}{\\left(\\frac{\\sqrt{2} \\left(\\Delta - \\frac{\\tau \\left(2 \\mu - \\sigma^{2}\\right)}{2}\\right)}{2 \\sigma \\sqrt{\\tau}} \\right)} - 1\\right) e^{\\frac{\\Delta}{2}}}{16} - \\frac{f \\left(\\left(\\operatorname{erf}{\\left(\\frac{\\sqrt{2} \\left(\\sigma \\sqrt{\\tau} - \\frac{2 \\Delta - \\tau \\left(2 \\mu - \\sigma^{2}\\right)}{2 \\sigma \\sqrt{\\tau}}\\right)}{2} \\right)} + \\operatorname{erf}{\\left(\\frac{\\sqrt{2} \\left(\\sigma \\sqrt{\\tau} + \\frac{2 \\Delta + \\tau \\left(2 \\mu - \\sigma^{2}\\right)}{2 \\sigma \\sqrt{\\tau}}\\right)}{2} \\right)} - 2 \\operatorname{erf}{\\left(\\frac{\\sqrt{2} \\sqrt{\\tau} \\left(\\sigma - \\frac{- 2 \\mu + \\sigma^{2}}{2 \\sigma}\\right)}{2} \\right)}\\right) e^{\\mu \\tau} + \\operatorname{erf}{\\left(\\frac{\\sqrt{2} \\left(\\Delta - \\frac{\\tau \\left(2 \\mu - \\sigma^{2}\\right)}{2}\\right)}{2 \\sigma \\sqrt{\\tau}} \\right)} - \\operatorname{erf}{\\left(\\frac{\\sqrt{2} \\left(\\Delta + \\frac{\\tau \\left(2 \\mu - \\sigma^{2}\\right)}{2}\\right)}{2 \\sigma \\sqrt{\\tau}} \\right)} + 2 \\operatorname{erf}{\\left(\\frac{\\sqrt{2} \\sqrt{\\tau} \\left(\\mu - \\frac{\\sigma^{2}}{2}\\right)}{2 \\sigma} \\right)}\\right) e^{\\frac{\\Delta}{2}}}{16 \\left(e^{\\frac{\\Delta}{2}} - 1\\right)^{2}} + \\frac{f \\left(\\left(\\operatorname{erf}{\\left(\\frac{\\sqrt{2} \\left(\\sigma \\sqrt{\\tau} - \\frac{2 \\Delta - \\tau \\left(2 \\mu - \\sigma^{2}\\right)}{2 \\sigma \\sqrt{\\tau}}\\right)}{2} \\right)} + \\operatorname{erf}{\\left(\\frac{\\sqrt{2} \\left(\\sigma \\sqrt{\\tau} + \\frac{2 \\Delta + \\tau \\left(2 \\mu - \\sigma^{2}\\right)}{2 \\sigma \\sqrt{\\tau}}\\right)}{2} \\right)} - 2 \\operatorname{erf}{\\left(\\frac{\\sqrt{2} \\sqrt{\\tau} \\left(\\sigma - \\frac{- 2 \\mu + \\sigma^{2}}{2 \\sigma}\\right)}{2} \\right)}\\right) e^{\\mu \\tau} + \\operatorname{erf}{\\left(\\frac{\\sqrt{2} \\left(\\Delta - \\frac{\\tau \\left(2 \\mu - \\sigma^{2}\\right)}{2}\\right)}{2 \\sigma \\sqrt{\\tau}} \\right)} - \\operatorname{erf}{\\left(\\frac{\\sqrt{2} \\left(\\Delta + \\frac{\\tau \\left(2 \\mu - \\sigma^{2}\\right)}{2}\\right)}{2 \\sigma \\sqrt{\\tau}} \\right)} + 2 \\operatorname{erf}{\\left(\\frac{\\sqrt{2} \\sqrt{\\tau} \\left(\\mu - \\frac{\\sigma^{2}}{2}\\right)}{2 \\sigma} \\right)}\\right) e^{\\Delta}}{8 \\left(e^{\\frac{\\Delta}{2}} - 1\\right)^{3}} + \\frac{\\sqrt{2} f \\left(e^{\\mu \\tau} e^{- \\frac{\\left(\\sigma \\sqrt{\\tau} + \\frac{2 \\Delta + \\tau \\left(2 \\mu - \\sigma^{2}\\right)}{2 \\sigma \\sqrt{\\tau}}\\right)^{2}}{2}} + e^{- \\frac{\\left(\\Delta - \\frac{\\tau \\left(2 \\mu - \\sigma^{2}\\right)}{2}\\right)^{2}}{2 \\sigma^{2} \\tau}}\\right) e^{\\frac{\\Delta}{2}}}{4 \\sqrt{\\pi} \\sigma \\sqrt{\\tau}} + \\frac{\\sqrt{2} f \\left(- \\left(e^{- \\frac{\\left(\\sigma \\sqrt{\\tau} + \\frac{2 \\Delta + \\tau \\left(2 \\mu - \\sigma^{2}\\right)}{2 \\sigma \\sqrt{\\tau}}\\right)^{2}}{2}} - e^{- \\frac{\\left(\\sigma \\sqrt{\\tau} - \\frac{2 \\Delta - \\tau \\left(2 \\mu - \\sigma^{2}\\right)}{2 \\sigma \\sqrt{\\tau}}\\right)^{2}}{2}}\\right) e^{\\mu \\tau} + e^{- \\frac{\\left(\\Delta + \\frac{\\tau \\left(2 \\mu - \\sigma^{2}\\right)}{2}\\right)^{2}}{2 \\sigma^{2} \\tau}} - e^{- \\frac{\\left(\\Delta - \\frac{\\tau \\left(2 \\mu - \\sigma^{2}\\right)}{2}\\right)^{2}}{2 \\sigma^{2} \\tau}}\\right) e^{\\frac{\\Delta}{2}}}{4 \\sqrt{\\pi} \\sigma \\sqrt{\\tau} \\left(e^{\\frac{\\Delta}{2}} - 1\\right)^{2}} - \\frac{\\sqrt{2} f \\left(\\frac{\\left(2 \\sigma \\sqrt{\\tau} + \\frac{2 \\Delta + \\tau \\left(2 \\mu - \\sigma^{2}\\right)}{\\sigma \\sqrt{\\tau}}\\right) e^{\\mu \\tau} e^{- \\frac{\\left(\\sigma \\sqrt{\\tau} + \\frac{2 \\Delta + \\tau \\left(2 \\mu - \\sigma^{2}\\right)}{2 \\sigma \\sqrt{\\tau}}\\right)^{2}}{2}}}{\\tau} + \\frac{\\left(2 \\Delta - \\tau \\left(2 \\mu - \\sigma^{2}\\right)\\right) e^{- \\frac{\\left(\\Delta - \\frac{\\tau \\left(2 \\mu - \\sigma^{2}\\right)}{2}\\right)^{2}}{2 \\sigma^{2} \\tau}}}{\\sigma \\tau^{\\frac{3}{2}}}\\right) \\left(e^{\\frac{\\Delta}{2}} + 1\\right)}{8 \\sqrt{\\pi} \\sigma^{2}} + \\frac{\\sqrt{2} f \\left(- \\frac{\\left(\\left(2 \\sigma \\sqrt{\\tau} - \\frac{2 \\Delta - \\tau \\left(2 \\mu - \\sigma^{2}\\right)}{\\sigma \\sqrt{\\tau}}\\right) e^{- \\frac{\\left(\\sigma \\sqrt{\\tau} - \\frac{2 \\Delta - \\tau \\left(2 \\mu - \\sigma^{2}\\right)}{2 \\sigma \\sqrt{\\tau}}\\right)^{2}}{2}} + \\left(2 \\sigma \\sqrt{\\tau} + \\frac{2 \\Delta + \\tau \\left(2 \\mu - \\sigma^{2}\\right)}{\\sigma \\sqrt{\\tau}}\\right) e^{- \\frac{\\left(\\sigma \\sqrt{\\tau} + \\frac{2 \\Delta + \\tau \\left(2 \\mu - \\sigma^{2}\\right)}{2 \\sigma \\sqrt{\\tau}}\\right)^{2}}{2}}\\right) e^{\\mu \\tau}}{\\tau} - \\frac{\\left(2 \\Delta - \\tau \\left(2 \\mu - \\sigma^{2}\\right)\\right) e^{- \\frac{\\left(\\Delta - \\frac{\\tau \\left(2 \\mu - \\sigma^{2}\\right)}{2}\\right)^{2}}{2 \\sigma^{2} \\tau}}}{\\sigma \\tau^{\\frac{3}{2}}} + \\frac{\\left(2 \\Delta + \\tau \\left(2 \\mu - \\sigma^{2}\\right)\\right) e^{- \\frac{\\left(\\Delta + \\frac{\\tau \\left(2 \\mu - \\sigma^{2}\\right)}{2}\\right)^{2}}{2 \\sigma^{2} \\tau}}}{\\sigma \\tau^{\\frac{3}{2}}}\\right)}{8 \\sqrt{\\pi} \\sigma^{2} \\left(e^{\\frac{\\Delta}{2}} - 1\\right)} - \\frac{l \\left(\\left(- \\operatorname{erf}{\\left(\\frac{\\sqrt{2} \\left(\\sigma \\sqrt{\\tau} + \\frac{2 \\Delta - \\tau \\left(2 \\mu - \\sigma^{2}\\right)}{\\sigma \\sqrt{\\tau}}\\right)}{4} \\right)} + \\operatorname{erf}{\\left(\\frac{\\sqrt{2} \\left(\\sigma \\sqrt{\\tau} - \\frac{2 \\Delta + \\tau \\left(2 \\mu - \\sigma^{2}\\right)}{\\sigma \\sqrt{\\tau}}\\right)}{4} \\right)}\\right) e^{- \\mu \\tau} + \\left(\\operatorname{erf}{\\left(\\frac{\\sqrt{2} \\cdot \\left(3 \\sigma \\sqrt{\\tau} - \\frac{2 \\Delta - \\tau \\left(2 \\mu - \\sigma^{2}\\right)}{\\sigma \\sqrt{\\tau}}\\right)}{4} \\right)} - \\operatorname{erf}{\\left(\\frac{\\sqrt{2} \\cdot \\left(3 \\sigma \\sqrt{\\tau} + \\frac{2 \\Delta + \\tau \\left(2 \\mu - \\sigma^{2}\\right)}{\\sigma \\sqrt{\\tau}}\\right)}{4} \\right)}\\right) e^{\\mu \\tau}\\right) e^{\\frac{\\Delta}{2}} e^{\\frac{\\tau \\left(\\mu + \\frac{3 \\sigma^{2}}{4}\\right)}{2}}}{16 \\left(e^{\\frac{\\Delta}{2}} - 1\\right)^{3}} + \\frac{3 l \\left(\\left(- \\operatorname{erf}{\\left(\\frac{\\sqrt{2} \\left(\\sigma \\sqrt{\\tau} + \\frac{2 \\Delta - \\tau \\left(2 \\mu - \\sigma^{2}\\right)}{\\sigma \\sqrt{\\tau}}\\right)}{4} \\right)} + \\operatorname{erf}{\\left(\\frac{\\sqrt{2} \\left(\\sigma \\sqrt{\\tau} - \\frac{2 \\Delta + \\tau \\left(2 \\mu - \\sigma^{2}\\right)}{\\sigma \\sqrt{\\tau}}\\right)}{4} \\right)}\\right) e^{- \\mu \\tau} + \\left(\\operatorname{erf}{\\left(\\frac{\\sqrt{2} \\cdot \\left(3 \\sigma \\sqrt{\\tau} - \\frac{2 \\Delta - \\tau \\left(2 \\mu - \\sigma^{2}\\right)}{\\sigma \\sqrt{\\tau}}\\right)}{4} \\right)} - \\operatorname{erf}{\\left(\\frac{\\sqrt{2} \\cdot \\left(3 \\sigma \\sqrt{\\tau} + \\frac{2 \\Delta + \\tau \\left(2 \\mu - \\sigma^{2}\\right)}{\\sigma \\sqrt{\\tau}}\\right)}{4} \\right)}\\right) e^{\\mu \\tau}\\right) e^{\\Delta} e^{\\frac{\\tau \\left(\\mu + \\frac{3 \\sigma^{2}}{4}\\right)}{2}}}{16 \\left(e^{\\frac{\\Delta}{2}} - 1\\right)^{4}} + \\frac{l \\left(\\left(\\operatorname{erf}{\\left(\\frac{\\sqrt{2} \\left(\\sigma \\sqrt{\\tau} + \\frac{2 \\Delta - \\tau \\left(2 \\mu - \\sigma^{2}\\right)}{\\sigma \\sqrt{\\tau}}\\right)}{4} \\right)} - 1\\right) e^{- \\mu \\tau} + \\left(\\operatorname{erf}{\\left(\\frac{\\sqrt{2} \\cdot \\left(3 \\sigma \\sqrt{\\tau} + \\frac{2 \\Delta + \\tau \\left(2 \\mu - \\sigma^{2}\\right)}{\\sigma \\sqrt{\\tau}}\\right)}{4} \\right)} - 1\\right) e^{\\mu \\tau}\\right) \\left(e^{\\frac{\\Delta}{2}} + 1\\right) e^{\\frac{\\Delta}{2}} e^{\\frac{\\tau \\left(\\mu + \\frac{3 \\sigma^{2}}{4}\\right)}{2}}}{16} + \\frac{l \\left(\\left(\\operatorname{erf}{\\left(\\frac{\\sqrt{2} \\left(\\sigma \\sqrt{\\tau} + \\frac{2 \\Delta - \\tau \\left(2 \\mu - \\sigma^{2}\\right)}{\\sigma \\sqrt{\\tau}}\\right)}{4} \\right)} - 1\\right) e^{- \\mu \\tau} + \\left(\\operatorname{erf}{\\left(\\frac{\\sqrt{2} \\cdot \\left(3 \\sigma \\sqrt{\\tau} + \\frac{2 \\Delta + \\tau \\left(2 \\mu - \\sigma^{2}\\right)}{\\sigma \\sqrt{\\tau}}\\right)}{4} \\right)} - 1\\right) e^{\\mu \\tau}\\right) e^{\\Delta} e^{\\frac{\\tau \\left(\\mu + \\frac{3 \\sigma^{2}}{4}\\right)}{2}}}{16} - \\frac{l \\left(- \\operatorname{erf}{\\left(\\frac{\\sqrt{2} \\left(\\sigma \\sqrt{\\tau} - \\frac{2 \\Delta - \\tau \\left(2 \\mu - \\sigma^{2}\\right)}{\\sigma \\sqrt{\\tau}}\\right)}{4} \\right)} + \\operatorname{erf}{\\left(\\frac{\\sqrt{2} \\left(\\sigma \\sqrt{\\tau} + \\frac{2 \\Delta + \\tau \\left(2 \\mu - \\sigma^{2}\\right)}{\\sigma \\sqrt{\\tau}}\\right)}{4} \\right)}\\right) e^{\\frac{\\Delta}{2}} e^{- \\frac{\\sigma^{2} \\tau}{2}} e^{\\frac{\\tau \\left(\\mu + \\frac{3 \\sigma^{2}}{4}\\right)}{2}}}{8 \\left(e^{\\frac{\\Delta}{2}} - 1\\right)^{3}} + \\frac{3 l \\left(- \\operatorname{erf}{\\left(\\frac{\\sqrt{2} \\left(\\sigma \\sqrt{\\tau} - \\frac{2 \\Delta - \\tau \\left(2 \\mu - \\sigma^{2}\\right)}{\\sigma \\sqrt{\\tau}}\\right)}{4} \\right)} + \\operatorname{erf}{\\left(\\frac{\\sqrt{2} \\left(\\sigma \\sqrt{\\tau} + \\frac{2 \\Delta + \\tau \\left(2 \\mu - \\sigma^{2}\\right)}{\\sigma \\sqrt{\\tau}}\\right)}{4} \\right)}\\right) e^{\\Delta} e^{- \\frac{\\sigma^{2} \\tau}{2}} e^{\\frac{\\tau \\left(\\mu + \\frac{3 \\sigma^{2}}{4}\\right)}{2}}}{8 \\left(e^{\\frac{\\Delta}{2}} - 1\\right)^{4}} + \\frac{\\sqrt{2} l \\left(\\left(e^{- \\frac{\\left(\\sigma \\sqrt{\\tau} - \\frac{2 \\Delta + \\tau \\left(2 \\mu - \\sigma^{2}\\right)}{\\sigma \\sqrt{\\tau}}\\right)^{2}}{8}} + e^{- \\frac{\\left(\\sigma \\sqrt{\\tau} + \\frac{2 \\Delta - \\tau \\left(2 \\mu - \\sigma^{2}\\right)}{\\sigma \\sqrt{\\tau}}\\right)^{2}}{8}}\\right) e^{- \\mu \\tau} + \\left(e^{- \\frac{\\left(3 \\sigma \\sqrt{\\tau} + \\frac{2 \\Delta + \\tau \\left(2 \\mu - \\sigma^{2}\\right)}{\\sigma \\sqrt{\\tau}}\\right)^{2}}{8}} + e^{- \\frac{\\left(3 \\sigma \\sqrt{\\tau} - \\frac{2 \\Delta - \\tau \\left(2 \\mu - \\sigma^{2}\\right)}{\\sigma \\sqrt{\\tau}}\\right)^{2}}{8}}\\right) e^{\\mu \\tau}\\right) e^{\\frac{\\Delta}{2}} e^{\\frac{\\tau \\left(\\mu + \\frac{3 \\sigma^{2}}{4}\\right)}{2}}}{4 \\sqrt{\\pi} \\sigma \\sqrt{\\tau} \\left(e^{\\frac{\\Delta}{2}} - 1\\right)^{3}} + \\frac{\\sqrt{2} l \\left(e^{\\mu \\tau} e^{- \\frac{\\left(3 \\sigma \\sqrt{\\tau} + \\frac{2 \\Delta + \\tau \\left(2 \\mu - \\sigma^{2}\\right)}{\\sigma \\sqrt{\\tau}}\\right)^{2}}{8}} + e^{- \\mu \\tau} e^{- \\frac{\\left(\\sigma \\sqrt{\\tau} + \\frac{2 \\Delta - \\tau \\left(2 \\mu - \\sigma^{2}\\right)}{\\sigma \\sqrt{\\tau}}\\right)^{2}}{8}}\\right) \\left(e^{\\frac{\\Delta}{2}} + 1\\right) e^{\\frac{\\Delta}{2}} e^{\\frac{\\tau \\left(\\mu + \\frac{3 \\sigma^{2}}{4}\\right)}{2}}}{4 \\sqrt{\\pi} \\sigma \\sqrt{\\tau}} - \\frac{\\sqrt{2} l \\left(e^{- \\frac{\\left(\\sigma \\sqrt{\\tau} + \\frac{2 \\Delta + \\tau \\left(2 \\mu - \\sigma^{2}\\right)}{\\sigma \\sqrt{\\tau}}\\right)^{2}}{8}} + e^{- \\frac{\\left(\\sigma \\sqrt{\\tau} - \\frac{2 \\Delta - \\tau \\left(2 \\mu - \\sigma^{2}\\right)}{\\sigma \\sqrt{\\tau}}\\right)^{2}}{8}}\\right) e^{\\frac{\\Delta}{2}} e^{- \\frac{\\sigma^{2} \\tau}{2}} e^{\\frac{\\tau \\left(\\mu + \\frac{3 \\sigma^{2}}{4}\\right)}{2}}}{2 \\sqrt{\\pi} \\sigma \\sqrt{\\tau} \\left(e^{\\frac{\\Delta}{2}} - 1\\right)^{3}} - \\frac{\\sqrt{2} l \\left(- \\left(\\sigma \\sqrt{\\tau} - \\frac{2 \\Delta - \\tau \\left(2 \\mu - \\sigma^{2}\\right)}{\\sigma \\sqrt{\\tau}}\\right) e^{- \\frac{\\left(\\sigma \\sqrt{\\tau} - \\frac{2 \\Delta - \\tau \\left(2 \\mu - \\sigma^{2}\\right)}{\\sigma \\sqrt{\\tau}}\\right)^{2}}{8}} + \\left(\\sigma \\sqrt{\\tau} + \\frac{2 \\Delta + \\tau \\left(2 \\mu - \\sigma^{2}\\right)}{\\sigma \\sqrt{\\tau}}\\right) e^{- \\frac{\\left(\\sigma \\sqrt{\\tau} + \\frac{2 \\Delta + \\tau \\left(2 \\mu - \\sigma^{2}\\right)}{\\sigma \\sqrt{\\tau}}\\right)^{2}}{8}}\\right) e^{- \\frac{\\sigma^{2} \\tau}{2}} e^{\\frac{\\tau \\left(\\mu + \\frac{3 \\sigma^{2}}{4}\\right)}{2}}}{8 \\sqrt{\\pi} \\sigma^{2} \\tau \\left(e^{\\frac{\\Delta}{2}} - 1\\right)^{2}} + \\frac{\\sqrt{2} l \\left(\\left(\\left(\\sigma \\sqrt{\\tau} + \\frac{2 \\Delta - \\tau \\left(2 \\mu - \\sigma^{2}\\right)}{\\sigma \\sqrt{\\tau}}\\right) e^{- \\frac{\\left(\\sigma \\sqrt{\\tau} + \\frac{2 \\Delta - \\tau \\left(2 \\mu - \\sigma^{2}\\right)}{\\sigma \\sqrt{\\tau}}\\right)^{2}}{8}} - \\left(\\sigma \\sqrt{\\tau} - \\frac{2 \\Delta + \\tau \\left(2 \\mu - \\sigma^{2}\\right)}{\\sigma \\sqrt{\\tau}}\\right) e^{- \\frac{\\left(\\sigma \\sqrt{\\tau} - \\frac{2 \\Delta + \\tau \\left(2 \\mu - \\sigma^{2}\\right)}{\\sigma \\sqrt{\\tau}}\\right)^{2}}{8}}\\right) e^{- \\mu \\tau} + \\left(- \\left(3 \\sigma \\sqrt{\\tau} - \\frac{2 \\Delta - \\tau \\left(2 \\mu - \\sigma^{2}\\right)}{\\sigma \\sqrt{\\tau}}\\right) e^{- \\frac{\\left(3 \\sigma \\sqrt{\\tau} - \\frac{2 \\Delta - \\tau \\left(2 \\mu - \\sigma^{2}\\right)}{\\sigma \\sqrt{\\tau}}\\right)^{2}}{8}} + \\left(3 \\sigma \\sqrt{\\tau} + \\frac{2 \\Delta + \\tau \\left(2 \\mu - \\sigma^{2}\\right)}{\\sigma \\sqrt{\\tau}}\\right) e^{- \\frac{\\left(3 \\sigma \\sqrt{\\tau} + \\frac{2 \\Delta + \\tau \\left(2 \\mu - \\sigma^{2}\\right)}{\\sigma \\sqrt{\\tau}}\\right)^{2}}{8}}\\right) e^{\\mu \\tau}\\right) e^{\\frac{\\tau \\left(\\mu + \\frac{3 \\sigma^{2}}{4}\\right)}{2}}}{16 \\sqrt{\\pi} \\sigma^{2} \\tau \\left(e^{\\frac{\\Delta}{2}} - 1\\right)^{2}} - \\frac{\\sqrt{2} l \\left(\\left(\\sigma \\sqrt{\\tau} + \\frac{2 \\Delta - \\tau \\left(2 \\mu - \\sigma^{2}\\right)}{\\sigma \\sqrt{\\tau}}\\right) e^{- \\mu \\tau} e^{- \\frac{\\left(\\sigma \\sqrt{\\tau} + \\frac{2 \\Delta - \\tau \\left(2 \\mu - \\sigma^{2}\\right)}{\\sigma \\sqrt{\\tau}}\\right)^{2}}{8}} + \\left(3 \\sigma \\sqrt{\\tau} + \\frac{2 \\Delta + \\tau \\left(2 \\mu - \\sigma^{2}\\right)}{\\sigma \\sqrt{\\tau}}\\right) e^{\\mu \\tau} e^{- \\frac{\\left(3 \\sigma \\sqrt{\\tau} + \\frac{2 \\Delta + \\tau \\left(2 \\mu - \\sigma^{2}\\right)}{\\sigma \\sqrt{\\tau}}\\right)^{2}}{8}}\\right) \\left(e^{\\frac{\\Delta}{2}} + 1\\right)^{2} e^{\\frac{\\tau \\left(\\mu + \\frac{3 \\sigma^{2}}{4}\\right)}{2}}}{16 \\sqrt{\\pi} \\sigma^{2} \\tau} + \\frac{\\theta e^{- \\frac{\\Delta}{2}} \\int\\limits_{0}^{\\tau} \\left(\\left(- \\operatorname{erf}{\\left(\\frac{\\sqrt{2} \\left(\\sigma \\sqrt{t} - \\frac{2 \\Delta - t \\left(2 \\mu - \\sigma^{2}\\right)}{2 \\sigma \\sqrt{t}}\\right)}{2} \\right)} + \\operatorname{erf}{\\left(\\frac{\\sqrt{2} \\left(\\sigma \\sqrt{t} + \\frac{2 \\Delta + t \\left(2 \\mu - \\sigma^{2}\\right)}{2 \\sigma \\sqrt{t}}\\right)}{2} \\right)}\\right) e^{\\mu \\tau} + \\operatorname{erf}{\\left(\\frac{\\sqrt{2} \\left(\\Delta - \\frac{t \\left(2 \\mu - \\sigma^{2}\\right)}{2}\\right)}{2 \\sigma \\sqrt{t}} \\right)} + \\operatorname{erf}{\\left(\\frac{\\sqrt{2} \\left(\\Delta + \\frac{t \\left(2 \\mu - \\sigma^{2}\\right)}{2}\\right)}{2 \\sigma \\sqrt{t}} \\right)}\\right)\\, dt}{8 \\left(l + 1 - e^{- \\frac{\\Delta}{2}}\\right)^{2}} + \\frac{\\theta e^{- \\Delta} \\int\\limits_{0}^{\\tau} \\left(\\left(- \\operatorname{erf}{\\left(\\frac{\\sqrt{2} \\left(\\sigma \\sqrt{t} - \\frac{2 \\Delta - t \\left(2 \\mu - \\sigma^{2}\\right)}{2 \\sigma \\sqrt{t}}\\right)}{2} \\right)} + \\operatorname{erf}{\\left(\\frac{\\sqrt{2} \\left(\\sigma \\sqrt{t} + \\frac{2 \\Delta + t \\left(2 \\mu - \\sigma^{2}\\right)}{2 \\sigma \\sqrt{t}}\\right)}{2} \\right)}\\right) e^{\\mu \\tau} + \\operatorname{erf}{\\left(\\frac{\\sqrt{2} \\left(\\Delta - \\frac{t \\left(2 \\mu - \\sigma^{2}\\right)}{2}\\right)}{2 \\sigma \\sqrt{t}} \\right)} + \\operatorname{erf}{\\left(\\frac{\\sqrt{2} \\left(\\Delta + \\frac{t \\left(2 \\mu - \\sigma^{2}\\right)}{2}\\right)}{2 \\sigma \\sqrt{t}} \\right)}\\right)\\, dt}{4 \\left(l + 1 - e^{- \\frac{\\Delta}{2}}\\right)^{3}} - \\frac{\\left(\\left(\\operatorname{erf}{\\left(\\frac{\\sqrt{2} \\left(\\sigma \\sqrt{\\tau} + \\frac{2 \\Delta + \\tau \\left(2 \\mu - \\sigma^{2}\\right)}{2 \\sigma \\sqrt{\\tau}}\\right)}{2} \\right)} - 1\\right) e^{\\mu \\tau} + \\operatorname{erf}{\\left(\\frac{\\sqrt{2} \\left(\\Delta - \\frac{\\tau \\left(2 \\mu - \\sigma^{2}\\right)}{2}\\right)}{2 \\sigma \\sqrt{\\tau}} \\right)} - 1\\right) e^{\\frac{\\Delta}{2}}}{8} - \\frac{\\left(\\left(- \\operatorname{erf}{\\left(\\frac{\\sqrt{2} \\left(\\sigma \\sqrt{\\tau} - \\frac{2 \\Delta - \\tau \\left(2 \\mu - \\sigma^{2}\\right)}{2 \\sigma \\sqrt{\\tau}}\\right)}{2} \\right)} + \\operatorname{erf}{\\left(\\frac{\\sqrt{2} \\left(\\sigma \\sqrt{\\tau} + \\frac{2 \\Delta + \\tau \\left(2 \\mu - \\sigma^{2}\\right)}{2 \\sigma \\sqrt{\\tau}}\\right)}{2} \\right)}\\right) e^{\\mu \\tau} + \\operatorname{erf}{\\left(\\frac{\\sqrt{2} \\left(\\Delta - \\frac{\\tau \\left(2 \\mu - \\sigma^{2}\\right)}{2}\\right)}{2 \\sigma \\sqrt{\\tau}} \\right)} + \\operatorname{erf}{\\left(\\frac{\\sqrt{2} \\left(\\Delta + \\frac{\\tau \\left(2 \\mu - \\sigma^{2}\\right)}{2}\\right)}{2 \\sigma \\sqrt{\\tau}} \\right)}\\right) e^{- \\frac{\\Delta}{2}}}{8 \\cdot \\left(1 - e^{- \\frac{\\Delta}{2}}\\right)} + \\frac{\\left(- \\operatorname{erf}{\\left(\\frac{\\sqrt{2} \\left(\\sigma \\sqrt{\\tau} - \\frac{2 \\Delta - \\tau \\left(2 \\mu - \\sigma^{2}\\right)}{\\sigma \\sqrt{\\tau}}\\right)}{4} \\right)} + \\operatorname{erf}{\\left(\\frac{\\sqrt{2} \\left(\\sigma \\sqrt{\\tau} + \\frac{2 \\Delta + \\tau \\left(2 \\mu - \\sigma^{2}\\right)}{\\sigma \\sqrt{\\tau}}\\right)}{4} \\right)}\\right) e^{- \\frac{\\Delta}{2}} e^{\\frac{\\tau \\left(\\mu - \\frac{\\sigma^{2}}{4}\\right)}{2}}}{4 \\left(1 - e^{- \\frac{\\Delta}{2}}\\right)^{2}} - \\frac{3 \\left(\\left(- \\operatorname{erf}{\\left(\\frac{\\sqrt{2} \\left(\\sigma \\sqrt{\\tau} - \\frac{2 \\Delta - \\tau \\left(2 \\mu - \\sigma^{2}\\right)}{2 \\sigma \\sqrt{\\tau}}\\right)}{2} \\right)} + \\operatorname{erf}{\\left(\\frac{\\sqrt{2} \\left(\\sigma \\sqrt{\\tau} + \\frac{2 \\Delta + \\tau \\left(2 \\mu - \\sigma^{2}\\right)}{2 \\sigma \\sqrt{\\tau}}\\right)}{2} \\right)}\\right) e^{\\mu \\tau} + \\operatorname{erf}{\\left(\\frac{\\sqrt{2} \\left(\\Delta - \\frac{\\tau \\left(2 \\mu - \\sigma^{2}\\right)}{2}\\right)}{2 \\sigma \\sqrt{\\tau}} \\right)} + \\operatorname{erf}{\\left(\\frac{\\sqrt{2} \\left(\\Delta + \\frac{\\tau \\left(2 \\mu - \\sigma^{2}\\right)}{2}\\right)}{2 \\sigma \\sqrt{\\tau}} \\right)}\\right) e^{- \\Delta}}{8 \\left(1 - e^{- \\frac{\\Delta}{2}}\\right)^{2}} + \\frac{\\left(- \\operatorname{erf}{\\left(\\frac{\\sqrt{2} \\left(\\sigma \\sqrt{\\tau} - \\frac{2 \\Delta - \\tau \\left(2 \\mu - \\sigma^{2}\\right)}{\\sigma \\sqrt{\\tau}}\\right)}{4} \\right)} + \\operatorname{erf}{\\left(\\frac{\\sqrt{2} \\left(\\sigma \\sqrt{\\tau} + \\frac{2 \\Delta + \\tau \\left(2 \\mu - \\sigma^{2}\\right)}{\\sigma \\sqrt{\\tau}}\\right)}{4} \\right)}\\right) e^{- \\Delta} e^{\\frac{\\tau \\left(\\mu - \\frac{\\sigma^{2}}{4}\\right)}{2}}}{2 \\left(1 - e^{- \\frac{\\Delta}{2}}\\right)^{3}} - \\frac{\\left(\\left(- \\operatorname{erf}{\\left(\\frac{\\sqrt{2} \\left(\\sigma \\sqrt{\\tau} - \\frac{2 \\Delta - \\tau \\left(2 \\mu - \\sigma^{2}\\right)}{2 \\sigma \\sqrt{\\tau}}\\right)}{2} \\right)} + \\operatorname{erf}{\\left(\\frac{\\sqrt{2} \\left(\\sigma \\sqrt{\\tau} + \\frac{2 \\Delta + \\tau \\left(2 \\mu - \\sigma^{2}\\right)}{2 \\sigma \\sqrt{\\tau}}\\right)}{2} \\right)}\\right) e^{\\mu \\tau} + \\operatorname{erf}{\\left(\\frac{\\sqrt{2} \\left(\\Delta - \\frac{\\tau \\left(2 \\mu - \\sigma^{2}\\right)}{2}\\right)}{2 \\sigma \\sqrt{\\tau}} \\right)} + \\operatorname{erf}{\\left(\\frac{\\sqrt{2} \\left(\\Delta + \\frac{\\tau \\left(2 \\mu - \\sigma^{2}\\right)}{2}\\right)}{2 \\sigma \\sqrt{\\tau}} \\right)}\\right) e^{- \\frac{3 \\Delta}{2}}}{4 \\left(1 - e^{- \\frac{\\Delta}{2}}\\right)^{3}} - \\frac{\\sqrt{2} \\theta e^{- \\frac{\\Delta}{2}} \\int\\limits_{0}^{\\tau} \\frac{\\left(e^{- \\frac{\\left(\\sigma \\sqrt{t} + \\frac{2 \\Delta + t \\left(2 \\mu - \\sigma^{2}\\right)}{2 \\sigma \\sqrt{t}}\\right)^{2}}{2}} + e^{- \\frac{\\left(\\sigma \\sqrt{t} - \\frac{2 \\Delta - t \\left(2 \\mu - \\sigma^{2}\\right)}{2 \\sigma \\sqrt{t}}\\right)^{2}}{2}}\\right) e^{\\mu \\tau} + e^{- \\frac{\\left(\\Delta + \\frac{t \\left(2 \\mu - \\sigma^{2}\\right)}{2}\\right)^{2}}{2 \\sigma^{2} t}} + e^{- \\frac{\\left(\\Delta - \\frac{t \\left(2 \\mu - \\sigma^{2}\\right)}{2}\\right)^{2}}{2 \\sigma^{2} t}}}{\\sqrt{t}}\\, dt}{2 \\sqrt{\\pi} \\sigma \\left(l + 1 - e^{- \\frac{\\Delta}{2}}\\right)^{2}} - \\frac{\\sqrt{2} \\left(e^{\\mu \\tau} e^{- \\frac{\\left(\\sigma \\sqrt{\\tau} + \\frac{2 \\Delta + \\tau \\left(2 \\mu - \\sigma^{2}\\right)}{2 \\sigma \\sqrt{\\tau}}\\right)^{2}}{2}} + e^{- \\frac{\\left(\\Delta - \\frac{\\tau \\left(2 \\mu - \\sigma^{2}\\right)}{2}\\right)^{2}}{2 \\sigma^{2} \\tau}}\\right) e^{\\frac{\\Delta}{2}}}{2 \\sqrt{\\pi} \\sigma \\sqrt{\\tau}} + \\frac{\\sqrt{2} \\left(\\left(e^{- \\frac{\\left(\\sigma \\sqrt{\\tau} + \\frac{2 \\Delta + \\tau \\left(2 \\mu - \\sigma^{2}\\right)}{2 \\sigma \\sqrt{\\tau}}\\right)^{2}}{2}} + e^{- \\frac{\\left(\\sigma \\sqrt{\\tau} - \\frac{2 \\Delta - \\tau \\left(2 \\mu - \\sigma^{2}\\right)}{2 \\sigma \\sqrt{\\tau}}\\right)^{2}}{2}}\\right) e^{\\mu \\tau} + e^{- \\frac{\\left(\\Delta + \\frac{\\tau \\left(2 \\mu - \\sigma^{2}\\right)}{2}\\right)^{2}}{2 \\sigma^{2} \\tau}} + e^{- \\frac{\\left(\\Delta - \\frac{\\tau \\left(2 \\mu - \\sigma^{2}\\right)}{2}\\right)^{2}}{2 \\sigma^{2} \\tau}}\\right) e^{- \\frac{\\Delta}{2}}}{2 \\sqrt{\\pi} \\sigma \\sqrt{\\tau} \\left(1 - e^{- \\frac{\\Delta}{2}}\\right)} - \\frac{\\sqrt{2} \\left(e^{- \\frac{\\left(\\sigma \\sqrt{\\tau} + \\frac{2 \\Delta + \\tau \\left(2 \\mu - \\sigma^{2}\\right)}{\\sigma \\sqrt{\\tau}}\\right)^{2}}{8}} + e^{- \\frac{\\left(\\sigma \\sqrt{\\tau} - \\frac{2 \\Delta - \\tau \\left(2 \\mu - \\sigma^{2}\\right)}{\\sigma \\sqrt{\\tau}}\\right)^{2}}{8}}\\right) e^{- \\frac{\\Delta}{2}} e^{\\frac{\\tau \\left(\\mu - \\frac{\\sigma^{2}}{4}\\right)}{2}}}{\\sqrt{\\pi} \\sigma \\sqrt{\\tau} \\left(1 - e^{- \\frac{\\Delta}{2}}\\right)^{2}} + \\frac{\\sqrt{2} \\left(\\left(e^{- \\frac{\\left(\\sigma \\sqrt{\\tau} + \\frac{2 \\Delta + \\tau \\left(2 \\mu - \\sigma^{2}\\right)}{2 \\sigma \\sqrt{\\tau}}\\right)^{2}}{2}} + e^{- \\frac{\\left(\\sigma \\sqrt{\\tau} - \\frac{2 \\Delta - \\tau \\left(2 \\mu - \\sigma^{2}\\right)}{2 \\sigma \\sqrt{\\tau}}\\right)^{2}}{2}}\\right) e^{\\mu \\tau} + e^{- \\frac{\\left(\\Delta + \\frac{\\tau \\left(2 \\mu - \\sigma^{2}\\right)}{2}\\right)^{2}}{2 \\sigma^{2} \\tau}} + e^{- \\frac{\\left(\\Delta - \\frac{\\tau \\left(2 \\mu - \\sigma^{2}\\right)}{2}\\right)^{2}}{2 \\sigma^{2} \\tau}}\\right) e^{- \\Delta}}{2 \\sqrt{\\pi} \\sigma \\sqrt{\\tau} \\left(1 - e^{- \\frac{\\Delta}{2}}\\right)^{2}} + \\frac{\\sqrt{2} \\theta \\int\\limits_{0}^{\\tau} \\left(\\frac{\\left(\\left(2 \\sigma \\sqrt{t} - \\frac{2 \\Delta - t \\left(2 \\mu - \\sigma^{2}\\right)}{\\sigma \\sqrt{t}}\\right) e^{- \\frac{\\left(\\sigma \\sqrt{t} - \\frac{2 \\Delta - t \\left(2 \\mu - \\sigma^{2}\\right)}{2 \\sigma \\sqrt{t}}\\right)^{2}}{2}} - \\left(2 \\sigma \\sqrt{t} + \\frac{2 \\Delta + t \\left(2 \\mu - \\sigma^{2}\\right)}{\\sigma \\sqrt{t}}\\right) e^{- \\frac{\\left(\\sigma \\sqrt{t} + \\frac{2 \\Delta + t \\left(2 \\mu - \\sigma^{2}\\right)}{2 \\sigma \\sqrt{t}}\\right)^{2}}{2}}\\right) e^{\\mu \\tau}}{t} - \\frac{\\left(2 \\Delta - t \\left(2 \\mu - \\sigma^{2}\\right)\\right) e^{- \\frac{\\left(\\Delta - \\frac{t \\left(2 \\mu - \\sigma^{2}\\right)}{2}\\right)^{2}}{2 \\sigma^{2} t}}}{\\sigma t^{\\frac{3}{2}}} - \\frac{\\left(2 \\Delta + t \\left(2 \\mu - \\sigma^{2}\\right)\\right) e^{- \\frac{\\left(\\Delta + \\frac{t \\left(2 \\mu - \\sigma^{2}\\right)}{2}\\right)^{2}}{2 \\sigma^{2} t}}}{\\sigma t^{\\frac{3}{2}}}\\right)\\, dt}{4 \\sqrt{\\pi} \\sigma^{2} \\left(l + 1 - e^{- \\frac{\\Delta}{2}}\\right)} + \\frac{\\sqrt{2} \\left(\\frac{\\left(2 \\sigma \\sqrt{\\tau} + \\frac{2 \\Delta + \\tau \\left(2 \\mu - \\sigma^{2}\\right)}{\\sigma \\sqrt{\\tau}}\\right) e^{\\mu \\tau} e^{- \\frac{\\left(\\sigma \\sqrt{\\tau} + \\frac{2 \\Delta + \\tau \\left(2 \\mu - \\sigma^{2}\\right)}{2 \\sigma \\sqrt{\\tau}}\\right)^{2}}{2}}}{\\tau} + \\frac{\\left(2 \\Delta - \\tau \\left(2 \\mu - \\sigma^{2}\\right)\\right) e^{- \\frac{\\left(\\Delta - \\frac{\\tau \\left(2 \\mu - \\sigma^{2}\\right)}{2}\\right)^{2}}{2 \\sigma^{2} \\tau}}}{\\sigma \\tau^{\\frac{3}{2}}}\\right) \\left(e^{\\frac{\\Delta}{2}} + 1\\right)}{4 \\sqrt{\\pi} \\sigma^{2}} + \\frac{\\sqrt{2} \\left(\\frac{\\left(- \\left(2 \\sigma \\sqrt{\\tau} - \\frac{2 \\Delta - \\tau \\left(2 \\mu - \\sigma^{2}\\right)}{\\sigma \\sqrt{\\tau}}\\right) e^{- \\frac{\\left(\\sigma \\sqrt{\\tau} - \\frac{2 \\Delta - \\tau \\left(2 \\mu - \\sigma^{2}\\right)}{2 \\sigma \\sqrt{\\tau}}\\right)^{2}}{2}} + \\left(2 \\sigma \\sqrt{\\tau} + \\frac{2 \\Delta + \\tau \\left(2 \\mu - \\sigma^{2}\\right)}{\\sigma \\sqrt{\\tau}}\\right) e^{- \\frac{\\left(\\sigma \\sqrt{\\tau} + \\frac{2 \\Delta + \\tau \\left(2 \\mu - \\sigma^{2}\\right)}{2 \\sigma \\sqrt{\\tau}}\\right)^{2}}{2}}\\right) e^{\\mu \\tau}}{\\tau} + \\frac{\\left(2 \\Delta - \\tau \\left(2 \\mu - \\sigma^{2}\\right)\\right) e^{- \\frac{\\left(\\Delta - \\frac{\\tau \\left(2 \\mu - \\sigma^{2}\\right)}{2}\\right)^{2}}{2 \\sigma^{2} \\tau}}}{\\sigma \\tau^{\\frac{3}{2}}} + \\frac{\\left(2 \\Delta + \\tau \\left(2 \\mu - \\sigma^{2}\\right)\\right) e^{- \\frac{\\left(\\Delta + \\frac{\\tau \\left(2 \\mu - \\sigma^{2}\\right)}{2}\\right)^{2}}{2 \\sigma^{2} \\tau}}}{\\sigma \\tau^{\\frac{3}{2}}}\\right) e^{- \\frac{\\Delta}{2}}}{4 \\sqrt{\\pi} \\sigma^{2} \\cdot \\left(1 - e^{- \\frac{\\Delta}{2}}\\right)} - \\frac{\\sqrt{2} \\left(- \\left(\\sigma \\sqrt{\\tau} - \\frac{2 \\Delta - \\tau \\left(2 \\mu - \\sigma^{2}\\right)}{\\sigma \\sqrt{\\tau}}\\right) e^{- \\frac{\\left(\\sigma \\sqrt{\\tau} - \\frac{2 \\Delta - \\tau \\left(2 \\mu - \\sigma^{2}\\right)}{\\sigma \\sqrt{\\tau}}\\right)^{2}}{8}} + \\left(\\sigma \\sqrt{\\tau} + \\frac{2 \\Delta + \\tau \\left(2 \\mu - \\sigma^{2}\\right)}{\\sigma \\sqrt{\\tau}}\\right) e^{- \\frac{\\left(\\sigma \\sqrt{\\tau} + \\frac{2 \\Delta + \\tau \\left(2 \\mu - \\sigma^{2}\\right)}{\\sigma \\sqrt{\\tau}}\\right)^{2}}{8}}\\right) e^{\\frac{\\tau \\left(\\mu - \\frac{\\sigma^{2}}{4}\\right)}{2}}}{2 \\sqrt{\\pi} \\sigma^{2} \\tau \\left(1 - e^{- \\frac{\\Delta}{2}}\\right)}$"
      ],
      "text/plain": [
       "f*((erf(sqrt(2)*(sigma*sqrt(tau) + (2*Delta + tau*(2*mu - sigma**2))/(2*sigma*sqrt(tau)))/2) - 1)*exp(mu*tau) + erf(sqrt(2)*(Delta - tau*(2*mu - sigma**2)/2)/(2*sigma*sqrt(tau))) - 1)*exp(Delta/2)/16 - f*((erf(sqrt(2)*(sigma*sqrt(tau) - (2*Delta - tau*(2*mu - sigma**2))/(2*sigma*sqrt(tau)))/2) + erf(sqrt(2)*(sigma*sqrt(tau) + (2*Delta + tau*(2*mu - sigma**2))/(2*sigma*sqrt(tau)))/2) - 2*erf(sqrt(2)*sqrt(tau)*(sigma - (-2*mu + sigma**2)/(2*sigma))/2))*exp(mu*tau) + erf(sqrt(2)*(Delta - tau*(2*mu - sigma**2)/2)/(2*sigma*sqrt(tau))) - erf(sqrt(2)*(Delta + tau*(2*mu - sigma**2)/2)/(2*sigma*sqrt(tau))) + 2*erf(sqrt(2)*sqrt(tau)*(mu - sigma**2/2)/(2*sigma)))*exp(Delta/2)/(16*(exp(Delta/2) - 1)**2) + f*((erf(sqrt(2)*(sigma*sqrt(tau) - (2*Delta - tau*(2*mu - sigma**2))/(2*sigma*sqrt(tau)))/2) + erf(sqrt(2)*(sigma*sqrt(tau) + (2*Delta + tau*(2*mu - sigma**2))/(2*sigma*sqrt(tau)))/2) - 2*erf(sqrt(2)*sqrt(tau)*(sigma - (-2*mu + sigma**2)/(2*sigma))/2))*exp(mu*tau) + erf(sqrt(2)*(Delta - tau*(2*mu - sigma**2)/2)/(2*sigma*sqrt(tau))) - erf(sqrt(2)*(Delta + tau*(2*mu - sigma**2)/2)/(2*sigma*sqrt(tau))) + 2*erf(sqrt(2)*sqrt(tau)*(mu - sigma**2/2)/(2*sigma)))*exp(Delta)/(8*(exp(Delta/2) - 1)**3) + sqrt(2)*f*(exp(mu*tau)*exp(-(sigma*sqrt(tau) + (2*Delta + tau*(2*mu - sigma**2))/(2*sigma*sqrt(tau)))**2/2) + exp(-(Delta - tau*(2*mu - sigma**2)/2)**2/(2*sigma**2*tau)))*exp(Delta/2)/(4*sqrt(pi)*sigma*sqrt(tau)) + sqrt(2)*f*(-(exp(-(sigma*sqrt(tau) + (2*Delta + tau*(2*mu - sigma**2))/(2*sigma*sqrt(tau)))**2/2) - exp(-(sigma*sqrt(tau) - (2*Delta - tau*(2*mu - sigma**2))/(2*sigma*sqrt(tau)))**2/2))*exp(mu*tau) + exp(-(Delta + tau*(2*mu - sigma**2)/2)**2/(2*sigma**2*tau)) - exp(-(Delta - tau*(2*mu - sigma**2)/2)**2/(2*sigma**2*tau)))*exp(Delta/2)/(4*sqrt(pi)*sigma*sqrt(tau)*(exp(Delta/2) - 1)**2) - sqrt(2)*f*((2*sigma*sqrt(tau) + (2*Delta + tau*(2*mu - sigma**2))/(sigma*sqrt(tau)))*exp(mu*tau)*exp(-(sigma*sqrt(tau) + (2*Delta + tau*(2*mu - sigma**2))/(2*sigma*sqrt(tau)))**2/2)/tau + (2*Delta - tau*(2*mu - sigma**2))*exp(-(Delta - tau*(2*mu - sigma**2)/2)**2/(2*sigma**2*tau))/(sigma*tau**(3/2)))*(exp(Delta/2) + 1)/(8*sqrt(pi)*sigma**2) + sqrt(2)*f*(-((2*sigma*sqrt(tau) - (2*Delta - tau*(2*mu - sigma**2))/(sigma*sqrt(tau)))*exp(-(sigma*sqrt(tau) - (2*Delta - tau*(2*mu - sigma**2))/(2*sigma*sqrt(tau)))**2/2) + (2*sigma*sqrt(tau) + (2*Delta + tau*(2*mu - sigma**2))/(sigma*sqrt(tau)))*exp(-(sigma*sqrt(tau) + (2*Delta + tau*(2*mu - sigma**2))/(2*sigma*sqrt(tau)))**2/2))*exp(mu*tau)/tau - (2*Delta - tau*(2*mu - sigma**2))*exp(-(Delta - tau*(2*mu - sigma**2)/2)**2/(2*sigma**2*tau))/(sigma*tau**(3/2)) + (2*Delta + tau*(2*mu - sigma**2))*exp(-(Delta + tau*(2*mu - sigma**2)/2)**2/(2*sigma**2*tau))/(sigma*tau**(3/2)))/(8*sqrt(pi)*sigma**2*(exp(Delta/2) - 1)) - l*((-erf(sqrt(2)*(sigma*sqrt(tau) + (2*Delta - tau*(2*mu - sigma**2))/(sigma*sqrt(tau)))/4) + erf(sqrt(2)*(sigma*sqrt(tau) - (2*Delta + tau*(2*mu - sigma**2))/(sigma*sqrt(tau)))/4))*exp(-mu*tau) + (erf(sqrt(2)*(3*sigma*sqrt(tau) - (2*Delta - tau*(2*mu - sigma**2))/(sigma*sqrt(tau)))/4) - erf(sqrt(2)*(3*sigma*sqrt(tau) + (2*Delta + tau*(2*mu - sigma**2))/(sigma*sqrt(tau)))/4))*exp(mu*tau))*exp(Delta/2)*exp(tau*(mu + 3*sigma**2/4)/2)/(16*(exp(Delta/2) - 1)**3) + 3*l*((-erf(sqrt(2)*(sigma*sqrt(tau) + (2*Delta - tau*(2*mu - sigma**2))/(sigma*sqrt(tau)))/4) + erf(sqrt(2)*(sigma*sqrt(tau) - (2*Delta + tau*(2*mu - sigma**2))/(sigma*sqrt(tau)))/4))*exp(-mu*tau) + (erf(sqrt(2)*(3*sigma*sqrt(tau) - (2*Delta - tau*(2*mu - sigma**2))/(sigma*sqrt(tau)))/4) - erf(sqrt(2)*(3*sigma*sqrt(tau) + (2*Delta + tau*(2*mu - sigma**2))/(sigma*sqrt(tau)))/4))*exp(mu*tau))*exp(Delta)*exp(tau*(mu + 3*sigma**2/4)/2)/(16*(exp(Delta/2) - 1)**4) + l*((erf(sqrt(2)*(sigma*sqrt(tau) + (2*Delta - tau*(2*mu - sigma**2))/(sigma*sqrt(tau)))/4) - 1)*exp(-mu*tau) + (erf(sqrt(2)*(3*sigma*sqrt(tau) + (2*Delta + tau*(2*mu - sigma**2))/(sigma*sqrt(tau)))/4) - 1)*exp(mu*tau))*(exp(Delta/2) + 1)*exp(Delta/2)*exp(tau*(mu + 3*sigma**2/4)/2)/16 + l*((erf(sqrt(2)*(sigma*sqrt(tau) + (2*Delta - tau*(2*mu - sigma**2))/(sigma*sqrt(tau)))/4) - 1)*exp(-mu*tau) + (erf(sqrt(2)*(3*sigma*sqrt(tau) + (2*Delta + tau*(2*mu - sigma**2))/(sigma*sqrt(tau)))/4) - 1)*exp(mu*tau))*exp(Delta)*exp(tau*(mu + 3*sigma**2/4)/2)/16 - l*(-erf(sqrt(2)*(sigma*sqrt(tau) - (2*Delta - tau*(2*mu - sigma**2))/(sigma*sqrt(tau)))/4) + erf(sqrt(2)*(sigma*sqrt(tau) + (2*Delta + tau*(2*mu - sigma**2))/(sigma*sqrt(tau)))/4))*exp(Delta/2)*exp(-sigma**2*tau/2)*exp(tau*(mu + 3*sigma**2/4)/2)/(8*(exp(Delta/2) - 1)**3) + 3*l*(-erf(sqrt(2)*(sigma*sqrt(tau) - (2*Delta - tau*(2*mu - sigma**2))/(sigma*sqrt(tau)))/4) + erf(sqrt(2)*(sigma*sqrt(tau) + (2*Delta + tau*(2*mu - sigma**2))/(sigma*sqrt(tau)))/4))*exp(Delta)*exp(-sigma**2*tau/2)*exp(tau*(mu + 3*sigma**2/4)/2)/(8*(exp(Delta/2) - 1)**4) + sqrt(2)*l*((exp(-(sigma*sqrt(tau) - (2*Delta + tau*(2*mu - sigma**2))/(sigma*sqrt(tau)))**2/8) + exp(-(sigma*sqrt(tau) + (2*Delta - tau*(2*mu - sigma**2))/(sigma*sqrt(tau)))**2/8))*exp(-mu*tau) + (exp(-(3*sigma*sqrt(tau) + (2*Delta + tau*(2*mu - sigma**2))/(sigma*sqrt(tau)))**2/8) + exp(-(3*sigma*sqrt(tau) - (2*Delta - tau*(2*mu - sigma**2))/(sigma*sqrt(tau)))**2/8))*exp(mu*tau))*exp(Delta/2)*exp(tau*(mu + 3*sigma**2/4)/2)/(4*sqrt(pi)*sigma*sqrt(tau)*(exp(Delta/2) - 1)**3) + sqrt(2)*l*(exp(mu*tau)*exp(-(3*sigma*sqrt(tau) + (2*Delta + tau*(2*mu - sigma**2))/(sigma*sqrt(tau)))**2/8) + exp(-mu*tau)*exp(-(sigma*sqrt(tau) + (2*Delta - tau*(2*mu - sigma**2))/(sigma*sqrt(tau)))**2/8))*(exp(Delta/2) + 1)*exp(Delta/2)*exp(tau*(mu + 3*sigma**2/4)/2)/(4*sqrt(pi)*sigma*sqrt(tau)) - sqrt(2)*l*(exp(-(sigma*sqrt(tau) + (2*Delta + tau*(2*mu - sigma**2))/(sigma*sqrt(tau)))**2/8) + exp(-(sigma*sqrt(tau) - (2*Delta - tau*(2*mu - sigma**2))/(sigma*sqrt(tau)))**2/8))*exp(Delta/2)*exp(-sigma**2*tau/2)*exp(tau*(mu + 3*sigma**2/4)/2)/(2*sqrt(pi)*sigma*sqrt(tau)*(exp(Delta/2) - 1)**3) - sqrt(2)*l*(-(sigma*sqrt(tau) - (2*Delta - tau*(2*mu - sigma**2))/(sigma*sqrt(tau)))*exp(-(sigma*sqrt(tau) - (2*Delta - tau*(2*mu - sigma**2))/(sigma*sqrt(tau)))**2/8) + (sigma*sqrt(tau) + (2*Delta + tau*(2*mu - sigma**2))/(sigma*sqrt(tau)))*exp(-(sigma*sqrt(tau) + (2*Delta + tau*(2*mu - sigma**2))/(sigma*sqrt(tau)))**2/8))*exp(-sigma**2*tau/2)*exp(tau*(mu + 3*sigma**2/4)/2)/(8*sqrt(pi)*sigma**2*tau*(exp(Delta/2) - 1)**2) + sqrt(2)*l*(((sigma*sqrt(tau) + (2*Delta - tau*(2*mu - sigma**2))/(sigma*sqrt(tau)))*exp(-(sigma*sqrt(tau) + (2*Delta - tau*(2*mu - sigma**2))/(sigma*sqrt(tau)))**2/8) - (sigma*sqrt(tau) - (2*Delta + tau*(2*mu - sigma**2))/(sigma*sqrt(tau)))*exp(-(sigma*sqrt(tau) - (2*Delta + tau*(2*mu - sigma**2))/(sigma*sqrt(tau)))**2/8))*exp(-mu*tau) + (-(3*sigma*sqrt(tau) - (2*Delta - tau*(2*mu - sigma**2))/(sigma*sqrt(tau)))*exp(-(3*sigma*sqrt(tau) - (2*Delta - tau*(2*mu - sigma**2))/(sigma*sqrt(tau)))**2/8) + (3*sigma*sqrt(tau) + (2*Delta + tau*(2*mu - sigma**2))/(sigma*sqrt(tau)))*exp(-(3*sigma*sqrt(tau) + (2*Delta + tau*(2*mu - sigma**2))/(sigma*sqrt(tau)))**2/8))*exp(mu*tau))*exp(tau*(mu + 3*sigma**2/4)/2)/(16*sqrt(pi)*sigma**2*tau*(exp(Delta/2) - 1)**2) - sqrt(2)*l*((sigma*sqrt(tau) + (2*Delta - tau*(2*mu - sigma**2))/(sigma*sqrt(tau)))*exp(-mu*tau)*exp(-(sigma*sqrt(tau) + (2*Delta - tau*(2*mu - sigma**2))/(sigma*sqrt(tau)))**2/8) + (3*sigma*sqrt(tau) + (2*Delta + tau*(2*mu - sigma**2))/(sigma*sqrt(tau)))*exp(mu*tau)*exp(-(3*sigma*sqrt(tau) + (2*Delta + tau*(2*mu - sigma**2))/(sigma*sqrt(tau)))**2/8))*(exp(Delta/2) + 1)**2*exp(tau*(mu + 3*sigma**2/4)/2)/(16*sqrt(pi)*sigma**2*tau) + theta*exp(-Delta/2)*Integral((-erf(sqrt(2)*(sigma*sqrt(t) - (2*Delta - t*(2*mu - sigma**2))/(2*sigma*sqrt(t)))/2) + erf(sqrt(2)*(sigma*sqrt(t) + (2*Delta + t*(2*mu - sigma**2))/(2*sigma*sqrt(t)))/2))*exp(mu*tau) + erf(sqrt(2)*(Delta - t*(2*mu - sigma**2)/2)/(2*sigma*sqrt(t))) + erf(sqrt(2)*(Delta + t*(2*mu - sigma**2)/2)/(2*sigma*sqrt(t))), (t, 0, tau))/(8*(l + 1 - exp(-Delta/2))**2) + theta*exp(-Delta)*Integral((-erf(sqrt(2)*(sigma*sqrt(t) - (2*Delta - t*(2*mu - sigma**2))/(2*sigma*sqrt(t)))/2) + erf(sqrt(2)*(sigma*sqrt(t) + (2*Delta + t*(2*mu - sigma**2))/(2*sigma*sqrt(t)))/2))*exp(mu*tau) + erf(sqrt(2)*(Delta - t*(2*mu - sigma**2)/2)/(2*sigma*sqrt(t))) + erf(sqrt(2)*(Delta + t*(2*mu - sigma**2)/2)/(2*sigma*sqrt(t))), (t, 0, tau))/(4*(l + 1 - exp(-Delta/2))**3) - ((erf(sqrt(2)*(sigma*sqrt(tau) + (2*Delta + tau*(2*mu - sigma**2))/(2*sigma*sqrt(tau)))/2) - 1)*exp(mu*tau) + erf(sqrt(2)*(Delta - tau*(2*mu - sigma**2)/2)/(2*sigma*sqrt(tau))) - 1)*exp(Delta/2)/8 - ((-erf(sqrt(2)*(sigma*sqrt(tau) - (2*Delta - tau*(2*mu - sigma**2))/(2*sigma*sqrt(tau)))/2) + erf(sqrt(2)*(sigma*sqrt(tau) + (2*Delta + tau*(2*mu - sigma**2))/(2*sigma*sqrt(tau)))/2))*exp(mu*tau) + erf(sqrt(2)*(Delta - tau*(2*mu - sigma**2)/2)/(2*sigma*sqrt(tau))) + erf(sqrt(2)*(Delta + tau*(2*mu - sigma**2)/2)/(2*sigma*sqrt(tau))))*exp(-Delta/2)/(8*(1 - exp(-Delta/2))) + (-erf(sqrt(2)*(sigma*sqrt(tau) - (2*Delta - tau*(2*mu - sigma**2))/(sigma*sqrt(tau)))/4) + erf(sqrt(2)*(sigma*sqrt(tau) + (2*Delta + tau*(2*mu - sigma**2))/(sigma*sqrt(tau)))/4))*exp(-Delta/2)*exp(tau*(mu - sigma**2/4)/2)/(4*(1 - exp(-Delta/2))**2) - 3*((-erf(sqrt(2)*(sigma*sqrt(tau) - (2*Delta - tau*(2*mu - sigma**2))/(2*sigma*sqrt(tau)))/2) + erf(sqrt(2)*(sigma*sqrt(tau) + (2*Delta + tau*(2*mu - sigma**2))/(2*sigma*sqrt(tau)))/2))*exp(mu*tau) + erf(sqrt(2)*(Delta - tau*(2*mu - sigma**2)/2)/(2*sigma*sqrt(tau))) + erf(sqrt(2)*(Delta + tau*(2*mu - sigma**2)/2)/(2*sigma*sqrt(tau))))*exp(-Delta)/(8*(1 - exp(-Delta/2))**2) + (-erf(sqrt(2)*(sigma*sqrt(tau) - (2*Delta - tau*(2*mu - sigma**2))/(sigma*sqrt(tau)))/4) + erf(sqrt(2)*(sigma*sqrt(tau) + (2*Delta + tau*(2*mu - sigma**2))/(sigma*sqrt(tau)))/4))*exp(-Delta)*exp(tau*(mu - sigma**2/4)/2)/(2*(1 - exp(-Delta/2))**3) - ((-erf(sqrt(2)*(sigma*sqrt(tau) - (2*Delta - tau*(2*mu - sigma**2))/(2*sigma*sqrt(tau)))/2) + erf(sqrt(2)*(sigma*sqrt(tau) + (2*Delta + tau*(2*mu - sigma**2))/(2*sigma*sqrt(tau)))/2))*exp(mu*tau) + erf(sqrt(2)*(Delta - tau*(2*mu - sigma**2)/2)/(2*sigma*sqrt(tau))) + erf(sqrt(2)*(Delta + tau*(2*mu - sigma**2)/2)/(2*sigma*sqrt(tau))))*exp(-3*Delta/2)/(4*(1 - exp(-Delta/2))**3) - sqrt(2)*theta*exp(-Delta/2)*Integral(((exp(-(sigma*sqrt(t) + (2*Delta + t*(2*mu - sigma**2))/(2*sigma*sqrt(t)))**2/2) + exp(-(sigma*sqrt(t) - (2*Delta - t*(2*mu - sigma**2))/(2*sigma*sqrt(t)))**2/2))*exp(mu*tau) + exp(-(Delta + t*(2*mu - sigma**2)/2)**2/(2*sigma**2*t)) + exp(-(Delta - t*(2*mu - sigma**2)/2)**2/(2*sigma**2*t)))/sqrt(t), (t, 0, tau))/(2*sqrt(pi)*sigma*(l + 1 - exp(-Delta/2))**2) - sqrt(2)*(exp(mu*tau)*exp(-(sigma*sqrt(tau) + (2*Delta + tau*(2*mu - sigma**2))/(2*sigma*sqrt(tau)))**2/2) + exp(-(Delta - tau*(2*mu - sigma**2)/2)**2/(2*sigma**2*tau)))*exp(Delta/2)/(2*sqrt(pi)*sigma*sqrt(tau)) + sqrt(2)*((exp(-(sigma*sqrt(tau) + (2*Delta + tau*(2*mu - sigma**2))/(2*sigma*sqrt(tau)))**2/2) + exp(-(sigma*sqrt(tau) - (2*Delta - tau*(2*mu - sigma**2))/(2*sigma*sqrt(tau)))**2/2))*exp(mu*tau) + exp(-(Delta + tau*(2*mu - sigma**2)/2)**2/(2*sigma**2*tau)) + exp(-(Delta - tau*(2*mu - sigma**2)/2)**2/(2*sigma**2*tau)))*exp(-Delta/2)/(2*sqrt(pi)*sigma*sqrt(tau)*(1 - exp(-Delta/2))) - sqrt(2)*(exp(-(sigma*sqrt(tau) + (2*Delta + tau*(2*mu - sigma**2))/(sigma*sqrt(tau)))**2/8) + exp(-(sigma*sqrt(tau) - (2*Delta - tau*(2*mu - sigma**2))/(sigma*sqrt(tau)))**2/8))*exp(-Delta/2)*exp(tau*(mu - sigma**2/4)/2)/(sqrt(pi)*sigma*sqrt(tau)*(1 - exp(-Delta/2))**2) + sqrt(2)*((exp(-(sigma*sqrt(tau) + (2*Delta + tau*(2*mu - sigma**2))/(2*sigma*sqrt(tau)))**2/2) + exp(-(sigma*sqrt(tau) - (2*Delta - tau*(2*mu - sigma**2))/(2*sigma*sqrt(tau)))**2/2))*exp(mu*tau) + exp(-(Delta + tau*(2*mu - sigma**2)/2)**2/(2*sigma**2*tau)) + exp(-(Delta - tau*(2*mu - sigma**2)/2)**2/(2*sigma**2*tau)))*exp(-Delta)/(2*sqrt(pi)*sigma*sqrt(tau)*(1 - exp(-Delta/2))**2) + sqrt(2)*theta*Integral(((2*sigma*sqrt(t) - (2*Delta - t*(2*mu - sigma**2))/(sigma*sqrt(t)))*exp(-(sigma*sqrt(t) - (2*Delta - t*(2*mu - sigma**2))/(2*sigma*sqrt(t)))**2/2) - (2*sigma*sqrt(t) + (2*Delta + t*(2*mu - sigma**2))/(sigma*sqrt(t)))*exp(-(sigma*sqrt(t) + (2*Delta + t*(2*mu - sigma**2))/(2*sigma*sqrt(t)))**2/2))*exp(mu*tau)/t - (2*Delta - t*(2*mu - sigma**2))*exp(-(Delta - t*(2*mu - sigma**2)/2)**2/(2*sigma**2*t))/(sigma*t**(3/2)) - (2*Delta + t*(2*mu - sigma**2))*exp(-(Delta + t*(2*mu - sigma**2)/2)**2/(2*sigma**2*t))/(sigma*t**(3/2)), (t, 0, tau))/(4*sqrt(pi)*sigma**2*(l + 1 - exp(-Delta/2))) + sqrt(2)*((2*sigma*sqrt(tau) + (2*Delta + tau*(2*mu - sigma**2))/(sigma*sqrt(tau)))*exp(mu*tau)*exp(-(sigma*sqrt(tau) + (2*Delta + tau*(2*mu - sigma**2))/(2*sigma*sqrt(tau)))**2/2)/tau + (2*Delta - tau*(2*mu - sigma**2))*exp(-(Delta - tau*(2*mu - sigma**2)/2)**2/(2*sigma**2*tau))/(sigma*tau**(3/2)))*(exp(Delta/2) + 1)/(4*sqrt(pi)*sigma**2) + sqrt(2)*((-(2*sigma*sqrt(tau) - (2*Delta - tau*(2*mu - sigma**2))/(sigma*sqrt(tau)))*exp(-(sigma*sqrt(tau) - (2*Delta - tau*(2*mu - sigma**2))/(2*sigma*sqrt(tau)))**2/2) + (2*sigma*sqrt(tau) + (2*Delta + tau*(2*mu - sigma**2))/(sigma*sqrt(tau)))*exp(-(sigma*sqrt(tau) + (2*Delta + tau*(2*mu - sigma**2))/(2*sigma*sqrt(tau)))**2/2))*exp(mu*tau)/tau + (2*Delta - tau*(2*mu - sigma**2))*exp(-(Delta - tau*(2*mu - sigma**2)/2)**2/(2*sigma**2*tau))/(sigma*tau**(3/2)) + (2*Delta + tau*(2*mu - sigma**2))*exp(-(Delta + tau*(2*mu - sigma**2)/2)**2/(2*sigma**2*tau))/(sigma*tau**(3/2)))*exp(-Delta/2)/(4*sqrt(pi)*sigma**2*(1 - exp(-Delta/2))) - sqrt(2)*(-(sigma*sqrt(tau) - (2*Delta - tau*(2*mu - sigma**2))/(sigma*sqrt(tau)))*exp(-(sigma*sqrt(tau) - (2*Delta - tau*(2*mu - sigma**2))/(sigma*sqrt(tau)))**2/8) + (sigma*sqrt(tau) + (2*Delta + tau*(2*mu - sigma**2))/(sigma*sqrt(tau)))*exp(-(sigma*sqrt(tau) + (2*Delta + tau*(2*mu - sigma**2))/(sigma*sqrt(tau)))**2/8))*exp(tau*(mu - sigma**2/4)/2)/(2*sqrt(pi)*sigma**2*tau*(1 - exp(-Delta/2)))"
      ]
     },
     "execution_count": 38,
     "metadata": {},
     "output_type": "execute_result"
    }
   ],
   "source": [
    "diff(v_bar, delta, 2)"
   ]
  },
  {
   "cell_type": "code",
   "execution_count": 39,
   "id": "00389335-833f-42db-b6fb-987029ffe0f2",
   "metadata": {},
   "outputs": [
    {
     "data": {
      "text/latex": [
       "$\\displaystyle \\frac{\\theta \\int\\limits_{0}^{\\tau} \\left(- \\left(\\operatorname{erf}{\\left(\\frac{\\sqrt{2} \\left(\\sigma \\sqrt{t} - \\frac{2 \\Delta - t \\left(2 \\mu - \\sigma^{2}\\right)}{2 \\sigma \\sqrt{t}}\\right)}{2} \\right)} - \\operatorname{erf}{\\left(\\frac{\\sqrt{2} \\left(\\sigma \\sqrt{t} + \\frac{2 \\Delta + t \\left(2 \\mu - \\sigma^{2}\\right)}{2 \\sigma \\sqrt{t}}\\right)}{2} \\right)}\\right) e^{\\mu \\tau} + \\operatorname{erf}{\\left(\\frac{\\sqrt{2} \\left(\\Delta - \\frac{t \\left(2 \\mu - \\sigma^{2}\\right)}{2}\\right)}{2 \\sigma \\sqrt{t}} \\right)} + \\operatorname{erf}{\\left(\\frac{\\sqrt{2} \\left(\\Delta + \\frac{t \\left(2 \\mu - \\sigma^{2}\\right)}{2}\\right)}{2 \\sigma \\sqrt{t}} \\right)}\\right)\\, dt}{\\left(l + 1 - e^{- \\frac{\\Delta}{2}}\\right)^{3}}$"
      ],
      "text/plain": [
       "theta*Integral(-(erf(sqrt(2)*(sigma*sqrt(t) - (2*Delta - t*(2*mu - sigma**2))/(2*sigma*sqrt(t)))/2) - erf(sqrt(2)*(sigma*sqrt(t) + (2*Delta + t*(2*mu - sigma**2))/(2*sigma*sqrt(t)))/2))*exp(mu*tau) + erf(sqrt(2)*(Delta - t*(2*mu - sigma**2)/2)/(2*sigma*sqrt(t))) + erf(sqrt(2)*(Delta + t*(2*mu - sigma**2)/2)/(2*sigma*sqrt(t))), (t, 0, tau))/(l + 1 - exp(-Delta/2))**3"
      ]
     },
     "execution_count": 39,
     "metadata": {},
     "output_type": "execute_result"
    }
   ],
   "source": [
    "diff(v_bar, l, 2)"
   ]
  },
  {
   "cell_type": "code",
   "execution_count": 40,
   "id": "67b62434-5f59-489b-bc7c-db36ef1c2c57",
   "metadata": {},
   "outputs": [
    {
     "data": {
      "text/latex": [
       "$\\displaystyle - \\frac{\\theta \\int\\limits_{0}^{\\tau} \\left(\\left(\\frac{\\sqrt{2} e^{- \\frac{\\left(- \\sigma \\sqrt{t} + \\frac{\\Delta - t \\left(\\mu - \\frac{\\sigma^{2}}{2}\\right)}{\\sigma \\sqrt{t}}\\right)^{2}}{2}}}{2 \\sqrt{\\pi} \\sigma \\sqrt{t}} + \\frac{\\sqrt{2} e^{- \\frac{\\left(- \\sigma \\sqrt{t} + \\frac{- \\Delta - t \\left(\\mu - \\frac{\\sigma^{2}}{2}\\right)}{\\sigma \\sqrt{t}}\\right)^{2}}{2}}}{2 \\sqrt{\\pi} \\sigma \\sqrt{t}}\\right) e^{\\mu \\tau} + \\frac{\\sqrt{2} e^{- \\frac{\\left(\\Delta - t \\left(\\mu - \\frac{\\sigma^{2}}{2}\\right)\\right)^{2}}{2 \\sigma^{2} t}}}{2 \\sqrt{\\pi} \\sigma \\sqrt{t}} + \\frac{\\sqrt{2} e^{- \\frac{\\left(- \\Delta - t \\left(\\mu - \\frac{\\sigma^{2}}{2}\\right)\\right)^{2}}{2 \\sigma^{2} t}}}{2 \\sqrt{\\pi} \\sigma \\sqrt{t}}\\right)\\, dt}{\\left(l + 1 - e^{- \\frac{\\Delta}{2}}\\right)^{2}} + \\frac{\\theta e^{- \\frac{\\Delta}{2}} \\int\\limits_{0}^{\\tau} \\left(\\left(- \\frac{\\operatorname{erf}{\\left(\\frac{\\sqrt{2} \\left(- \\sigma \\sqrt{t} + \\frac{- \\Delta - t \\left(\\mu - \\frac{\\sigma^{2}}{2}\\right)}{\\sigma \\sqrt{t}}\\right)}{2} \\right)}}{2} + \\frac{\\operatorname{erf}{\\left(\\frac{\\sqrt{2} \\left(- \\sigma \\sqrt{t} + \\frac{\\Delta - t \\left(\\mu - \\frac{\\sigma^{2}}{2}\\right)}{\\sigma \\sqrt{t}}\\right)}{2} \\right)}}{2}\\right) e^{\\mu \\tau} - \\frac{\\operatorname{erf}{\\left(\\frac{\\sqrt{2} \\left(- \\Delta - t \\left(\\mu - \\frac{\\sigma^{2}}{2}\\right)\\right)}{2 \\sigma \\sqrt{t}} \\right)}}{2} + \\frac{\\operatorname{erf}{\\left(\\frac{\\sqrt{2} \\left(\\Delta - t \\left(\\mu - \\frac{\\sigma^{2}}{2}\\right)\\right)}{2 \\sigma \\sqrt{t}} \\right)}}{2}\\right)\\, dt}{\\left(l + 1 - e^{- \\frac{\\Delta}{2}}\\right)^{3}} - \\frac{\\left(\\left(\\frac{1}{2} - \\frac{\\operatorname{erf}{\\left(\\frac{\\sqrt{2} \\left(\\frac{\\sigma \\sqrt{\\tau}}{2} + \\frac{\\Delta - \\tau \\left(\\mu - \\frac{\\sigma^{2}}{2}\\right)}{\\sigma \\sqrt{\\tau}}\\right)}{2} \\right)}}{2}\\right) e^{- \\mu \\tau} + \\left(\\frac{\\operatorname{erf}{\\left(\\frac{\\sqrt{2} \\left(- \\frac{3 \\sigma \\sqrt{\\tau}}{2} + \\frac{- \\Delta - \\tau \\left(\\mu - \\frac{\\sigma^{2}}{2}\\right)}{\\sigma \\sqrt{\\tau}}\\right)}{2} \\right)}}{2} + \\frac{1}{2}\\right) e^{\\mu \\tau}\\right) \\left(e^{\\frac{\\Delta}{2}} + 1\\right) e^{\\frac{\\Delta}{2}} e^{\\frac{\\tau \\left(\\mu + \\frac{3 \\sigma^{2}}{4}\\right)}{2}}}{4} - \\frac{\\left(\\left(\\frac{\\sqrt{2} e^{- \\frac{\\left(- \\frac{3 \\sigma \\sqrt{\\tau}}{2} + \\frac{\\Delta - \\tau \\left(\\mu - \\frac{\\sigma^{2}}{2}\\right)}{\\sigma \\sqrt{\\tau}}\\right)^{2}}{2}}}{2 \\sqrt{\\pi} \\sigma \\sqrt{\\tau}} + \\frac{\\sqrt{2} e^{- \\frac{\\left(- \\frac{3 \\sigma \\sqrt{\\tau}}{2} + \\frac{- \\Delta - \\tau \\left(\\mu - \\frac{\\sigma^{2}}{2}\\right)}{\\sigma \\sqrt{\\tau}}\\right)^{2}}{2}}}{2 \\sqrt{\\pi} \\sigma \\sqrt{\\tau}}\\right) e^{\\mu \\tau} + \\left(\\frac{\\sqrt{2} e^{- \\frac{\\left(\\frac{\\sigma \\sqrt{\\tau}}{2} + \\frac{\\Delta - \\tau \\left(\\mu - \\frac{\\sigma^{2}}{2}\\right)}{\\sigma \\sqrt{\\tau}}\\right)^{2}}{2}}}{2 \\sqrt{\\pi} \\sigma \\sqrt{\\tau}} + \\frac{\\sqrt{2} e^{- \\frac{\\left(\\frac{\\sigma \\sqrt{\\tau}}{2} + \\frac{- \\Delta - \\tau \\left(\\mu - \\frac{\\sigma^{2}}{2}\\right)}{\\sigma \\sqrt{\\tau}}\\right)^{2}}{2}}}{2 \\sqrt{\\pi} \\sigma \\sqrt{\\tau}}\\right) e^{- \\mu \\tau}\\right) e^{\\frac{\\tau \\left(\\mu + \\frac{3 \\sigma^{2}}{4}\\right)}{2}}}{4 \\left(e^{\\frac{\\Delta}{2}} - 1\\right)^{2}} + \\frac{\\left(\\left(- \\frac{\\operatorname{erf}{\\left(\\frac{\\sqrt{2} \\left(- \\frac{3 \\sigma \\sqrt{\\tau}}{2} + \\frac{- \\Delta - \\tau \\left(\\mu - \\frac{\\sigma^{2}}{2}\\right)}{\\sigma \\sqrt{\\tau}}\\right)}{2} \\right)}}{2} + \\frac{\\operatorname{erf}{\\left(\\frac{\\sqrt{2} \\left(- \\frac{3 \\sigma \\sqrt{\\tau}}{2} + \\frac{\\Delta - \\tau \\left(\\mu - \\frac{\\sigma^{2}}{2}\\right)}{\\sigma \\sqrt{\\tau}}\\right)}{2} \\right)}}{2}\\right) e^{\\mu \\tau} + \\left(- \\frac{\\operatorname{erf}{\\left(\\frac{\\sqrt{2} \\left(\\frac{\\sigma \\sqrt{\\tau}}{2} + \\frac{- \\Delta - \\tau \\left(\\mu - \\frac{\\sigma^{2}}{2}\\right)}{\\sigma \\sqrt{\\tau}}\\right)}{2} \\right)}}{2} + \\frac{\\operatorname{erf}{\\left(\\frac{\\sqrt{2} \\left(\\frac{\\sigma \\sqrt{\\tau}}{2} + \\frac{\\Delta - \\tau \\left(\\mu - \\frac{\\sigma^{2}}{2}\\right)}{\\sigma \\sqrt{\\tau}}\\right)}{2} \\right)}}{2}\\right) e^{- \\mu \\tau}\\right) e^{\\frac{\\Delta}{2}} e^{\\frac{\\tau \\left(\\mu + \\frac{3 \\sigma^{2}}{4}\\right)}{2}}}{4 \\left(e^{\\frac{\\Delta}{2}} - 1\\right)^{3}} + \\frac{\\left(\\frac{\\sqrt{2} e^{- \\frac{\\left(- \\frac{\\sigma \\sqrt{\\tau}}{2} + \\frac{\\Delta - \\tau \\left(\\mu - \\frac{\\sigma^{2}}{2}\\right)}{\\sigma \\sqrt{\\tau}}\\right)^{2}}{2}}}{2 \\sqrt{\\pi} \\sigma \\sqrt{\\tau}} + \\frac{\\sqrt{2} e^{- \\frac{\\left(- \\frac{\\sigma \\sqrt{\\tau}}{2} + \\frac{- \\Delta - \\tau \\left(\\mu - \\frac{\\sigma^{2}}{2}\\right)}{\\sigma \\sqrt{\\tau}}\\right)^{2}}{2}}}{2 \\sqrt{\\pi} \\sigma \\sqrt{\\tau}}\\right) e^{- \\frac{\\sigma^{2} \\tau}{2}} e^{\\frac{\\tau \\left(\\mu + \\frac{3 \\sigma^{2}}{4}\\right)}{2}}}{2 \\left(e^{\\frac{\\Delta}{2}} - 1\\right)^{2}} - \\frac{\\left(- \\frac{\\sqrt{2} e^{\\mu \\tau} e^{- \\frac{\\left(- \\frac{3 \\sigma \\sqrt{\\tau}}{2} + \\frac{- \\Delta - \\tau \\left(\\mu - \\frac{\\sigma^{2}}{2}\\right)}{\\sigma \\sqrt{\\tau}}\\right)^{2}}{2}}}{2 \\sqrt{\\pi} \\sigma \\sqrt{\\tau}} - \\frac{\\sqrt{2} e^{- \\mu \\tau} e^{- \\frac{\\left(\\frac{\\sigma \\sqrt{\\tau}}{2} + \\frac{\\Delta - \\tau \\left(\\mu - \\frac{\\sigma^{2}}{2}\\right)}{\\sigma \\sqrt{\\tau}}\\right)^{2}}{2}}}{2 \\sqrt{\\pi} \\sigma \\sqrt{\\tau}}\\right) \\left(e^{\\frac{\\Delta}{2}} + 1\\right)^{2} e^{\\frac{\\tau \\left(\\mu + \\frac{3 \\sigma^{2}}{4}\\right)}{2}}}{4} - \\frac{\\left(- \\frac{\\operatorname{erf}{\\left(\\frac{\\sqrt{2} \\left(- \\frac{\\sigma \\sqrt{\\tau}}{2} + \\frac{- \\Delta - \\tau \\left(\\mu - \\frac{\\sigma^{2}}{2}\\right)}{\\sigma \\sqrt{\\tau}}\\right)}{2} \\right)}}{2} + \\frac{\\operatorname{erf}{\\left(\\frac{\\sqrt{2} \\left(- \\frac{\\sigma \\sqrt{\\tau}}{2} + \\frac{\\Delta - \\tau \\left(\\mu - \\frac{\\sigma^{2}}{2}\\right)}{\\sigma \\sqrt{\\tau}}\\right)}{2} \\right)}}{2}\\right) e^{\\frac{\\Delta}{2}} e^{- \\frac{\\sigma^{2} \\tau}{2}} e^{\\frac{\\tau \\left(\\mu + \\frac{3 \\sigma^{2}}{4}\\right)}{2}}}{2 \\left(e^{\\frac{\\Delta}{2}} - 1\\right)^{3}}$"
      ],
      "text/plain": [
       "-theta*Integral((sqrt(2)*exp(-(-sigma*sqrt(t) + (Delta - t*(mu - sigma**2/2))/(sigma*sqrt(t)))**2/2)/(2*sqrt(pi)*sigma*sqrt(t)) + sqrt(2)*exp(-(-sigma*sqrt(t) + (-Delta - t*(mu - sigma**2/2))/(sigma*sqrt(t)))**2/2)/(2*sqrt(pi)*sigma*sqrt(t)))*exp(mu*tau) + sqrt(2)*exp(-(Delta - t*(mu - sigma**2/2))**2/(2*sigma**2*t))/(2*sqrt(pi)*sigma*sqrt(t)) + sqrt(2)*exp(-(-Delta - t*(mu - sigma**2/2))**2/(2*sigma**2*t))/(2*sqrt(pi)*sigma*sqrt(t)), (t, 0, tau))/(l + 1 - exp(-Delta/2))**2 + theta*exp(-Delta/2)*Integral((-erf(sqrt(2)*(-sigma*sqrt(t) + (-Delta - t*(mu - sigma**2/2))/(sigma*sqrt(t)))/2)/2 + erf(sqrt(2)*(-sigma*sqrt(t) + (Delta - t*(mu - sigma**2/2))/(sigma*sqrt(t)))/2)/2)*exp(mu*tau) - erf(sqrt(2)*(-Delta - t*(mu - sigma**2/2))/(2*sigma*sqrt(t)))/2 + erf(sqrt(2)*(Delta - t*(mu - sigma**2/2))/(2*sigma*sqrt(t)))/2, (t, 0, tau))/(l + 1 - exp(-Delta/2))**3 - ((1/2 - erf(sqrt(2)*(sigma*sqrt(tau)/2 + (Delta - tau*(mu - sigma**2/2))/(sigma*sqrt(tau)))/2)/2)*exp(-mu*tau) + (erf(sqrt(2)*(-3*sigma*sqrt(tau)/2 + (-Delta - tau*(mu - sigma**2/2))/(sigma*sqrt(tau)))/2)/2 + 1/2)*exp(mu*tau))*(exp(Delta/2) + 1)*exp(Delta/2)*exp(tau*(mu + 3*sigma**2/4)/2)/4 - ((sqrt(2)*exp(-(-3*sigma*sqrt(tau)/2 + (Delta - tau*(mu - sigma**2/2))/(sigma*sqrt(tau)))**2/2)/(2*sqrt(pi)*sigma*sqrt(tau)) + sqrt(2)*exp(-(-3*sigma*sqrt(tau)/2 + (-Delta - tau*(mu - sigma**2/2))/(sigma*sqrt(tau)))**2/2)/(2*sqrt(pi)*sigma*sqrt(tau)))*exp(mu*tau) + (sqrt(2)*exp(-(sigma*sqrt(tau)/2 + (Delta - tau*(mu - sigma**2/2))/(sigma*sqrt(tau)))**2/2)/(2*sqrt(pi)*sigma*sqrt(tau)) + sqrt(2)*exp(-(sigma*sqrt(tau)/2 + (-Delta - tau*(mu - sigma**2/2))/(sigma*sqrt(tau)))**2/2)/(2*sqrt(pi)*sigma*sqrt(tau)))*exp(-mu*tau))*exp(tau*(mu + 3*sigma**2/4)/2)/(4*(exp(Delta/2) - 1)**2) + ((-erf(sqrt(2)*(-3*sigma*sqrt(tau)/2 + (-Delta - tau*(mu - sigma**2/2))/(sigma*sqrt(tau)))/2)/2 + erf(sqrt(2)*(-3*sigma*sqrt(tau)/2 + (Delta - tau*(mu - sigma**2/2))/(sigma*sqrt(tau)))/2)/2)*exp(mu*tau) + (-erf(sqrt(2)*(sigma*sqrt(tau)/2 + (-Delta - tau*(mu - sigma**2/2))/(sigma*sqrt(tau)))/2)/2 + erf(sqrt(2)*(sigma*sqrt(tau)/2 + (Delta - tau*(mu - sigma**2/2))/(sigma*sqrt(tau)))/2)/2)*exp(-mu*tau))*exp(Delta/2)*exp(tau*(mu + 3*sigma**2/4)/2)/(4*(exp(Delta/2) - 1)**3) + (sqrt(2)*exp(-(-sigma*sqrt(tau)/2 + (Delta - tau*(mu - sigma**2/2))/(sigma*sqrt(tau)))**2/2)/(2*sqrt(pi)*sigma*sqrt(tau)) + sqrt(2)*exp(-(-sigma*sqrt(tau)/2 + (-Delta - tau*(mu - sigma**2/2))/(sigma*sqrt(tau)))**2/2)/(2*sqrt(pi)*sigma*sqrt(tau)))*exp(-sigma**2*tau/2)*exp(tau*(mu + 3*sigma**2/4)/2)/(2*(exp(Delta/2) - 1)**2) - (-sqrt(2)*exp(mu*tau)*exp(-(-3*sigma*sqrt(tau)/2 + (-Delta - tau*(mu - sigma**2/2))/(sigma*sqrt(tau)))**2/2)/(2*sqrt(pi)*sigma*sqrt(tau)) - sqrt(2)*exp(-mu*tau)*exp(-(sigma*sqrt(tau)/2 + (Delta - tau*(mu - sigma**2/2))/(sigma*sqrt(tau)))**2/2)/(2*sqrt(pi)*sigma*sqrt(tau)))*(exp(Delta/2) + 1)**2*exp(tau*(mu + 3*sigma**2/4)/2)/4 - (-erf(sqrt(2)*(-sigma*sqrt(tau)/2 + (-Delta - tau*(mu - sigma**2/2))/(sigma*sqrt(tau)))/2)/2 + erf(sqrt(2)*(-sigma*sqrt(tau)/2 + (Delta - tau*(mu - sigma**2/2))/(sigma*sqrt(tau)))/2)/2)*exp(Delta/2)*exp(-sigma**2*tau/2)*exp(tau*(mu + 3*sigma**2/4)/2)/(2*(exp(Delta/2) - 1)**3)"
      ]
     },
     "execution_count": 40,
     "metadata": {},
     "output_type": "execute_result"
    }
   ],
   "source": [
    "diff(diff(v_bar, delta), l)"
   ]
  },
  {
   "cell_type": "code",
   "execution_count": null,
   "id": "8a954c22-02b3-4180-9994-7e55c715ee72",
   "metadata": {},
   "outputs": [],
   "source": []
  }
 ],
 "metadata": {
  "kernelspec": {
   "display_name": "Python 3 (ipykernel)",
   "language": "python",
   "name": "python3"
  },
  "language_info": {
   "codemirror_mode": {
    "name": "ipython",
    "version": 3
   },
   "file_extension": ".py",
   "mimetype": "text/x-python",
   "name": "python",
   "nbconvert_exporter": "python",
   "pygments_lexer": "ipython3",
   "version": "3.9.6"
  }
 },
 "nbformat": 4,
 "nbformat_minor": 5
}
