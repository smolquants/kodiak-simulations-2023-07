{
 "cells": [
  {
   "cell_type": "code",
   "execution_count": 1,
   "id": "cc6c0ccf-006d-4371-ab38-235ce62eb9c2",
   "metadata": {},
   "outputs": [],
   "source": [
    "from sympy import Function, Symbol, E, Integral, diff, limit, sqrt, simplify, series, pi, oo, erf, cosh, ln\n",
    "from sympy.stats import Normal, cdf"
   ]
  },
  {
   "cell_type": "code",
   "execution_count": 2,
   "id": "7b166fb0-014a-461d-9d88-a6460055df8a",
   "metadata": {},
   "outputs": [],
   "source": [
    "delta = Symbol('Delta', positive=True)\n",
    "l = Symbol('l', positive=True)\n",
    "tau = Symbol('tau', positive=True)\n",
    "theta = Symbol('theta', positive=True)\n",
    "mu = Symbol('mu')\n",
    "sig = Symbol('sigma', positive=True)\n",
    "f = Symbol('f', positive=True)"
   ]
  },
  {
   "cell_type": "code",
   "execution_count": 3,
   "id": "3687774e-d0ee-4309-9071-69353468a2c9",
   "metadata": {},
   "outputs": [
    {
     "data": {
      "text/latex": [
       "$\\displaystyle \\Delta$"
      ],
      "text/plain": [
       "Delta"
      ]
     },
     "execution_count": 3,
     "metadata": {},
     "output_type": "execute_result"
    }
   ],
   "source": [
    "# tick width\n",
    "delta"
   ]
  },
  {
   "cell_type": "code",
   "execution_count": 4,
   "id": "94c715d1-5ec1-4151-aaa6-64c8c4fb7063",
   "metadata": {},
   "outputs": [
    {
     "data": {
      "text/latex": [
       "$\\displaystyle l$"
      ],
      "text/plain": [
       "l"
      ]
     },
     "execution_count": 4,
     "metadata": {},
     "output_type": "execute_result"
    }
   ],
   "source": [
    "# liquidity deployed per unit of external virtual reserves\n",
    "l"
   ]
  },
  {
   "cell_type": "code",
   "execution_count": 5,
   "id": "9a4cb065-20e1-446a-8874-860274b65274",
   "metadata": {},
   "outputs": [
    {
     "data": {
      "text/latex": [
       "$\\displaystyle \\tau$"
      ],
      "text/plain": [
       "tau"
      ]
     },
     "execution_count": 5,
     "metadata": {},
     "output_type": "execute_result"
    }
   ],
   "source": [
    "# rebalancing period\n",
    "tau"
   ]
  },
  {
   "cell_type": "code",
   "execution_count": 6,
   "id": "e6cc5a5f-b58d-4884-91f8-6b85eb241036",
   "metadata": {},
   "outputs": [
    {
     "data": {
      "text/latex": [
       "$\\displaystyle \\theta$"
      ],
      "text/plain": [
       "theta"
      ]
     },
     "execution_count": 6,
     "metadata": {},
     "output_type": "execute_result"
    }
   ],
   "source": [
    "# pool fee volume per unit of external virtual reserves\n",
    "theta"
   ]
  },
  {
   "cell_type": "code",
   "execution_count": 7,
   "id": "c49c0eaa-fab0-4140-a0df-b5a475b6815b",
   "metadata": {},
   "outputs": [
    {
     "data": {
      "text/latex": [
       "$\\displaystyle f$"
      ],
      "text/plain": [
       "f"
      ]
     },
     "execution_count": 7,
     "metadata": {},
     "output_type": "execute_result"
    }
   ],
   "source": [
    "# pool fee rate\n",
    "f"
   ]
  },
  {
   "cell_type": "code",
   "execution_count": 8,
   "id": "3c0b58ee-741d-44a1-b805-24fc23308334",
   "metadata": {},
   "outputs": [
    {
     "data": {
      "text/latex": [
       "$\\displaystyle \\mu$"
      ],
      "text/plain": [
       "mu"
      ]
     },
     "execution_count": 8,
     "metadata": {},
     "output_type": "execute_result"
    }
   ],
   "source": [
    "# log-normal drift\n",
    "mu"
   ]
  },
  {
   "cell_type": "code",
   "execution_count": 9,
   "id": "a9cf5e4f-324b-4519-b12f-7112472e60eb",
   "metadata": {},
   "outputs": [
    {
     "data": {
      "text/latex": [
       "$\\displaystyle \\sigma$"
      ],
      "text/plain": [
       "sigma"
      ]
     },
     "execution_count": 9,
     "metadata": {},
     "output_type": "execute_result"
    }
   ],
   "source": [
    "# log-normal vol\n",
    "sig"
   ]
  },
  {
   "cell_type": "code",
   "execution_count": 10,
   "id": "7f8c8c6f-1837-4826-9910-9b04815e1829",
   "metadata": {},
   "outputs": [
    {
     "data": {
      "text/latex": [
       "$\\displaystyle \\mu - \\frac{\\sigma^{2}}{2}$"
      ],
      "text/plain": [
       "mu - sigma**2/2"
      ]
     },
     "execution_count": 10,
     "metadata": {},
     "output_type": "execute_result"
    }
   ],
   "source": [
    "# log-normal drift adjusted for vol\n",
    "mu_p = mu - sig**2 / 2\n",
    "mu_p"
   ]
  },
  {
   "cell_type": "code",
   "execution_count": 11,
   "id": "cdd0d864-89f6-44f6-b88b-e6f6971be58c",
   "metadata": {},
   "outputs": [
    {
     "data": {
      "text/latex": [
       "$\\displaystyle Z$"
      ],
      "text/plain": [
       "Z"
      ]
     },
     "execution_count": 11,
     "metadata": {},
     "output_type": "execute_result"
    }
   ],
   "source": [
    "# standard normal RV\n",
    "Z = Normal('Z', 0, 1)\n",
    "Z"
   ]
  },
  {
   "cell_type": "code",
   "execution_count": 12,
   "id": "67dc97ed-cefa-421d-b4bd-2e0131dd6c54",
   "metadata": {},
   "outputs": [],
   "source": [
    "# alias standard norm cdf: Phi(z)\n",
    "Phi = cdf(Z)"
   ]
  },
  {
   "cell_type": "code",
   "execution_count": 13,
   "id": "15c5f539-982a-4c7b-8f7d-5101b872530b",
   "metadata": {},
   "outputs": [
    {
     "data": {
      "text/latex": [
       "$\\displaystyle \\frac{\\Delta - \\tau \\left(\\mu - \\frac{\\sigma^{2}}{2}\\right)}{\\sigma \\sqrt{\\tau}}$"
      ],
      "text/plain": [
       "(Delta - tau*(mu - sigma**2/2))/(sigma*sqrt(tau))"
      ]
     },
     "execution_count": 13,
     "metadata": {},
     "output_type": "execute_result"
    }
   ],
   "source": [
    "# \"normalized\" delta (+)\n",
    "d_plus = (delta - mu_p * tau) / (sig * sqrt(tau))\n",
    "d_plus"
   ]
  },
  {
   "cell_type": "code",
   "execution_count": 14,
   "id": "f3d2b7a9-ba34-4e27-a71d-fee34d7c1c87",
   "metadata": {},
   "outputs": [
    {
     "data": {
      "text/latex": [
       "$\\displaystyle \\frac{- \\Delta - \\tau \\left(\\mu - \\frac{\\sigma^{2}}{2}\\right)}{\\sigma \\sqrt{\\tau}}$"
      ],
      "text/plain": [
       "(-Delta - tau*(mu - sigma**2/2))/(sigma*sqrt(tau))"
      ]
     },
     "execution_count": 14,
     "metadata": {},
     "output_type": "execute_result"
    }
   ],
   "source": [
    "# \"normalized\" delta (-)\n",
    "d_minus = (-delta - mu_p * tau) / (sig * sqrt(tau))\n",
    "d_minus"
   ]
  },
  {
   "cell_type": "code",
   "execution_count": 15,
   "id": "55fffbfb-9137-472b-b39a-0ef67feaee1d",
   "metadata": {},
   "outputs": [
    {
     "data": {
      "text/latex": [
       "$\\displaystyle \\frac{\\theta \\int\\limits_{0}^{\\tau} \\left(\\left(- \\frac{\\operatorname{erf}{\\left(\\frac{\\sqrt{2} \\left(- \\sigma \\sqrt{t} + \\frac{- \\Delta - t \\left(\\mu - \\frac{\\sigma^{2}}{2}\\right)}{\\sigma \\sqrt{t}}\\right)}{2} \\right)}}{2} + \\frac{\\operatorname{erf}{\\left(\\frac{\\sqrt{2} \\left(- \\sigma \\sqrt{t} + \\frac{\\Delta - t \\left(\\mu - \\frac{\\sigma^{2}}{2}\\right)}{\\sigma \\sqrt{t}}\\right)}{2} \\right)}}{2}\\right) e^{\\mu \\tau} - \\frac{\\operatorname{erf}{\\left(\\frac{\\sqrt{2} \\left(- \\Delta - t \\left(\\mu - \\frac{\\sigma^{2}}{2}\\right)\\right)}{2 \\sigma \\sqrt{t}} \\right)}}{2} + \\frac{\\operatorname{erf}{\\left(\\frac{\\sqrt{2} \\left(\\Delta - t \\left(\\mu - \\frac{\\sigma^{2}}{2}\\right)\\right)}{2 \\sigma \\sqrt{t}} \\right)}}{2}\\right)\\, dt}{l + 1 - e^{- \\frac{\\Delta}{2}}}$"
      ],
      "text/plain": [
       "theta*Integral((-erf(sqrt(2)*(-sigma*sqrt(t) + (-Delta - t*(mu - sigma**2/2))/(sigma*sqrt(t)))/2)/2 + erf(sqrt(2)*(-sigma*sqrt(t) + (Delta - t*(mu - sigma**2/2))/(sigma*sqrt(t)))/2)/2)*exp(mu*tau) - erf(sqrt(2)*(-Delta - t*(mu - sigma**2/2))/(2*sigma*sqrt(t)))/2 + erf(sqrt(2)*(Delta - t*(mu - sigma**2/2))/(2*sigma*sqrt(t)))/2, (t, 0, tau))/(l + 1 - exp(-Delta/2))"
      ]
     },
     "execution_count": 15,
     "metadata": {},
     "output_type": "execute_result"
    }
   ],
   "source": [
    "# term for fee revenue EV (integral unevaluated)\n",
    "t = Symbol('t')\n",
    "d_plus_t = (delta - mu_p * t) / (sig * sqrt(t))\n",
    "d_minus_t = (-delta - mu_p * t) / (sig * sqrt(t))\n",
    "\n",
    "integrand_fee = Phi(d_plus_t) - Phi(d_minus_t) + E**(mu * tau) * ( Phi(d_plus_t - sig * sqrt(t)) - Phi(d_minus_t - sig * sqrt(t)) )\n",
    "\n",
    "ev_fee = (theta / (1-E**(-delta/2) + l)) * Integral(integrand_fee, (t, 0, tau))\n",
    "ev_fee"
   ]
  },
  {
   "cell_type": "code",
   "execution_count": 16,
   "id": "811f1e03-baae-4316-8660-331b8250ce52",
   "metadata": {},
   "outputs": [],
   "source": [
    "# check evaluated integral from wolfram\n",
    "x = Symbol('x')  # placeholders\n",
    "a = Symbol('a', positive=True)\n",
    "b = Symbol('b')"
   ]
  },
  {
   "cell_type": "code",
   "execution_count": 17,
   "id": "00bef511-933a-42f1-9ff1-166180c489e9",
   "metadata": {},
   "outputs": [],
   "source": [
    "# int dx erf((a-bx)/sqrt(2x))\n",
    "def ev_fee_integral_fn_1a(x, a, b):\n",
    "    return (1/(2*b**2)) * (E**(2*a*b)*erf((a+b*x) / sqrt(2*x)) - E**(2*a*b) + 1 + (2*a*b + 1) * erf((b*x-a)/sqrt(2*x)))"
   ]
  },
  {
   "cell_type": "code",
   "execution_count": 18,
   "id": "3049c17b-f64d-4bbe-9751-f025b39a75ec",
   "metadata": {},
   "outputs": [],
   "source": [
    "def ev_fee_integral_fn_1b(x, a, b):\n",
    "    return x * erf((a-b*x) / sqrt(2*x)) - sqrt(2*x/pi) * (1/b) * E**(-(a-b*x)**2/(2*x))"
   ]
  },
  {
   "cell_type": "code",
   "execution_count": 19,
   "id": "d4129617-6fee-4635-9cb6-733863aa5c47",
   "metadata": {},
   "outputs": [],
   "source": [
    "def ev_fee_integral_fn_1(x, a, b):\n",
    "    return ev_fee_integral_fn_1a(x, a, b) + ev_fee_integral_fn_1b(x, a, b)"
   ]
  },
  {
   "cell_type": "code",
   "execution_count": 20,
   "id": "22b45b44-7dab-47da-8523-e2ff85b406b9",
   "metadata": {},
   "outputs": [
    {
     "data": {
      "text/latex": [
       "$\\displaystyle x \\operatorname{erf}{\\left(\\frac{\\sqrt{2} \\left(a - b x\\right)}{2 \\sqrt{x}} \\right)} - \\frac{\\sqrt{2} \\sqrt{x} e^{- \\frac{\\left(a - b x\\right)^{2}}{2 x}}}{\\sqrt{\\pi} b} + \\frac{\\left(2 a b + 1\\right) \\operatorname{erf}{\\left(\\frac{\\sqrt{2} \\left(- a + b x\\right)}{2 \\sqrt{x}} \\right)} + e^{2 a b} \\operatorname{erf}{\\left(\\frac{\\sqrt{2} \\left(a + b x\\right)}{2 \\sqrt{x}} \\right)} - e^{2 a b} + 1}{2 b^{2}}$"
      ],
      "text/plain": [
       "x*erf(sqrt(2)*(a - b*x)/(2*sqrt(x))) - sqrt(2)*sqrt(x)*exp(-(a - b*x)**2/(2*x))/(sqrt(pi)*b) + ((2*a*b + 1)*erf(sqrt(2)*(-a + b*x)/(2*sqrt(x))) + exp(2*a*b)*erf(sqrt(2)*(a + b*x)/(2*sqrt(x))) - exp(2*a*b) + 1)/(2*b**2)"
      ]
     },
     "execution_count": 20,
     "metadata": {},
     "output_type": "execute_result"
    }
   ],
   "source": [
    "ev_fee_integral_fn_1(x, a, b)"
   ]
  },
  {
   "cell_type": "code",
   "execution_count": 21,
   "id": "759a264f-24cc-48e8-99b1-5ee853ee9fa6",
   "metadata": {},
   "outputs": [
    {
     "data": {
      "text/latex": [
       "$\\displaystyle \\operatorname{erf}{\\left(\\frac{\\sqrt{2} \\left(a - b x\\right)}{2 \\sqrt{x}} \\right)}$"
      ],
      "text/plain": [
       "erf(sqrt(2)*(a - b*x)/(2*sqrt(x)))"
      ]
     },
     "execution_count": 21,
     "metadata": {},
     "output_type": "execute_result"
    }
   ],
   "source": [
    "# checks out for - integral\n",
    "simplify(diff(ev_fee_integral_fn_1(x, a, b), x))"
   ]
  },
  {
   "cell_type": "code",
   "execution_count": 22,
   "id": "2c804a98-6138-4405-9591-e8ad70c3fc81",
   "metadata": {},
   "outputs": [
    {
     "data": {
      "text/latex": [
       "$\\displaystyle - \\frac{a}{b}$"
      ],
      "text/plain": [
       "-a/b"
      ]
     },
     "execution_count": 22,
     "metadata": {},
     "output_type": "execute_result"
    }
   ],
   "source": [
    "limit(ev_fee_integral_fn_1(x, a, b), x, 0)"
   ]
  },
  {
   "cell_type": "code",
   "execution_count": 23,
   "id": "a1fc1aca-8c19-4ec0-851c-43db7ce05618",
   "metadata": {},
   "outputs": [],
   "source": [
    "# int dx erf((a+bx)/sqrt(2x))\n",
    "def ev_fee_integral_fn_2a(x, a, b):\n",
    "    return (1/(2*b**2)) * E**(-2*a*b) * ( -erf((b*x-a)/sqrt(2*x)) + (2*a*b - 1) * (E**(2*a*b) * erf((a+b*x)/sqrt(2*x)) - E**(2*a*b) + 1) )"
   ]
  },
  {
   "cell_type": "code",
   "execution_count": 24,
   "id": "e98a5238-ce42-4a51-acba-759c74c7bb41",
   "metadata": {},
   "outputs": [],
   "source": [
    "def ev_fee_integral_fn_2b(x, a, b):\n",
    "    return x * erf((a+b*x)/sqrt(2*x)) + sqrt(2*x/pi) * (1/b) * E**(-(a+b*x)**2/(2*x))"
   ]
  },
  {
   "cell_type": "code",
   "execution_count": 25,
   "id": "bdd68b47-5464-40f2-9348-7aff9da69619",
   "metadata": {},
   "outputs": [],
   "source": [
    "def ev_fee_integral_fn_2(x, a, b):\n",
    "    return ev_fee_integral_fn_2a(x, a, b) + ev_fee_integral_fn_2b(x, a, b)"
   ]
  },
  {
   "cell_type": "code",
   "execution_count": 26,
   "id": "27cf5c1b-c472-4c8e-a23b-6d63ab751ee6",
   "metadata": {},
   "outputs": [
    {
     "data": {
      "text/latex": [
       "$\\displaystyle x \\operatorname{erf}{\\left(\\frac{\\sqrt{2} \\left(a + b x\\right)}{2 \\sqrt{x}} \\right)} + \\frac{\\sqrt{2} \\sqrt{x} e^{- \\frac{\\left(a + b x\\right)^{2}}{2 x}}}{\\sqrt{\\pi} b} + \\frac{\\left(\\left(2 a b - 1\\right) \\left(e^{2 a b} \\operatorname{erf}{\\left(\\frac{\\sqrt{2} \\left(a + b x\\right)}{2 \\sqrt{x}} \\right)} - e^{2 a b} + 1\\right) - \\operatorname{erf}{\\left(\\frac{\\sqrt{2} \\left(- a + b x\\right)}{2 \\sqrt{x}} \\right)}\\right) e^{- 2 a b}}{2 b^{2}}$"
      ],
      "text/plain": [
       "x*erf(sqrt(2)*(a + b*x)/(2*sqrt(x))) + sqrt(2)*sqrt(x)*exp(-(a + b*x)**2/(2*x))/(sqrt(pi)*b) + ((2*a*b - 1)*(exp(2*a*b)*erf(sqrt(2)*(a + b*x)/(2*sqrt(x))) - exp(2*a*b) + 1) - erf(sqrt(2)*(-a + b*x)/(2*sqrt(x))))*exp(-2*a*b)/(2*b**2)"
      ]
     },
     "execution_count": 26,
     "metadata": {},
     "output_type": "execute_result"
    }
   ],
   "source": [
    "ev_fee_integral_fn_2(x, a, b)"
   ]
  },
  {
   "cell_type": "code",
   "execution_count": 27,
   "id": "308db514-0bc3-424c-b272-29471dde1117",
   "metadata": {},
   "outputs": [
    {
     "data": {
      "text/latex": [
       "$\\displaystyle \\operatorname{erf}{\\left(\\frac{\\sqrt{2} \\left(a + b x\\right)}{2 \\sqrt{x}} \\right)}$"
      ],
      "text/plain": [
       "erf(sqrt(2)*(a + b*x)/(2*sqrt(x)))"
      ]
     },
     "execution_count": 27,
     "metadata": {},
     "output_type": "execute_result"
    }
   ],
   "source": [
    "# checks out for + integral\n",
    "simplify(diff(ev_fee_integral_fn_2(x, a, b), x))"
   ]
  },
  {
   "cell_type": "code",
   "execution_count": 28,
   "id": "5471a75e-82af-4ab6-bb98-7d3fdc9716a9",
   "metadata": {},
   "outputs": [
    {
     "data": {
      "text/latex": [
       "$\\displaystyle \\frac{a e^{- 2 a b}}{b}$"
      ],
      "text/plain": [
       "a*exp(-2*a*b)/b"
      ]
     },
     "execution_count": 28,
     "metadata": {},
     "output_type": "execute_result"
    }
   ],
   "source": [
    "limit(ev_fee_integral_fn_2(x, a, b), x, 0)"
   ]
  },
  {
   "cell_type": "code",
   "execution_count": 29,
   "id": "2148215a-f1fe-425f-ba53-b1daf2269211",
   "metadata": {},
   "outputs": [],
   "source": [
    "def ev_fee_integral_fn(x, a, b):\n",
    "    return ev_fee_integral_fn_1(x, a, b) / 2 + ev_fee_integral_fn_2(x, a, b) / 2"
   ]
  },
  {
   "cell_type": "code",
   "execution_count": 30,
   "id": "da72c421-9302-4161-b5e7-efe954cc35b3",
   "metadata": {},
   "outputs": [
    {
     "data": {
      "text/latex": [
       "$\\displaystyle \\frac{\\operatorname{erf}{\\left(\\frac{\\sqrt{2} \\left(a - b x\\right)}{2 \\sqrt{x}} \\right)}}{2} + \\frac{\\operatorname{erf}{\\left(\\frac{\\sqrt{2} \\left(a + b x\\right)}{2 \\sqrt{x}} \\right)}}{2}$"
      ],
      "text/plain": [
       "erf(sqrt(2)*(a - b*x)/(2*sqrt(x)))/2 + erf(sqrt(2)*(a + b*x)/(2*sqrt(x)))/2"
      ]
     },
     "execution_count": 30,
     "metadata": {},
     "output_type": "execute_result"
    }
   ],
   "source": [
    "simplify(diff(ev_fee_integral_fn(x, a, b), x))"
   ]
  },
  {
   "cell_type": "code",
   "execution_count": 31,
   "id": "f7cef0ba-34e3-415a-ae8e-dbf092f4fc8c",
   "metadata": {},
   "outputs": [
    {
     "data": {
      "text/latex": [
       "$\\displaystyle \\frac{\\theta \\left(\\frac{\\sigma^{2} \\left(\\left(\\frac{2 \\Delta \\left(\\mu - \\frac{\\sigma^{2}}{2}\\right)}{\\sigma^{2}} - 1\\right) \\left(e^{\\frac{2 \\Delta \\left(\\mu - \\frac{\\sigma^{2}}{2}\\right)}{\\sigma^{2}}} \\operatorname{erf}{\\left(\\frac{\\sqrt{2} \\left(\\frac{\\Delta}{\\sigma} + \\frac{\\tau \\left(\\mu - \\frac{\\sigma^{2}}{2}\\right)}{\\sigma}\\right)}{2 \\sqrt{\\tau}} \\right)} - e^{\\frac{2 \\Delta \\left(\\mu - \\frac{\\sigma^{2}}{2}\\right)}{\\sigma^{2}}} + 1\\right) - \\operatorname{erf}{\\left(\\frac{\\sqrt{2} \\left(- \\frac{\\Delta}{\\sigma} + \\frac{\\tau \\left(\\mu - \\frac{\\sigma^{2}}{2}\\right)}{\\sigma}\\right)}{2 \\sqrt{\\tau}} \\right)}\\right) e^{- \\frac{2 \\Delta \\left(\\mu - \\frac{\\sigma^{2}}{2}\\right)}{\\sigma^{2}}}}{4 \\left(\\mu - \\frac{\\sigma^{2}}{2}\\right)^{2}} + \\frac{\\sigma^{2} \\left(\\left(\\frac{2 \\Delta \\left(\\mu - \\frac{\\sigma^{2}}{2}\\right)}{\\sigma^{2}} + 1\\right) \\operatorname{erf}{\\left(\\frac{\\sqrt{2} \\left(- \\frac{\\Delta}{\\sigma} + \\frac{\\tau \\left(\\mu - \\frac{\\sigma^{2}}{2}\\right)}{\\sigma}\\right)}{2 \\sqrt{\\tau}} \\right)} + e^{\\frac{2 \\Delta \\left(\\mu - \\frac{\\sigma^{2}}{2}\\right)}{\\sigma^{2}}} \\operatorname{erf}{\\left(\\frac{\\sqrt{2} \\left(\\frac{\\Delta}{\\sigma} + \\frac{\\tau \\left(\\mu - \\frac{\\sigma^{2}}{2}\\right)}{\\sigma}\\right)}{2 \\sqrt{\\tau}} \\right)} - e^{\\frac{2 \\Delta \\left(\\mu - \\frac{\\sigma^{2}}{2}\\right)}{\\sigma^{2}}} + 1\\right)}{4 \\left(\\mu - \\frac{\\sigma^{2}}{2}\\right)^{2}} + \\frac{\\sqrt{2} \\sigma \\sqrt{\\tau} e^{- \\frac{\\left(\\frac{\\Delta}{\\sigma} + \\frac{\\tau \\left(\\mu - \\frac{\\sigma^{2}}{2}\\right)}{\\sigma}\\right)^{2}}{2 \\tau}}}{2 \\sqrt{\\pi} \\left(\\mu - \\frac{\\sigma^{2}}{2}\\right)} - \\frac{\\sqrt{2} \\sigma \\sqrt{\\tau} e^{- \\frac{\\left(\\frac{\\Delta}{\\sigma} - \\frac{\\tau \\left(\\mu - \\frac{\\sigma^{2}}{2}\\right)}{\\sigma}\\right)^{2}}{2 \\tau}}}{2 \\sqrt{\\pi} \\left(\\mu - \\frac{\\sigma^{2}}{2}\\right)} + \\frac{\\tau \\operatorname{erf}{\\left(\\frac{\\sqrt{2} \\left(\\frac{\\Delta}{\\sigma} - \\frac{\\tau \\left(\\mu - \\frac{\\sigma^{2}}{2}\\right)}{\\sigma}\\right)}{2 \\sqrt{\\tau}} \\right)}}{2} + \\frac{\\tau \\operatorname{erf}{\\left(\\frac{\\sqrt{2} \\left(\\frac{\\Delta}{\\sigma} + \\frac{\\tau \\left(\\mu - \\frac{\\sigma^{2}}{2}\\right)}{\\sigma}\\right)}{2 \\sqrt{\\tau}} \\right)}}{2} - \\frac{\\Delta e^{- \\frac{2 \\Delta \\mu}{\\sigma^{2}} + \\Delta} - \\Delta}{2 \\mu - \\sigma^{2}}\\right)}{l + 1 - e^{- \\frac{\\Delta}{2}}}$"
      ],
      "text/plain": [
       "theta*(sigma**2*((2*Delta*(mu - sigma**2/2)/sigma**2 - 1)*(exp(2*Delta*(mu - sigma**2/2)/sigma**2)*erf(sqrt(2)*(Delta/sigma + tau*(mu - sigma**2/2)/sigma)/(2*sqrt(tau))) - exp(2*Delta*(mu - sigma**2/2)/sigma**2) + 1) - erf(sqrt(2)*(-Delta/sigma + tau*(mu - sigma**2/2)/sigma)/(2*sqrt(tau))))*exp(-2*Delta*(mu - sigma**2/2)/sigma**2)/(4*(mu - sigma**2/2)**2) + sigma**2*((2*Delta*(mu - sigma**2/2)/sigma**2 + 1)*erf(sqrt(2)*(-Delta/sigma + tau*(mu - sigma**2/2)/sigma)/(2*sqrt(tau))) + exp(2*Delta*(mu - sigma**2/2)/sigma**2)*erf(sqrt(2)*(Delta/sigma + tau*(mu - sigma**2/2)/sigma)/(2*sqrt(tau))) - exp(2*Delta*(mu - sigma**2/2)/sigma**2) + 1)/(4*(mu - sigma**2/2)**2) + sqrt(2)*sigma*sqrt(tau)*exp(-(Delta/sigma + tau*(mu - sigma**2/2)/sigma)**2/(2*tau))/(2*sqrt(pi)*(mu - sigma**2/2)) - sqrt(2)*sigma*sqrt(tau)*exp(-(Delta/sigma - tau*(mu - sigma**2/2)/sigma)**2/(2*tau))/(2*sqrt(pi)*(mu - sigma**2/2)) + tau*erf(sqrt(2)*(Delta/sigma - tau*(mu - sigma**2/2)/sigma)/(2*sqrt(tau)))/2 + tau*erf(sqrt(2)*(Delta/sigma + tau*(mu - sigma**2/2)/sigma)/(2*sqrt(tau)))/2 - (Delta*exp(-2*Delta*mu/sigma**2 + Delta) - Delta)/(2*mu - sigma**2))/(l + 1 - exp(-Delta/2))"
      ]
     },
     "execution_count": 31,
     "metadata": {},
     "output_type": "execute_result"
    }
   ],
   "source": [
    "ev_fee_a = (theta / (1-E**(-delta/2) + l)) * (ev_fee_integral_fn(tau, delta/sig, mu_p/sig) - limit(ev_fee_integral_fn(t, delta/sig, mu_p/sig), t, 0))\n",
    "ev_fee_a"
   ]
  },
  {
   "cell_type": "code",
   "execution_count": 32,
   "id": "f223a88b-4954-4511-87c0-fb66ef71551c",
   "metadata": {},
   "outputs": [
    {
     "data": {
      "text/latex": [
       "$\\displaystyle \\frac{\\theta \\left(\\frac{\\sqrt{2} \\sqrt{\\tau} e^{- \\frac{\\left(\\frac{\\Delta}{\\sigma} + \\tau \\left(\\sigma + \\frac{\\mu - \\frac{\\sigma^{2}}{2}}{\\sigma}\\right)\\right)^{2}}{2 \\tau}}}{2 \\sqrt{\\pi} \\left(\\sigma + \\frac{\\mu - \\frac{\\sigma^{2}}{2}}{\\sigma}\\right)} - \\frac{\\sqrt{2} \\sqrt{\\tau} e^{- \\frac{\\left(\\frac{\\Delta}{\\sigma} - \\tau \\left(\\sigma + \\frac{\\mu - \\frac{\\sigma^{2}}{2}}{\\sigma}\\right)\\right)^{2}}{2 \\tau}}}{2 \\sqrt{\\pi} \\left(\\sigma + \\frac{\\mu - \\frac{\\sigma^{2}}{2}}{\\sigma}\\right)} + \\frac{\\tau \\operatorname{erf}{\\left(\\frac{\\sqrt{2} \\left(\\frac{\\Delta}{\\sigma} - \\tau \\left(\\sigma + \\frac{\\mu - \\frac{\\sigma^{2}}{2}}{\\sigma}\\right)\\right)}{2 \\sqrt{\\tau}} \\right)}}{2} + \\frac{\\tau \\operatorname{erf}{\\left(\\frac{\\sqrt{2} \\left(\\frac{\\Delta}{\\sigma} + \\tau \\left(\\sigma + \\frac{\\mu - \\frac{\\sigma^{2}}{2}}{\\sigma}\\right)\\right)}{2 \\sqrt{\\tau}} \\right)}}{2} - \\frac{- \\Delta e^{\\frac{2 \\Delta \\mu}{\\sigma^{2}} + \\Delta} + \\Delta}{2 \\mu e^{\\frac{2 \\Delta \\mu}{\\sigma^{2}} + \\Delta} + \\sigma^{2} e^{\\frac{2 \\Delta \\mu}{\\sigma^{2}} + \\Delta}} + \\frac{\\left(\\left(\\frac{2 \\Delta \\left(\\sigma + \\frac{\\mu - \\frac{\\sigma^{2}}{2}}{\\sigma}\\right)}{\\sigma} - 1\\right) \\left(e^{\\frac{2 \\Delta \\left(\\sigma + \\frac{\\mu - \\frac{\\sigma^{2}}{2}}{\\sigma}\\right)}{\\sigma}} \\operatorname{erf}{\\left(\\frac{\\sqrt{2} \\left(\\frac{\\Delta}{\\sigma} + \\tau \\left(\\sigma + \\frac{\\mu - \\frac{\\sigma^{2}}{2}}{\\sigma}\\right)\\right)}{2 \\sqrt{\\tau}} \\right)} - e^{\\frac{2 \\Delta \\left(\\sigma + \\frac{\\mu - \\frac{\\sigma^{2}}{2}}{\\sigma}\\right)}{\\sigma}} + 1\\right) - \\operatorname{erf}{\\left(\\frac{\\sqrt{2} \\left(- \\frac{\\Delta}{\\sigma} + \\tau \\left(\\sigma + \\frac{\\mu - \\frac{\\sigma^{2}}{2}}{\\sigma}\\right)\\right)}{2 \\sqrt{\\tau}} \\right)}\\right) e^{- \\frac{2 \\Delta \\left(\\sigma + \\frac{\\mu - \\frac{\\sigma^{2}}{2}}{\\sigma}\\right)}{\\sigma}}}{4 \\left(\\sigma + \\frac{\\mu - \\frac{\\sigma^{2}}{2}}{\\sigma}\\right)^{2}} + \\frac{\\left(\\frac{2 \\Delta \\left(\\sigma + \\frac{\\mu - \\frac{\\sigma^{2}}{2}}{\\sigma}\\right)}{\\sigma} + 1\\right) \\operatorname{erf}{\\left(\\frac{\\sqrt{2} \\left(- \\frac{\\Delta}{\\sigma} + \\tau \\left(\\sigma + \\frac{\\mu - \\frac{\\sigma^{2}}{2}}{\\sigma}\\right)\\right)}{2 \\sqrt{\\tau}} \\right)} + e^{\\frac{2 \\Delta \\left(\\sigma + \\frac{\\mu - \\frac{\\sigma^{2}}{2}}{\\sigma}\\right)}{\\sigma}} \\operatorname{erf}{\\left(\\frac{\\sqrt{2} \\left(\\frac{\\Delta}{\\sigma} + \\tau \\left(\\sigma + \\frac{\\mu - \\frac{\\sigma^{2}}{2}}{\\sigma}\\right)\\right)}{2 \\sqrt{\\tau}} \\right)} - e^{\\frac{2 \\Delta \\left(\\sigma + \\frac{\\mu - \\frac{\\sigma^{2}}{2}}{\\sigma}\\right)}{\\sigma}} + 1}{4 \\left(\\sigma + \\frac{\\mu - \\frac{\\sigma^{2}}{2}}{\\sigma}\\right)^{2}}\\right) e^{\\mu \\tau}}{l + 1 - e^{- \\frac{\\Delta}{2}}}$"
      ],
      "text/plain": [
       "theta*(sqrt(2)*sqrt(tau)*exp(-(Delta/sigma + tau*(sigma + (mu - sigma**2/2)/sigma))**2/(2*tau))/(2*sqrt(pi)*(sigma + (mu - sigma**2/2)/sigma)) - sqrt(2)*sqrt(tau)*exp(-(Delta/sigma - tau*(sigma + (mu - sigma**2/2)/sigma))**2/(2*tau))/(2*sqrt(pi)*(sigma + (mu - sigma**2/2)/sigma)) + tau*erf(sqrt(2)*(Delta/sigma - tau*(sigma + (mu - sigma**2/2)/sigma))/(2*sqrt(tau)))/2 + tau*erf(sqrt(2)*(Delta/sigma + tau*(sigma + (mu - sigma**2/2)/sigma))/(2*sqrt(tau)))/2 - (-Delta*exp(2*Delta*mu/sigma**2 + Delta) + Delta)/(2*mu*exp(2*Delta*mu/sigma**2 + Delta) + sigma**2*exp(2*Delta*mu/sigma**2 + Delta)) + ((2*Delta*(sigma + (mu - sigma**2/2)/sigma)/sigma - 1)*(exp(2*Delta*(sigma + (mu - sigma**2/2)/sigma)/sigma)*erf(sqrt(2)*(Delta/sigma + tau*(sigma + (mu - sigma**2/2)/sigma))/(2*sqrt(tau))) - exp(2*Delta*(sigma + (mu - sigma**2/2)/sigma)/sigma) + 1) - erf(sqrt(2)*(-Delta/sigma + tau*(sigma + (mu - sigma**2/2)/sigma))/(2*sqrt(tau))))*exp(-2*Delta*(sigma + (mu - sigma**2/2)/sigma)/sigma)/(4*(sigma + (mu - sigma**2/2)/sigma)**2) + ((2*Delta*(sigma + (mu - sigma**2/2)/sigma)/sigma + 1)*erf(sqrt(2)*(-Delta/sigma + tau*(sigma + (mu - sigma**2/2)/sigma))/(2*sqrt(tau))) + exp(2*Delta*(sigma + (mu - sigma**2/2)/sigma)/sigma)*erf(sqrt(2)*(Delta/sigma + tau*(sigma + (mu - sigma**2/2)/sigma))/(2*sqrt(tau))) - exp(2*Delta*(sigma + (mu - sigma**2/2)/sigma)/sigma) + 1)/(4*(sigma + (mu - sigma**2/2)/sigma)**2))*exp(mu*tau)/(l + 1 - exp(-Delta/2))"
      ]
     },
     "execution_count": 32,
     "metadata": {},
     "output_type": "execute_result"
    }
   ],
   "source": [
    "ev_fee_b = (theta / (1-E**(-delta/2) + l)) * (E**(mu * tau)) * (ev_fee_integral_fn(tau, delta/sig, mu_p/sig + sig) - limit(ev_fee_integral_fn(t, delta/sig, mu_p/sig + sig), t, 0))\n",
    "ev_fee_b"
   ]
  },
  {
   "cell_type": "code",
   "execution_count": 33,
   "id": "28d67993-0453-4e22-a1b8-0ce56d2c2324",
   "metadata": {},
   "outputs": [
    {
     "data": {
      "text/latex": [
       "$\\displaystyle \\frac{\\theta \\left(\\frac{\\sigma^{2} \\left(\\left(\\frac{2 \\Delta \\left(\\mu - \\frac{\\sigma^{2}}{2}\\right)}{\\sigma^{2}} - 1\\right) \\left(e^{\\frac{2 \\Delta \\left(\\mu - \\frac{\\sigma^{2}}{2}\\right)}{\\sigma^{2}}} \\operatorname{erf}{\\left(\\frac{\\sqrt{2} \\left(\\frac{\\Delta}{\\sigma} + \\frac{\\tau \\left(\\mu - \\frac{\\sigma^{2}}{2}\\right)}{\\sigma}\\right)}{2 \\sqrt{\\tau}} \\right)} - e^{\\frac{2 \\Delta \\left(\\mu - \\frac{\\sigma^{2}}{2}\\right)}{\\sigma^{2}}} + 1\\right) - \\operatorname{erf}{\\left(\\frac{\\sqrt{2} \\left(- \\frac{\\Delta}{\\sigma} + \\frac{\\tau \\left(\\mu - \\frac{\\sigma^{2}}{2}\\right)}{\\sigma}\\right)}{2 \\sqrt{\\tau}} \\right)}\\right) e^{- \\frac{2 \\Delta \\left(\\mu - \\frac{\\sigma^{2}}{2}\\right)}{\\sigma^{2}}}}{4 \\left(\\mu - \\frac{\\sigma^{2}}{2}\\right)^{2}} + \\frac{\\sigma^{2} \\left(\\left(\\frac{2 \\Delta \\left(\\mu - \\frac{\\sigma^{2}}{2}\\right)}{\\sigma^{2}} + 1\\right) \\operatorname{erf}{\\left(\\frac{\\sqrt{2} \\left(- \\frac{\\Delta}{\\sigma} + \\frac{\\tau \\left(\\mu - \\frac{\\sigma^{2}}{2}\\right)}{\\sigma}\\right)}{2 \\sqrt{\\tau}} \\right)} + e^{\\frac{2 \\Delta \\left(\\mu - \\frac{\\sigma^{2}}{2}\\right)}{\\sigma^{2}}} \\operatorname{erf}{\\left(\\frac{\\sqrt{2} \\left(\\frac{\\Delta}{\\sigma} + \\frac{\\tau \\left(\\mu - \\frac{\\sigma^{2}}{2}\\right)}{\\sigma}\\right)}{2 \\sqrt{\\tau}} \\right)} - e^{\\frac{2 \\Delta \\left(\\mu - \\frac{\\sigma^{2}}{2}\\right)}{\\sigma^{2}}} + 1\\right)}{4 \\left(\\mu - \\frac{\\sigma^{2}}{2}\\right)^{2}} + \\frac{\\sqrt{2} \\sigma \\sqrt{\\tau} e^{- \\frac{\\left(\\frac{\\Delta}{\\sigma} + \\frac{\\tau \\left(\\mu - \\frac{\\sigma^{2}}{2}\\right)}{\\sigma}\\right)^{2}}{2 \\tau}}}{2 \\sqrt{\\pi} \\left(\\mu - \\frac{\\sigma^{2}}{2}\\right)} - \\frac{\\sqrt{2} \\sigma \\sqrt{\\tau} e^{- \\frac{\\left(\\frac{\\Delta}{\\sigma} - \\frac{\\tau \\left(\\mu - \\frac{\\sigma^{2}}{2}\\right)}{\\sigma}\\right)^{2}}{2 \\tau}}}{2 \\sqrt{\\pi} \\left(\\mu - \\frac{\\sigma^{2}}{2}\\right)} + \\frac{\\tau \\operatorname{erf}{\\left(\\frac{\\sqrt{2} \\left(\\frac{\\Delta}{\\sigma} - \\frac{\\tau \\left(\\mu - \\frac{\\sigma^{2}}{2}\\right)}{\\sigma}\\right)}{2 \\sqrt{\\tau}} \\right)}}{2} + \\frac{\\tau \\operatorname{erf}{\\left(\\frac{\\sqrt{2} \\left(\\frac{\\Delta}{\\sigma} + \\frac{\\tau \\left(\\mu - \\frac{\\sigma^{2}}{2}\\right)}{\\sigma}\\right)}{2 \\sqrt{\\tau}} \\right)}}{2} - \\frac{\\Delta e^{- \\frac{2 \\Delta \\mu}{\\sigma^{2}} + \\Delta} - \\Delta}{2 \\mu - \\sigma^{2}}\\right)}{l + 1 - e^{- \\frac{\\Delta}{2}}} + \\frac{\\theta \\left(\\frac{\\sqrt{2} \\sqrt{\\tau} e^{- \\frac{\\left(\\frac{\\Delta}{\\sigma} + \\tau \\left(\\sigma + \\frac{\\mu - \\frac{\\sigma^{2}}{2}}{\\sigma}\\right)\\right)^{2}}{2 \\tau}}}{2 \\sqrt{\\pi} \\left(\\sigma + \\frac{\\mu - \\frac{\\sigma^{2}}{2}}{\\sigma}\\right)} - \\frac{\\sqrt{2} \\sqrt{\\tau} e^{- \\frac{\\left(\\frac{\\Delta}{\\sigma} - \\tau \\left(\\sigma + \\frac{\\mu - \\frac{\\sigma^{2}}{2}}{\\sigma}\\right)\\right)^{2}}{2 \\tau}}}{2 \\sqrt{\\pi} \\left(\\sigma + \\frac{\\mu - \\frac{\\sigma^{2}}{2}}{\\sigma}\\right)} + \\frac{\\tau \\operatorname{erf}{\\left(\\frac{\\sqrt{2} \\left(\\frac{\\Delta}{\\sigma} - \\tau \\left(\\sigma + \\frac{\\mu - \\frac{\\sigma^{2}}{2}}{\\sigma}\\right)\\right)}{2 \\sqrt{\\tau}} \\right)}}{2} + \\frac{\\tau \\operatorname{erf}{\\left(\\frac{\\sqrt{2} \\left(\\frac{\\Delta}{\\sigma} + \\tau \\left(\\sigma + \\frac{\\mu - \\frac{\\sigma^{2}}{2}}{\\sigma}\\right)\\right)}{2 \\sqrt{\\tau}} \\right)}}{2} - \\frac{- \\Delta e^{\\frac{2 \\Delta \\mu}{\\sigma^{2}} + \\Delta} + \\Delta}{2 \\mu e^{\\frac{2 \\Delta \\mu}{\\sigma^{2}} + \\Delta} + \\sigma^{2} e^{\\frac{2 \\Delta \\mu}{\\sigma^{2}} + \\Delta}} + \\frac{\\left(\\left(\\frac{2 \\Delta \\left(\\sigma + \\frac{\\mu - \\frac{\\sigma^{2}}{2}}{\\sigma}\\right)}{\\sigma} - 1\\right) \\left(e^{\\frac{2 \\Delta \\left(\\sigma + \\frac{\\mu - \\frac{\\sigma^{2}}{2}}{\\sigma}\\right)}{\\sigma}} \\operatorname{erf}{\\left(\\frac{\\sqrt{2} \\left(\\frac{\\Delta}{\\sigma} + \\tau \\left(\\sigma + \\frac{\\mu - \\frac{\\sigma^{2}}{2}}{\\sigma}\\right)\\right)}{2 \\sqrt{\\tau}} \\right)} - e^{\\frac{2 \\Delta \\left(\\sigma + \\frac{\\mu - \\frac{\\sigma^{2}}{2}}{\\sigma}\\right)}{\\sigma}} + 1\\right) - \\operatorname{erf}{\\left(\\frac{\\sqrt{2} \\left(- \\frac{\\Delta}{\\sigma} + \\tau \\left(\\sigma + \\frac{\\mu - \\frac{\\sigma^{2}}{2}}{\\sigma}\\right)\\right)}{2 \\sqrt{\\tau}} \\right)}\\right) e^{- \\frac{2 \\Delta \\left(\\sigma + \\frac{\\mu - \\frac{\\sigma^{2}}{2}}{\\sigma}\\right)}{\\sigma}}}{4 \\left(\\sigma + \\frac{\\mu - \\frac{\\sigma^{2}}{2}}{\\sigma}\\right)^{2}} + \\frac{\\left(\\frac{2 \\Delta \\left(\\sigma + \\frac{\\mu - \\frac{\\sigma^{2}}{2}}{\\sigma}\\right)}{\\sigma} + 1\\right) \\operatorname{erf}{\\left(\\frac{\\sqrt{2} \\left(- \\frac{\\Delta}{\\sigma} + \\tau \\left(\\sigma + \\frac{\\mu - \\frac{\\sigma^{2}}{2}}{\\sigma}\\right)\\right)}{2 \\sqrt{\\tau}} \\right)} + e^{\\frac{2 \\Delta \\left(\\sigma + \\frac{\\mu - \\frac{\\sigma^{2}}{2}}{\\sigma}\\right)}{\\sigma}} \\operatorname{erf}{\\left(\\frac{\\sqrt{2} \\left(\\frac{\\Delta}{\\sigma} + \\tau \\left(\\sigma + \\frac{\\mu - \\frac{\\sigma^{2}}{2}}{\\sigma}\\right)\\right)}{2 \\sqrt{\\tau}} \\right)} - e^{\\frac{2 \\Delta \\left(\\sigma + \\frac{\\mu - \\frac{\\sigma^{2}}{2}}{\\sigma}\\right)}{\\sigma}} + 1}{4 \\left(\\sigma + \\frac{\\mu - \\frac{\\sigma^{2}}{2}}{\\sigma}\\right)^{2}}\\right) e^{\\mu \\tau}}{l + 1 - e^{- \\frac{\\Delta}{2}}}$"
      ],
      "text/plain": [
       "theta*(sigma**2*((2*Delta*(mu - sigma**2/2)/sigma**2 - 1)*(exp(2*Delta*(mu - sigma**2/2)/sigma**2)*erf(sqrt(2)*(Delta/sigma + tau*(mu - sigma**2/2)/sigma)/(2*sqrt(tau))) - exp(2*Delta*(mu - sigma**2/2)/sigma**2) + 1) - erf(sqrt(2)*(-Delta/sigma + tau*(mu - sigma**2/2)/sigma)/(2*sqrt(tau))))*exp(-2*Delta*(mu - sigma**2/2)/sigma**2)/(4*(mu - sigma**2/2)**2) + sigma**2*((2*Delta*(mu - sigma**2/2)/sigma**2 + 1)*erf(sqrt(2)*(-Delta/sigma + tau*(mu - sigma**2/2)/sigma)/(2*sqrt(tau))) + exp(2*Delta*(mu - sigma**2/2)/sigma**2)*erf(sqrt(2)*(Delta/sigma + tau*(mu - sigma**2/2)/sigma)/(2*sqrt(tau))) - exp(2*Delta*(mu - sigma**2/2)/sigma**2) + 1)/(4*(mu - sigma**2/2)**2) + sqrt(2)*sigma*sqrt(tau)*exp(-(Delta/sigma + tau*(mu - sigma**2/2)/sigma)**2/(2*tau))/(2*sqrt(pi)*(mu - sigma**2/2)) - sqrt(2)*sigma*sqrt(tau)*exp(-(Delta/sigma - tau*(mu - sigma**2/2)/sigma)**2/(2*tau))/(2*sqrt(pi)*(mu - sigma**2/2)) + tau*erf(sqrt(2)*(Delta/sigma - tau*(mu - sigma**2/2)/sigma)/(2*sqrt(tau)))/2 + tau*erf(sqrt(2)*(Delta/sigma + tau*(mu - sigma**2/2)/sigma)/(2*sqrt(tau)))/2 - (Delta*exp(-2*Delta*mu/sigma**2 + Delta) - Delta)/(2*mu - sigma**2))/(l + 1 - exp(-Delta/2)) + theta*(sqrt(2)*sqrt(tau)*exp(-(Delta/sigma + tau*(sigma + (mu - sigma**2/2)/sigma))**2/(2*tau))/(2*sqrt(pi)*(sigma + (mu - sigma**2/2)/sigma)) - sqrt(2)*sqrt(tau)*exp(-(Delta/sigma - tau*(sigma + (mu - sigma**2/2)/sigma))**2/(2*tau))/(2*sqrt(pi)*(sigma + (mu - sigma**2/2)/sigma)) + tau*erf(sqrt(2)*(Delta/sigma - tau*(sigma + (mu - sigma**2/2)/sigma))/(2*sqrt(tau)))/2 + tau*erf(sqrt(2)*(Delta/sigma + tau*(sigma + (mu - sigma**2/2)/sigma))/(2*sqrt(tau)))/2 - (-Delta*exp(2*Delta*mu/sigma**2 + Delta) + Delta)/(2*mu*exp(2*Delta*mu/sigma**2 + Delta) + sigma**2*exp(2*Delta*mu/sigma**2 + Delta)) + ((2*Delta*(sigma + (mu - sigma**2/2)/sigma)/sigma - 1)*(exp(2*Delta*(sigma + (mu - sigma**2/2)/sigma)/sigma)*erf(sqrt(2)*(Delta/sigma + tau*(sigma + (mu - sigma**2/2)/sigma))/(2*sqrt(tau))) - exp(2*Delta*(sigma + (mu - sigma**2/2)/sigma)/sigma) + 1) - erf(sqrt(2)*(-Delta/sigma + tau*(sigma + (mu - sigma**2/2)/sigma))/(2*sqrt(tau))))*exp(-2*Delta*(sigma + (mu - sigma**2/2)/sigma)/sigma)/(4*(sigma + (mu - sigma**2/2)/sigma)**2) + ((2*Delta*(sigma + (mu - sigma**2/2)/sigma)/sigma + 1)*erf(sqrt(2)*(-Delta/sigma + tau*(sigma + (mu - sigma**2/2)/sigma))/(2*sqrt(tau))) + exp(2*Delta*(sigma + (mu - sigma**2/2)/sigma)/sigma)*erf(sqrt(2)*(Delta/sigma + tau*(sigma + (mu - sigma**2/2)/sigma))/(2*sqrt(tau))) - exp(2*Delta*(sigma + (mu - sigma**2/2)/sigma)/sigma) + 1)/(4*(sigma + (mu - sigma**2/2)/sigma)**2))*exp(mu*tau)/(l + 1 - exp(-Delta/2))"
      ]
     },
     "execution_count": 33,
     "metadata": {},
     "output_type": "execute_result"
    }
   ],
   "source": [
    "ev_fee = ev_fee_a + ev_fee_b\n",
    "ev_fee"
   ]
  },
  {
   "cell_type": "code",
   "execution_count": 34,
   "id": "7d509b82-df4f-4755-bb17-a610b5ae9899",
   "metadata": {},
   "outputs": [
    {
     "data": {
      "text/latex": [
       "$\\displaystyle \\frac{\\theta \\left(\\operatorname{erf}{\\left(\\frac{\\sqrt{2} \\cdot \\left(2 \\Delta - 2 \\mu \\tau + \\sigma^{2} \\tau\\right)}{4 \\sigma \\sqrt{\\tau}} \\right)} + \\operatorname{erf}{\\left(\\frac{\\sqrt{2} \\cdot \\left(2 \\Delta + 2 \\mu \\tau - \\sigma^{2} \\tau\\right)}{4 \\sigma \\sqrt{\\tau}} \\right)}\\right) e^{\\frac{3 \\Delta}{2}}}{2 \\left(l e^{\\frac{3 \\Delta}{2}} + e^{\\frac{3 \\Delta}{2}} - e^{\\Delta}\\right)}$"
      ],
      "text/plain": [
       "theta*(erf(sqrt(2)*(2*Delta - 2*mu*tau + sigma**2*tau)/(4*sigma*sqrt(tau))) + erf(sqrt(2)*(2*Delta + 2*mu*tau - sigma**2*tau)/(4*sigma*sqrt(tau))))*exp(3*Delta/2)/(2*(l*exp(3*Delta/2) + exp(3*Delta/2) - exp(Delta)))"
      ]
     },
     "execution_count": 34,
     "metadata": {},
     "output_type": "execute_result"
    }
   ],
   "source": [
    "# checks out\n",
    "simplify(diff(ev_fee_a, tau))"
   ]
  },
  {
   "cell_type": "code",
   "execution_count": 35,
   "id": "6226411a-3181-4290-a1f5-f44dbebe927c",
   "metadata": {},
   "outputs": [
    {
     "data": {
      "text/latex": [
       "$\\displaystyle \\frac{\\theta \\left(- \\operatorname{erf}{\\left(\\frac{\\sqrt{2} \\left(- 2 \\Delta + 2 \\mu \\tau + \\sigma^{2} \\tau\\right)}{4 \\sigma \\sqrt{\\tau}} \\right)} + \\operatorname{erf}{\\left(\\frac{\\sqrt{2} \\cdot \\left(2 \\Delta + 2 \\mu \\tau + \\sigma^{2} \\tau\\right)}{4 \\sigma \\sqrt{\\tau}} \\right)}\\right) e^{\\Delta}}{2 \\left(l e^{\\Delta} - e^{\\frac{\\Delta}{2}} + e^{\\Delta}\\right)}$"
      ],
      "text/plain": [
       "theta*(-erf(sqrt(2)*(-2*Delta + 2*mu*tau + sigma**2*tau)/(4*sigma*sqrt(tau))) + erf(sqrt(2)*(2*Delta + 2*mu*tau + sigma**2*tau)/(4*sigma*sqrt(tau))))*exp(Delta)/(2*(l*exp(Delta) - exp(Delta/2) + exp(Delta)))"
      ]
     },
     "execution_count": 35,
     "metadata": {},
     "output_type": "execute_result"
    }
   ],
   "source": [
    "# checks out too\n",
    "simplify(diff(ev_fee_b * E**(-mu * tau), tau))"
   ]
  },
  {
   "cell_type": "code",
   "execution_count": 36,
   "id": "9b854785-f3c8-4131-af13-ff63d4fd0ec6",
   "metadata": {},
   "outputs": [
    {
     "data": {
      "text/latex": [
       "$\\displaystyle \\left(e^{\\frac{\\Delta}{2}} + 1\\right) \\left(\\left(\\frac{\\operatorname{erf}{\\left(\\frac{\\sqrt{2} \\left(- \\sigma \\sqrt{\\tau} + \\frac{- \\Delta - \\tau \\left(\\mu - \\frac{\\sigma^{2}}{2}\\right)}{\\sigma \\sqrt{\\tau}}\\right)}{2} \\right)}}{2} + \\frac{1}{2}\\right) e^{\\mu \\tau} - \\frac{\\operatorname{erf}{\\left(\\frac{\\sqrt{2} \\left(\\Delta - \\tau \\left(\\mu - \\frac{\\sigma^{2}}{2}\\right)\\right)}{2 \\sigma \\sqrt{\\tau}} \\right)}}{2} + \\frac{1}{2}\\right)$"
      ],
      "text/plain": [
       "(exp(Delta/2) + 1)*((erf(sqrt(2)*(-sigma*sqrt(tau) + (-Delta - tau*(mu - sigma**2/2))/(sigma*sqrt(tau)))/2)/2 + 1/2)*exp(mu*tau) - erf(sqrt(2)*(Delta - tau*(mu - sigma**2/2))/(2*sigma*sqrt(tau)))/2 + 1/2)"
      ]
     },
     "execution_count": 36,
     "metadata": {},
     "output_type": "execute_result"
    }
   ],
   "source": [
    "# terms for principal before rebalancing\n",
    "ev_principal_before_a = (E**(delta/2) + 1) * (E**(mu*tau) * Phi(d_minus - sig * sqrt(tau)) + 1 - Phi(d_plus))\n",
    "ev_principal_before_a"
   ]
  },
  {
   "cell_type": "code",
   "execution_count": 37,
   "id": "eb93ca24-1547-4ae7-8d5f-17184f7dda1b",
   "metadata": {},
   "outputs": [
    {
     "data": {
      "text/latex": [
       "$\\displaystyle \\frac{2 \\left(- \\frac{\\operatorname{erf}{\\left(\\frac{\\sqrt{2} \\left(- \\frac{\\sigma \\sqrt{\\tau}}{2} + \\frac{- \\Delta - \\tau \\left(\\mu - \\frac{\\sigma^{2}}{2}\\right)}{\\sigma \\sqrt{\\tau}}\\right)}{2} \\right)}}{2} + \\frac{\\operatorname{erf}{\\left(\\frac{\\sqrt{2} \\left(- \\frac{\\sigma \\sqrt{\\tau}}{2} + \\frac{\\Delta - \\tau \\left(\\mu - \\frac{\\sigma^{2}}{2}\\right)}{\\sigma \\sqrt{\\tau}}\\right)}{2} \\right)}}{2}\\right) e^{\\frac{\\tau \\left(\\mu - \\frac{\\sigma^{2}}{4}\\right)}{2}}}{1 - e^{- \\frac{\\Delta}{2}}}$"
      ],
      "text/plain": [
       "2*(-erf(sqrt(2)*(-sigma*sqrt(tau)/2 + (-Delta - tau*(mu - sigma**2/2))/(sigma*sqrt(tau)))/2)/2 + erf(sqrt(2)*(-sigma*sqrt(tau)/2 + (Delta - tau*(mu - sigma**2/2))/(sigma*sqrt(tau)))/2)/2)*exp(tau*(mu - sigma**2/4)/2)/(1 - exp(-Delta/2))"
      ]
     },
     "execution_count": 37,
     "metadata": {},
     "output_type": "execute_result"
    }
   ],
   "source": [
    "ev_principal_before_b = (1/(1-E**(-delta/2))) * (2 * E**((mu-sig**2/4) * (tau/2))) * (Phi(d_plus - sig * sqrt(tau) / 2) - Phi(d_minus - sig * sqrt(tau) / 2))\n",
    "ev_principal_before_b"
   ]
  },
  {
   "cell_type": "code",
   "execution_count": 38,
   "id": "51927137-f760-415f-9847-995f7e6db8f3",
   "metadata": {},
   "outputs": [
    {
     "data": {
      "text/latex": [
       "$\\displaystyle - \\frac{\\left(\\left(- \\frac{\\operatorname{erf}{\\left(\\frac{\\sqrt{2} \\left(- \\sigma \\sqrt{\\tau} + \\frac{- \\Delta - \\tau \\left(\\mu - \\frac{\\sigma^{2}}{2}\\right)}{\\sigma \\sqrt{\\tau}}\\right)}{2} \\right)}}{2} + \\frac{\\operatorname{erf}{\\left(\\frac{\\sqrt{2} \\left(- \\sigma \\sqrt{\\tau} + \\frac{\\Delta - \\tau \\left(\\mu - \\frac{\\sigma^{2}}{2}\\right)}{\\sigma \\sqrt{\\tau}}\\right)}{2} \\right)}}{2}\\right) e^{\\mu \\tau} - \\frac{\\operatorname{erf}{\\left(\\frac{\\sqrt{2} \\left(- \\Delta - \\tau \\left(\\mu - \\frac{\\sigma^{2}}{2}\\right)\\right)}{2 \\sigma \\sqrt{\\tau}} \\right)}}{2} + \\frac{\\operatorname{erf}{\\left(\\frac{\\sqrt{2} \\left(\\Delta - \\tau \\left(\\mu - \\frac{\\sigma^{2}}{2}\\right)\\right)}{2 \\sigma \\sqrt{\\tau}} \\right)}}{2}\\right) e^{- \\frac{\\Delta}{2}}}{1 - e^{- \\frac{\\Delta}{2}}}$"
      ],
      "text/plain": [
       "-((-erf(sqrt(2)*(-sigma*sqrt(tau) + (-Delta - tau*(mu - sigma**2/2))/(sigma*sqrt(tau)))/2)/2 + erf(sqrt(2)*(-sigma*sqrt(tau) + (Delta - tau*(mu - sigma**2/2))/(sigma*sqrt(tau)))/2)/2)*exp(mu*tau) - erf(sqrt(2)*(-Delta - tau*(mu - sigma**2/2))/(2*sigma*sqrt(tau)))/2 + erf(sqrt(2)*(Delta - tau*(mu - sigma**2/2))/(2*sigma*sqrt(tau)))/2)*exp(-Delta/2)/(1 - exp(-Delta/2))"
      ]
     },
     "execution_count": 38,
     "metadata": {},
     "output_type": "execute_result"
    }
   ],
   "source": [
    "ev_principal_before_c = -(E**(-delta/2)/(1-E**(-delta/2))) * (Phi(d_plus) - Phi(d_minus) + E**(mu*tau) * (Phi(d_plus - sig * sqrt(tau)) - Phi(d_minus - sig * sqrt(tau))))\n",
    "ev_principal_before_c"
   ]
  },
  {
   "cell_type": "code",
   "execution_count": 39,
   "id": "4d283d18-8f45-41d1-88c9-8ce4a09ad353",
   "metadata": {},
   "outputs": [],
   "source": [
    "ev_principal_before = ev_principal_before_a + ev_principal_before_b + ev_principal_before_c"
   ]
  },
  {
   "cell_type": "code",
   "execution_count": 40,
   "id": "0a999f7a-642e-4a77-a563-ba397a55a69b",
   "metadata": {},
   "outputs": [
    {
     "data": {
      "text/latex": [
       "$\\displaystyle - \\frac{f \\left(e^{\\frac{\\Delta}{2}} + 1\\right) \\left(\\left(\\frac{\\operatorname{erf}{\\left(\\frac{\\sqrt{2} \\left(- \\sigma \\sqrt{\\tau} + \\frac{- \\Delta - \\tau \\left(\\mu - \\frac{\\sigma^{2}}{2}\\right)}{\\sigma \\sqrt{\\tau}}\\right)}{2} \\right)}}{2} + \\frac{1}{2}\\right) e^{\\mu \\tau} - \\frac{\\operatorname{erf}{\\left(\\frac{\\sqrt{2} \\left(\\Delta - \\tau \\left(\\mu - \\frac{\\sigma^{2}}{2}\\right)\\right)}{2 \\sigma \\sqrt{\\tau}} \\right)}}{2} + \\frac{1}{2}\\right)}{2}$"
      ],
      "text/plain": [
       "-f*(exp(Delta/2) + 1)*((erf(sqrt(2)*(-sigma*sqrt(tau) + (-Delta - tau*(mu - sigma**2/2))/(sigma*sqrt(tau)))/2)/2 + 1/2)*exp(mu*tau) - erf(sqrt(2)*(Delta - tau*(mu - sigma**2/2))/(2*sigma*sqrt(tau)))/2 + 1/2)/2"
      ]
     },
     "execution_count": 40,
     "metadata": {},
     "output_type": "execute_result"
    }
   ],
   "source": [
    "# terms for swap fees paid on rebalance\n",
    "ev_swap_fees_a = - (f/2) * (E**(delta/2) + 1) * (E**(mu * tau) * Phi(d_minus - sig * sqrt(tau)) + 1 - Phi(d_plus))\n",
    "ev_swap_fees_a"
   ]
  },
  {
   "cell_type": "code",
   "execution_count": 41,
   "id": "d536c2e1-fdeb-4f61-a885-ee4e006ef5f4",
   "metadata": {},
   "outputs": [
    {
     "data": {
      "text/latex": [
       "$\\displaystyle - \\frac{f \\left(\\left(\\frac{\\operatorname{erf}{\\left(\\frac{\\sqrt{2} \\left(- \\sigma \\sqrt{\\tau} + \\frac{- \\Delta - \\tau \\left(\\mu - \\frac{\\sigma^{2}}{2}\\right)}{\\sigma \\sqrt{\\tau}}\\right)}{2} \\right)}}{2} + \\frac{\\operatorname{erf}{\\left(\\frac{\\sqrt{2} \\left(- \\sigma \\sqrt{\\tau} + \\frac{\\Delta - \\tau \\left(\\mu - \\frac{\\sigma^{2}}{2}\\right)}{\\sigma \\sqrt{\\tau}}\\right)}{2} \\right)}}{2} - \\operatorname{erf}{\\left(\\frac{\\sqrt{2} \\left(- \\sigma \\sqrt{\\tau} + \\frac{\\sqrt{\\tau} \\left(- \\mu + \\frac{\\sigma^{2}}{2}\\right)}{\\sigma}\\right)}{2} \\right)}\\right) e^{\\mu \\tau} - \\frac{\\operatorname{erf}{\\left(\\frac{\\sqrt{2} \\left(- \\Delta - \\tau \\left(\\mu - \\frac{\\sigma^{2}}{2}\\right)\\right)}{2 \\sigma \\sqrt{\\tau}} \\right)}}{2} - \\frac{\\operatorname{erf}{\\left(\\frac{\\sqrt{2} \\left(\\Delta - \\tau \\left(\\mu - \\frac{\\sigma^{2}}{2}\\right)\\right)}{2 \\sigma \\sqrt{\\tau}} \\right)}}{2} + \\operatorname{erf}{\\left(\\frac{\\sqrt{2} \\sqrt{\\tau} \\left(- \\mu + \\frac{\\sigma^{2}}{2}\\right)}{2 \\sigma} \\right)}\\right)}{2 \\left(e^{\\frac{\\Delta}{2}} - 1\\right)}$"
      ],
      "text/plain": [
       "-f*((erf(sqrt(2)*(-sigma*sqrt(tau) + (-Delta - tau*(mu - sigma**2/2))/(sigma*sqrt(tau)))/2)/2 + erf(sqrt(2)*(-sigma*sqrt(tau) + (Delta - tau*(mu - sigma**2/2))/(sigma*sqrt(tau)))/2)/2 - erf(sqrt(2)*(-sigma*sqrt(tau) + sqrt(tau)*(-mu + sigma**2/2)/sigma)/2))*exp(mu*tau) - erf(sqrt(2)*(-Delta - tau*(mu - sigma**2/2))/(2*sigma*sqrt(tau)))/2 - erf(sqrt(2)*(Delta - tau*(mu - sigma**2/2))/(2*sigma*sqrt(tau)))/2 + erf(sqrt(2)*sqrt(tau)*(-mu + sigma**2/2)/(2*sigma)))/(2*(exp(Delta/2) - 1))"
      ]
     },
     "execution_count": 41,
     "metadata": {},
     "output_type": "execute_result"
    }
   ],
   "source": [
    "ev_swap_fees_b = - (f/2) * (1/(E**(delta/2) - 1)) * (E**(mu * tau) * (Phi(d_plus - sig*sqrt(tau)) + Phi(d_minus - sig * sqrt(tau)) - 2 * Phi(-mu_p * tau / (sig * sqrt(tau)) - sig * sqrt(tau))) + 2*Phi(-mu_p * tau/(sig * sqrt(tau))) - Phi(d_plus) - Phi(d_minus))\n",
    "ev_swap_fees_b"
   ]
  },
  {
   "cell_type": "code",
   "execution_count": 42,
   "id": "a24f2414-fb38-485d-9437-eddd6f01e442",
   "metadata": {},
   "outputs": [],
   "source": [
    "ev_swap_fees = ev_swap_fees_a + ev_swap_fees_b"
   ]
  },
  {
   "cell_type": "code",
   "execution_count": 43,
   "id": "f308a70a-37be-4b5f-95c3-d6d36b232fc1",
   "metadata": {},
   "outputs": [
    {
     "data": {
      "text/latex": [
       "$\\displaystyle - \\frac{l \\left(\\left(\\frac{1}{2} - \\frac{\\operatorname{erf}{\\left(\\frac{\\sqrt{2} \\left(\\frac{\\sigma \\sqrt{\\tau}}{2} + \\frac{\\Delta - \\tau \\left(\\mu - \\frac{\\sigma^{2}}{2}\\right)}{\\sigma \\sqrt{\\tau}}\\right)}{2} \\right)}}{2}\\right) e^{- \\mu \\tau} + \\left(\\frac{\\operatorname{erf}{\\left(\\frac{\\sqrt{2} \\left(- \\frac{3 \\sigma \\sqrt{\\tau}}{2} + \\frac{- \\Delta - \\tau \\left(\\mu - \\frac{\\sigma^{2}}{2}\\right)}{\\sigma \\sqrt{\\tau}}\\right)}{2} \\right)}}{2} + \\frac{1}{2}\\right) e^{\\mu \\tau}\\right) \\left(e^{\\frac{\\Delta}{2}} + 1\\right)^{2} e^{\\frac{\\tau \\left(\\mu + \\frac{3 \\sigma^{2}}{4}\\right)}{2}}}{4}$"
      ],
      "text/plain": [
       "-l*((1/2 - erf(sqrt(2)*(sigma*sqrt(tau)/2 + (Delta - tau*(mu - sigma**2/2))/(sigma*sqrt(tau)))/2)/2)*exp(-mu*tau) + (erf(sqrt(2)*(-3*sigma*sqrt(tau)/2 + (-Delta - tau*(mu - sigma**2/2))/(sigma*sqrt(tau)))/2)/2 + 1/2)*exp(mu*tau))*(exp(Delta/2) + 1)**2*exp(tau*(mu + 3*sigma**2/4)/2)/4"
      ]
     },
     "execution_count": 43,
     "metadata": {},
     "output_type": "execute_result"
    }
   ],
   "source": [
    "# terms for slippage paid on rebalance\n",
    "ev_slippage_a = -(l/4) * E**((mu + 3 * sig**2/4) * (tau / 2)) * (E**(delta/2) + 1)**2 * (E**(-mu*tau) * (1 - Phi(d_plus + sig * sqrt(tau)/2)) + E**(mu*tau) * Phi(d_minus - 3*sig*sqrt(tau) / 2))\n",
    "ev_slippage_a"
   ]
  },
  {
   "cell_type": "code",
   "execution_count": 44,
   "id": "a10000f5-eafb-4034-8cf4-7d05ca4dee51",
   "metadata": {},
   "outputs": [
    {
     "data": {
      "text/latex": [
       "$\\displaystyle - \\frac{l \\left(\\left(- \\frac{\\operatorname{erf}{\\left(\\frac{\\sqrt{2} \\left(- \\frac{3 \\sigma \\sqrt{\\tau}}{2} + \\frac{- \\Delta - \\tau \\left(\\mu - \\frac{\\sigma^{2}}{2}\\right)}{\\sigma \\sqrt{\\tau}}\\right)}{2} \\right)}}{2} + \\frac{\\operatorname{erf}{\\left(\\frac{\\sqrt{2} \\left(- \\frac{3 \\sigma \\sqrt{\\tau}}{2} + \\frac{\\Delta - \\tau \\left(\\mu - \\frac{\\sigma^{2}}{2}\\right)}{\\sigma \\sqrt{\\tau}}\\right)}{2} \\right)}}{2}\\right) e^{\\mu \\tau} + \\left(- \\frac{\\operatorname{erf}{\\left(\\frac{\\sqrt{2} \\left(\\frac{\\sigma \\sqrt{\\tau}}{2} + \\frac{- \\Delta - \\tau \\left(\\mu - \\frac{\\sigma^{2}}{2}\\right)}{\\sigma \\sqrt{\\tau}}\\right)}{2} \\right)}}{2} + \\frac{\\operatorname{erf}{\\left(\\frac{\\sqrt{2} \\left(\\frac{\\sigma \\sqrt{\\tau}}{2} + \\frac{\\Delta - \\tau \\left(\\mu - \\frac{\\sigma^{2}}{2}\\right)}{\\sigma \\sqrt{\\tau}}\\right)}{2} \\right)}}{2}\\right) e^{- \\mu \\tau}\\right) e^{\\frac{\\tau \\left(\\mu + \\frac{3 \\sigma^{2}}{4}\\right)}{2}}}{4 \\left(e^{\\frac{\\Delta}{2}} - 1\\right)^{2}}$"
      ],
      "text/plain": [
       "-l*((-erf(sqrt(2)*(-3*sigma*sqrt(tau)/2 + (-Delta - tau*(mu - sigma**2/2))/(sigma*sqrt(tau)))/2)/2 + erf(sqrt(2)*(-3*sigma*sqrt(tau)/2 + (Delta - tau*(mu - sigma**2/2))/(sigma*sqrt(tau)))/2)/2)*exp(mu*tau) + (-erf(sqrt(2)*(sigma*sqrt(tau)/2 + (-Delta - tau*(mu - sigma**2/2))/(sigma*sqrt(tau)))/2)/2 + erf(sqrt(2)*(sigma*sqrt(tau)/2 + (Delta - tau*(mu - sigma**2/2))/(sigma*sqrt(tau)))/2)/2)*exp(-mu*tau))*exp(tau*(mu + 3*sigma**2/4)/2)/(4*(exp(Delta/2) - 1)**2)"
      ]
     },
     "execution_count": 44,
     "metadata": {},
     "output_type": "execute_result"
    }
   ],
   "source": [
    "ev_slippage_b = -(l/4) * E**((mu + 3 * sig**2/4) * (tau / 2)) * (1/(E**(delta/2) - 1)**2) * (E**(mu * tau) * (Phi(d_plus - 3 * sig * sqrt(tau) / 2) - Phi(d_minus - 3 * sig * sqrt(tau) / 2)) + E**(-mu*tau) * (Phi(d_plus + sig * sqrt(tau) / 2) - Phi(d_minus + sig * sqrt(tau) / 2)))\n",
    "ev_slippage_b"
   ]
  },
  {
   "cell_type": "code",
   "execution_count": 45,
   "id": "5d492161-4847-4f73-82b6-d05afe1257ca",
   "metadata": {},
   "outputs": [
    {
     "data": {
      "text/latex": [
       "$\\displaystyle \\frac{l \\left(- \\frac{\\operatorname{erf}{\\left(\\frac{\\sqrt{2} \\left(- \\frac{\\sigma \\sqrt{\\tau}}{2} + \\frac{- \\Delta - \\tau \\left(\\mu - \\frac{\\sigma^{2}}{2}\\right)}{\\sigma \\sqrt{\\tau}}\\right)}{2} \\right)}}{2} + \\frac{\\operatorname{erf}{\\left(\\frac{\\sqrt{2} \\left(- \\frac{\\sigma \\sqrt{\\tau}}{2} + \\frac{\\Delta - \\tau \\left(\\mu - \\frac{\\sigma^{2}}{2}\\right)}{\\sigma \\sqrt{\\tau}}\\right)}{2} \\right)}}{2}\\right) e^{- \\frac{\\sigma^{2} \\tau}{2}} e^{\\frac{\\tau \\left(\\mu + \\frac{3 \\sigma^{2}}{4}\\right)}{2}}}{2 \\left(e^{\\frac{\\Delta}{2}} - 1\\right)^{2}}$"
      ],
      "text/plain": [
       "l*(-erf(sqrt(2)*(-sigma*sqrt(tau)/2 + (-Delta - tau*(mu - sigma**2/2))/(sigma*sqrt(tau)))/2)/2 + erf(sqrt(2)*(-sigma*sqrt(tau)/2 + (Delta - tau*(mu - sigma**2/2))/(sigma*sqrt(tau)))/2)/2)*exp(-sigma**2*tau/2)*exp(tau*(mu + 3*sigma**2/4)/2)/(2*(exp(Delta/2) - 1)**2)"
      ]
     },
     "execution_count": 45,
     "metadata": {},
     "output_type": "execute_result"
    }
   ],
   "source": [
    "ev_slippage_c = (l/2) * E**((mu + 3 * sig**2/4) * (tau / 2)) * (1/(E**(delta/2) - 1)**2) * (E**(-sig**2 * tau / 2)) * (Phi(d_plus - sig * sqrt(tau)/2) - Phi(d_minus - sig * sqrt(tau)/2))\n",
    "ev_slippage_c"
   ]
  },
  {
   "cell_type": "code",
   "execution_count": 46,
   "id": "ee8c3374-f978-4184-940b-5260461d9cf9",
   "metadata": {},
   "outputs": [],
   "source": [
    "ev_slippage = ev_slippage_a + ev_slippage_b + ev_slippage_c"
   ]
  },
  {
   "cell_type": "code",
   "execution_count": 47,
   "id": "95f982e4-e66d-4e61-b7a0-424432275961",
   "metadata": {},
   "outputs": [],
   "source": [
    "ev_principal = ev_principal_before + ev_swap_fees + ev_slippage"
   ]
  },
  {
   "cell_type": "code",
   "execution_count": 48,
   "id": "d8bcb96c-a1fe-4d5c-beaa-7e560c376694",
   "metadata": {},
   "outputs": [],
   "source": [
    "rho_bar = ev_principal"
   ]
  },
  {
   "cell_type": "code",
   "execution_count": 49,
   "id": "598652cb-3672-4f19-8b2d-33fe99d284f8",
   "metadata": {},
   "outputs": [],
   "source": [
    "psi_bar = ev_fee"
   ]
  },
  {
   "cell_type": "code",
   "execution_count": 50,
   "id": "e88f178a-851a-4766-bba5-a3321a7a101c",
   "metadata": {},
   "outputs": [],
   "source": [
    "# v_bar = ev of LP value\n",
    "v_bar = ev_principal + ev_fee"
   ]
  },
  {
   "cell_type": "code",
   "execution_count": 51,
   "id": "d47637d7-9c0c-4f3b-985c-2307beece749",
   "metadata": {},
   "outputs": [
    {
     "data": {
      "text/latex": [
       "$\\displaystyle V{\\left(\\Delta \\right)}$"
      ],
      "text/plain": [
       "V(Delta)"
      ]
     },
     "execution_count": 51,
     "metadata": {},
     "output_type": "execute_result"
    }
   ],
   "source": [
    "v_bar_fn = Function('V')(delta)\n",
    "v_bar_fn"
   ]
  },
  {
   "cell_type": "code",
   "execution_count": 52,
   "id": "5fa9f8dd-f180-41f8-ba85-990e88f47731",
   "metadata": {},
   "outputs": [
    {
     "data": {
      "text/latex": [
       "$\\displaystyle \\rho{\\left(\\Delta \\right)}$"
      ],
      "text/plain": [
       "rho(Delta)"
      ]
     },
     "execution_count": 52,
     "metadata": {},
     "output_type": "execute_result"
    }
   ],
   "source": [
    "rho_bar_fn = Function('rho')(delta)\n",
    "rho_bar_fn"
   ]
  },
  {
   "cell_type": "code",
   "execution_count": 53,
   "id": "addb3943-bce9-4ed3-9ab4-e16203ce8646",
   "metadata": {},
   "outputs": [
    {
     "data": {
      "text/latex": [
       "$\\displaystyle \\psi{\\left(\\Delta \\right)}$"
      ],
      "text/plain": [
       "psi(Delta)"
      ]
     },
     "execution_count": 53,
     "metadata": {},
     "output_type": "execute_result"
    }
   ],
   "source": [
    "psi_bar_fn = Function('psi')(delta)\n",
    "psi_bar_fn"
   ]
  },
  {
   "cell_type": "markdown",
   "id": "113622a5-c123-4868-bf8e-4b78f298ba2f",
   "metadata": {},
   "source": [
    "### Expansion about $\\Delta = 0$\n",
    "\n",
    "For second order expansion about $\\Delta \\to 0$, need the following terms at $0$:\n",
    "\n",
    "- $V$\n",
    "- $\\partial_{\\Delta} V$\n",
    "- $\\partial^2_{\\Delta} V$"
   ]
  },
  {
   "cell_type": "code",
   "execution_count": 54,
   "id": "b04ce2e8-5393-4beb-8cfc-109b09fd490c",
   "metadata": {},
   "outputs": [
    {
     "data": {
      "text/latex": [
       "$\\displaystyle - \\frac{f \\left(e^{\\frac{\\Delta}{2}} + 1\\right) \\left(\\left(\\frac{\\operatorname{erf}{\\left(\\frac{\\sqrt{2} \\left(- \\sigma \\sqrt{\\tau} + \\frac{- \\Delta - \\tau \\left(\\mu - \\frac{\\sigma^{2}}{2}\\right)}{\\sigma \\sqrt{\\tau}}\\right)}{2} \\right)}}{2} + \\frac{1}{2}\\right) e^{\\mu \\tau} - \\frac{\\operatorname{erf}{\\left(\\frac{\\sqrt{2} \\left(\\Delta - \\tau \\left(\\mu - \\frac{\\sigma^{2}}{2}\\right)\\right)}{2 \\sigma \\sqrt{\\tau}} \\right)}}{2} + \\frac{1}{2}\\right)}{2} - \\frac{f \\left(\\left(\\frac{\\operatorname{erf}{\\left(\\frac{\\sqrt{2} \\left(- \\sigma \\sqrt{\\tau} + \\frac{- \\Delta - \\tau \\left(\\mu - \\frac{\\sigma^{2}}{2}\\right)}{\\sigma \\sqrt{\\tau}}\\right)}{2} \\right)}}{2} + \\frac{\\operatorname{erf}{\\left(\\frac{\\sqrt{2} \\left(- \\sigma \\sqrt{\\tau} + \\frac{\\Delta - \\tau \\left(\\mu - \\frac{\\sigma^{2}}{2}\\right)}{\\sigma \\sqrt{\\tau}}\\right)}{2} \\right)}}{2} - \\operatorname{erf}{\\left(\\frac{\\sqrt{2} \\left(- \\sigma \\sqrt{\\tau} + \\frac{\\sqrt{\\tau} \\left(- \\mu + \\frac{\\sigma^{2}}{2}\\right)}{\\sigma}\\right)}{2} \\right)}\\right) e^{\\mu \\tau} - \\frac{\\operatorname{erf}{\\left(\\frac{\\sqrt{2} \\left(- \\Delta - \\tau \\left(\\mu - \\frac{\\sigma^{2}}{2}\\right)\\right)}{2 \\sigma \\sqrt{\\tau}} \\right)}}{2} - \\frac{\\operatorname{erf}{\\left(\\frac{\\sqrt{2} \\left(\\Delta - \\tau \\left(\\mu - \\frac{\\sigma^{2}}{2}\\right)\\right)}{2 \\sigma \\sqrt{\\tau}} \\right)}}{2} + \\operatorname{erf}{\\left(\\frac{\\sqrt{2} \\sqrt{\\tau} \\left(- \\mu + \\frac{\\sigma^{2}}{2}\\right)}{2 \\sigma} \\right)}\\right)}{2 \\left(e^{\\frac{\\Delta}{2}} - 1\\right)} - \\frac{l \\left(\\left(\\frac{1}{2} - \\frac{\\operatorname{erf}{\\left(\\frac{\\sqrt{2} \\left(\\frac{\\sigma \\sqrt{\\tau}}{2} + \\frac{\\Delta - \\tau \\left(\\mu - \\frac{\\sigma^{2}}{2}\\right)}{\\sigma \\sqrt{\\tau}}\\right)}{2} \\right)}}{2}\\right) e^{- \\mu \\tau} + \\left(\\frac{\\operatorname{erf}{\\left(\\frac{\\sqrt{2} \\left(- \\frac{3 \\sigma \\sqrt{\\tau}}{2} + \\frac{- \\Delta - \\tau \\left(\\mu - \\frac{\\sigma^{2}}{2}\\right)}{\\sigma \\sqrt{\\tau}}\\right)}{2} \\right)}}{2} + \\frac{1}{2}\\right) e^{\\mu \\tau}\\right) \\left(e^{\\frac{\\Delta}{2}} + 1\\right)^{2} e^{\\frac{\\tau \\left(\\mu + \\frac{3 \\sigma^{2}}{4}\\right)}{2}}}{4} - \\frac{l \\left(\\left(- \\frac{\\operatorname{erf}{\\left(\\frac{\\sqrt{2} \\left(- \\frac{3 \\sigma \\sqrt{\\tau}}{2} + \\frac{- \\Delta - \\tau \\left(\\mu - \\frac{\\sigma^{2}}{2}\\right)}{\\sigma \\sqrt{\\tau}}\\right)}{2} \\right)}}{2} + \\frac{\\operatorname{erf}{\\left(\\frac{\\sqrt{2} \\left(- \\frac{3 \\sigma \\sqrt{\\tau}}{2} + \\frac{\\Delta - \\tau \\left(\\mu - \\frac{\\sigma^{2}}{2}\\right)}{\\sigma \\sqrt{\\tau}}\\right)}{2} \\right)}}{2}\\right) e^{\\mu \\tau} + \\left(- \\frac{\\operatorname{erf}{\\left(\\frac{\\sqrt{2} \\left(\\frac{\\sigma \\sqrt{\\tau}}{2} + \\frac{- \\Delta - \\tau \\left(\\mu - \\frac{\\sigma^{2}}{2}\\right)}{\\sigma \\sqrt{\\tau}}\\right)}{2} \\right)}}{2} + \\frac{\\operatorname{erf}{\\left(\\frac{\\sqrt{2} \\left(\\frac{\\sigma \\sqrt{\\tau}}{2} + \\frac{\\Delta - \\tau \\left(\\mu - \\frac{\\sigma^{2}}{2}\\right)}{\\sigma \\sqrt{\\tau}}\\right)}{2} \\right)}}{2}\\right) e^{- \\mu \\tau}\\right) e^{\\frac{\\tau \\left(\\mu + \\frac{3 \\sigma^{2}}{4}\\right)}{2}}}{4 \\left(e^{\\frac{\\Delta}{2}} - 1\\right)^{2}} + \\frac{l \\left(- \\frac{\\operatorname{erf}{\\left(\\frac{\\sqrt{2} \\left(- \\frac{\\sigma \\sqrt{\\tau}}{2} + \\frac{- \\Delta - \\tau \\left(\\mu - \\frac{\\sigma^{2}}{2}\\right)}{\\sigma \\sqrt{\\tau}}\\right)}{2} \\right)}}{2} + \\frac{\\operatorname{erf}{\\left(\\frac{\\sqrt{2} \\left(- \\frac{\\sigma \\sqrt{\\tau}}{2} + \\frac{\\Delta - \\tau \\left(\\mu - \\frac{\\sigma^{2}}{2}\\right)}{\\sigma \\sqrt{\\tau}}\\right)}{2} \\right)}}{2}\\right) e^{- \\frac{\\sigma^{2} \\tau}{2}} e^{\\frac{\\tau \\left(\\mu + \\frac{3 \\sigma^{2}}{4}\\right)}{2}}}{2 \\left(e^{\\frac{\\Delta}{2}} - 1\\right)^{2}} + \\frac{\\theta \\left(\\frac{\\sigma^{2} \\left(\\left(\\frac{2 \\Delta \\left(\\mu - \\frac{\\sigma^{2}}{2}\\right)}{\\sigma^{2}} - 1\\right) \\left(e^{\\frac{2 \\Delta \\left(\\mu - \\frac{\\sigma^{2}}{2}\\right)}{\\sigma^{2}}} \\operatorname{erf}{\\left(\\frac{\\sqrt{2} \\left(\\frac{\\Delta}{\\sigma} + \\frac{\\tau \\left(\\mu - \\frac{\\sigma^{2}}{2}\\right)}{\\sigma}\\right)}{2 \\sqrt{\\tau}} \\right)} - e^{\\frac{2 \\Delta \\left(\\mu - \\frac{\\sigma^{2}}{2}\\right)}{\\sigma^{2}}} + 1\\right) - \\operatorname{erf}{\\left(\\frac{\\sqrt{2} \\left(- \\frac{\\Delta}{\\sigma} + \\frac{\\tau \\left(\\mu - \\frac{\\sigma^{2}}{2}\\right)}{\\sigma}\\right)}{2 \\sqrt{\\tau}} \\right)}\\right) e^{- \\frac{2 \\Delta \\left(\\mu - \\frac{\\sigma^{2}}{2}\\right)}{\\sigma^{2}}}}{4 \\left(\\mu - \\frac{\\sigma^{2}}{2}\\right)^{2}} + \\frac{\\sigma^{2} \\left(\\left(\\frac{2 \\Delta \\left(\\mu - \\frac{\\sigma^{2}}{2}\\right)}{\\sigma^{2}} + 1\\right) \\operatorname{erf}{\\left(\\frac{\\sqrt{2} \\left(- \\frac{\\Delta}{\\sigma} + \\frac{\\tau \\left(\\mu - \\frac{\\sigma^{2}}{2}\\right)}{\\sigma}\\right)}{2 \\sqrt{\\tau}} \\right)} + e^{\\frac{2 \\Delta \\left(\\mu - \\frac{\\sigma^{2}}{2}\\right)}{\\sigma^{2}}} \\operatorname{erf}{\\left(\\frac{\\sqrt{2} \\left(\\frac{\\Delta}{\\sigma} + \\frac{\\tau \\left(\\mu - \\frac{\\sigma^{2}}{2}\\right)}{\\sigma}\\right)}{2 \\sqrt{\\tau}} \\right)} - e^{\\frac{2 \\Delta \\left(\\mu - \\frac{\\sigma^{2}}{2}\\right)}{\\sigma^{2}}} + 1\\right)}{4 \\left(\\mu - \\frac{\\sigma^{2}}{2}\\right)^{2}} + \\frac{\\sqrt{2} \\sigma \\sqrt{\\tau} e^{- \\frac{\\left(\\frac{\\Delta}{\\sigma} + \\frac{\\tau \\left(\\mu - \\frac{\\sigma^{2}}{2}\\right)}{\\sigma}\\right)^{2}}{2 \\tau}}}{2 \\sqrt{\\pi} \\left(\\mu - \\frac{\\sigma^{2}}{2}\\right)} - \\frac{\\sqrt{2} \\sigma \\sqrt{\\tau} e^{- \\frac{\\left(\\frac{\\Delta}{\\sigma} - \\frac{\\tau \\left(\\mu - \\frac{\\sigma^{2}}{2}\\right)}{\\sigma}\\right)^{2}}{2 \\tau}}}{2 \\sqrt{\\pi} \\left(\\mu - \\frac{\\sigma^{2}}{2}\\right)} + \\frac{\\tau \\operatorname{erf}{\\left(\\frac{\\sqrt{2} \\left(\\frac{\\Delta}{\\sigma} - \\frac{\\tau \\left(\\mu - \\frac{\\sigma^{2}}{2}\\right)}{\\sigma}\\right)}{2 \\sqrt{\\tau}} \\right)}}{2} + \\frac{\\tau \\operatorname{erf}{\\left(\\frac{\\sqrt{2} \\left(\\frac{\\Delta}{\\sigma} + \\frac{\\tau \\left(\\mu - \\frac{\\sigma^{2}}{2}\\right)}{\\sigma}\\right)}{2 \\sqrt{\\tau}} \\right)}}{2} - \\frac{\\Delta e^{- \\frac{2 \\Delta \\mu}{\\sigma^{2}} + \\Delta} - \\Delta}{2 \\mu - \\sigma^{2}}\\right)}{l + 1 - e^{- \\frac{\\Delta}{2}}} + \\frac{\\theta \\left(\\frac{\\sqrt{2} \\sqrt{\\tau} e^{- \\frac{\\left(\\frac{\\Delta}{\\sigma} + \\tau \\left(\\sigma + \\frac{\\mu - \\frac{\\sigma^{2}}{2}}{\\sigma}\\right)\\right)^{2}}{2 \\tau}}}{2 \\sqrt{\\pi} \\left(\\sigma + \\frac{\\mu - \\frac{\\sigma^{2}}{2}}{\\sigma}\\right)} - \\frac{\\sqrt{2} \\sqrt{\\tau} e^{- \\frac{\\left(\\frac{\\Delta}{\\sigma} - \\tau \\left(\\sigma + \\frac{\\mu - \\frac{\\sigma^{2}}{2}}{\\sigma}\\right)\\right)^{2}}{2 \\tau}}}{2 \\sqrt{\\pi} \\left(\\sigma + \\frac{\\mu - \\frac{\\sigma^{2}}{2}}{\\sigma}\\right)} + \\frac{\\tau \\operatorname{erf}{\\left(\\frac{\\sqrt{2} \\left(\\frac{\\Delta}{\\sigma} - \\tau \\left(\\sigma + \\frac{\\mu - \\frac{\\sigma^{2}}{2}}{\\sigma}\\right)\\right)}{2 \\sqrt{\\tau}} \\right)}}{2} + \\frac{\\tau \\operatorname{erf}{\\left(\\frac{\\sqrt{2} \\left(\\frac{\\Delta}{\\sigma} + \\tau \\left(\\sigma + \\frac{\\mu - \\frac{\\sigma^{2}}{2}}{\\sigma}\\right)\\right)}{2 \\sqrt{\\tau}} \\right)}}{2} - \\frac{- \\Delta e^{\\frac{2 \\Delta \\mu}{\\sigma^{2}} + \\Delta} + \\Delta}{2 \\mu e^{\\frac{2 \\Delta \\mu}{\\sigma^{2}} + \\Delta} + \\sigma^{2} e^{\\frac{2 \\Delta \\mu}{\\sigma^{2}} + \\Delta}} + \\frac{\\left(\\left(\\frac{2 \\Delta \\left(\\sigma + \\frac{\\mu - \\frac{\\sigma^{2}}{2}}{\\sigma}\\right)}{\\sigma} - 1\\right) \\left(e^{\\frac{2 \\Delta \\left(\\sigma + \\frac{\\mu - \\frac{\\sigma^{2}}{2}}{\\sigma}\\right)}{\\sigma}} \\operatorname{erf}{\\left(\\frac{\\sqrt{2} \\left(\\frac{\\Delta}{\\sigma} + \\tau \\left(\\sigma + \\frac{\\mu - \\frac{\\sigma^{2}}{2}}{\\sigma}\\right)\\right)}{2 \\sqrt{\\tau}} \\right)} - e^{\\frac{2 \\Delta \\left(\\sigma + \\frac{\\mu - \\frac{\\sigma^{2}}{2}}{\\sigma}\\right)}{\\sigma}} + 1\\right) - \\operatorname{erf}{\\left(\\frac{\\sqrt{2} \\left(- \\frac{\\Delta}{\\sigma} + \\tau \\left(\\sigma + \\frac{\\mu - \\frac{\\sigma^{2}}{2}}{\\sigma}\\right)\\right)}{2 \\sqrt{\\tau}} \\right)}\\right) e^{- \\frac{2 \\Delta \\left(\\sigma + \\frac{\\mu - \\frac{\\sigma^{2}}{2}}{\\sigma}\\right)}{\\sigma}}}{4 \\left(\\sigma + \\frac{\\mu - \\frac{\\sigma^{2}}{2}}{\\sigma}\\right)^{2}} + \\frac{\\left(\\frac{2 \\Delta \\left(\\sigma + \\frac{\\mu - \\frac{\\sigma^{2}}{2}}{\\sigma}\\right)}{\\sigma} + 1\\right) \\operatorname{erf}{\\left(\\frac{\\sqrt{2} \\left(- \\frac{\\Delta}{\\sigma} + \\tau \\left(\\sigma + \\frac{\\mu - \\frac{\\sigma^{2}}{2}}{\\sigma}\\right)\\right)}{2 \\sqrt{\\tau}} \\right)} + e^{\\frac{2 \\Delta \\left(\\sigma + \\frac{\\mu - \\frac{\\sigma^{2}}{2}}{\\sigma}\\right)}{\\sigma}} \\operatorname{erf}{\\left(\\frac{\\sqrt{2} \\left(\\frac{\\Delta}{\\sigma} + \\tau \\left(\\sigma + \\frac{\\mu - \\frac{\\sigma^{2}}{2}}{\\sigma}\\right)\\right)}{2 \\sqrt{\\tau}} \\right)} - e^{\\frac{2 \\Delta \\left(\\sigma + \\frac{\\mu - \\frac{\\sigma^{2}}{2}}{\\sigma}\\right)}{\\sigma}} + 1}{4 \\left(\\sigma + \\frac{\\mu - \\frac{\\sigma^{2}}{2}}{\\sigma}\\right)^{2}}\\right) e^{\\mu \\tau}}{l + 1 - e^{- \\frac{\\Delta}{2}}} + \\left(e^{\\frac{\\Delta}{2}} + 1\\right) \\left(\\left(\\frac{\\operatorname{erf}{\\left(\\frac{\\sqrt{2} \\left(- \\sigma \\sqrt{\\tau} + \\frac{- \\Delta - \\tau \\left(\\mu - \\frac{\\sigma^{2}}{2}\\right)}{\\sigma \\sqrt{\\tau}}\\right)}{2} \\right)}}{2} + \\frac{1}{2}\\right) e^{\\mu \\tau} - \\frac{\\operatorname{erf}{\\left(\\frac{\\sqrt{2} \\left(\\Delta - \\tau \\left(\\mu - \\frac{\\sigma^{2}}{2}\\right)\\right)}{2 \\sigma \\sqrt{\\tau}} \\right)}}{2} + \\frac{1}{2}\\right) + \\frac{2 \\left(- \\frac{\\operatorname{erf}{\\left(\\frac{\\sqrt{2} \\left(- \\frac{\\sigma \\sqrt{\\tau}}{2} + \\frac{- \\Delta - \\tau \\left(\\mu - \\frac{\\sigma^{2}}{2}\\right)}{\\sigma \\sqrt{\\tau}}\\right)}{2} \\right)}}{2} + \\frac{\\operatorname{erf}{\\left(\\frac{\\sqrt{2} \\left(- \\frac{\\sigma \\sqrt{\\tau}}{2} + \\frac{\\Delta - \\tau \\left(\\mu - \\frac{\\sigma^{2}}{2}\\right)}{\\sigma \\sqrt{\\tau}}\\right)}{2} \\right)}}{2}\\right) e^{\\frac{\\tau \\left(\\mu - \\frac{\\sigma^{2}}{4}\\right)}{2}}}{1 - e^{- \\frac{\\Delta}{2}}} - \\frac{\\left(\\left(- \\frac{\\operatorname{erf}{\\left(\\frac{\\sqrt{2} \\left(- \\sigma \\sqrt{\\tau} + \\frac{- \\Delta - \\tau \\left(\\mu - \\frac{\\sigma^{2}}{2}\\right)}{\\sigma \\sqrt{\\tau}}\\right)}{2} \\right)}}{2} + \\frac{\\operatorname{erf}{\\left(\\frac{\\sqrt{2} \\left(- \\sigma \\sqrt{\\tau} + \\frac{\\Delta - \\tau \\left(\\mu - \\frac{\\sigma^{2}}{2}\\right)}{\\sigma \\sqrt{\\tau}}\\right)}{2} \\right)}}{2}\\right) e^{\\mu \\tau} - \\frac{\\operatorname{erf}{\\left(\\frac{\\sqrt{2} \\left(- \\Delta - \\tau \\left(\\mu - \\frac{\\sigma^{2}}{2}\\right)\\right)}{2 \\sigma \\sqrt{\\tau}} \\right)}}{2} + \\frac{\\operatorname{erf}{\\left(\\frac{\\sqrt{2} \\left(\\Delta - \\tau \\left(\\mu - \\frac{\\sigma^{2}}{2}\\right)\\right)}{2 \\sigma \\sqrt{\\tau}} \\right)}}{2}\\right) e^{- \\frac{\\Delta}{2}}}{1 - e^{- \\frac{\\Delta}{2}}}$"
      ],
      "text/plain": [
       "-f*(exp(Delta/2) + 1)*((erf(sqrt(2)*(-sigma*sqrt(tau) + (-Delta - tau*(mu - sigma**2/2))/(sigma*sqrt(tau)))/2)/2 + 1/2)*exp(mu*tau) - erf(sqrt(2)*(Delta - tau*(mu - sigma**2/2))/(2*sigma*sqrt(tau)))/2 + 1/2)/2 - f*((erf(sqrt(2)*(-sigma*sqrt(tau) + (-Delta - tau*(mu - sigma**2/2))/(sigma*sqrt(tau)))/2)/2 + erf(sqrt(2)*(-sigma*sqrt(tau) + (Delta - tau*(mu - sigma**2/2))/(sigma*sqrt(tau)))/2)/2 - erf(sqrt(2)*(-sigma*sqrt(tau) + sqrt(tau)*(-mu + sigma**2/2)/sigma)/2))*exp(mu*tau) - erf(sqrt(2)*(-Delta - tau*(mu - sigma**2/2))/(2*sigma*sqrt(tau)))/2 - erf(sqrt(2)*(Delta - tau*(mu - sigma**2/2))/(2*sigma*sqrt(tau)))/2 + erf(sqrt(2)*sqrt(tau)*(-mu + sigma**2/2)/(2*sigma)))/(2*(exp(Delta/2) - 1)) - l*((1/2 - erf(sqrt(2)*(sigma*sqrt(tau)/2 + (Delta - tau*(mu - sigma**2/2))/(sigma*sqrt(tau)))/2)/2)*exp(-mu*tau) + (erf(sqrt(2)*(-3*sigma*sqrt(tau)/2 + (-Delta - tau*(mu - sigma**2/2))/(sigma*sqrt(tau)))/2)/2 + 1/2)*exp(mu*tau))*(exp(Delta/2) + 1)**2*exp(tau*(mu + 3*sigma**2/4)/2)/4 - l*((-erf(sqrt(2)*(-3*sigma*sqrt(tau)/2 + (-Delta - tau*(mu - sigma**2/2))/(sigma*sqrt(tau)))/2)/2 + erf(sqrt(2)*(-3*sigma*sqrt(tau)/2 + (Delta - tau*(mu - sigma**2/2))/(sigma*sqrt(tau)))/2)/2)*exp(mu*tau) + (-erf(sqrt(2)*(sigma*sqrt(tau)/2 + (-Delta - tau*(mu - sigma**2/2))/(sigma*sqrt(tau)))/2)/2 + erf(sqrt(2)*(sigma*sqrt(tau)/2 + (Delta - tau*(mu - sigma**2/2))/(sigma*sqrt(tau)))/2)/2)*exp(-mu*tau))*exp(tau*(mu + 3*sigma**2/4)/2)/(4*(exp(Delta/2) - 1)**2) + l*(-erf(sqrt(2)*(-sigma*sqrt(tau)/2 + (-Delta - tau*(mu - sigma**2/2))/(sigma*sqrt(tau)))/2)/2 + erf(sqrt(2)*(-sigma*sqrt(tau)/2 + (Delta - tau*(mu - sigma**2/2))/(sigma*sqrt(tau)))/2)/2)*exp(-sigma**2*tau/2)*exp(tau*(mu + 3*sigma**2/4)/2)/(2*(exp(Delta/2) - 1)**2) + theta*(sigma**2*((2*Delta*(mu - sigma**2/2)/sigma**2 - 1)*(exp(2*Delta*(mu - sigma**2/2)/sigma**2)*erf(sqrt(2)*(Delta/sigma + tau*(mu - sigma**2/2)/sigma)/(2*sqrt(tau))) - exp(2*Delta*(mu - sigma**2/2)/sigma**2) + 1) - erf(sqrt(2)*(-Delta/sigma + tau*(mu - sigma**2/2)/sigma)/(2*sqrt(tau))))*exp(-2*Delta*(mu - sigma**2/2)/sigma**2)/(4*(mu - sigma**2/2)**2) + sigma**2*((2*Delta*(mu - sigma**2/2)/sigma**2 + 1)*erf(sqrt(2)*(-Delta/sigma + tau*(mu - sigma**2/2)/sigma)/(2*sqrt(tau))) + exp(2*Delta*(mu - sigma**2/2)/sigma**2)*erf(sqrt(2)*(Delta/sigma + tau*(mu - sigma**2/2)/sigma)/(2*sqrt(tau))) - exp(2*Delta*(mu - sigma**2/2)/sigma**2) + 1)/(4*(mu - sigma**2/2)**2) + sqrt(2)*sigma*sqrt(tau)*exp(-(Delta/sigma + tau*(mu - sigma**2/2)/sigma)**2/(2*tau))/(2*sqrt(pi)*(mu - sigma**2/2)) - sqrt(2)*sigma*sqrt(tau)*exp(-(Delta/sigma - tau*(mu - sigma**2/2)/sigma)**2/(2*tau))/(2*sqrt(pi)*(mu - sigma**2/2)) + tau*erf(sqrt(2)*(Delta/sigma - tau*(mu - sigma**2/2)/sigma)/(2*sqrt(tau)))/2 + tau*erf(sqrt(2)*(Delta/sigma + tau*(mu - sigma**2/2)/sigma)/(2*sqrt(tau)))/2 - (Delta*exp(-2*Delta*mu/sigma**2 + Delta) - Delta)/(2*mu - sigma**2))/(l + 1 - exp(-Delta/2)) + theta*(sqrt(2)*sqrt(tau)*exp(-(Delta/sigma + tau*(sigma + (mu - sigma**2/2)/sigma))**2/(2*tau))/(2*sqrt(pi)*(sigma + (mu - sigma**2/2)/sigma)) - sqrt(2)*sqrt(tau)*exp(-(Delta/sigma - tau*(sigma + (mu - sigma**2/2)/sigma))**2/(2*tau))/(2*sqrt(pi)*(sigma + (mu - sigma**2/2)/sigma)) + tau*erf(sqrt(2)*(Delta/sigma - tau*(sigma + (mu - sigma**2/2)/sigma))/(2*sqrt(tau)))/2 + tau*erf(sqrt(2)*(Delta/sigma + tau*(sigma + (mu - sigma**2/2)/sigma))/(2*sqrt(tau)))/2 - (-Delta*exp(2*Delta*mu/sigma**2 + Delta) + Delta)/(2*mu*exp(2*Delta*mu/sigma**2 + Delta) + sigma**2*exp(2*Delta*mu/sigma**2 + Delta)) + ((2*Delta*(sigma + (mu - sigma**2/2)/sigma)/sigma - 1)*(exp(2*Delta*(sigma + (mu - sigma**2/2)/sigma)/sigma)*erf(sqrt(2)*(Delta/sigma + tau*(sigma + (mu - sigma**2/2)/sigma))/(2*sqrt(tau))) - exp(2*Delta*(sigma + (mu - sigma**2/2)/sigma)/sigma) + 1) - erf(sqrt(2)*(-Delta/sigma + tau*(sigma + (mu - sigma**2/2)/sigma))/(2*sqrt(tau))))*exp(-2*Delta*(sigma + (mu - sigma**2/2)/sigma)/sigma)/(4*(sigma + (mu - sigma**2/2)/sigma)**2) + ((2*Delta*(sigma + (mu - sigma**2/2)/sigma)/sigma + 1)*erf(sqrt(2)*(-Delta/sigma + tau*(sigma + (mu - sigma**2/2)/sigma))/(2*sqrt(tau))) + exp(2*Delta*(sigma + (mu - sigma**2/2)/sigma)/sigma)*erf(sqrt(2)*(Delta/sigma + tau*(sigma + (mu - sigma**2/2)/sigma))/(2*sqrt(tau))) - exp(2*Delta*(sigma + (mu - sigma**2/2)/sigma)/sigma) + 1)/(4*(sigma + (mu - sigma**2/2)/sigma)**2))*exp(mu*tau)/(l + 1 - exp(-Delta/2)) + (exp(Delta/2) + 1)*((erf(sqrt(2)*(-sigma*sqrt(tau) + (-Delta - tau*(mu - sigma**2/2))/(sigma*sqrt(tau)))/2)/2 + 1/2)*exp(mu*tau) - erf(sqrt(2)*(Delta - tau*(mu - sigma**2/2))/(2*sigma*sqrt(tau)))/2 + 1/2) + 2*(-erf(sqrt(2)*(-sigma*sqrt(tau)/2 + (-Delta - tau*(mu - sigma**2/2))/(sigma*sqrt(tau)))/2)/2 + erf(sqrt(2)*(-sigma*sqrt(tau)/2 + (Delta - tau*(mu - sigma**2/2))/(sigma*sqrt(tau)))/2)/2)*exp(tau*(mu - sigma**2/4)/2)/(1 - exp(-Delta/2)) - ((-erf(sqrt(2)*(-sigma*sqrt(tau) + (-Delta - tau*(mu - sigma**2/2))/(sigma*sqrt(tau)))/2)/2 + erf(sqrt(2)*(-sigma*sqrt(tau) + (Delta - tau*(mu - sigma**2/2))/(sigma*sqrt(tau)))/2)/2)*exp(mu*tau) - erf(sqrt(2)*(-Delta - tau*(mu - sigma**2/2))/(2*sigma*sqrt(tau)))/2 + erf(sqrt(2)*(Delta - tau*(mu - sigma**2/2))/(2*sigma*sqrt(tau)))/2)*exp(-Delta/2)/(1 - exp(-Delta/2))"
      ]
     },
     "execution_count": 54,
     "metadata": {},
     "output_type": "execute_result"
    }
   ],
   "source": [
    "v_bar"
   ]
  },
  {
   "cell_type": "code",
   "execution_count": 55,
   "id": "74f50384-29d2-410c-a545-1c9025a5734d",
   "metadata": {},
   "outputs": [
    {
     "data": {
      "text/latex": [
       "$\\displaystyle V{\\left(\\Delta \\right)}$"
      ],
      "text/plain": [
       "V(Delta)"
      ]
     },
     "execution_count": 55,
     "metadata": {},
     "output_type": "execute_result"
    }
   ],
   "source": [
    "v_bar_fn"
   ]
  },
  {
   "cell_type": "code",
   "execution_count": 56,
   "id": "6e12ac73-8af8-428c-b5fa-37b304862eb0",
   "metadata": {},
   "outputs": [
    {
     "data": {
      "text/latex": [
       "$\\displaystyle 0$"
      ],
      "text/plain": [
       "0"
      ]
     },
     "execution_count": 56,
     "metadata": {},
     "output_type": "execute_result"
    }
   ],
   "source": [
    "limit(ev_fee, delta, 0)"
   ]
  },
  {
   "cell_type": "code",
   "execution_count": 57,
   "id": "f38ddced-1121-4b46-bcdf-1f918bac46e1",
   "metadata": {},
   "outputs": [
    {
     "data": {
      "text/latex": [
       "$\\displaystyle - e^{\\mu \\tau} \\operatorname{erf}{\\left(\\frac{\\sqrt{2} \\sqrt{\\tau} \\left(2 \\mu + \\sigma^{2}\\right)}{4 \\sigma} \\right)} + e^{\\mu \\tau} + \\operatorname{erf}{\\left(\\frac{\\sqrt{2} \\sqrt{\\tau} \\left(2 \\mu - \\sigma^{2}\\right)}{4 \\sigma} \\right)} + 1$"
      ],
      "text/plain": [
       "-exp(mu*tau)*erf(sqrt(2)*sqrt(tau)*(2*mu + sigma**2)/(4*sigma)) + exp(mu*tau) + erf(sqrt(2)*sqrt(tau)*(2*mu - sigma**2)/(4*sigma)) + 1"
      ]
     },
     "execution_count": 57,
     "metadata": {},
     "output_type": "execute_result"
    }
   ],
   "source": [
    "simplify(limit(ev_principal_before, delta, 0))"
   ]
  },
  {
   "cell_type": "code",
   "execution_count": 58,
   "id": "1c9c713e-87d5-4509-9cc4-11e68425a333",
   "metadata": {},
   "outputs": [
    {
     "data": {
      "text/latex": [
       "$\\displaystyle \\frac{f \\left(e^{\\mu \\tau} \\operatorname{erf}{\\left(\\frac{\\sqrt{2} \\sqrt{\\tau} \\left(2 \\mu + \\sigma^{2}\\right)}{4 \\sigma} \\right)} - e^{\\mu \\tau} - \\operatorname{erf}{\\left(\\frac{\\sqrt{2} \\sqrt{\\tau} \\left(2 \\mu - \\sigma^{2}\\right)}{4 \\sigma} \\right)} - 1\\right)}{2}$"
      ],
      "text/plain": [
       "f*(exp(mu*tau)*erf(sqrt(2)*sqrt(tau)*(2*mu + sigma**2)/(4*sigma)) - exp(mu*tau) - erf(sqrt(2)*sqrt(tau)*(2*mu - sigma**2)/(4*sigma)) - 1)/2"
      ]
     },
     "execution_count": 58,
     "metadata": {},
     "output_type": "execute_result"
    }
   ],
   "source": [
    "simplify(limit(ev_swap_fees, delta, 0))"
   ]
  },
  {
   "cell_type": "code",
   "execution_count": 59,
   "id": "e8cc07d7-1685-4504-81e9-b798930e3886",
   "metadata": {},
   "outputs": [
    {
     "data": {
      "text/latex": [
       "$\\displaystyle \\frac{l \\left(e^{2 \\mu \\tau} \\operatorname{erf}{\\left(\\frac{\\sqrt{2} \\sqrt{\\tau} \\left(\\mu + \\sigma^{2}\\right)}{2 \\sigma} \\right)} - e^{2 \\mu \\tau} - \\operatorname{erf}{\\left(\\frac{\\sqrt{2} \\sqrt{\\tau} \\left(\\mu - \\sigma^{2}\\right)}{2 \\sigma} \\right)} - 1\\right) e^{\\frac{\\tau \\left(- 4 \\mu + 3 \\sigma^{2}\\right)}{8}}}{2}$"
      ],
      "text/plain": [
       "l*(exp(2*mu*tau)*erf(sqrt(2)*sqrt(tau)*(mu + sigma**2)/(2*sigma)) - exp(2*mu*tau) - erf(sqrt(2)*sqrt(tau)*(mu - sigma**2)/(2*sigma)) - 1)*exp(tau*(-4*mu + 3*sigma**2)/8)/2"
      ]
     },
     "execution_count": 59,
     "metadata": {},
     "output_type": "execute_result"
    }
   ],
   "source": [
    "simplify(limit(ev_slippage, delta, 0))"
   ]
  },
  {
   "cell_type": "code",
   "execution_count": 60,
   "id": "a11e306a-3f10-4c96-ad9a-87111becb3b3",
   "metadata": {},
   "outputs": [
    {
     "data": {
      "text/latex": [
       "$\\displaystyle \\frac{d}{d \\Delta} V{\\left(\\Delta \\right)}$"
      ],
      "text/plain": [
       "Derivative(V(Delta), Delta)"
      ]
     },
     "execution_count": 60,
     "metadata": {},
     "output_type": "execute_result"
    }
   ],
   "source": [
    "diff(v_bar_fn, delta)"
   ]
  },
  {
   "cell_type": "code",
   "execution_count": null,
   "id": "38312162-edb2-4cad-8e28-72b7f28893a3",
   "metadata": {},
   "outputs": [],
   "source": []
  }
 ],
 "metadata": {
  "kernelspec": {
   "display_name": "Python 3 (ipykernel)",
   "language": "python",
   "name": "python3"
  },
  "language_info": {
   "codemirror_mode": {
    "name": "ipython",
    "version": 3
   },
   "file_extension": ".py",
   "mimetype": "text/x-python",
   "name": "python",
   "nbconvert_exporter": "python",
   "pygments_lexer": "ipython3",
   "version": "3.9.6"
  }
 },
 "nbformat": 4,
 "nbformat_minor": 5
}
