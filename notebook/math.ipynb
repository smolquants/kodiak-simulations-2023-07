{
 "cells": [
  {
   "cell_type": "code",
   "execution_count": 1,
   "id": "cc6c0ccf-006d-4371-ab38-235ce62eb9c2",
   "metadata": {},
   "outputs": [],
   "source": [
    "from sympy import Function, Symbol, E, Integral, diff, limit, sqrt, simplify, series, pi, oo, erf, cosh\n",
    "from sympy.stats import Normal, cdf"
   ]
  },
  {
   "cell_type": "code",
   "execution_count": 2,
   "id": "7b166fb0-014a-461d-9d88-a6460055df8a",
   "metadata": {},
   "outputs": [],
   "source": [
    "delta = Symbol('Delta', positive=True)\n",
    "tau = Symbol('tau', positive=True)\n",
    "sig = Symbol('sigma', positive=True)\n",
    "theta = Symbol('theta', positive=True)"
   ]
  },
  {
   "cell_type": "code",
   "execution_count": 3,
   "id": "3687774e-d0ee-4309-9071-69353468a2c9",
   "metadata": {},
   "outputs": [
    {
     "data": {
      "text/latex": [
       "$\\displaystyle \\Delta$"
      ],
      "text/plain": [
       "Delta"
      ]
     },
     "execution_count": 3,
     "metadata": {},
     "output_type": "execute_result"
    }
   ],
   "source": [
    "# tick width\n",
    "delta"
   ]
  },
  {
   "cell_type": "code",
   "execution_count": 4,
   "id": "9a4cb065-20e1-446a-8874-860274b65274",
   "metadata": {},
   "outputs": [
    {
     "data": {
      "text/latex": [
       "$\\displaystyle \\tau$"
      ],
      "text/plain": [
       "tau"
      ]
     },
     "execution_count": 4,
     "metadata": {},
     "output_type": "execute_result"
    }
   ],
   "source": [
    "# rebalancing period\n",
    "tau"
   ]
  },
  {
   "cell_type": "code",
   "execution_count": 5,
   "id": "a9cf5e4f-324b-4519-b12f-7112472e60eb",
   "metadata": {},
   "outputs": [
    {
     "data": {
      "text/latex": [
       "$\\displaystyle \\sigma$"
      ],
      "text/plain": [
       "sigma"
      ]
     },
     "execution_count": 5,
     "metadata": {},
     "output_type": "execute_result"
    }
   ],
   "source": [
    "# log-normal vol\n",
    "sig"
   ]
  },
  {
   "cell_type": "code",
   "execution_count": 6,
   "id": "e6cc5a5f-b58d-4884-91f8-6b85eb241036",
   "metadata": {},
   "outputs": [
    {
     "data": {
      "text/latex": [
       "$\\displaystyle \\theta$"
      ],
      "text/plain": [
       "theta"
      ]
     },
     "execution_count": 6,
     "metadata": {},
     "output_type": "execute_result"
    }
   ],
   "source": [
    "# pool fee volume per unit of virtual reserves\n",
    "theta"
   ]
  },
  {
   "cell_type": "code",
   "execution_count": 7,
   "id": "cdd0d864-89f6-44f6-b88b-e6f6971be58c",
   "metadata": {},
   "outputs": [
    {
     "data": {
      "text/latex": [
       "$\\displaystyle Z$"
      ],
      "text/plain": [
       "Z"
      ]
     },
     "execution_count": 7,
     "metadata": {},
     "output_type": "execute_result"
    }
   ],
   "source": [
    "# standard normal RV\n",
    "Z = Normal('Z', 0, 1)\n",
    "Z"
   ]
  },
  {
   "cell_type": "code",
   "execution_count": 8,
   "id": "67dc97ed-cefa-421d-b4bd-2e0131dd6c54",
   "metadata": {},
   "outputs": [],
   "source": [
    "# alias standard norm cdf: Phi(z)\n",
    "Phi = cdf(Z)"
   ]
  },
  {
   "cell_type": "code",
   "execution_count": 9,
   "id": "15c5f539-982a-4c7b-8f7d-5101b872530b",
   "metadata": {},
   "outputs": [
    {
     "data": {
      "text/latex": [
       "$\\displaystyle \\frac{\\Delta}{\\sigma \\sqrt{\\tau}}$"
      ],
      "text/plain": [
       "Delta/(sigma*sqrt(tau))"
      ]
     },
     "execution_count": 9,
     "metadata": {},
     "output_type": "execute_result"
    }
   ],
   "source": [
    "# \"normalized\" delta\n",
    "d = delta / (sig * sqrt(tau))\n",
    "d"
   ]
  },
  {
   "cell_type": "code",
   "execution_count": 10,
   "id": "55fffbfb-9137-472b-b39a-0ef67feaee1d",
   "metadata": {},
   "outputs": [
    {
     "data": {
      "text/latex": [
       "$\\displaystyle \\theta \\int\\limits_{0}^{\\tau} \\left(\\left(- \\frac{\\operatorname{erf}{\\left(\\frac{\\sqrt{2} \\left(- \\frac{\\Delta}{\\sigma \\sqrt{t}} - \\sigma \\sqrt{t}\\right)}{2} \\right)}}{2} + \\frac{\\operatorname{erf}{\\left(\\frac{\\sqrt{2} \\left(\\frac{\\Delta}{\\sigma \\sqrt{t}} - \\sigma \\sqrt{t}\\right)}{2} \\right)}}{2}\\right) e^{\\frac{\\sigma^{2} \\tau}{2}} + \\operatorname{erf}{\\left(\\frac{\\sqrt{2} \\Delta}{2 \\sigma \\sqrt{t}} \\right)}\\right)\\, dt$"
      ],
      "text/plain": [
       "theta*Integral((-erf(sqrt(2)*(-Delta/(sigma*sqrt(t)) - sigma*sqrt(t))/2)/2 + erf(sqrt(2)*(Delta/(sigma*sqrt(t)) - sigma*sqrt(t))/2)/2)*exp(sigma**2*tau/2) + erf(sqrt(2)*Delta/(2*sigma*sqrt(t))), (t, 0, tau))"
      ]
     },
     "execution_count": 10,
     "metadata": {},
     "output_type": "execute_result"
    }
   ],
   "source": [
    "# term for fee revenue EV unevaluated\n",
    "t = Symbol('t')\n",
    "d_t = delta / (sig * sqrt(t))\n",
    "integrand_fee = Phi(d_t) - Phi(-d_t) + E**(sig**2 * tau / 2) * ( Phi(d_t - sig * sqrt(t)) - Phi(-d_t - sig * sqrt(t)) )\n",
    "\n",
    "ev_fee_int = theta * Integral(integrand_fee, (t, 0, tau))\n",
    "ev_fee_int"
   ]
  },
  {
   "cell_type": "code",
   "execution_count": 11,
   "id": "2669b856-b2e6-4cc8-ab12-1b8f23f08962",
   "metadata": {},
   "outputs": [
    {
     "data": {
      "text/latex": [
       "$\\displaystyle \\frac{\\left(2 \\Delta + 1 - e^{- 2 \\Delta}\\right) \\operatorname{erf}{\\left(\\frac{\\sqrt{2} \\left(- \\frac{\\Delta}{\\sigma \\sqrt{\\tau}} + \\sigma \\sqrt{\\tau}\\right)}{2} \\right)} + \\left(2 \\Delta + e^{2 \\Delta} - 1\\right) \\operatorname{erf}{\\left(\\frac{\\sqrt{2} \\left(\\frac{\\Delta}{\\sigma \\sqrt{\\tau}} + \\sigma \\sqrt{\\tau}\\right)}{2} \\right)} - 2 \\cosh{\\left(2 \\Delta \\right)} + 2}{4 \\sigma^{2}}$"
      ],
      "text/plain": [
       "((2*Delta + 1 - exp(-2*Delta))*erf(sqrt(2)*(-Delta/(sigma*sqrt(tau)) + sigma*sqrt(tau))/2) + (2*Delta + exp(2*Delta) - 1)*erf(sqrt(2)*(Delta/(sigma*sqrt(tau)) + sigma*sqrt(tau))/2) - 2*cosh(2*Delta) + 2)/(4*sigma**2)"
      ]
     },
     "execution_count": 11,
     "metadata": {},
     "output_type": "execute_result"
    }
   ],
   "source": [
    "# terms for fee revenue EV -- integral evaluated with Wolfram\n",
    "ev_fee_term00 = (1/(4 * sig**2)) * ( 2 * (1 - cosh(2*delta)) +  (2 * delta + 1 - E**(-2*delta)) * erf((-d + sig * sqrt(tau)) / sqrt(2)) + (2*delta - 1 + E**(2 * delta)) * erf( (d + sig * sqrt(tau)) /sqrt(2)) )\n",
    "ev_fee_term00"
   ]
  },
  {
   "cell_type": "code",
   "execution_count": 12,
   "id": "c19f45df-b25d-4ef1-917e-2ddbadf26d18",
   "metadata": {},
   "outputs": [
    {
     "data": {
      "text/latex": [
       "$\\displaystyle \\frac{\\tau \\left(\\operatorname{erf}{\\left(\\frac{\\sqrt{2} \\left(\\frac{\\Delta}{\\sigma \\sqrt{\\tau}} - \\sigma \\sqrt{\\tau}\\right)}{2} \\right)} + \\operatorname{erf}{\\left(\\frac{\\sqrt{2} \\left(\\frac{\\Delta}{\\sigma \\sqrt{\\tau}} + \\sigma \\sqrt{\\tau}\\right)}{2} \\right)}\\right)}{2}$"
      ],
      "text/plain": [
       "tau*(erf(sqrt(2)*(Delta/(sigma*sqrt(tau)) - sigma*sqrt(tau))/2) + erf(sqrt(2)*(Delta/(sigma*sqrt(tau)) + sigma*sqrt(tau))/2))/2"
      ]
     },
     "execution_count": 12,
     "metadata": {},
     "output_type": "execute_result"
    }
   ],
   "source": [
    "ev_fee_term01 = (tau / 2) * (erf( (d - sig * sqrt(tau)) / sqrt(2)) + erf( (d + sig * sqrt(tau)) / sqrt(2)))\n",
    "ev_fee_term01"
   ]
  },
  {
   "cell_type": "code",
   "execution_count": 13,
   "id": "329f4be9-ae84-47d3-8e22-32a23c9ca8d5",
   "metadata": {},
   "outputs": [
    {
     "data": {
      "text/latex": [
       "$\\displaystyle \\frac{\\sqrt{2} \\sqrt{\\tau} \\left(e^{- \\frac{\\left(\\frac{\\Delta}{\\sigma \\sqrt{\\tau}} + \\sigma \\sqrt{\\tau}\\right)^{2}}{2}} - e^{- \\frac{\\left(\\frac{\\Delta}{\\sigma \\sqrt{\\tau}} - \\sigma \\sqrt{\\tau}\\right)^{2}}{2}}\\right)}{2 \\sqrt{\\pi} \\sigma}$"
      ],
      "text/plain": [
       "sqrt(2)*sqrt(tau)*(exp(-(Delta/(sigma*sqrt(tau)) + sigma*sqrt(tau))**2/2) - exp(-(Delta/(sigma*sqrt(tau)) - sigma*sqrt(tau))**2/2))/(2*sqrt(pi)*sigma)"
      ]
     },
     "execution_count": 13,
     "metadata": {},
     "output_type": "execute_result"
    }
   ],
   "source": [
    "ev_fee_term12 = sqrt(tau/(2 * pi)) * (1/sig) * (E**(-(d + sig * sqrt(tau))**2 / 2) - E**(-(d - sig * sqrt(tau))**2 / 2))\n",
    "ev_fee_term12"
   ]
  },
  {
   "cell_type": "code",
   "execution_count": 14,
   "id": "f24380d4-0bfe-4a72-bde7-338c940101b8",
   "metadata": {},
   "outputs": [
    {
     "data": {
      "text/latex": [
       "$\\displaystyle - \\frac{\\Delta^{2}}{\\sigma^{2}} + \\frac{\\sqrt{2} \\Delta \\sqrt{\\tau} e^{- \\frac{\\Delta^{2}}{2 \\sigma^{2} \\tau}}}{\\sqrt{\\pi} \\sigma} + \\left(\\frac{\\Delta^{2}}{\\sigma^{2}} + \\tau\\right) \\operatorname{erf}{\\left(\\frac{\\sqrt{2} \\Delta}{2 \\sigma \\sqrt{\\tau}} \\right)}$"
      ],
      "text/plain": [
       "-Delta**2/sigma**2 + sqrt(2)*Delta*sqrt(tau)*exp(-Delta**2/(2*sigma**2*tau))/(sqrt(pi)*sigma) + (Delta**2/sigma**2 + tau)*erf(sqrt(2)*Delta/(2*sigma*sqrt(tau)))"
      ]
     },
     "execution_count": 14,
     "metadata": {},
     "output_type": "execute_result"
    }
   ],
   "source": [
    "ev_fee_base = ( (delta / sig)**2 + tau ) * erf(delta / (sig * sqrt(2 * tau))) + sqrt(2/pi) * sqrt(tau) * (delta/sig) * E**(-(delta/(sig * sqrt(tau)))**2/2) - (delta / sig)**2\n",
    "ev_fee_base"
   ]
  },
  {
   "cell_type": "code",
   "execution_count": 15,
   "id": "ae7147e5-22fd-4a26-bfd9-67450562e45f",
   "metadata": {},
   "outputs": [
    {
     "data": {
      "text/latex": [
       "$\\displaystyle \\theta \\left(- \\frac{\\Delta^{2}}{\\sigma^{2}} + \\frac{\\sqrt{2} \\Delta \\sqrt{\\tau} e^{- \\frac{\\Delta^{2}}{2 \\sigma^{2} \\tau}}}{\\sqrt{\\pi} \\sigma} + \\left(\\frac{\\Delta^{2}}{\\sigma^{2}} + \\tau\\right) \\operatorname{erf}{\\left(\\frac{\\sqrt{2} \\Delta}{2 \\sigma \\sqrt{\\tau}} \\right)} + \\left(\\frac{\\tau \\left(\\operatorname{erf}{\\left(\\frac{\\sqrt{2} \\left(\\frac{\\Delta}{\\sigma \\sqrt{\\tau}} - \\sigma \\sqrt{\\tau}\\right)}{2} \\right)} + \\operatorname{erf}{\\left(\\frac{\\sqrt{2} \\left(\\frac{\\Delta}{\\sigma \\sqrt{\\tau}} + \\sigma \\sqrt{\\tau}\\right)}{2} \\right)}\\right)}{2} + \\frac{\\sqrt{2} \\sqrt{\\tau} \\left(e^{- \\frac{\\left(\\frac{\\Delta}{\\sigma \\sqrt{\\tau}} + \\sigma \\sqrt{\\tau}\\right)^{2}}{2}} - e^{- \\frac{\\left(\\frac{\\Delta}{\\sigma \\sqrt{\\tau}} - \\sigma \\sqrt{\\tau}\\right)^{2}}{2}}\\right)}{2 \\sqrt{\\pi} \\sigma} + \\frac{\\left(2 \\Delta + 1 - e^{- 2 \\Delta}\\right) \\operatorname{erf}{\\left(\\frac{\\sqrt{2} \\left(- \\frac{\\Delta}{\\sigma \\sqrt{\\tau}} + \\sigma \\sqrt{\\tau}\\right)}{2} \\right)} + \\left(2 \\Delta + e^{2 \\Delta} - 1\\right) \\operatorname{erf}{\\left(\\frac{\\sqrt{2} \\left(\\frac{\\Delta}{\\sigma \\sqrt{\\tau}} + \\sigma \\sqrt{\\tau}\\right)}{2} \\right)} - 2 \\cosh{\\left(2 \\Delta \\right)} + 2}{4 \\sigma^{2}}\\right) e^{\\frac{\\sigma^{2} \\tau}{2}}\\right)$"
      ],
      "text/plain": [
       "theta*(-Delta**2/sigma**2 + sqrt(2)*Delta*sqrt(tau)*exp(-Delta**2/(2*sigma**2*tau))/(sqrt(pi)*sigma) + (Delta**2/sigma**2 + tau)*erf(sqrt(2)*Delta/(2*sigma*sqrt(tau))) + (tau*(erf(sqrt(2)*(Delta/(sigma*sqrt(tau)) - sigma*sqrt(tau))/2) + erf(sqrt(2)*(Delta/(sigma*sqrt(tau)) + sigma*sqrt(tau))/2))/2 + sqrt(2)*sqrt(tau)*(exp(-(Delta/(sigma*sqrt(tau)) + sigma*sqrt(tau))**2/2) - exp(-(Delta/(sigma*sqrt(tau)) - sigma*sqrt(tau))**2/2))/(2*sqrt(pi)*sigma) + ((2*Delta + 1 - exp(-2*Delta))*erf(sqrt(2)*(-Delta/(sigma*sqrt(tau)) + sigma*sqrt(tau))/2) + (2*Delta + exp(2*Delta) - 1)*erf(sqrt(2)*(Delta/(sigma*sqrt(tau)) + sigma*sqrt(tau))/2) - 2*cosh(2*Delta) + 2)/(4*sigma**2))*exp(sigma**2*tau/2))"
      ]
     },
     "execution_count": 15,
     "metadata": {},
     "output_type": "execute_result"
    }
   ],
   "source": [
    "ev_fee = theta * ( ev_fee_base + E**(sig**2 * tau / 2) * (ev_fee_term00 + ev_fee_term01 + ev_fee_term12) )\n",
    "ev_fee"
   ]
  },
  {
   "cell_type": "code",
   "execution_count": 16,
   "id": "39aef109-becd-4b45-ad5a-2d229d8e2bb2",
   "metadata": {},
   "outputs": [
    {
     "data": {
      "text/latex": [
       "$\\displaystyle \\operatorname{erf}{\\left(\\frac{\\sqrt{2} \\Delta}{2 \\sigma \\sqrt{\\tau}} \\right)}$"
      ],
      "text/plain": [
       "erf(sqrt(2)*Delta/(2*sigma*sqrt(tau)))"
      ]
     },
     "execution_count": 16,
     "metadata": {},
     "output_type": "execute_result"
    }
   ],
   "source": [
    "# check on wolfram (1) ..\n",
    "simplify(diff(ev_fee_base, tau, 1))"
   ]
  },
  {
   "cell_type": "code",
   "execution_count": 17,
   "id": "f35f0e0f-6b20-48f7-b9ad-201f572f1c5d",
   "metadata": {},
   "outputs": [
    {
     "data": {
      "text/latex": [
       "$\\displaystyle \\frac{\\operatorname{erf}{\\left(\\frac{\\sqrt{2} \\left(\\Delta - \\sigma^{2} \\tau\\right)}{2 \\sigma \\sqrt{\\tau}} \\right)}}{2} + \\frac{\\operatorname{erf}{\\left(\\frac{\\sqrt{2} \\left(\\Delta + \\sigma^{2} \\tau\\right)}{2 \\sigma \\sqrt{\\tau}} \\right)}}{2}$"
      ],
      "text/plain": [
       "erf(sqrt(2)*(Delta - sigma**2*tau)/(2*sigma*sqrt(tau)))/2 + erf(sqrt(2)*(Delta + sigma**2*tau)/(2*sigma*sqrt(tau)))/2"
      ]
     },
     "execution_count": 17,
     "metadata": {},
     "output_type": "execute_result"
    }
   ],
   "source": [
    "# check on wolfram (2) ..\n",
    "simplify(diff(ev_fee_term00 + ev_fee_term01 + ev_fee_term12, tau, 1))"
   ]
  },
  {
   "cell_type": "code",
   "execution_count": 18,
   "id": "e2c60597-284f-4326-b79f-d7f351a18053",
   "metadata": {},
   "outputs": [
    {
     "data": {
      "text/latex": [
       "$\\displaystyle 2 \\left(- \\frac{\\operatorname{erf}{\\left(\\frac{\\sqrt{2} \\left(- \\frac{\\Delta}{\\sigma \\sqrt{\\tau}} - \\frac{\\sigma \\sqrt{\\tau}}{2}\\right)}{2} \\right)}}{2} + \\frac{\\operatorname{erf}{\\left(\\frac{\\sqrt{2} \\left(\\frac{\\Delta}{\\sigma \\sqrt{\\tau}} - \\frac{\\sigma \\sqrt{\\tau}}{2}\\right)}{2} \\right)}}{2}\\right) e^{\\frac{\\sigma^{2} \\tau}{8}} + \\left(\\left(\\frac{\\operatorname{erf}{\\left(\\frac{\\sqrt{2} \\left(- \\frac{\\Delta}{\\sigma \\sqrt{\\tau}} - \\sigma \\sqrt{\\tau}\\right)}{2} \\right)}}{2} + \\frac{1}{2}\\right) e^{\\frac{\\sigma^{2} \\tau}{2}} - \\frac{\\operatorname{erf}{\\left(\\frac{\\sqrt{2} \\Delta}{2 \\sigma \\sqrt{\\tau}} \\right)}}{2} + \\frac{1}{2}\\right) e^{\\frac{\\Delta}{2}} - \\left(\\left(\\frac{\\operatorname{erf}{\\left(\\frac{\\sqrt{2} \\left(\\frac{\\Delta}{\\sigma \\sqrt{\\tau}} - \\sigma \\sqrt{\\tau}\\right)}{2} \\right)}}{2} + \\frac{1}{2}\\right) e^{\\frac{\\sigma^{2} \\tau}{2}} + \\frac{\\operatorname{erf}{\\left(\\frac{\\sqrt{2} \\Delta}{2 \\sigma \\sqrt{\\tau}} \\right)}}{2} + \\frac{1}{2}\\right) e^{- \\frac{\\Delta}{2}}$"
      ],
      "text/plain": [
       "2*(-erf(sqrt(2)*(-Delta/(sigma*sqrt(tau)) - sigma*sqrt(tau)/2)/2)/2 + erf(sqrt(2)*(Delta/(sigma*sqrt(tau)) - sigma*sqrt(tau)/2)/2)/2)*exp(sigma**2*tau/8) + ((erf(sqrt(2)*(-Delta/(sigma*sqrt(tau)) - sigma*sqrt(tau))/2)/2 + 1/2)*exp(sigma**2*tau/2) - erf(sqrt(2)*Delta/(2*sigma*sqrt(tau)))/2 + 1/2)*exp(Delta/2) - ((erf(sqrt(2)*(Delta/(sigma*sqrt(tau)) - sigma*sqrt(tau))/2)/2 + 1/2)*exp(sigma**2*tau/2) + erf(sqrt(2)*Delta/(2*sigma*sqrt(tau)))/2 + 1/2)*exp(-Delta/2)"
      ]
     },
     "execution_count": 18,
     "metadata": {},
     "output_type": "execute_result"
    }
   ],
   "source": [
    "# term for principal EV\n",
    "ev_principal = 2 * E**(sig**2 * tau / 8) * (Phi(d - sig * sqrt(tau) / 2) - Phi(-d - sig * sqrt(tau) / 2)) - E**(-delta / 2) * (1 - Phi(-d) + E**(sig**2 * tau / 2) * Phi(d - sig * sqrt(tau))) + E**(delta/2) * (1 - Phi(d) + E**(sig**2 * tau/2) * Phi(-d - sig*sqrt(tau)))\n",
    "ev_principal"
   ]
  },
  {
   "cell_type": "code",
   "execution_count": 19,
   "id": "ab9230f1-3b0c-4b66-8ac3-1339124f02ab",
   "metadata": {},
   "outputs": [
    {
     "data": {
      "text/latex": [
       "$\\displaystyle \\theta \\left(- \\frac{\\Delta^{2}}{\\sigma^{2}} + \\frac{\\sqrt{2} \\Delta \\sqrt{\\tau} e^{- \\frac{\\Delta^{2}}{2 \\sigma^{2} \\tau}}}{\\sqrt{\\pi} \\sigma} + \\left(\\frac{\\Delta^{2}}{\\sigma^{2}} + \\tau\\right) \\operatorname{erf}{\\left(\\frac{\\sqrt{2} \\Delta}{2 \\sigma \\sqrt{\\tau}} \\right)} + \\left(\\frac{\\tau \\left(\\operatorname{erf}{\\left(\\frac{\\sqrt{2} \\left(\\frac{\\Delta}{\\sigma \\sqrt{\\tau}} - \\sigma \\sqrt{\\tau}\\right)}{2} \\right)} + \\operatorname{erf}{\\left(\\frac{\\sqrt{2} \\left(\\frac{\\Delta}{\\sigma \\sqrt{\\tau}} + \\sigma \\sqrt{\\tau}\\right)}{2} \\right)}\\right)}{2} + \\frac{\\sqrt{2} \\sqrt{\\tau} \\left(e^{- \\frac{\\left(\\frac{\\Delta}{\\sigma \\sqrt{\\tau}} + \\sigma \\sqrt{\\tau}\\right)^{2}}{2}} - e^{- \\frac{\\left(\\frac{\\Delta}{\\sigma \\sqrt{\\tau}} - \\sigma \\sqrt{\\tau}\\right)^{2}}{2}}\\right)}{2 \\sqrt{\\pi} \\sigma} + \\frac{\\left(2 \\Delta + 1 - e^{- 2 \\Delta}\\right) \\operatorname{erf}{\\left(\\frac{\\sqrt{2} \\left(- \\frac{\\Delta}{\\sigma \\sqrt{\\tau}} + \\sigma \\sqrt{\\tau}\\right)}{2} \\right)} + \\left(2 \\Delta + e^{2 \\Delta} - 1\\right) \\operatorname{erf}{\\left(\\frac{\\sqrt{2} \\left(\\frac{\\Delta}{\\sigma \\sqrt{\\tau}} + \\sigma \\sqrt{\\tau}\\right)}{2} \\right)} - 2 \\cosh{\\left(2 \\Delta \\right)} + 2}{4 \\sigma^{2}}\\right) e^{\\frac{\\sigma^{2} \\tau}{2}}\\right) + 2 \\left(- \\frac{\\operatorname{erf}{\\left(\\frac{\\sqrt{2} \\left(- \\frac{\\Delta}{\\sigma \\sqrt{\\tau}} - \\frac{\\sigma \\sqrt{\\tau}}{2}\\right)}{2} \\right)}}{2} + \\frac{\\operatorname{erf}{\\left(\\frac{\\sqrt{2} \\left(\\frac{\\Delta}{\\sigma \\sqrt{\\tau}} - \\frac{\\sigma \\sqrt{\\tau}}{2}\\right)}{2} \\right)}}{2}\\right) e^{\\frac{\\sigma^{2} \\tau}{8}} + \\left(\\left(\\frac{\\operatorname{erf}{\\left(\\frac{\\sqrt{2} \\left(- \\frac{\\Delta}{\\sigma \\sqrt{\\tau}} - \\sigma \\sqrt{\\tau}\\right)}{2} \\right)}}{2} + \\frac{1}{2}\\right) e^{\\frac{\\sigma^{2} \\tau}{2}} - \\frac{\\operatorname{erf}{\\left(\\frac{\\sqrt{2} \\Delta}{2 \\sigma \\sqrt{\\tau}} \\right)}}{2} + \\frac{1}{2}\\right) e^{\\frac{\\Delta}{2}} - \\left(\\left(\\frac{\\operatorname{erf}{\\left(\\frac{\\sqrt{2} \\left(\\frac{\\Delta}{\\sigma \\sqrt{\\tau}} - \\sigma \\sqrt{\\tau}\\right)}{2} \\right)}}{2} + \\frac{1}{2}\\right) e^{\\frac{\\sigma^{2} \\tau}{2}} + \\frac{\\operatorname{erf}{\\left(\\frac{\\sqrt{2} \\Delta}{2 \\sigma \\sqrt{\\tau}} \\right)}}{2} + \\frac{1}{2}\\right) e^{- \\frac{\\Delta}{2}}$"
      ],
      "text/plain": [
       "theta*(-Delta**2/sigma**2 + sqrt(2)*Delta*sqrt(tau)*exp(-Delta**2/(2*sigma**2*tau))/(sqrt(pi)*sigma) + (Delta**2/sigma**2 + tau)*erf(sqrt(2)*Delta/(2*sigma*sqrt(tau))) + (tau*(erf(sqrt(2)*(Delta/(sigma*sqrt(tau)) - sigma*sqrt(tau))/2) + erf(sqrt(2)*(Delta/(sigma*sqrt(tau)) + sigma*sqrt(tau))/2))/2 + sqrt(2)*sqrt(tau)*(exp(-(Delta/(sigma*sqrt(tau)) + sigma*sqrt(tau))**2/2) - exp(-(Delta/(sigma*sqrt(tau)) - sigma*sqrt(tau))**2/2))/(2*sqrt(pi)*sigma) + ((2*Delta + 1 - exp(-2*Delta))*erf(sqrt(2)*(-Delta/(sigma*sqrt(tau)) + sigma*sqrt(tau))/2) + (2*Delta + exp(2*Delta) - 1)*erf(sqrt(2)*(Delta/(sigma*sqrt(tau)) + sigma*sqrt(tau))/2) - 2*cosh(2*Delta) + 2)/(4*sigma**2))*exp(sigma**2*tau/2)) + 2*(-erf(sqrt(2)*(-Delta/(sigma*sqrt(tau)) - sigma*sqrt(tau)/2)/2)/2 + erf(sqrt(2)*(Delta/(sigma*sqrt(tau)) - sigma*sqrt(tau)/2)/2)/2)*exp(sigma**2*tau/8) + ((erf(sqrt(2)*(-Delta/(sigma*sqrt(tau)) - sigma*sqrt(tau))/2)/2 + 1/2)*exp(sigma**2*tau/2) - erf(sqrt(2)*Delta/(2*sigma*sqrt(tau)))/2 + 1/2)*exp(Delta/2) - ((erf(sqrt(2)*(Delta/(sigma*sqrt(tau)) - sigma*sqrt(tau))/2)/2 + 1/2)*exp(sigma**2*tau/2) + erf(sqrt(2)*Delta/(2*sigma*sqrt(tau)))/2 + 1/2)*exp(-Delta/2)"
      ]
     },
     "execution_count": 19,
     "metadata": {},
     "output_type": "execute_result"
    }
   ],
   "source": [
    "# intermediate function to make life easier\n",
    "# NOTE: g = ev_fee + ev_principal\n",
    "g = ev_fee + ev_principal\n",
    "g"
   ]
  },
  {
   "cell_type": "code",
   "execution_count": 20,
   "id": "32a604ed-82e4-43e1-af46-22e6c168cb84",
   "metadata": {},
   "outputs": [
    {
     "data": {
      "text/latex": [
       "$\\displaystyle - e^{\\frac{\\sigma^{2} \\tau}{2}} - 1 + \\frac{\\theta \\left(- \\frac{\\Delta^{2}}{\\sigma^{2}} + \\frac{\\sqrt{2} \\Delta \\sqrt{\\tau} e^{- \\frac{\\Delta^{2}}{2 \\sigma^{2} \\tau}}}{\\sqrt{\\pi} \\sigma} + \\left(\\frac{\\Delta^{2}}{\\sigma^{2}} + \\tau\\right) \\operatorname{erf}{\\left(\\frac{\\sqrt{2} \\Delta}{2 \\sigma \\sqrt{\\tau}} \\right)} + \\left(\\frac{\\tau \\left(\\operatorname{erf}{\\left(\\frac{\\sqrt{2} \\left(\\frac{\\Delta}{\\sigma \\sqrt{\\tau}} - \\sigma \\sqrt{\\tau}\\right)}{2} \\right)} + \\operatorname{erf}{\\left(\\frac{\\sqrt{2} \\left(\\frac{\\Delta}{\\sigma \\sqrt{\\tau}} + \\sigma \\sqrt{\\tau}\\right)}{2} \\right)}\\right)}{2} + \\frac{\\sqrt{2} \\sqrt{\\tau} \\left(e^{- \\frac{\\left(\\frac{\\Delta}{\\sigma \\sqrt{\\tau}} + \\sigma \\sqrt{\\tau}\\right)^{2}}{2}} - e^{- \\frac{\\left(\\frac{\\Delta}{\\sigma \\sqrt{\\tau}} - \\sigma \\sqrt{\\tau}\\right)^{2}}{2}}\\right)}{2 \\sqrt{\\pi} \\sigma} + \\frac{\\left(2 \\Delta + 1 - e^{- 2 \\Delta}\\right) \\operatorname{erf}{\\left(\\frac{\\sqrt{2} \\left(- \\frac{\\Delta}{\\sigma \\sqrt{\\tau}} + \\sigma \\sqrt{\\tau}\\right)}{2} \\right)} + \\left(2 \\Delta + e^{2 \\Delta} - 1\\right) \\operatorname{erf}{\\left(\\frac{\\sqrt{2} \\left(\\frac{\\Delta}{\\sigma \\sqrt{\\tau}} + \\sigma \\sqrt{\\tau}\\right)}{2} \\right)} - 2 \\cosh{\\left(2 \\Delta \\right)} + 2}{4 \\sigma^{2}}\\right) e^{\\frac{\\sigma^{2} \\tau}{2}}\\right) + 2 \\left(- \\frac{\\operatorname{erf}{\\left(\\frac{\\sqrt{2} \\left(- \\frac{\\Delta}{\\sigma \\sqrt{\\tau}} - \\frac{\\sigma \\sqrt{\\tau}}{2}\\right)}{2} \\right)}}{2} + \\frac{\\operatorname{erf}{\\left(\\frac{\\sqrt{2} \\left(\\frac{\\Delta}{\\sigma \\sqrt{\\tau}} - \\frac{\\sigma \\sqrt{\\tau}}{2}\\right)}{2} \\right)}}{2}\\right) e^{\\frac{\\sigma^{2} \\tau}{8}} + \\left(\\left(\\frac{\\operatorname{erf}{\\left(\\frac{\\sqrt{2} \\left(- \\frac{\\Delta}{\\sigma \\sqrt{\\tau}} - \\sigma \\sqrt{\\tau}\\right)}{2} \\right)}}{2} + \\frac{1}{2}\\right) e^{\\frac{\\sigma^{2} \\tau}{2}} - \\frac{\\operatorname{erf}{\\left(\\frac{\\sqrt{2} \\Delta}{2 \\sigma \\sqrt{\\tau}} \\right)}}{2} + \\frac{1}{2}\\right) e^{\\frac{\\Delta}{2}} - \\left(\\left(\\frac{\\operatorname{erf}{\\left(\\frac{\\sqrt{2} \\left(\\frac{\\Delta}{\\sigma \\sqrt{\\tau}} - \\sigma \\sqrt{\\tau}\\right)}{2} \\right)}}{2} + \\frac{1}{2}\\right) e^{\\frac{\\sigma^{2} \\tau}{2}} + \\frac{\\operatorname{erf}{\\left(\\frac{\\sqrt{2} \\Delta}{2 \\sigma \\sqrt{\\tau}} \\right)}}{2} + \\frac{1}{2}\\right) e^{- \\frac{\\Delta}{2}}}{1 - e^{- \\frac{\\Delta}{2}}}$"
      ],
      "text/plain": [
       "-exp(sigma**2*tau/2) - 1 + (theta*(-Delta**2/sigma**2 + sqrt(2)*Delta*sqrt(tau)*exp(-Delta**2/(2*sigma**2*tau))/(sqrt(pi)*sigma) + (Delta**2/sigma**2 + tau)*erf(sqrt(2)*Delta/(2*sigma*sqrt(tau))) + (tau*(erf(sqrt(2)*(Delta/(sigma*sqrt(tau)) - sigma*sqrt(tau))/2) + erf(sqrt(2)*(Delta/(sigma*sqrt(tau)) + sigma*sqrt(tau))/2))/2 + sqrt(2)*sqrt(tau)*(exp(-(Delta/(sigma*sqrt(tau)) + sigma*sqrt(tau))**2/2) - exp(-(Delta/(sigma*sqrt(tau)) - sigma*sqrt(tau))**2/2))/(2*sqrt(pi)*sigma) + ((2*Delta + 1 - exp(-2*Delta))*erf(sqrt(2)*(-Delta/(sigma*sqrt(tau)) + sigma*sqrt(tau))/2) + (2*Delta + exp(2*Delta) - 1)*erf(sqrt(2)*(Delta/(sigma*sqrt(tau)) + sigma*sqrt(tau))/2) - 2*cosh(2*Delta) + 2)/(4*sigma**2))*exp(sigma**2*tau/2)) + 2*(-erf(sqrt(2)*(-Delta/(sigma*sqrt(tau)) - sigma*sqrt(tau)/2)/2)/2 + erf(sqrt(2)*(Delta/(sigma*sqrt(tau)) - sigma*sqrt(tau)/2)/2)/2)*exp(sigma**2*tau/8) + ((erf(sqrt(2)*(-Delta/(sigma*sqrt(tau)) - sigma*sqrt(tau))/2)/2 + 1/2)*exp(sigma**2*tau/2) - erf(sqrt(2)*Delta/(2*sigma*sqrt(tau)))/2 + 1/2)*exp(Delta/2) - ((erf(sqrt(2)*(Delta/(sigma*sqrt(tau)) - sigma*sqrt(tau))/2)/2 + 1/2)*exp(sigma**2*tau/2) + erf(sqrt(2)*Delta/(2*sigma*sqrt(tau)))/2 + 1/2)*exp(-Delta/2))/(1 - exp(-Delta/2))"
      ]
     },
     "execution_count": 20,
     "metadata": {},
     "output_type": "execute_result"
    }
   ],
   "source": [
    "# full ev expression for uni v3 LPs\n",
    "h = - ( 1 + E**(sig**2 * tau / 2) ) + (g / (1 - E**(-delta/2)))\n",
    "h"
   ]
  },
  {
   "cell_type": "code",
   "execution_count": 21,
   "id": "8b051693-de32-48c5-b192-abe6e888a2c1",
   "metadata": {},
   "outputs": [],
   "source": [
    "g_fn = Function('g')(delta, tau)\n",
    "h_fn = - ( 1 + E**(sig**2 * tau / 2) ) + (g_fn / (1 - E**(-delta/2)))"
   ]
  },
  {
   "cell_type": "code",
   "execution_count": 22,
   "id": "b4feaa93-2dc0-4a60-8732-3265c8243664",
   "metadata": {},
   "outputs": [
    {
     "data": {
      "text/latex": [
       "$\\displaystyle - e^{\\frac{\\sigma^{2} \\tau}{2}} - 1 + \\frac{g{\\left(\\Delta,\\tau \\right)}}{1 - e^{- \\frac{\\Delta}{2}}}$"
      ],
      "text/plain": [
       "-exp(sigma**2*tau/2) - 1 + g(Delta, tau)/(1 - exp(-Delta/2))"
      ]
     },
     "execution_count": 22,
     "metadata": {},
     "output_type": "execute_result"
    }
   ],
   "source": [
    "h_fn"
   ]
  },
  {
   "cell_type": "code",
   "execution_count": 23,
   "id": "1bfa04ae-34de-423d-a4de-ff3d068271b9",
   "metadata": {},
   "outputs": [
    {
     "data": {
      "text/latex": [
       "$\\displaystyle \\frac{\\frac{\\partial}{\\partial \\Delta} g{\\left(\\Delta,\\tau \\right)}}{1 - e^{- \\frac{\\Delta}{2}}} - \\frac{g{\\left(\\Delta,\\tau \\right)} e^{- \\frac{\\Delta}{2}}}{2 \\left(1 - e^{- \\frac{\\Delta}{2}}\\right)^{2}}$"
      ],
      "text/plain": [
       "Derivative(g(Delta, tau), Delta)/(1 - exp(-Delta/2)) - g(Delta, tau)*exp(-Delta/2)/(2*(1 - exp(-Delta/2))**2)"
      ]
     },
     "execution_count": 23,
     "metadata": {},
     "output_type": "execute_result"
    }
   ],
   "source": [
    "# delta critical\n",
    "diff(h_fn, delta, 1)"
   ]
  },
  {
   "cell_type": "code",
   "execution_count": 24,
   "id": "cad6f148-e671-461e-a1ca-c0e67718538f",
   "metadata": {},
   "outputs": [
    {
     "data": {
      "text/latex": [
       "$\\displaystyle - \\frac{\\sigma^{2} e^{\\frac{\\sigma^{2} \\tau}{2}}}{2} + \\frac{\\frac{\\partial}{\\partial \\tau} g{\\left(\\Delta,\\tau \\right)}}{1 - e^{- \\frac{\\Delta}{2}}}$"
      ],
      "text/plain": [
       "-sigma**2*exp(sigma**2*tau/2)/2 + Derivative(g(Delta, tau), tau)/(1 - exp(-Delta/2))"
      ]
     },
     "execution_count": 24,
     "metadata": {},
     "output_type": "execute_result"
    }
   ],
   "source": [
    "# tau critical\n",
    "diff(h_fn, tau, 1)"
   ]
  },
  {
   "cell_type": "code",
   "execution_count": 25,
   "id": "c3e8e092-61c8-4411-95b8-ebfbf30fa0d6",
   "metadata": {},
   "outputs": [
    {
     "data": {
      "text/latex": [
       "$\\displaystyle \\frac{\\frac{\\partial^{2}}{\\partial \\Delta^{2}} g{\\left(\\Delta,\\tau \\right)} + \\frac{g{\\left(\\Delta,\\tau \\right)} e^{- \\frac{\\Delta}{2}}}{4 \\cdot \\left(1 - e^{- \\frac{\\Delta}{2}}\\right)} - \\frac{e^{- \\frac{\\Delta}{2}} \\frac{\\partial}{\\partial \\Delta} g{\\left(\\Delta,\\tau \\right)}}{1 - e^{- \\frac{\\Delta}{2}}} + \\frac{g{\\left(\\Delta,\\tau \\right)} e^{- \\Delta}}{2 \\left(1 - e^{- \\frac{\\Delta}{2}}\\right)^{2}}}{1 - e^{- \\frac{\\Delta}{2}}}$"
      ],
      "text/plain": [
       "(Derivative(g(Delta, tau), (Delta, 2)) + g(Delta, tau)*exp(-Delta/2)/(4*(1 - exp(-Delta/2))) - exp(-Delta/2)*Derivative(g(Delta, tau), Delta)/(1 - exp(-Delta/2)) + g(Delta, tau)*exp(-Delta)/(2*(1 - exp(-Delta/2))**2))/(1 - exp(-Delta/2))"
      ]
     },
     "execution_count": 25,
     "metadata": {},
     "output_type": "execute_result"
    }
   ],
   "source": [
    "# d^2 delta\n",
    "diff(h_fn, delta, 2)"
   ]
  },
  {
   "cell_type": "code",
   "execution_count": 26,
   "id": "3d6e87a3-b5b7-42a3-8de1-36206b851597",
   "metadata": {},
   "outputs": [
    {
     "data": {
      "text/latex": [
       "$\\displaystyle - \\frac{\\sigma^{4} e^{\\frac{\\sigma^{2} \\tau}{2}}}{4} + \\frac{\\frac{\\partial^{2}}{\\partial \\tau^{2}} g{\\left(\\Delta,\\tau \\right)}}{1 - e^{- \\frac{\\Delta}{2}}}$"
      ],
      "text/plain": [
       "-sigma**4*exp(sigma**2*tau/2)/4 + Derivative(g(Delta, tau), (tau, 2))/(1 - exp(-Delta/2))"
      ]
     },
     "execution_count": 26,
     "metadata": {},
     "output_type": "execute_result"
    }
   ],
   "source": [
    "# d^2 tau\n",
    "diff(h_fn, tau, 2)"
   ]
  },
  {
   "cell_type": "code",
   "execution_count": 27,
   "id": "9b854785-f3c8-4131-af13-ff63d4fd0ec6",
   "metadata": {},
   "outputs": [
    {
     "data": {
      "text/latex": [
       "$\\displaystyle \\frac{\\frac{\\partial^{2}}{\\partial \\tau\\partial \\Delta} g{\\left(\\Delta,\\tau \\right)}}{1 - e^{- \\frac{\\Delta}{2}}} - \\frac{e^{- \\frac{\\Delta}{2}} \\frac{\\partial}{\\partial \\tau} g{\\left(\\Delta,\\tau \\right)}}{2 \\left(1 - e^{- \\frac{\\Delta}{2}}\\right)^{2}}$"
      ],
      "text/plain": [
       "Derivative(g(Delta, tau), Delta, tau)/(1 - exp(-Delta/2)) - exp(-Delta/2)*Derivative(g(Delta, tau), tau)/(2*(1 - exp(-Delta/2))**2)"
      ]
     },
     "execution_count": 27,
     "metadata": {},
     "output_type": "execute_result"
    }
   ],
   "source": [
    "# dtau ddelta\n",
    "diff(diff(h_fn, delta, 1), tau, 1)"
   ]
  },
  {
   "cell_type": "markdown",
   "id": "113622a5-c123-4868-bf8e-4b78f298ba2f",
   "metadata": {},
   "source": [
    "### Expansion about $(0, 0)$\n",
    "\n",
    "For first order expansion about $(\\Delta, \\tau) \\to (0, 0)$, need the following terms at $(0, 0)$:\n",
    "\n",
    "- $\\partial_{\\Delta} g$\n",
    "- $\\partial_{\\tau} g$\n",
    "- $\\partial^2_{\\tau} g$\n",
    "- $\\partial^2_{\\Delta} g$\n",
    "- $\\partial_{\\tau} \\partial_{\\Delta} g$\n",
    "\n",
    "Split into principal and fee EV terms."
   ]
  },
  {
   "cell_type": "markdown",
   "id": "2c17ca46-3e6e-458e-8f89-12cd8ebc8e5b",
   "metadata": {},
   "source": [
    "### Principal derivative terms"
   ]
  },
  {
   "cell_type": "code",
   "execution_count": 28,
   "id": "b24f43d8-8903-4071-b6ef-902c31886330",
   "metadata": {},
   "outputs": [
    {
     "data": {
      "text/latex": [
       "$\\displaystyle 0$"
      ],
      "text/plain": [
       "0"
      ]
     },
     "execution_count": 28,
     "metadata": {},
     "output_type": "execute_result"
    }
   ],
   "source": [
    "# zeroth order at (0, tau)\n",
    "limit(ev_principal, delta, 0)"
   ]
  },
  {
   "cell_type": "code",
   "execution_count": 29,
   "id": "14f891d0-b7e5-4c5a-87f7-52c5cc1d9f07",
   "metadata": {},
   "outputs": [
    {
     "data": {
      "text/latex": [
       "$\\displaystyle \\left(2 e^{\\frac{\\Delta}{2}} - 2\\right) e^{- \\frac{\\Delta}{2}}$"
      ],
      "text/plain": [
       "(2*exp(Delta/2) - 2)*exp(-Delta/2)"
      ]
     },
     "execution_count": 29,
     "metadata": {},
     "output_type": "execute_result"
    }
   ],
   "source": [
    "# zeroth order at (delta, 0)\n",
    "limit(ev_principal, tau, 0)"
   ]
  },
  {
   "cell_type": "code",
   "execution_count": 30,
   "id": "55447d33-9e69-4928-a4ea-6cde92b9f942",
   "metadata": {},
   "outputs": [
    {
     "data": {
      "text/latex": [
       "$\\displaystyle 0$"
      ],
      "text/plain": [
       "0"
      ]
     },
     "execution_count": 30,
     "metadata": {},
     "output_type": "execute_result"
    }
   ],
   "source": [
    "# zeroth order at (0, 0)\n",
    "limit(limit(ev_principal, tau, 0), delta, 0)"
   ]
  },
  {
   "cell_type": "code",
   "execution_count": 31,
   "id": "3c736a8d-cb20-4b25-b0f0-73f4b88d3c4a",
   "metadata": {},
   "outputs": [
    {
     "data": {
      "text/latex": [
       "$\\displaystyle - \\frac{e^{\\frac{\\sigma^{2} \\tau}{2}} \\operatorname{erf}{\\left(\\frac{\\sqrt{2} \\sigma \\sqrt{\\tau}}{2} \\right)}}{2} + \\frac{e^{\\frac{\\sigma^{2} \\tau}{2}}}{2} + \\frac{1}{2}$"
      ],
      "text/plain": [
       "-exp(sigma**2*tau/2)*erf(sqrt(2)*sigma*sqrt(tau)/2)/2 + exp(sigma**2*tau/2)/2 + 1/2"
      ]
     },
     "execution_count": 31,
     "metadata": {},
     "output_type": "execute_result"
    }
   ],
   "source": [
    "# first order wrt delta at (0, tau)\n",
    "limit(diff(ev_principal, delta, 1), delta, 0)"
   ]
  },
  {
   "cell_type": "code",
   "execution_count": 32,
   "id": "0940e443-e357-4efa-98f6-47bb9226ae6b",
   "metadata": {},
   "outputs": [
    {
     "data": {
      "text/latex": [
       "$\\displaystyle 1$"
      ],
      "text/plain": [
       "1"
      ]
     },
     "execution_count": 32,
     "metadata": {},
     "output_type": "execute_result"
    }
   ],
   "source": [
    "# first order wrt delta at (0, 0)\n",
    "limit(limit(diff(ev_principal, delta, 1), delta, 0), tau, 0)"
   ]
  },
  {
   "cell_type": "code",
   "execution_count": 33,
   "id": "91bd0a9e-9f07-4ea5-aba4-6ab065833d6a",
   "metadata": {},
   "outputs": [
    {
     "data": {
      "text/latex": [
       "$\\displaystyle - \\frac{e^{\\frac{\\sigma^{2} \\tau}{2}} \\operatorname{erf}{\\left(\\frac{\\sqrt{2} \\sigma \\sqrt{\\tau}}{2} \\right)}}{2} + \\frac{e^{\\frac{\\sigma^{2} \\tau}{2}}}{2} + \\frac{1}{2}$"
      ],
      "text/plain": [
       "-exp(sigma**2*tau/2)*erf(sqrt(2)*sigma*sqrt(tau)/2)/2 + exp(sigma**2*tau/2)/2 + 1/2"
      ]
     },
     "execution_count": 33,
     "metadata": {},
     "output_type": "execute_result"
    }
   ],
   "source": [
    "# second order wrt delta at (0, tau)\n",
    "limit(diff(ev_principal, delta, 1), delta, 0)"
   ]
  },
  {
   "cell_type": "code",
   "execution_count": 34,
   "id": "ec1fb31a-974f-4336-86de-d6eb8222cb94",
   "metadata": {},
   "outputs": [
    {
     "data": {
      "text/latex": [
       "$\\displaystyle - \\frac{e^{\\frac{\\sigma^{2} \\tau}{2}} \\operatorname{erf}{\\left(\\frac{\\sqrt{2} \\sigma \\sqrt{\\tau}}{2} \\right)}}{8} + \\frac{e^{\\frac{\\sigma^{2} \\tau}{2}}}{8} + \\frac{1}{8} - \\frac{\\sqrt{2}}{2 \\sqrt{\\pi} \\sigma \\sqrt{\\tau}}$"
      ],
      "text/plain": [
       "-exp(sigma**2*tau/2)*erf(sqrt(2)*sigma*sqrt(tau)/2)/8 + exp(sigma**2*tau/2)/8 + 1/8 - sqrt(2)/(2*sqrt(pi)*sigma*sqrt(tau))"
      ]
     },
     "execution_count": 34,
     "metadata": {},
     "output_type": "execute_result"
    }
   ],
   "source": [
    "# third order wrt delta at (0, tau)\n",
    "simplify(limit(diff(ev_principal, delta, 3), delta, 0))"
   ]
  },
  {
   "cell_type": "code",
   "execution_count": 35,
   "id": "74de8859-63f5-465e-9117-b496cc5200be",
   "metadata": {},
   "outputs": [
    {
     "data": {
      "text/latex": [
       "$\\displaystyle - \\frac{e^{\\frac{\\sigma^{2} \\tau}{2}} \\operatorname{erf}{\\left(\\frac{\\sqrt{2} \\sigma \\sqrt{\\tau}}{2} \\right)}}{4} + \\frac{e^{\\frac{\\sigma^{2} \\tau}{2}}}{4} + \\frac{1}{4}$"
      ],
      "text/plain": [
       "-exp(sigma**2*tau/2)*erf(sqrt(2)*sigma*sqrt(tau)/2)/4 + exp(sigma**2*tau/2)/4 + 1/4"
      ]
     },
     "execution_count": 35,
     "metadata": {},
     "output_type": "execute_result"
    }
   ],
   "source": [
    "# first order h wrt delta at (0, tau)\n",
    "simplify(limit(diff(- ( 1 + E**(sig**2 * tau / 2) ) + (ev_principal / (1 - E**(-delta/2))), delta, 1), delta, 0))"
   ]
  },
  {
   "cell_type": "code",
   "execution_count": 36,
   "id": "284ef9b4-1643-45ba-bab1-f7802372f640",
   "metadata": {},
   "outputs": [
    {
     "data": {
      "text/latex": [
       "$\\displaystyle \\frac{1}{2}$"
      ],
      "text/plain": [
       "1/2"
      ]
     },
     "execution_count": 36,
     "metadata": {},
     "output_type": "execute_result"
    }
   ],
   "source": [
    "# first order h wrt delta at (0, 0)\n",
    "limit(simplify(limit(diff(- ( 1 + E**(sig**2 * tau / 2) ) + (ev_principal / (1 - E**(-delta/2))), delta, 1), delta, 0)), tau, 0)"
   ]
  },
  {
   "cell_type": "code",
   "execution_count": 37,
   "id": "5863dcfb-0087-45aa-ade9-f6472b5af079",
   "metadata": {},
   "outputs": [
    {
     "data": {
      "text/latex": [
       "$\\displaystyle - \\frac{e^{\\frac{\\sigma^{2} \\tau}{2}} \\operatorname{erf}{\\left(\\frac{\\sqrt{2} \\sigma \\sqrt{\\tau}}{2} \\right)}}{8} + \\frac{e^{\\frac{\\sigma^{2} \\tau}{2}}}{8} + \\frac{1}{8} - \\frac{\\sqrt{2}}{3 \\sqrt{\\pi} \\sigma \\sqrt{\\tau}}$"
      ],
      "text/plain": [
       "-exp(sigma**2*tau/2)*erf(sqrt(2)*sigma*sqrt(tau)/2)/8 + exp(sigma**2*tau/2)/8 + 1/8 - sqrt(2)/(3*sqrt(pi)*sigma*sqrt(tau))"
      ]
     },
     "execution_count": 37,
     "metadata": {},
     "output_type": "execute_result"
    }
   ],
   "source": [
    "# second order h wrt delta at (0, tau)\n",
    "simplify(limit(diff(- ( 1 + E**(sig**2 * tau / 2) ) + (ev_principal / (1 - E**(-delta/2))), delta, 2), delta, 0))"
   ]
  },
  {
   "cell_type": "code",
   "execution_count": 38,
   "id": "f7ec0d77-ed76-427e-8826-0a00513c4182",
   "metadata": {},
   "outputs": [
    {
     "data": {
      "text/latex": [
       "$\\displaystyle -\\infty$"
      ],
      "text/plain": [
       "-oo"
      ]
     },
     "execution_count": 38,
     "metadata": {},
     "output_type": "execute_result"
    }
   ],
   "source": [
    "# second order h wrt delta at (0, 0)\n",
    "limit(simplify(limit(diff(- ( 1 + E**(sig**2 * tau / 2) ) + (ev_principal / (1 - E**(-delta/2))), delta, 2), delta, 0)), tau, 0)"
   ]
  },
  {
   "cell_type": "code",
   "execution_count": 39,
   "id": "381c0f5d-28ee-4dba-bacd-4fd26b30e301",
   "metadata": {},
   "outputs": [
    {
     "data": {
      "text/latex": [
       "$\\displaystyle \\frac{\\left(\\sigma^{2} e^{\\frac{\\Delta}{2}} - 2 \\sigma^{2}\\right) e^{- \\frac{\\Delta}{2}}}{4}$"
      ],
      "text/plain": [
       "(sigma**2*exp(Delta/2) - 2*sigma**2)*exp(-Delta/2)/4"
      ]
     },
     "execution_count": 39,
     "metadata": {},
     "output_type": "execute_result"
    }
   ],
   "source": [
    "# first order wrt tau at (delta, 0)\n",
    "limit(diff(ev_principal, tau, 1), tau, 0)"
   ]
  },
  {
   "cell_type": "code",
   "execution_count": 40,
   "id": "ade40d11-dc87-44e3-b20b-5817289a12ca",
   "metadata": {},
   "outputs": [
    {
     "data": {
      "text/latex": [
       "$\\displaystyle - \\frac{\\sigma^{2}}{4}$"
      ],
      "text/plain": [
       "-sigma**2/4"
      ]
     },
     "execution_count": 40,
     "metadata": {},
     "output_type": "execute_result"
    }
   ],
   "source": [
    "# first order wrt tau at (0, 0)\n",
    "limit(limit(diff(ev_principal, tau, 1), tau, 0), delta, 0)"
   ]
  },
  {
   "cell_type": "code",
   "execution_count": 41,
   "id": "f45b07d3-7f00-4bc3-959e-588c7d55bea6",
   "metadata": {},
   "outputs": [
    {
     "data": {
      "text/latex": [
       "$\\displaystyle \\frac{\\left(\\sigma^{4} e^{\\frac{\\Delta}{2}} - 8 \\sigma^{4}\\right) e^{- \\frac{\\Delta}{2}}}{32}$"
      ],
      "text/plain": [
       "(sigma**4*exp(Delta/2) - 8*sigma**4)*exp(-Delta/2)/32"
      ]
     },
     "execution_count": 41,
     "metadata": {},
     "output_type": "execute_result"
    }
   ],
   "source": [
    "# second order wrt tau at (delta, 0)\n",
    "limit(diff(ev_principal, tau, 2), tau, 0)"
   ]
  },
  {
   "cell_type": "code",
   "execution_count": 42,
   "id": "987e92ce-5fd6-435f-ba29-aa8da07be7dd",
   "metadata": {},
   "outputs": [
    {
     "data": {
      "text/latex": [
       "$\\displaystyle - \\frac{7 \\sigma^{4}}{32}$"
      ],
      "text/plain": [
       "-7*sigma**4/32"
      ]
     },
     "execution_count": 42,
     "metadata": {},
     "output_type": "execute_result"
    }
   ],
   "source": [
    "# second order wrt tau at (0, 0)\n",
    "limit(limit(diff(ev_principal, tau, 2), tau, 0), delta, 0)"
   ]
  },
  {
   "cell_type": "code",
   "execution_count": 43,
   "id": "3f63a325-73d1-4676-9e9a-acb600e5cf95",
   "metadata": {},
   "outputs": [
    {
     "data": {
      "text/latex": [
       "$\\displaystyle \\frac{\\sigma^{2} e^{- \\frac{\\Delta}{2}}}{4}$"
      ],
      "text/plain": [
       "sigma**2*exp(-Delta/2)/4"
      ]
     },
     "execution_count": 43,
     "metadata": {},
     "output_type": "execute_result"
    }
   ],
   "source": [
    "# dtau, ddelta at (delta, 0)\n",
    "limit(diff(diff(ev_principal, delta, 1), tau, 1), tau, 0)"
   ]
  },
  {
   "cell_type": "code",
   "execution_count": 44,
   "id": "e695cb5a-f604-4efb-9bbb-691096177f29",
   "metadata": {},
   "outputs": [
    {
     "data": {
      "text/latex": [
       "$\\displaystyle \\frac{\\sigma^{2} e^{\\frac{\\Delta}{2}}}{4 \\cdot \\left(1 - e^{\\frac{\\Delta}{2}}\\right)}$"
      ],
      "text/plain": [
       "sigma**2*exp(Delta/2)/(4*(1 - exp(Delta/2)))"
      ]
     },
     "execution_count": 44,
     "metadata": {},
     "output_type": "execute_result"
    }
   ],
   "source": [
    "# first order h wrt tau at (delta, 0)\n",
    "simplify(limit(diff(- ( 1 + E**(sig**2 * tau / 2) ) + (ev_principal / (1 - E**(-delta/2))), tau, 1), tau, 0))"
   ]
  },
  {
   "cell_type": "code",
   "execution_count": 45,
   "id": "24e46050-5ed4-4dc4-81c5-a56366b25ed1",
   "metadata": {},
   "outputs": [
    {
     "data": {
      "text/latex": [
       "$\\displaystyle \\frac{7 \\sigma^{4} e^{\\frac{\\Delta}{2}}}{32 \\cdot \\left(1 - e^{\\frac{\\Delta}{2}}\\right)}$"
      ],
      "text/plain": [
       "7*sigma**4*exp(Delta/2)/(32*(1 - exp(Delta/2)))"
      ]
     },
     "execution_count": 45,
     "metadata": {},
     "output_type": "execute_result"
    }
   ],
   "source": [
    "# second order h wrt tau at (delta, 0)\n",
    "simplify(limit(diff(- ( 1 + E**(sig**2 * tau / 2) ) + (ev_principal / (1 - E**(-delta/2))), tau, 2), tau, 0))"
   ]
  },
  {
   "cell_type": "markdown",
   "id": "b1fa1668-1900-4a2c-bdf6-8c51130c17eb",
   "metadata": {},
   "source": [
    "### Fee derivative terms"
   ]
  },
  {
   "cell_type": "code",
   "execution_count": 46,
   "id": "f0c285d3-0c12-4cdb-9022-f0f5af502a1c",
   "metadata": {},
   "outputs": [
    {
     "data": {
      "text/latex": [
       "$\\displaystyle 0$"
      ],
      "text/plain": [
       "0"
      ]
     },
     "execution_count": 46,
     "metadata": {},
     "output_type": "execute_result"
    }
   ],
   "source": [
    "# zeroth order at (0, tau)\n",
    "limit(ev_fee, delta, 0)"
   ]
  },
  {
   "cell_type": "code",
   "execution_count": 47,
   "id": "afc4296d-b9f0-4f5e-b25d-0fbfbfc52c6d",
   "metadata": {},
   "outputs": [
    {
     "data": {
      "text/latex": [
       "$\\displaystyle 0$"
      ],
      "text/plain": [
       "0"
      ]
     },
     "execution_count": 47,
     "metadata": {},
     "output_type": "execute_result"
    }
   ],
   "source": [
    "# zeroth order at (delta, 0)\n",
    "limit(ev_fee, tau, 0)"
   ]
  },
  {
   "cell_type": "code",
   "execution_count": 48,
   "id": "7908731f-fa2f-45b4-8d30-d2c7ebb96115",
   "metadata": {},
   "outputs": [
    {
     "data": {
      "text/latex": [
       "$\\displaystyle \\frac{\\theta \\left(2 \\sqrt{2} \\sigma \\sqrt{\\tau} + 2 \\sqrt{\\pi} e^{\\frac{\\sigma^{2} \\tau}{2}} \\operatorname{erf}{\\left(\\frac{\\sqrt{2} \\sigma \\sqrt{\\tau}}{2} \\right)}\\right)}{\\sqrt{\\pi} \\sigma^{2}}$"
      ],
      "text/plain": [
       "theta*(2*sqrt(2)*sigma*sqrt(tau) + 2*sqrt(pi)*exp(sigma**2*tau/2)*erf(sqrt(2)*sigma*sqrt(tau)/2))/(sqrt(pi)*sigma**2)"
      ]
     },
     "execution_count": 48,
     "metadata": {},
     "output_type": "execute_result"
    }
   ],
   "source": [
    "# first order wrt delta at (0, tau)\n",
    "limit(diff(ev_fee, delta, 1), delta, 0)"
   ]
  },
  {
   "cell_type": "code",
   "execution_count": 49,
   "id": "cdb0d154-ceee-4ad5-bc67-bc40be49fb3a",
   "metadata": {},
   "outputs": [
    {
     "data": {
      "text/latex": [
       "$\\displaystyle \\frac{\\theta \\left(- 2 e^{\\frac{\\sigma^{2} \\tau}{2}} - 2\\right)}{\\sigma^{2}}$"
      ],
      "text/plain": [
       "theta*(-2*exp(sigma**2*tau/2) - 2)/sigma**2"
      ]
     },
     "execution_count": 49,
     "metadata": {},
     "output_type": "execute_result"
    }
   ],
   "source": [
    "# second order wrt delta at (0, tau)\n",
    "limit(diff(ev_fee, delta, 2), delta, 0)"
   ]
  },
  {
   "cell_type": "code",
   "execution_count": 50,
   "id": "653fc048-ca87-4d59-910c-9a635b486845",
   "metadata": {},
   "outputs": [
    {
     "data": {
      "text/latex": [
       "$\\displaystyle \\frac{4 \\theta e^{\\frac{\\sigma^{2} \\tau}{2}} \\operatorname{erf}{\\left(\\frac{\\sqrt{2} \\sigma \\sqrt{\\tau}}{2} \\right)}}{\\sigma^{2}} + \\frac{4 \\sqrt{2} \\theta}{\\sqrt{\\pi} \\sigma^{3} \\sqrt{\\tau}}$"
      ],
      "text/plain": [
       "4*theta*exp(sigma**2*tau/2)*erf(sqrt(2)*sigma*sqrt(tau)/2)/sigma**2 + 4*sqrt(2)*theta/(sqrt(pi)*sigma**3*sqrt(tau))"
      ]
     },
     "execution_count": 50,
     "metadata": {},
     "output_type": "execute_result"
    }
   ],
   "source": [
    "# third order wrt delta at (0, tau)\n",
    "simplify(limit(diff(ev_fee, delta, 3), delta, 0))"
   ]
  },
  {
   "cell_type": "code",
   "execution_count": 51,
   "id": "2fd06830-2cc0-4a36-8952-cc0a63b80fdb",
   "metadata": {},
   "outputs": [
    {
     "data": {
      "text/latex": [
       "$\\displaystyle 2 \\theta$"
      ],
      "text/plain": [
       "2*theta"
      ]
     },
     "execution_count": 51,
     "metadata": {},
     "output_type": "execute_result"
    }
   ],
   "source": [
    "# first order wrt tau at (delta, 0)\n",
    "limit(diff(ev_fee, tau, 1), tau, 0)"
   ]
  },
  {
   "cell_type": "code",
   "execution_count": 52,
   "id": "ab6c9ccb-d0d8-42db-b89a-d7d3f9c70cc3",
   "metadata": {},
   "outputs": [
    {
     "data": {
      "text/latex": [
       "$\\displaystyle \\sigma^{2} \\theta$"
      ],
      "text/plain": [
       "sigma**2*theta"
      ]
     },
     "execution_count": 52,
     "metadata": {},
     "output_type": "execute_result"
    }
   ],
   "source": [
    "# second order wrt tau at (delta, 0)\n",
    "limit(diff(ev_fee, tau, 2), tau, 0)"
   ]
  },
  {
   "cell_type": "code",
   "execution_count": 53,
   "id": "3b4d2283-6c6e-44a8-916d-a90502a0d1d4",
   "metadata": {},
   "outputs": [
    {
     "data": {
      "text/latex": [
       "$\\displaystyle \\theta e^{\\frac{\\sigma^{2} \\tau}{2}} \\operatorname{erf}{\\left(\\frac{\\sqrt{2} \\sigma \\sqrt{\\tau}}{2} \\right)} + \\frac{2 \\sqrt{2} \\theta}{\\sqrt{\\pi} \\sigma \\sqrt{\\tau}}$"
      ],
      "text/plain": [
       "theta*exp(sigma**2*tau/2)*erf(sqrt(2)*sigma*sqrt(tau)/2) + 2*sqrt(2)*theta/(sqrt(pi)*sigma*sqrt(tau))"
      ]
     },
     "execution_count": 53,
     "metadata": {},
     "output_type": "execute_result"
    }
   ],
   "source": [
    "# mixed second order ddelta, dtau at (0, tau)\n",
    "simplify(limit(diff(diff(ev_fee, tau, 1), delta, 1), delta, 0))"
   ]
  },
  {
   "cell_type": "code",
   "execution_count": 54,
   "id": "45a7525c-1548-420c-9a7e-fc2dc97f2d05",
   "metadata": {},
   "outputs": [
    {
     "data": {
      "text/latex": [
       "$\\displaystyle 0$"
      ],
      "text/plain": [
       "0"
      ]
     },
     "execution_count": 54,
     "metadata": {},
     "output_type": "execute_result"
    }
   ],
   "source": [
    "# dtau, ddelta at (delta, 0)\n",
    "simplify(limit(diff(diff(ev_fee, tau, 1), delta, 1), tau, 0))"
   ]
  },
  {
   "cell_type": "markdown",
   "id": "317f0e64-2a49-401d-b98f-419143b54be9",
   "metadata": {},
   "source": [
    "### Delta critical expressions"
   ]
  },
  {
   "cell_type": "code",
   "execution_count": 55,
   "id": "7ac732f2-a292-4edf-ac5c-91bc71be50ec",
   "metadata": {},
   "outputs": [
    {
     "data": {
      "text/latex": [
       "$\\displaystyle - \\frac{e^{\\frac{\\sigma^{2} \\tau}{2}} \\operatorname{erf}{\\left(\\frac{\\sqrt{2} \\sigma \\sqrt{\\tau}}{2} \\right)}}{2} + \\frac{e^{\\frac{\\sigma^{2} \\tau}{2}}}{2} + \\frac{1}{2} + \\frac{2 \\sqrt{2} \\sqrt{\\tau} \\theta}{\\sqrt{\\pi} \\sigma} + \\frac{2 \\theta e^{\\frac{\\sigma^{2} \\tau}{2}} \\operatorname{erf}{\\left(\\frac{\\sqrt{2} \\sigma \\sqrt{\\tau}}{2} \\right)}}{\\sigma^{2}}$"
      ],
      "text/plain": [
       "-exp(sigma**2*tau/2)*erf(sqrt(2)*sigma*sqrt(tau)/2)/2 + exp(sigma**2*tau/2)/2 + 1/2 + 2*sqrt(2)*sqrt(tau)*theta/(sqrt(pi)*sigma) + 2*theta*exp(sigma**2*tau/2)*erf(sqrt(2)*sigma*sqrt(tau)/2)/sigma**2"
      ]
     },
     "execution_count": 55,
     "metadata": {},
     "output_type": "execute_result"
    }
   ],
   "source": [
    "g1_delta0 = simplify(limit(diff(g, delta, 1), delta, 0))\n",
    "g1_delta0"
   ]
  },
  {
   "cell_type": "code",
   "execution_count": 56,
   "id": "9c506b0d-8798-404c-9aed-2220977e1a6e",
   "metadata": {},
   "outputs": [
    {
     "data": {
      "text/latex": [
       "$\\displaystyle - \\frac{2 \\theta \\left(e^{\\frac{\\sigma^{2} \\tau}{2}} + 1\\right)}{\\sigma^{2}}$"
      ],
      "text/plain": [
       "-2*theta*(exp(sigma**2*tau/2) + 1)/sigma**2"
      ]
     },
     "execution_count": 56,
     "metadata": {},
     "output_type": "execute_result"
    }
   ],
   "source": [
    "g2_delta0 = simplify(limit(diff(g, delta, 2), delta, 0))\n",
    "g2_delta0"
   ]
  },
  {
   "cell_type": "code",
   "execution_count": 57,
   "id": "dde51c3f-b15e-446b-9303-015b1c534062",
   "metadata": {},
   "outputs": [
    {
     "data": {
      "text/latex": [
       "$\\displaystyle - \\frac{e^{\\frac{\\sigma^{2} \\tau}{2}} \\operatorname{erf}{\\left(\\frac{\\sqrt{2} \\sigma \\sqrt{\\tau}}{2} \\right)}}{8} + \\frac{e^{\\frac{\\sigma^{2} \\tau}{2}}}{8} + \\frac{1}{8} - \\frac{\\sqrt{2}}{2 \\sqrt{\\pi} \\sigma \\sqrt{\\tau}} + \\frac{4 \\theta e^{\\frac{\\sigma^{2} \\tau}{2}} \\operatorname{erf}{\\left(\\frac{\\sqrt{2} \\sigma \\sqrt{\\tau}}{2} \\right)}}{\\sigma^{2}} + \\frac{4 \\sqrt{2} \\theta}{\\sqrt{\\pi} \\sigma^{3} \\sqrt{\\tau}}$"
      ],
      "text/plain": [
       "-exp(sigma**2*tau/2)*erf(sqrt(2)*sigma*sqrt(tau)/2)/8 + exp(sigma**2*tau/2)/8 + 1/8 - sqrt(2)/(2*sqrt(pi)*sigma*sqrt(tau)) + 4*theta*exp(sigma**2*tau/2)*erf(sqrt(2)*sigma*sqrt(tau)/2)/sigma**2 + 4*sqrt(2)*theta/(sqrt(pi)*sigma**3*sqrt(tau))"
      ]
     },
     "execution_count": 57,
     "metadata": {},
     "output_type": "execute_result"
    }
   ],
   "source": [
    "g3_delta0 = simplify(limit(diff(g, delta, 3), delta, 0))\n",
    "g3_delta0"
   ]
  },
  {
   "cell_type": "code",
   "execution_count": 58,
   "id": "35874965-aeb6-46a1-bd65-9da41124d483",
   "metadata": {},
   "outputs": [
    {
     "data": {
      "text/latex": [
       "$\\displaystyle - \\frac{e^{\\frac{\\sigma^{2} \\tau}{2}} \\operatorname{erf}{\\left(\\frac{\\sqrt{2} \\sigma \\sqrt{\\tau}}{2} \\right)}}{16} + \\frac{e^{\\frac{\\sigma^{2} \\tau}{2}}}{16} + \\frac{1}{16} + \\frac{\\sqrt{2} \\sqrt{\\tau} \\theta}{12 \\sqrt{\\pi} \\sigma} - \\frac{\\sqrt{2}}{6 \\sqrt{\\pi} \\sigma \\sqrt{\\tau}} - \\frac{5 \\theta \\left(e^{\\frac{\\sigma^{2} \\tau}{2}} + 1\\right)}{2 \\sigma^{2}} + \\frac{17 \\theta e^{\\frac{\\sigma^{2} \\tau}{2}} \\operatorname{erf}{\\left(\\frac{\\sqrt{2} \\sigma \\sqrt{\\tau}}{2} \\right)}}{12 \\sigma^{2}} + \\frac{4 \\sqrt{2} \\theta}{3 \\sqrt{\\pi} \\sigma^{3} \\sqrt{\\tau}}$"
      ],
      "text/plain": [
       "-exp(sigma**2*tau/2)*erf(sqrt(2)*sigma*sqrt(tau)/2)/16 + exp(sigma**2*tau/2)/16 + 1/16 + sqrt(2)*sqrt(tau)*theta/(12*sqrt(pi)*sigma) - sqrt(2)/(6*sqrt(pi)*sigma*sqrt(tau)) - 5*theta*(exp(sigma**2*tau/2) + 1)/(2*sigma**2) + 17*theta*exp(sigma**2*tau/2)*erf(sqrt(2)*sigma*sqrt(tau)/2)/(12*sigma**2) + 4*sqrt(2)*theta/(3*sqrt(pi)*sigma**3*sqrt(tau))"
      ]
     },
     "execution_count": 58,
     "metadata": {},
     "output_type": "execute_result"
    }
   ],
   "source": [
    "delta_c_denom = g1_delta0/24+ (5 * g2_delta0 / 4) + g3_delta0/3\n",
    "delta_c_denom"
   ]
  },
  {
   "cell_type": "code",
   "execution_count": 59,
   "id": "613aa4ba-2796-46d4-98fc-8ff02d78671f",
   "metadata": {},
   "outputs": [
    {
     "data": {
      "text/latex": [
       "$\\displaystyle \\frac{e^{\\frac{\\sigma^{2} \\tau}{2}} \\operatorname{erf}{\\left(\\frac{\\sqrt{2} \\sigma \\sqrt{\\tau}}{2} \\right)}}{8} - \\frac{e^{\\frac{\\sigma^{2} \\tau}{2}}}{8} - \\frac{1}{8} - \\frac{\\sqrt{2} \\sqrt{\\tau} \\theta}{2 \\sqrt{\\pi} \\sigma} - \\frac{\\theta \\left(e^{\\frac{\\sigma^{2} \\tau}{2}} + 1\\right)}{\\sigma^{2}} - \\frac{\\theta e^{\\frac{\\sigma^{2} \\tau}{2}} \\operatorname{erf}{\\left(\\frac{\\sqrt{2} \\sigma \\sqrt{\\tau}}{2} \\right)}}{2 \\sigma^{2}}$"
      ],
      "text/plain": [
       "exp(sigma**2*tau/2)*erf(sqrt(2)*sigma*sqrt(tau)/2)/8 - exp(sigma**2*tau/2)/8 - 1/8 - sqrt(2)*sqrt(tau)*theta/(2*sqrt(pi)*sigma) - theta*(exp(sigma**2*tau/2) + 1)/sigma**2 - theta*exp(sigma**2*tau/2)*erf(sqrt(2)*sigma*sqrt(tau)/2)/(2*sigma**2)"
      ]
     },
     "execution_count": 59,
     "metadata": {},
     "output_type": "execute_result"
    }
   ],
   "source": [
    "delta_c_numerator = g2_delta0 / 2 - g1_delta0 / 4\n",
    "delta_c_numerator"
   ]
  },
  {
   "cell_type": "markdown",
   "id": "f06ea33f-7bfa-4b43-b1f2-8a1bc39775e0",
   "metadata": {},
   "source": [
    "#### Delta critical evaluated from TS expansion of $\\partial_{\\Delta} = 0$ eqn to third order"
   ]
  },
  {
   "cell_type": "code",
   "execution_count": 60,
   "id": "165f2c13-0cb6-4515-b9de-e75a80082f9f",
   "metadata": {},
   "outputs": [
    {
     "data": {
      "text/latex": [
       "$\\displaystyle - \\frac{6 \\pi \\sigma \\tau \\left(\\sqrt{\\pi} \\sigma^{2} \\left(- e^{\\frac{\\sigma^{2} \\tau}{2}} \\operatorname{erf}{\\left(\\frac{\\sqrt{2} \\sigma \\sqrt{\\tau}}{2} \\right)} + e^{\\frac{\\sigma^{2} \\tau}{2}} + 1\\right) + 4 \\sqrt{2} \\sigma \\sqrt{\\tau} \\theta + 4 \\sqrt{\\pi} \\theta \\left(e^{\\frac{\\sigma^{2} \\tau}{2}} \\operatorname{erf}{\\left(\\frac{\\sqrt{2} \\sigma \\sqrt{\\tau}}{2} \\right)} + 2 e^{\\frac{\\sigma^{2} \\tau}{2}} + 2\\right)\\right)}{3 \\pi^{\\frac{3}{2}} \\sigma^{3} \\tau \\left(- e^{\\frac{\\sigma^{2} \\tau}{2}} \\operatorname{erf}{\\left(\\frac{\\sqrt{2} \\sigma \\sqrt{\\tau}}{2} \\right)} + e^{\\frac{\\sigma^{2} \\tau}{2}} + 1\\right) + 4 \\sqrt{2} \\pi \\sigma^{2} \\tau^{\\frac{3}{2}} \\theta - 8 \\sqrt{2} \\pi \\sigma^{2} \\sqrt{\\tau} - 4 \\pi^{\\frac{3}{2}} \\sigma \\tau \\theta \\left(- 17 e^{\\frac{\\sigma^{2} \\tau}{2}} \\operatorname{erf}{\\left(\\frac{\\sqrt{2} \\sigma \\sqrt{\\tau}}{2} \\right)} + 30 e^{\\frac{\\sigma^{2} \\tau}{2}} + 30\\right) + 64 \\sqrt{2} \\pi \\sqrt{\\tau} \\theta}$"
      ],
      "text/plain": [
       "-6*pi*sigma*tau*(sqrt(pi)*sigma**2*(-exp(sigma**2*tau/2)*erf(sqrt(2)*sigma*sqrt(tau)/2) + exp(sigma**2*tau/2) + 1) + 4*sqrt(2)*sigma*sqrt(tau)*theta + 4*sqrt(pi)*theta*(exp(sigma**2*tau/2)*erf(sqrt(2)*sigma*sqrt(tau)/2) + 2*exp(sigma**2*tau/2) + 2))/(3*pi**(3/2)*sigma**3*tau*(-exp(sigma**2*tau/2)*erf(sqrt(2)*sigma*sqrt(tau)/2) + exp(sigma**2*tau/2) + 1) + 4*sqrt(2)*pi*sigma**2*tau**(3/2)*theta - 8*sqrt(2)*pi*sigma**2*sqrt(tau) - 4*pi**(3/2)*sigma*tau*theta*(-17*exp(sigma**2*tau/2)*erf(sqrt(2)*sigma*sqrt(tau)/2) + 30*exp(sigma**2*tau/2) + 30) + 64*sqrt(2)*pi*sqrt(tau)*theta)"
      ]
     },
     "execution_count": 60,
     "metadata": {},
     "output_type": "execute_result"
    }
   ],
   "source": [
    "delta_c = simplify(delta_c_numerator / delta_c_denom)\n",
    "delta_c"
   ]
  },
  {
   "cell_type": "code",
   "execution_count": 61,
   "id": "29d256ab-0356-441e-b657-17c6a85737ef",
   "metadata": {},
   "outputs": [
    {
     "data": {
      "text/latex": [
       "$\\displaystyle 0$"
      ],
      "text/plain": [
       "0"
      ]
     },
     "execution_count": 61,
     "metadata": {},
     "output_type": "execute_result"
    }
   ],
   "source": [
    "limit(delta_c, tau, 0)"
   ]
  },
  {
   "cell_type": "code",
   "execution_count": 62,
   "id": "40625d5d-dcfb-429d-81b7-706cd649609a",
   "metadata": {},
   "outputs": [
    {
     "data": {
      "text/latex": [
       "$\\displaystyle \\frac{18}{13}$"
      ],
      "text/plain": [
       "18/13"
      ]
     },
     "execution_count": 62,
     "metadata": {},
     "output_type": "execute_result"
    }
   ],
   "source": [
    "limit(delta_c, tau, oo)"
   ]
  },
  {
   "cell_type": "code",
   "execution_count": 63,
   "id": "e5023443-6957-4bf7-8cd4-c91701422670",
   "metadata": {},
   "outputs": [
    {
     "data": {
      "text/latex": [
       "$\\displaystyle \\frac{18}{13}$"
      ],
      "text/plain": [
       "18/13"
      ]
     },
     "execution_count": 63,
     "metadata": {},
     "output_type": "execute_result"
    }
   ],
   "source": [
    "limit(delta_c, sig, oo)"
   ]
  },
  {
   "cell_type": "code",
   "execution_count": 69,
   "id": "5ec9b5ee-3e25-405b-859d-4020bdd15a17",
   "metadata": {},
   "outputs": [
    {
     "data": {
      "text/latex": [
       "$\\displaystyle 3.99328972875219$"
      ],
      "text/plain": [
       "3.99328972875219"
      ]
     },
     "execution_count": 69,
     "metadata": {},
     "output_type": "execute_result"
    }
   ],
   "source": [
    "E**(limit(delta_c, sig, oo)).evalf()"
   ]
  },
  {
   "cell_type": "code",
   "execution_count": null,
   "id": "5a55e4e8-c17b-45fc-95d6-81c2dec941e7",
   "metadata": {},
   "outputs": [],
   "source": []
  }
 ],
 "metadata": {
  "kernelspec": {
   "display_name": "Python 3 (ipykernel)",
   "language": "python",
   "name": "python3"
  },
  "language_info": {
   "codemirror_mode": {
    "name": "ipython",
    "version": 3
   },
   "file_extension": ".py",
   "mimetype": "text/x-python",
   "name": "python",
   "nbconvert_exporter": "python",
   "pygments_lexer": "ipython3",
   "version": "3.9.6"
  }
 },
 "nbformat": 4,
 "nbformat_minor": 5
}
