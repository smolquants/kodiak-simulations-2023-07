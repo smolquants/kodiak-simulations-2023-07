{
 "cells": [
  {
   "cell_type": "markdown",
   "id": "871da168",
   "metadata": {},
   "source": [
    "## Imports"
   ]
  },
  {
   "cell_type": "code",
   "execution_count": 101,
   "id": "1fca49b5",
   "metadata": {},
   "outputs": [],
   "source": [
    "import pandas as pd"
   ]
  },
  {
   "cell_type": "markdown",
   "id": "3bb15e77",
   "metadata": {},
   "source": [
    "## Read data"
   ]
  },
  {
   "cell_type": "code",
   "execution_count": 102,
   "id": "b3a757d2",
   "metadata": {},
   "outputs": [],
   "source": [
    "filename = 'price_0x88e6A0c2dDD26FEEb64F039a2c41296FcB3f5640_17846003_17946003_2400'\n",
    "filepath = f'data/{filename}.csv'"
   ]
  },
  {
   "cell_type": "code",
   "execution_count": 103,
   "id": "63d0d4e2",
   "metadata": {},
   "outputs": [
    {
     "data": {
      "text/html": [
       "<div>\n",
       "<style scoped>\n",
       "    .dataframe tbody tr th:only-of-type {\n",
       "        vertical-align: middle;\n",
       "    }\n",
       "\n",
       "    .dataframe tbody tr th {\n",
       "        vertical-align: top;\n",
       "    }\n",
       "\n",
       "    .dataframe thead th {\n",
       "        text-align: right;\n",
       "    }\n",
       "</style>\n",
       "<table border=\"1\" class=\"dataframe\">\n",
       "  <thead>\n",
       "    <tr style=\"text-align: right;\">\n",
       "      <th></th>\n",
       "      <th>block_number</th>\n",
       "      <th>timestamp</th>\n",
       "      <th>sqrt_price_x96</th>\n",
       "      <th>price</th>\n",
       "    </tr>\n",
       "  </thead>\n",
       "  <tbody>\n",
       "    <tr>\n",
       "      <th>0</th>\n",
       "      <td>17846003</td>\n",
       "      <td>1691205083</td>\n",
       "      <td>1853108454851453304155515201922274</td>\n",
       "      <td>0.000547</td>\n",
       "    </tr>\n",
       "    <tr>\n",
       "      <th>1</th>\n",
       "      <td>17848403</td>\n",
       "      <td>1691234099</td>\n",
       "      <td>1851322486752172637560000266968502</td>\n",
       "      <td>0.000546</td>\n",
       "    </tr>\n",
       "    <tr>\n",
       "      <th>2</th>\n",
       "      <td>17850803</td>\n",
       "      <td>1691263055</td>\n",
       "      <td>1849161700064716265427670227259749</td>\n",
       "      <td>0.000545</td>\n",
       "    </tr>\n",
       "    <tr>\n",
       "      <th>3</th>\n",
       "      <td>17853203</td>\n",
       "      <td>1691292083</td>\n",
       "      <td>1850319883285144859934317017619672</td>\n",
       "      <td>0.000545</td>\n",
       "    </tr>\n",
       "    <tr>\n",
       "      <th>4</th>\n",
       "      <td>17855603</td>\n",
       "      <td>1691321123</td>\n",
       "      <td>1852406778307200559820017252423304</td>\n",
       "      <td>0.000547</td>\n",
       "    </tr>\n",
       "  </tbody>\n",
       "</table>\n",
       "</div>"
      ],
      "text/plain": [
       "   block_number   timestamp                      sqrt_price_x96     price\n",
       "0      17846003  1691205083  1853108454851453304155515201922274  0.000547\n",
       "1      17848403  1691234099  1851322486752172637560000266968502  0.000546\n",
       "2      17850803  1691263055  1849161700064716265427670227259749  0.000545\n",
       "3      17853203  1691292083  1850319883285144859934317017619672  0.000545\n",
       "4      17855603  1691321123  1852406778307200559820017252423304  0.000547"
      ]
     },
     "execution_count": 103,
     "metadata": {},
     "output_type": "execute_result"
    }
   ],
   "source": [
    "df = pd.read_csv(filepath)\n",
    "df.head()"
   ]
  },
  {
   "cell_type": "markdown",
   "id": "80b9f277",
   "metadata": {},
   "source": [
    "## Create OHLC data"
   ]
  },
  {
   "cell_type": "code",
   "execution_count": 104,
   "id": "0648fb8c",
   "metadata": {},
   "outputs": [],
   "source": [
    "def create_ohlc(\n",
    "    data: pd.DataFrame,\n",
    "    freq: str,\n",
    "    time_col: str = 'timestamp',\n",
    "    price_col: str = 'price'\n",
    ") -> pd.DataFrame:\n",
    "    \"\"\"\n",
    "    Resample df to create OHLC data\n",
    "    \n",
    "    Parameters:\n",
    "    - data (pd.DataFrame): Input data frame\n",
    "    - freq (str): Frequency for resampling (e.g., 'H' for hourly, 'D' for daily, 'M' for monthly, etc.)\n",
    "    - time_col (str): Name of column with timestamp data\n",
    "    - price_col (str): Name of column with price data\n",
    "\n",
    "    Returns:\n",
    "    - pd.DataFrame: OHLC data.\n",
    "    \"\"\"\n",
    "    \n",
    "    # Take subset\n",
    "    data = data.loc[:, [time_col, price_col]]\n",
    "    data[time_col] = pd.to_numeric(data.loc[:, time_col])\n",
    "    data[price_col] = pd.to_numeric(data.loc[:, price_col])\n",
    "    # Convert UNIX timestamps to datetime and set as index\n",
    "    data[time_col] = pd.to_datetime(data.loc[:, time_col], unit='s')\n",
    "    data.set_index(time_col, inplace=True)\n",
    "    \n",
    "    # Resample and calculate OHLC data\n",
    "    ohlc_df = data.resample(freq).ohlc()\n",
    "    ohlc_df = ohlc_df.loc[:, price_col]\n",
    "    \n",
    "    return ohlc_df"
   ]
  },
  {
   "cell_type": "code",
   "execution_count": 105,
   "id": "72f9c069",
   "metadata": {},
   "outputs": [],
   "source": [
    "frequency = 'D'\n",
    "df_ohlc = create_ohlc(df, frequency)"
   ]
  },
  {
   "cell_type": "code",
   "execution_count": 106,
   "id": "d0e6e743",
   "metadata": {},
   "outputs": [
    {
     "data": {
      "text/html": [
       "<div>\n",
       "<style scoped>\n",
       "    .dataframe tbody tr th:only-of-type {\n",
       "        vertical-align: middle;\n",
       "    }\n",
       "\n",
       "    .dataframe tbody tr th {\n",
       "        vertical-align: top;\n",
       "    }\n",
       "\n",
       "    .dataframe thead th {\n",
       "        text-align: right;\n",
       "    }\n",
       "</style>\n",
       "<table border=\"1\" class=\"dataframe\">\n",
       "  <thead>\n",
       "    <tr style=\"text-align: right;\">\n",
       "      <th></th>\n",
       "      <th>open</th>\n",
       "      <th>high</th>\n",
       "      <th>low</th>\n",
       "      <th>close</th>\n",
       "    </tr>\n",
       "    <tr>\n",
       "      <th>timestamp</th>\n",
       "      <th></th>\n",
       "      <th></th>\n",
       "      <th></th>\n",
       "      <th></th>\n",
       "    </tr>\n",
       "  </thead>\n",
       "  <tbody>\n",
       "    <tr>\n",
       "      <th>2023-08-05</th>\n",
       "      <td>0.000547</td>\n",
       "      <td>0.000547</td>\n",
       "      <td>0.000545</td>\n",
       "      <td>0.000545</td>\n",
       "    </tr>\n",
       "    <tr>\n",
       "      <th>2023-08-06</th>\n",
       "      <td>0.000545</td>\n",
       "      <td>0.000547</td>\n",
       "      <td>0.000545</td>\n",
       "      <td>0.000546</td>\n",
       "    </tr>\n",
       "    <tr>\n",
       "      <th>2023-08-07</th>\n",
       "      <td>0.000544</td>\n",
       "      <td>0.000550</td>\n",
       "      <td>0.000544</td>\n",
       "      <td>0.000550</td>\n",
       "    </tr>\n",
       "    <tr>\n",
       "      <th>2023-08-08</th>\n",
       "      <td>0.000547</td>\n",
       "      <td>0.000547</td>\n",
       "      <td>0.000538</td>\n",
       "      <td>0.000538</td>\n",
       "    </tr>\n",
       "    <tr>\n",
       "      <th>2023-08-09</th>\n",
       "      <td>0.000539</td>\n",
       "      <td>0.000541</td>\n",
       "      <td>0.000537</td>\n",
       "      <td>0.000541</td>\n",
       "    </tr>\n",
       "  </tbody>\n",
       "</table>\n",
       "</div>"
      ],
      "text/plain": [
       "                open      high       low     close\n",
       "timestamp                                         \n",
       "2023-08-05  0.000547  0.000547  0.000545  0.000545\n",
       "2023-08-06  0.000545  0.000547  0.000545  0.000546\n",
       "2023-08-07  0.000544  0.000550  0.000544  0.000550\n",
       "2023-08-08  0.000547  0.000547  0.000538  0.000538\n",
       "2023-08-09  0.000539  0.000541  0.000537  0.000541"
      ]
     },
     "execution_count": 106,
     "metadata": {},
     "output_type": "execute_result"
    }
   ],
   "source": [
    "df_ohlc.head()"
   ]
  },
  {
   "cell_type": "markdown",
   "id": "722fa7fa",
   "metadata": {},
   "source": [
    "## Save data"
   ]
  },
  {
   "cell_type": "code",
   "execution_count": 107,
   "id": "db431bc5",
   "metadata": {},
   "outputs": [],
   "source": [
    "df_ohlc.to_csv(f'data/{filename}_{frequency}.csv')"
   ]
  }
 ],
 "metadata": {
  "kernelspec": {
   "display_name": "Python 3 (ipykernel)",
   "language": "python",
   "name": "python3"
  },
  "language_info": {
   "codemirror_mode": {
    "name": "ipython",
    "version": 3
   },
   "file_extension": ".py",
   "mimetype": "text/x-python",
   "name": "python",
   "nbconvert_exporter": "python",
   "pygments_lexer": "ipython3",
   "version": "3.9.17"
  }
 },
 "nbformat": 4,
 "nbformat_minor": 5
}
