{
 "cells": [
  {
   "cell_type": "markdown",
   "id": "1b8664a9",
   "metadata": {},
   "source": [
    "## Imports"
   ]
  },
  {
   "cell_type": "code",
   "execution_count": 77,
   "id": "d317503d",
   "metadata": {},
   "outputs": [],
   "source": [
    "import numpy as np\n",
    "import pandas as pd\n",
    "from ape import accounts, chain, Contract, networks, project"
   ]
  },
  {
   "cell_type": "code",
   "execution_count": 78,
   "id": "024e24e8",
   "metadata": {},
   "outputs": [
    {
     "data": {
      "text/plain": [
       "<alchemy chain_id=1>"
      ]
     },
     "execution_count": 78,
     "metadata": {},
     "output_type": "execute_result"
    }
   ],
   "source": [
    "networks.parse_network_choice('ethereum:mainnet:alchemy').__enter__()"
   ]
  },
  {
   "cell_type": "markdown",
   "id": "73a9bc77",
   "metadata": {},
   "source": [
    "## Contract objects"
   ]
  },
  {
   "cell_type": "code",
   "execution_count": 79,
   "id": "0221a8ca",
   "metadata": {},
   "outputs": [],
   "source": [
    "# Load Uniswap factory contract\n",
    "factory = Contract(\"0x1F98431c8aD98523631AE4a59f267346ea31F984\")\n",
    "\n",
    "# Load a referece pool; obtain `contract_type` from here to read any uniswap pool with ape\n",
    "pool_ref = Contract('0x8f8EF111B67C04Eb1641f5ff19EE54Cda062f163')\n",
    "\n",
    "# USDC/ETH 0.05%\n",
    "pool = Contract(\"0x88e6A0c2dDD26FEEb64F039a2c41296FcB3f5640\", contract_type=pool_ref.contract_type)\n",
    "\n",
    "token0 = Contract(pool.token0())\n",
    "token1 = Contract(pool.token1())"
   ]
  },
  {
   "cell_type": "markdown",
   "id": "baa4f479",
   "metadata": {},
   "source": [
    "## Get prices"
   ]
  },
  {
   "cell_type": "markdown",
   "id": "b2937619",
   "metadata": {},
   "source": [
    "#### Inputs for querying and saving price data"
   ]
  },
  {
   "cell_type": "code",
   "execution_count": 80,
   "id": "8fac8ec9",
   "metadata": {},
   "outputs": [],
   "source": [
    "# start_block = 12376729  # ETH/USDC 0.05% pool deployment block\n",
    "start_block = chain.blocks.head.number - 10_000\n",
    "head_block = chain.blocks.head.number\n",
    "step = 2400\n",
    "filename = f\"data/price_{pool.address}_{start_block}_{head_block}_{step}.csv\""
   ]
  },
  {
   "cell_type": "markdown",
   "id": "28030346",
   "metadata": {},
   "source": [
    "#### Helpful functions"
   ]
  },
  {
   "cell_type": "code",
   "execution_count": 81,
   "id": "79319618",
   "metadata": {},
   "outputs": [],
   "source": [
    "def get_price_from_slot0(slot0):\n",
    "    price = (slot0.sqrtPriceX96**2) * (10**(token0.decimals() - token1.decimals())) / 2**(96*2) \n",
    "    return price"
   ]
  },
  {
   "cell_type": "markdown",
   "id": "8b3d7c0f",
   "metadata": {},
   "source": [
    "#### Query prices"
   ]
  },
  {
   "cell_type": "code",
   "execution_count": 82,
   "id": "73ecbd92",
   "metadata": {},
   "outputs": [
    {
     "name": "stdout",
     "output_type": "stream",
     "text": [
      "Processing block 17945324 ...\r"
     ]
    }
   ],
   "source": [
    "# query for tick data each block and insert into pandas dataframe\n",
    "is_head = True\n",
    "for block in range(start_block, head_block, step):\n",
    "    print(f\"Processing block {block} ...\", end='\\r')\n",
    "    \n",
    "    # get the sqrt price data at block\n",
    "    slot0 = pool.slot0(block_identifier=block)\n",
    "    row = {\n",
    "        'block_number': [block],\n",
    "        'timestamp': [chain.blocks[block].timestamp],\n",
    "        'sqrt_price_x96': [slot0.sqrtPriceX96],\n",
    "        'price': [get_price_from_slot0(slot0)]\n",
    "    }\n",
    "        \n",
    "    # convert to pd dataframe then append to file\n",
    "    df = pd.DataFrame(data=row)\n",
    "    df.to_csv(filename, mode='a', index=False, header=is_head)\n",
    "        \n",
    "    if is_head:\n",
    "        is_head = False"
   ]
  },
  {
   "cell_type": "code",
   "execution_count": 83,
   "id": "77781752",
   "metadata": {},
   "outputs": [
    {
     "data": {
      "text/html": [
       "<div>\n",
       "<style scoped>\n",
       "    .dataframe tbody tr th:only-of-type {\n",
       "        vertical-align: middle;\n",
       "    }\n",
       "\n",
       "    .dataframe tbody tr th {\n",
       "        vertical-align: top;\n",
       "    }\n",
       "\n",
       "    .dataframe thead th {\n",
       "        text-align: right;\n",
       "    }\n",
       "</style>\n",
       "<table border=\"1\" class=\"dataframe\">\n",
       "  <thead>\n",
       "    <tr style=\"text-align: right;\">\n",
       "      <th></th>\n",
       "      <th>block_number</th>\n",
       "      <th>timestamp</th>\n",
       "      <th>sqrt_price_x96</th>\n",
       "      <th>price</th>\n",
       "    </tr>\n",
       "  </thead>\n",
       "  <tbody>\n",
       "    <tr>\n",
       "      <th>0</th>\n",
       "      <td>17935724</td>\n",
       "      <td>1692289631</td>\n",
       "      <td>1903284617606487503521622641355190</td>\n",
       "      <td>0.000577</td>\n",
       "    </tr>\n",
       "    <tr>\n",
       "      <th>1</th>\n",
       "      <td>17938124</td>\n",
       "      <td>1692318683</td>\n",
       "      <td>1924924407329726964586907845978349</td>\n",
       "      <td>0.000590</td>\n",
       "    </tr>\n",
       "    <tr>\n",
       "      <th>2</th>\n",
       "      <td>17940524</td>\n",
       "      <td>1692347759</td>\n",
       "      <td>1930261184187508410041308716043573</td>\n",
       "      <td>0.000594</td>\n",
       "    </tr>\n",
       "    <tr>\n",
       "      <th>3</th>\n",
       "      <td>17942924</td>\n",
       "      <td>1692376835</td>\n",
       "      <td>1943473843300152630633946025932797</td>\n",
       "      <td>0.000602</td>\n",
       "    </tr>\n",
       "    <tr>\n",
       "      <th>4</th>\n",
       "      <td>17945324</td>\n",
       "      <td>1692405815</td>\n",
       "      <td>1938908269798720396189251708585113</td>\n",
       "      <td>0.000599</td>\n",
       "    </tr>\n",
       "  </tbody>\n",
       "</table>\n",
       "</div>"
      ],
      "text/plain": [
       "   block_number   timestamp                      sqrt_price_x96     price\n",
       "0      17935724  1692289631  1903284617606487503521622641355190  0.000577\n",
       "1      17938124  1692318683  1924924407329726964586907845978349  0.000590\n",
       "2      17940524  1692347759  1930261184187508410041308716043573  0.000594\n",
       "3      17942924  1692376835  1943473843300152630633946025932797  0.000602\n",
       "4      17945324  1692405815  1938908269798720396189251708585113  0.000599"
      ]
     },
     "execution_count": 83,
     "metadata": {},
     "output_type": "execute_result"
    }
   ],
   "source": [
    "df = pd.read_csv(filename)\n",
    "df.head()"
   ]
  },
  {
   "cell_type": "code",
   "execution_count": null,
   "id": "fc1860e3",
   "metadata": {},
   "outputs": [],
   "source": []
  }
 ],
 "metadata": {
  "kernelspec": {
   "display_name": "Python 3 (ipykernel)",
   "language": "python",
   "name": "python3"
  },
  "language_info": {
   "codemirror_mode": {
    "name": "ipython",
    "version": 3
   },
   "file_extension": ".py",
   "mimetype": "text/x-python",
   "name": "python",
   "nbconvert_exporter": "python",
   "pygments_lexer": "ipython3",
   "version": "3.9.17"
  }
 },
 "nbformat": 4,
 "nbformat_minor": 5
}
