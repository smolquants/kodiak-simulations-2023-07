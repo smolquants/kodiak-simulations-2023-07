{
 "cells": [
  {
   "cell_type": "markdown",
   "id": "1b8664a9",
   "metadata": {},
   "source": [
    "## Imports"
   ]
  },
  {
   "cell_type": "code",
   "execution_count": 7,
   "id": "d317503d",
   "metadata": {},
   "outputs": [],
   "source": [
    "import numpy as np\n",
    "import pandas as pd\n",
    "from ape import accounts, chain, Contract, networks, project"
   ]
  },
  {
   "cell_type": "code",
   "execution_count": 8,
   "id": "024e24e8",
   "metadata": {},
   "outputs": [
    {
     "data": {
      "text/plain": [
       "<alchemy chain_id=1>"
      ]
     },
     "execution_count": 8,
     "metadata": {},
     "output_type": "execute_result"
    }
   ],
   "source": [
    "networks.parse_network_choice('ethereum:mainnet:alchemy').__enter__()"
   ]
  },
  {
   "cell_type": "markdown",
   "id": "73a9bc77",
   "metadata": {},
   "source": [
    "## Contract objects"
   ]
  },
  {
   "cell_type": "code",
   "execution_count": 9,
   "id": "0221a8ca",
   "metadata": {},
   "outputs": [],
   "source": [
    "# Load Uniswap factory contract\n",
    "factory = Contract(\"0x1F98431c8aD98523631AE4a59f267346ea31F984\")\n",
    "\n",
    "# Load a referece pool; obtain `contract_type` from here to read any uniswap pool with ape\n",
    "pool_ref = Contract('0x8f8EF111B67C04Eb1641f5ff19EE54Cda062f163')\n",
    "\n",
    "# USDC/ETH 0.05%\n",
    "pool = Contract(\"0x88e6A0c2dDD26FEEb64F039a2c41296FcB3f5640\", contract_type=pool_ref.contract_type)\n",
    "\n",
    "token0 = Contract(pool.token0())\n",
    "token1 = Contract(pool.token1())"
   ]
  },
  {
   "cell_type": "markdown",
   "id": "baa4f479",
   "metadata": {},
   "source": [
    "## Get prices"
   ]
  },
  {
   "cell_type": "markdown",
   "id": "b2937619",
   "metadata": {},
   "source": [
    "#### Inputs for querying and saving price data"
   ]
  },
  {
   "cell_type": "code",
   "execution_count": 10,
   "id": "8fac8ec9",
   "metadata": {},
   "outputs": [],
   "source": [
    "start_block = 12376729  # ETH/USDC 0.05% pool deployment block\n",
    "# start_block = chain.blocks.head.number - 100_000\n",
    "head_block = chain.blocks.head.number\n",
    "step = 2400\n",
    "filename = f\"data/price_{pool.address}_{start_block}_{head_block}_{step}.csv\""
   ]
  },
  {
   "cell_type": "markdown",
   "id": "28030346",
   "metadata": {},
   "source": [
    "#### Helpful functions"
   ]
  },
  {
   "cell_type": "code",
   "execution_count": 11,
   "id": "79319618",
   "metadata": {},
   "outputs": [],
   "source": [
    "# calculate prices for both y/x and x/y in case of \"weird\" token0, token1 ordering\n",
    "def price(sqrt_price_x96) -> int:\n",
    "    return (int(sqrt_price_x96) >> 96) ** 2"
   ]
  },
  {
   "cell_type": "markdown",
   "id": "8b3d7c0f",
   "metadata": {},
   "source": [
    "#### Query prices"
   ]
  },
  {
   "cell_type": "code",
   "execution_count": 12,
   "id": "73ecbd92",
   "metadata": {},
   "outputs": [
    {
     "name": "stdout",
     "output_type": "stream",
     "text": [
      "Processing block 17985529 ...\r"
     ]
    }
   ],
   "source": [
    "# query for tick data each block and insert into pandas dataframe\n",
    "is_head = True\n",
    "y_decimals = token1.decimals()\n",
    "for block in range(start_block, head_block, step):\n",
    "    print(f\"Processing block {block} ...\", end='\\r')\n",
    "    \n",
    "    # get the sqrt price data at block\n",
    "    slot0 = pool.slot0(block_identifier=block)\n",
    "    y_by_x = price(slot0.sqrtPriceX96)\n",
    "    row = {\n",
    "        'block_number': [block],\n",
    "        'timestamp': [chain.blocks[block].timestamp],\n",
    "        'sqrt_price_x96': [slot0.sqrtPriceX96],\n",
    "        'y/x': [y_by_x],\n",
    "        'x/y': 10 ** y_decimals // y_by_x\n",
    "    }\n",
    "        \n",
    "    # convert to pd dataframe then append to file\n",
    "    df = pd.DataFrame(data=row)\n",
    "    df.to_csv(filename, mode='a', index=False, header=is_head)\n",
    "        \n",
    "    if is_head:\n",
    "        is_head = False"
   ]
  },
  {
   "cell_type": "code",
   "execution_count": 13,
   "id": "77781752",
   "metadata": {},
   "outputs": [
    {
     "data": {
      "text/html": [
       "<div>\n",
       "<style scoped>\n",
       "    .dataframe tbody tr th:only-of-type {\n",
       "        vertical-align: middle;\n",
       "    }\n",
       "\n",
       "    .dataframe tbody tr th {\n",
       "        vertical-align: top;\n",
       "    }\n",
       "\n",
       "    .dataframe thead th {\n",
       "        text-align: right;\n",
       "    }\n",
       "</style>\n",
       "<table border=\"1\" class=\"dataframe\">\n",
       "  <thead>\n",
       "    <tr style=\"text-align: right;\">\n",
       "      <th></th>\n",
       "      <th>block_number</th>\n",
       "      <th>timestamp</th>\n",
       "      <th>sqrt_price_x96</th>\n",
       "      <th>y/x</th>\n",
       "      <th>x/y</th>\n",
       "    </tr>\n",
       "  </thead>\n",
       "  <tbody>\n",
       "    <tr>\n",
       "      <th>0</th>\n",
       "      <td>12376729</td>\n",
       "      <td>1620250931</td>\n",
       "      <td>1350174849792634181862360983626536</td>\n",
       "      <td>290395681</td>\n",
       "      <td>3443577385</td>\n",
       "    </tr>\n",
       "    <tr>\n",
       "      <th>1</th>\n",
       "      <td>12379129</td>\n",
       "      <td>1620282250</td>\n",
       "      <td>1349455942403455280869650838376902</td>\n",
       "      <td>290089024</td>\n",
       "      <td>3447217637</td>\n",
       "    </tr>\n",
       "    <tr>\n",
       "      <th>2</th>\n",
       "      <td>12381529</td>\n",
       "      <td>1620314849</td>\n",
       "      <td>1331645075167582260580421920153591</td>\n",
       "      <td>282475249</td>\n",
       "      <td>3540133174</td>\n",
       "    </tr>\n",
       "    <tr>\n",
       "      <th>3</th>\n",
       "      <td>12383929</td>\n",
       "      <td>1620346823</td>\n",
       "      <td>1337727823580104074746991547077862</td>\n",
       "      <td>285069456</td>\n",
       "      <td>3507917031</td>\n",
       "    </tr>\n",
       "    <tr>\n",
       "      <th>4</th>\n",
       "      <td>12386329</td>\n",
       "      <td>1620379299</td>\n",
       "      <td>1352858712162969376165151222026880</td>\n",
       "      <td>291555625</td>\n",
       "      <td>3429877231</td>\n",
       "    </tr>\n",
       "  </tbody>\n",
       "</table>\n",
       "</div>"
      ],
      "text/plain": [
       "   block_number   timestamp                      sqrt_price_x96        y/x  \\\n",
       "0      12376729  1620250931  1350174849792634181862360983626536  290395681   \n",
       "1      12379129  1620282250  1349455942403455280869650838376902  290089024   \n",
       "2      12381529  1620314849  1331645075167582260580421920153591  282475249   \n",
       "3      12383929  1620346823  1337727823580104074746991547077862  285069456   \n",
       "4      12386329  1620379299  1352858712162969376165151222026880  291555625   \n",
       "\n",
       "          x/y  \n",
       "0  3443577385  \n",
       "1  3447217637  \n",
       "2  3540133174  \n",
       "3  3507917031  \n",
       "4  3429877231  "
      ]
     },
     "execution_count": 13,
     "metadata": {},
     "output_type": "execute_result"
    }
   ],
   "source": [
    "df = pd.read_csv(filename)\n",
    "df.head()"
   ]
  },
  {
   "cell_type": "code",
   "execution_count": 14,
   "id": "fc1860e3",
   "metadata": {},
   "outputs": [
    {
     "data": {
      "text/plain": [
       "(2338, 5)"
      ]
     },
     "execution_count": 14,
     "metadata": {},
     "output_type": "execute_result"
    }
   ],
   "source": [
    "df.shape"
   ]
  }
 ],
 "metadata": {
  "kernelspec": {
   "display_name": "Python 3 (ipykernel)",
   "language": "python",
   "name": "python3"
  },
  "language_info": {
   "codemirror_mode": {
    "name": "ipython",
    "version": 3
   },
   "file_extension": ".py",
   "mimetype": "text/x-python",
   "name": "python",
   "nbconvert_exporter": "python",
   "pygments_lexer": "ipython3",
   "version": "3.9.17"
  }
 },
 "nbformat": 4,
 "nbformat_minor": 5
}
