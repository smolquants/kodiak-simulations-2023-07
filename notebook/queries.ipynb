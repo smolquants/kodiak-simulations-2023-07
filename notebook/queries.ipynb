{
 "cells": [
  {
   "cell_type": "code",
   "execution_count": 2,
   "id": "d317503d",
   "metadata": {},
   "outputs": [],
   "source": [
    "import numpy as np\n",
    "import pandas as pd\n",
    "from ape import accounts, chain, Contract, networks, project"
   ]
  },
  {
   "cell_type": "code",
   "execution_count": 3,
   "id": "024e24e8",
   "metadata": {},
   "outputs": [
    {
     "data": {
      "text/plain": [
       "<alchemy chain_id=1>"
      ]
     },
     "execution_count": 3,
     "metadata": {},
     "output_type": "execute_result"
    }
   ],
   "source": [
    "# SEE: https://gist.github.com/banteg/dcf6082ff7fc6ad51ce220146f29d9ff\n",
    "networks.parse_network_choice('ethereum:mainnet:alchemy').__enter__()"
   ]
  },
  {
   "cell_type": "code",
   "execution_count": 4,
   "id": "0221a8ca",
   "metadata": {},
   "outputs": [],
   "source": [
    "head_block = chain.blocks.head.number"
   ]
  },
  {
   "cell_type": "code",
   "execution_count": 6,
   "id": "e7557063-c5cf-426b-b4b3-d732938ffa11",
   "metadata": {},
   "outputs": [
    {
     "data": {
      "text/plain": [
       "18399698"
      ]
     },
     "execution_count": 6,
     "metadata": {},
     "output_type": "execute_result"
    }
   ],
   "source": [
    "head_block"
   ]
  },
  {
   "cell_type": "code",
   "execution_count": 7,
   "id": "64810dbf-b6e8-46b2-9f35-151ea909f4fc",
   "metadata": {},
   "outputs": [],
   "source": [
    "start = head_block - 7200 * 365 * 2  # last 2 years\n",
    "stop = head_block\n",
    "step = 2400  # sample price once per 8 hour"
   ]
  },
  {
   "cell_type": "code",
   "execution_count": 9,
   "id": "f794d487-8383-46fe-84da-a2cc2882ae9b",
   "metadata": {},
   "outputs": [
    {
     "data": {
      "text/plain": [
       "range(13143698, 18399698, 2400)"
      ]
     },
     "execution_count": 9,
     "metadata": {},
     "output_type": "execute_result"
    }
   ],
   "source": [
    "# relevant block numbers to query for\n",
    "blocks = range(start, stop, step)\n",
    "blocks"
   ]
  },
  {
   "cell_type": "code",
   "execution_count": 10,
   "id": "f1896bff-99dd-448a-bdd7-0d23170c4391",
   "metadata": {},
   "outputs": [],
   "source": [
    "pool = Contract(\"0x88e6A0c2dDD26FEEb64F039a2c41296FcB3f5640\")  # USDC/ETH 0.05%"
   ]
  },
  {
   "cell_type": "code",
   "execution_count": 11,
   "id": "88973ddf-bee4-4513-a07e-bf81012ce854",
   "metadata": {},
   "outputs": [
    {
     "data": {
      "text/plain": [
       "<UniswapV3Pool 0x88e6A0c2dDD26FEEb64F039a2c41296FcB3f5640>"
      ]
     },
     "execution_count": 11,
     "metadata": {},
     "output_type": "execute_result"
    }
   ],
   "source": [
    "pool"
   ]
  },
  {
   "cell_type": "code",
   "execution_count": 12,
   "id": "963f2d92-53b7-475f-a831-d1e859d3c8e1",
   "metadata": {},
   "outputs": [
    {
     "name": "stdout",
     "output_type": "stream",
     "text": [
      "token0: 0xA0b86991c6218b36c1d19D4a2e9Eb0cE3606eB48, token1: 0xC02aaA39b223FE8D0A0e5C4F27eAD9083C756Cc2, fee: 500\n"
     ]
    }
   ],
   "source": [
    "print(f\"token0: {pool.token0()}, token1: {pool.token1()}, fee: {pool.fee()}\")"
   ]
  },
  {
   "cell_type": "code",
   "execution_count": 13,
   "id": "6219ce3f-7a84-4fec-b503-b76a77438fc5",
   "metadata": {},
   "outputs": [
    {
     "data": {
      "text/plain": [
       "'data/price_0x88e6A0c2dDD26FEEb64F039a2c41296FcB3f5640_13143698_18399698_2400.csv'"
      ]
     },
     "execution_count": 13,
     "metadata": {},
     "output_type": "execute_result"
    }
   ],
   "source": [
    "fp = f\"data/price_{pool.address}_{start}_{stop}_{step}.csv\"\n",
    "fp"
   ]
  },
  {
   "cell_type": "code",
   "execution_count": 19,
   "id": "0d5c1757-5061-4106-b4dd-c6829a2d9319",
   "metadata": {},
   "outputs": [
    {
     "name": "stdout",
     "output_type": "stream",
     "text": [
      "Pool slot0.sqrtPriceX96 at block 18397298: 1976662749186075940467412406512098\r"
     ]
    }
   ],
   "source": [
    "is_head = True\n",
    "for block in range(start, stop, step):\n",
    "    # get the sqrt price data at block\n",
    "    slot0 = pool.slot0(block_identifier=block)\n",
    "    row = {'block_number': [block], 'sqrt_price_x96': [slot0.sqrtPriceX96]}\n",
    "    print(f\"Pool slot0.sqrtPriceX96 at block {block}: {slot0.sqrtPriceX96}\", end='\\r')\n",
    "\n",
    "    # convert to pdf dataframe then append to file\n",
    "    df = pd.DataFrame(data=row)\n",
    "    df.to_csv(fp, mode='a', index=False, header=is_head)\n",
    "\n",
    "    if is_head:\n",
    "        is_head = False"
   ]
  },
  {
   "cell_type": "code",
   "execution_count": null,
   "id": "e4eeb30e-ae93-4b74-82c2-f68c66da22ae",
   "metadata": {},
   "outputs": [],
   "source": []
  }
 ],
 "metadata": {
  "kernelspec": {
   "display_name": "Python 3 (ipykernel)",
   "language": "python",
   "name": "python3"
  },
  "language_info": {
   "codemirror_mode": {
    "name": "ipython",
    "version": 3
   },
   "file_extension": ".py",
   "mimetype": "text/x-python",
   "name": "python",
   "nbconvert_exporter": "python",
   "pygments_lexer": "ipython3",
   "version": "3.9.6"
  }
 },
 "nbformat": 4,
 "nbformat_minor": 5
}
