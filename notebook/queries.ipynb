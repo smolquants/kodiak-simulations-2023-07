{
 "cells": [
  {
   "cell_type": "markdown",
   "id": "1b8664a9",
   "metadata": {},
   "source": [
    "## Imports"
   ]
  },
  {
   "cell_type": "code",
   "execution_count": 2,
   "id": "d317503d",
   "metadata": {},
   "outputs": [
    {
     "name": "stderr",
     "output_type": "stream",
     "text": [
      "/Users/anantdeepparihar/Library/Application Support/hatch/env/virtual/kodiak-simulations-2023-07/MXHRkJMx/kodiak-simulations-2023-07/lib/python3.9/site-packages/tqdm/auto.py:21: TqdmWarning: IProgress not found. Please update jupyter and ipywidgets. See https://ipywidgets.readthedocs.io/en/stable/user_install.html\n",
      "  from .autonotebook import tqdm as notebook_tqdm\n"
     ]
    }
   ],
   "source": [
    "import numpy as np\n",
    "import pandas as pd\n",
    "from ape import accounts, chain, Contract, networks, project"
   ]
  },
  {
   "cell_type": "code",
   "execution_count": 3,
   "id": "024e24e8",
   "metadata": {},
   "outputs": [
    {
     "data": {
      "text/plain": [
       "<alchemy chain_id=1>"
      ]
     },
     "execution_count": 3,
     "metadata": {},
     "output_type": "execute_result"
    }
   ],
   "source": [
    "networks.parse_network_choice('ethereum:mainnet:alchemy').__enter__()"
   ]
  },
  {
   "cell_type": "markdown",
   "id": "73a9bc77",
   "metadata": {},
   "source": [
    "## Contract objects"
   ]
  },
  {
   "cell_type": "code",
   "execution_count": 4,
   "id": "0221a8ca",
   "metadata": {},
   "outputs": [],
   "source": [
    "# Load Uniswap factory contract\n",
    "factory = Contract(\"0x1F98431c8aD98523631AE4a59f267346ea31F984\")\n",
    "\n",
    "# Load a referece pool; obtain `contract_type` from here to read any uniswap pool with ape\n",
    "pool_ref = Contract('0x8f8EF111B67C04Eb1641f5ff19EE54Cda062f163')\n",
    "\n",
    "# USDC/ETH 0.05%\n",
    "pool = Contract(\"0x88e6A0c2dDD26FEEb64F039a2c41296FcB3f5640\", contract_type=pool_ref.contract_type)\n",
    "\n",
    "token0 = Contract(pool.token0())\n",
    "token1 = Contract(pool.token1())"
   ]
  },
  {
   "cell_type": "markdown",
   "id": "baa4f479",
   "metadata": {},
   "source": [
    "## Get prices"
   ]
  },
  {
   "cell_type": "markdown",
   "id": "b2937619",
   "metadata": {},
   "source": [
    "#### Inputs for querying and saving price data"
   ]
  },
  {
   "cell_type": "code",
   "execution_count": 5,
   "id": "8fac8ec9",
   "metadata": {},
   "outputs": [],
   "source": [
    "# start_block = 12376729  # ETH/USDC 0.05% pool deployment block\n",
    "start_block = chain.blocks.head.number - 100_000\n",
    "head_block = chain.blocks.head.number\n",
    "step = 2400\n",
    "filename = f\"data/price_{pool.address}_{start_block}_{head_block}_{step}.csv\""
   ]
  },
  {
   "cell_type": "markdown",
   "id": "28030346",
   "metadata": {},
   "source": [
    "#### Helpful functions"
   ]
  },
  {
   "cell_type": "code",
   "execution_count": 6,
   "id": "79319618",
   "metadata": {},
   "outputs": [],
   "source": [
    "# calculate prices for both y/x and x/y in case of \"weird\" token0, token1 ordering\n",
    "def price(sqrt_price_x96) -> int:\n",
    "    return (int(sqrt_price_x96) >> 96) ** 2"
   ]
  },
  {
   "cell_type": "markdown",
   "id": "8b3d7c0f",
   "metadata": {},
   "source": [
    "#### Query prices"
   ]
  },
  {
   "cell_type": "code",
   "execution_count": 7,
   "id": "73ecbd92",
   "metadata": {},
   "outputs": [
    {
     "name": "stdout",
     "output_type": "stream",
     "text": [
      "Processing block 17944403 ...\r"
     ]
    }
   ],
   "source": [
    "# query for tick data each block and insert into pandas dataframe\n",
    "is_head = True\n",
    "for block in range(start_block, head_block, step):\n",
    "    print(f\"Processing block {block} ...\", end='\\r')\n",
    "    \n",
    "    # get the sqrt price data at block\n",
    "    slot0 = pool.slot0(block_identifier=block)\n",
    "    y_by_x = price(slot0.sqrtPriceX96)\n",
    "    row = {\n",
    "        'block_number': [block],\n",
    "        'timestamp': [chain.blocks[block].timestamp],\n",
    "        'sqrt_price_x96': [slot0.sqrtPriceX96],\n",
    "        'y/x': [y_by_x],\n",
    "        'x/y': 10 ** token1.decimals() // y_by_x\n",
    "    }\n",
    "        \n",
    "    # convert to pd dataframe then append to file\n",
    "    df = pd.DataFrame(data=row)\n",
    "    df.to_csv(filename, mode='a', index=False, header=is_head)\n",
    "        \n",
    "    if is_head:\n",
    "        is_head = False"
   ]
  },
  {
   "cell_type": "code",
   "execution_count": 8,
   "id": "77781752",
   "metadata": {},
   "outputs": [
    {
     "data": {
      "text/html": [
       "<div>\n",
       "<style scoped>\n",
       "    .dataframe tbody tr th:only-of-type {\n",
       "        vertical-align: middle;\n",
       "    }\n",
       "\n",
       "    .dataframe tbody tr th {\n",
       "        vertical-align: top;\n",
       "    }\n",
       "\n",
       "    .dataframe thead th {\n",
       "        text-align: right;\n",
       "    }\n",
       "</style>\n",
       "<table border=\"1\" class=\"dataframe\">\n",
       "  <thead>\n",
       "    <tr style=\"text-align: right;\">\n",
       "      <th></th>\n",
       "      <th>block_number</th>\n",
       "      <th>timestamp</th>\n",
       "      <th>sqrt_price_x96</th>\n",
       "      <th>price</th>\n",
       "    </tr>\n",
       "  </thead>\n",
       "  <tbody>\n",
       "    <tr>\n",
       "      <th>0</th>\n",
       "      <td>17846003</td>\n",
       "      <td>1691205083</td>\n",
       "      <td>1853108454851453304155515201922274</td>\n",
       "      <td>0.000547</td>\n",
       "    </tr>\n",
       "    <tr>\n",
       "      <th>1</th>\n",
       "      <td>17848403</td>\n",
       "      <td>1691234099</td>\n",
       "      <td>1851322486752172637560000266968502</td>\n",
       "      <td>0.000546</td>\n",
       "    </tr>\n",
       "    <tr>\n",
       "      <th>2</th>\n",
       "      <td>17850803</td>\n",
       "      <td>1691263055</td>\n",
       "      <td>1849161700064716265427670227259749</td>\n",
       "      <td>0.000545</td>\n",
       "    </tr>\n",
       "    <tr>\n",
       "      <th>3</th>\n",
       "      <td>17853203</td>\n",
       "      <td>1691292083</td>\n",
       "      <td>1850319883285144859934317017619672</td>\n",
       "      <td>0.000545</td>\n",
       "    </tr>\n",
       "    <tr>\n",
       "      <th>4</th>\n",
       "      <td>17855603</td>\n",
       "      <td>1691321123</td>\n",
       "      <td>1852406778307200559820017252423304</td>\n",
       "      <td>0.000547</td>\n",
       "    </tr>\n",
       "  </tbody>\n",
       "</table>\n",
       "</div>"
      ],
      "text/plain": [
       "   block_number   timestamp                      sqrt_price_x96     price\n",
       "0      17846003  1691205083  1853108454851453304155515201922274  0.000547\n",
       "1      17848403  1691234099  1851322486752172637560000266968502  0.000546\n",
       "2      17850803  1691263055  1849161700064716265427670227259749  0.000545\n",
       "3      17853203  1691292083  1850319883285144859934317017619672  0.000545\n",
       "4      17855603  1691321123  1852406778307200559820017252423304  0.000547"
      ]
     },
     "execution_count": 8,
     "metadata": {},
     "output_type": "execute_result"
    }
   ],
   "source": [
    "df = pd.read_csv(filename)\n",
    "df.head()"
   ]
  },
  {
   "cell_type": "code",
   "execution_count": 9,
   "id": "fc1860e3",
   "metadata": {},
   "outputs": [
    {
     "data": {
      "text/plain": [
       "(42, 4)"
      ]
     },
     "execution_count": 9,
     "metadata": {},
     "output_type": "execute_result"
    }
   ],
   "source": [
    "df.shape"
   ]
  }
 ],
 "metadata": {
  "kernelspec": {
   "display_name": "Python 3 (ipykernel)",
   "language": "python",
   "name": "python3"
  },
  "language_info": {
   "codemirror_mode": {
    "name": "ipython",
    "version": 3
   },
   "file_extension": ".py",
   "mimetype": "text/x-python",
   "name": "python",
   "nbconvert_exporter": "python",
   "pygments_lexer": "ipython3",
   "version": "3.9.17"
  }
 },
 "nbformat": 4,
 "nbformat_minor": 5
}
