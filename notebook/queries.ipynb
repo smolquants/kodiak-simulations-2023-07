{
 "cells": [
  {
   "cell_type": "markdown",
   "id": "e3e1f76b",
   "metadata": {},
   "source": [
    "## Imports"
   ]
  },
  {
   "cell_type": "code",
   "execution_count": 55,
   "id": "d317503d",
   "metadata": {},
   "outputs": [],
   "source": [
    "import numpy as np\n",
    "import pandas as pd\n",
    "from ape import accounts, chain, Contract, networks, project"
   ]
  },
  {
   "cell_type": "code",
   "execution_count": 56,
   "id": "024e24e8",
   "metadata": {},
   "outputs": [
    {
     "data": {
      "text/plain": [
       "<alchemy chain_id=1>"
      ]
     },
     "execution_count": 56,
     "metadata": {},
     "output_type": "execute_result"
    }
   ],
   "source": [
    "networks.parse_network_choice('ethereum:mainnet:alchemy').__enter__()"
   ]
  },
  {
   "cell_type": "markdown",
   "id": "19e0be5e",
   "metadata": {},
   "source": [
    "## Contract objects"
   ]
  },
  {
   "cell_type": "code",
   "execution_count": 57,
   "id": "0221a8ca",
   "metadata": {},
   "outputs": [],
   "source": [
    "# Load Uniswap factory contract\n",
    "factory = Contract(\"0x1F98431c8aD98523631AE4a59f267346ea31F984\")\n",
    "\n",
    "# Load a referece pool; obtain `contract_type` from here to read any uniswap pool with ape\n",
    "pool_ref = Contract('0x8f8EF111B67C04Eb1641f5ff19EE54Cda062f163')\n",
    "\n",
    "# USDC/ETH 0.05%\n",
    "pool = Contract(\"0x88e6A0c2dDD26FEEb64F039a2c41296FcB3f5640\", contract_type=pool_ref.contract_type)\n",
    "\n",
    "token0 = Contract(pool.token0())\n",
    "token1 = Contract(pool.token1())"
   ]
  },
  {
   "cell_type": "markdown",
   "id": "f306cd16",
   "metadata": {},
   "source": [
    "## Get prices"
   ]
  },
  {
   "cell_type": "markdown",
   "id": "0afb3201",
   "metadata": {},
   "source": [
    "#### Inputs for querying and saving price data"
   ]
  },
  {
   "cell_type": "code",
   "execution_count": 58,
   "id": "13b70333",
   "metadata": {},
   "outputs": [],
   "source": [
    "# start_block = 12376729  # ETH/USDC 0.05% pool deployment block\n",
    "start_block = chain.blocks.head.number - 10_000 \n",
    "head_block = chain.blocks.head.number\n",
    "step = 2400\n",
    "filename = f\"data/price_{pool.address}_{start_block}_{head_block}_{step}.csv\""
   ]
  },
  {
   "cell_type": "markdown",
   "id": "4fa63b46",
   "metadata": {},
   "source": [
    "#### Helpful functions"
   ]
  },
  {
   "cell_type": "code",
   "execution_count": 59,
   "id": "c0745b37",
   "metadata": {},
   "outputs": [],
   "source": [
    "def get_price_from_slot0(slot0):\n",
    "    price = (slot0.sqrtPriceX96**2) * (10**(token0.decimals() - token1.decimals())) / 2**(96*2) \n",
    "    return price"
   ]
  },
  {
   "cell_type": "markdown",
   "id": "858c5433",
   "metadata": {},
   "source": [
    "#### Query prices"
   ]
  },
  {
   "cell_type": "code",
   "execution_count": 60,
   "id": "73ecbd92",
   "metadata": {},
   "outputs": [
    {
     "name": "stdout",
     "output_type": "stream",
     "text": [
      "Processing block 17945252 ...\r"
     ]
    }
   ],
   "source": [
    "# query for tick data each block and insert into pandas dataframe\n",
    "is_head = True\n",
    "for block in range(start_block, head_block, step):\n",
    "    print(f\"Processing block {block} ...\", end='\\r')\n",
    "    \n",
    "    # get the sqrt price data at block\n",
    "    slot0 = pool.slot0(block_identifier=block)\n",
    "    row = {\n",
    "        'block_number': [block],\n",
    "        'sqrt_price_x96': [slot0.sqrtPriceX96],\n",
    "        'price': [get_price_from_slot0(slot0)]\n",
    "    }\n",
    "        \n",
    "    # convert to pd dataframe then append to file\n",
    "    df = pd.DataFrame(data=row)\n",
    "    df.to_csv(filename, mode='a', index=False, header=is_head)\n",
    "        \n",
    "    if is_head:\n",
    "        is_head = False"
   ]
  }
 ],
 "metadata": {
  "kernelspec": {
   "display_name": "Python 3 (ipykernel)",
   "language": "python",
   "name": "python3"
  },
  "language_info": {
   "codemirror_mode": {
    "name": "ipython",
    "version": 3
   },
   "file_extension": ".py",
   "mimetype": "text/x-python",
   "name": "python",
   "nbconvert_exporter": "python",
   "pygments_lexer": "ipython3",
   "version": "3.9.17"
  }
 },
 "nbformat": 4,
 "nbformat_minor": 5
}
