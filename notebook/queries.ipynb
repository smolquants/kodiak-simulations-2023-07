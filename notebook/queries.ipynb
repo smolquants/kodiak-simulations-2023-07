{
 "cells": [
  {
   "cell_type": "markdown",
   "id": "1b8664a9",
   "metadata": {},
   "source": [
    "## Imports"
   ]
  },
  {
   "cell_type": "code",
   "execution_count": 148,
   "id": "d317503d",
   "metadata": {},
   "outputs": [],
   "source": [
    "import numpy as np\n",
    "import pandas as pd\n",
    "from ape import accounts, chain, Contract, networks, project\n",
    "import time"
   ]
  },
  {
   "cell_type": "code",
   "execution_count": 149,
   "id": "024e24e8",
   "metadata": {},
   "outputs": [
    {
     "data": {
      "text/plain": [
       "<alchemy chain_id=1>"
      ]
     },
     "execution_count": 149,
     "metadata": {},
     "output_type": "execute_result"
    }
   ],
   "source": [
    "networks.parse_network_choice('ethereum:mainnet:alchemy').__enter__()"
   ]
  },
  {
   "cell_type": "markdown",
   "id": "73a9bc77",
   "metadata": {},
   "source": [
    "## Contract objects"
   ]
  },
  {
   "cell_type": "code",
   "execution_count": 150,
   "id": "0221a8ca",
   "metadata": {},
   "outputs": [],
   "source": [
    "# Load Uniswap factory contract\n",
    "factory = Contract(\"0x1F98431c8aD98523631AE4a59f267346ea31F984\")\n",
    "\n",
    "# Load a referece pool; obtain `contract_type` from here to read any uniswap pool with ape\n",
    "pool_ref = Contract('0x8f8EF111B67C04Eb1641f5ff19EE54Cda062f163')\n",
    "time.sleep(2)\n",
    "# Required pool\n",
    "pool = Contract(\"0x2f62f2b4c5fcd7570a709dec05d68ea19c82a9ec\", contract_type=pool_ref.contract_type)\n",
    "\n",
    "token0 = Contract(pool.token0())\n",
    "token1 = Contract(pool.token1())\n",
    "\n",
    "token0_decimals = token0.decimals()\n",
    "token1_decimals = token1.decimals()"
   ]
  },
  {
   "cell_type": "markdown",
   "id": "baa4f479",
   "metadata": {},
   "source": [
    "## Get prices"
   ]
  },
  {
   "cell_type": "markdown",
   "id": "b2937619",
   "metadata": {},
   "source": [
    "#### Inputs for querying and saving price data"
   ]
  },
  {
   "cell_type": "code",
   "execution_count": 151,
   "id": "8fac8ec9",
   "metadata": {},
   "outputs": [],
   "source": [
    "start_block = 12388028  # Deployment block of required pool\n",
    "# start_block = chain.blocks.head.number - 100_000\n",
    "head_block = chain.blocks.head.number\n",
    "step = 2400\n",
    "filename = f\"data/price_{pool.address}_{start_block}_{head_block}_{step}.csv\""
   ]
  },
  {
   "cell_type": "markdown",
   "id": "28030346",
   "metadata": {},
   "source": [
    "#### Helpful functions"
   ]
  },
  {
   "cell_type": "code",
   "execution_count": 153,
   "id": "f38cb4bd",
   "metadata": {},
   "outputs": [],
   "source": [
    "def price(sqrtPriceX96):\n",
    "    y_by_x = (sqrtPriceX96**2) * (10**(token0_decimals)) // 2**(96*2)\n",
    "    x_by_y = (10 ** (token0_decimals + token1_decimals)) // y_by_x\n",
    "    return y_by_x, x_by_y"
   ]
  },
  {
   "cell_type": "markdown",
   "id": "8b3d7c0f",
   "metadata": {},
   "source": [
    "#### Query prices"
   ]
  },
  {
   "cell_type": "code",
   "execution_count": 154,
   "id": "73ecbd92",
   "metadata": {},
   "outputs": [
    {
     "name": "stdout",
     "output_type": "stream",
     "text": [
      "Processing block 18008828 ...\r"
     ]
    }
   ],
   "source": [
    "# query for tick data each block and insert into pandas dataframe\n",
    "is_head = True\n",
    "y_decimals = token1.decimals()\n",
    "for block in range(start_block, head_block, step):\n",
    "    print(f\"Processing block {block} ...\", end='\\r')\n",
    "    \n",
    "    # get the sqrt price data at block\n",
    "    slot0 = pool.slot0(block_identifier=block)\n",
    "    y_by_x, x_by_y = price(slot0.sqrtPriceX96)\n",
    "    row = {\n",
    "        'block_number': [block],\n",
    "        'timestamp': [chain.blocks[block].timestamp],\n",
    "        'sqrt_price_x96': [slot0.sqrtPriceX96],\n",
    "        'y/x': [y_by_x],\n",
    "        'x/y': [x_by_y]\n",
    "    }\n",
    "        \n",
    "    # convert to pd dataframe then append to file\n",
    "    df = pd.DataFrame(data=row)\n",
    "    df.to_csv(filename, mode='a', index=False, header=is_head)\n",
    "        \n",
    "    if is_head:\n",
    "        is_head = False"
   ]
  },
  {
   "cell_type": "code",
   "execution_count": 155,
   "id": "77781752",
   "metadata": {},
   "outputs": [
    {
     "data": {
      "text/html": [
       "<div>\n",
       "<style scoped>\n",
       "    .dataframe tbody tr th:only-of-type {\n",
       "        vertical-align: middle;\n",
       "    }\n",
       "\n",
       "    .dataframe tbody tr th {\n",
       "        vertical-align: top;\n",
       "    }\n",
       "\n",
       "    .dataframe thead th {\n",
       "        text-align: right;\n",
       "    }\n",
       "</style>\n",
       "<table border=\"1\" class=\"dataframe\">\n",
       "  <thead>\n",
       "    <tr style=\"text-align: right;\">\n",
       "      <th></th>\n",
       "      <th>block_number</th>\n",
       "      <th>timestamp</th>\n",
       "      <th>sqrt_price_x96</th>\n",
       "      <th>y/x</th>\n",
       "      <th>x/y</th>\n",
       "    </tr>\n",
       "  </thead>\n",
       "  <tbody>\n",
       "    <tr>\n",
       "      <th>0</th>\n",
       "      <td>12388028</td>\n",
       "      <td>1620402493</td>\n",
       "      <td>2108889692158436052392065</td>\n",
       "      <td>708514203</td>\n",
       "      <td>1411404310267581184960381097</td>\n",
       "    </tr>\n",
       "    <tr>\n",
       "      <th>1</th>\n",
       "      <td>12390428</td>\n",
       "      <td>1620433963</td>\n",
       "      <td>2275600869295620741930066</td>\n",
       "      <td>824960233</td>\n",
       "      <td>1212179642118579550973337644</td>\n",
       "    </tr>\n",
       "    <tr>\n",
       "      <th>2</th>\n",
       "      <td>12392828</td>\n",
       "      <td>1620466094</td>\n",
       "      <td>3573284485497124640947326</td>\n",
       "      <td>2034117424</td>\n",
       "      <td>491613703418136592295371832</td>\n",
       "    </tr>\n",
       "    <tr>\n",
       "      <th>3</th>\n",
       "      <td>12395228</td>\n",
       "      <td>1620497699</td>\n",
       "      <td>4912614678281149830635472</td>\n",
       "      <td>3844733444</td>\n",
       "      <td>260096054659023586655699504</td>\n",
       "    </tr>\n",
       "    <tr>\n",
       "      <th>4</th>\n",
       "      <td>12397628</td>\n",
       "      <td>1620529528</td>\n",
       "      <td>5528778279236812307604963</td>\n",
       "      <td>4869666057</td>\n",
       "      <td>205352890381986207724880137</td>\n",
       "    </tr>\n",
       "  </tbody>\n",
       "</table>\n",
       "</div>"
      ],
      "text/plain": [
       "   block_number   timestamp             sqrt_price_x96         y/x  \\\n",
       "0      12388028  1620402493  2108889692158436052392065   708514203   \n",
       "1      12390428  1620433963  2275600869295620741930066   824960233   \n",
       "2      12392828  1620466094  3573284485497124640947326  2034117424   \n",
       "3      12395228  1620497699  4912614678281149830635472  3844733444   \n",
       "4      12397628  1620529528  5528778279236812307604963  4869666057   \n",
       "\n",
       "                            x/y  \n",
       "0  1411404310267581184960381097  \n",
       "1  1212179642118579550973337644  \n",
       "2   491613703418136592295371832  \n",
       "3   260096054659023586655699504  \n",
       "4   205352890381986207724880137  "
      ]
     },
     "execution_count": 155,
     "metadata": {},
     "output_type": "execute_result"
    }
   ],
   "source": [
    "df = pd.read_csv(filename)\n",
    "df.head()"
   ]
  },
  {
   "cell_type": "code",
   "execution_count": 156,
   "id": "fc1860e3",
   "metadata": {},
   "outputs": [
    {
     "data": {
      "text/plain": [
       "(2343, 5)"
      ]
     },
     "execution_count": 156,
     "metadata": {},
     "output_type": "execute_result"
    }
   ],
   "source": [
    "df.shape"
   ]
  }
 ],
 "metadata": {
  "kernelspec": {
   "display_name": "Python 3 (ipykernel)",
   "language": "python",
   "name": "python3"
  },
  "language_info": {
   "codemirror_mode": {
    "name": "ipython",
    "version": 3
   },
   "file_extension": ".py",
   "mimetype": "text/x-python",
   "name": "python",
   "nbconvert_exporter": "python",
   "pygments_lexer": "ipython3",
   "version": "3.9.17"
  }
 },
 "nbformat": 4,
 "nbformat_minor": 5
}
