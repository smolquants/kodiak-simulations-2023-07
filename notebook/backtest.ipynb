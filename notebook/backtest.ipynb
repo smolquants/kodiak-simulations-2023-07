{
 "cells": [
  {
   "cell_type": "code",
   "execution_count": 2,
   "id": "e16e2ed5",
   "metadata": {},
   "outputs": [],
   "source": [
    "import numpy as np\n",
    "import pandas as pd\n",
    "import matplotlib.pyplot as plt\n",
    "\n",
    "from scipy import stats\n",
    "from scipy.special import gamma\n",
    "from typing import ClassVar, Mapping\n",
    "\n",
    "from ape import accounts, chain, Contract, networks, project\n",
    "from kodiak_simulations_2023_07 import UniswapV3LPFixedWidthFee0Runner, UniswapV3LPFixedWidthFee1Runner"
   ]
  },
  {
   "cell_type": "code",
   "execution_count": 3,
   "id": "145318fc",
   "metadata": {},
   "outputs": [
    {
     "data": {
      "text/plain": [
       "<alchemy chain_id=1>"
      ]
     },
     "execution_count": 3,
     "metadata": {},
     "output_type": "execute_result"
    }
   ],
   "source": [
    "# SEE: https://gist.github.com/banteg/dcf6082ff7fc6ad51ce220146f29d9ff\n",
    "networks.parse_network_choice('ethereum:mainnet:alchemy').__enter__()"
   ]
  },
  {
   "cell_type": "code",
   "execution_count": 4,
   "id": "aa51f579",
   "metadata": {},
   "outputs": [],
   "source": [
    "# USDC/WETH 5bps pool, 8h candle fits\n",
    "FILEPATH = \"fits/price_0x88e6A0c2dDD26FEEb64F039a2c41296FcB3f5640_12509859_17765859_2400.csv\""
   ]
  },
  {
   "cell_type": "code",
   "execution_count": 5,
   "id": "ea042841",
   "metadata": {},
   "outputs": [
    {
     "data": {
      "text/html": [
       "<div>\n",
       "<style scoped>\n",
       "    .dataframe tbody tr th:only-of-type {\n",
       "        vertical-align: middle;\n",
       "    }\n",
       "\n",
       "    .dataframe tbody tr th {\n",
       "        vertical-align: top;\n",
       "    }\n",
       "\n",
       "    .dataframe thead th {\n",
       "        text-align: right;\n",
       "    }\n",
       "</style>\n",
       "<table border=\"1\" class=\"dataframe\">\n",
       "  <thead>\n",
       "    <tr style=\"text-align: right;\">\n",
       "      <th></th>\n",
       "      <th>0</th>\n",
       "      <th>1</th>\n",
       "      <th>2</th>\n",
       "      <th>3</th>\n",
       "    </tr>\n",
       "  </thead>\n",
       "  <tbody>\n",
       "    <tr>\n",
       "      <th>norm</th>\n",
       "      <td>-0.000195</td>\n",
       "      <td>0.024510</td>\n",
       "      <td>NaN</td>\n",
       "      <td>NaN</td>\n",
       "    </tr>\n",
       "    <tr>\n",
       "      <th>cauchy</th>\n",
       "      <td>-0.000124</td>\n",
       "      <td>0.010094</td>\n",
       "      <td>NaN</td>\n",
       "      <td>NaN</td>\n",
       "    </tr>\n",
       "    <tr>\n",
       "      <th>logistic</th>\n",
       "      <td>-0.000002</td>\n",
       "      <td>0.012449</td>\n",
       "      <td>NaN</td>\n",
       "      <td>NaN</td>\n",
       "    </tr>\n",
       "    <tr>\n",
       "      <th>t</th>\n",
       "      <td>2.503086</td>\n",
       "      <td>0.000007</td>\n",
       "      <td>0.014541</td>\n",
       "      <td>NaN</td>\n",
       "    </tr>\n",
       "    <tr>\n",
       "      <th>levy_stable</th>\n",
       "      <td>1.461675</td>\n",
       "      <td>-0.006468</td>\n",
       "      <td>0.000008</td>\n",
       "      <td>0.012008</td>\n",
       "    </tr>\n",
       "  </tbody>\n",
       "</table>\n",
       "</div>"
      ],
      "text/plain": [
       "                    0         1         2         3\n",
       "norm        -0.000195  0.024510       NaN       NaN\n",
       "cauchy      -0.000124  0.010094       NaN       NaN\n",
       "logistic    -0.000002  0.012449       NaN       NaN\n",
       "t            2.503086  0.000007  0.014541       NaN\n",
       "levy_stable  1.461675 -0.006468  0.000008  0.012008"
      ]
     },
     "execution_count": 5,
     "metadata": {},
     "output_type": "execute_result"
    }
   ],
   "source": [
    "df_params = pd.read_csv(FILEPATH, index_col=0)\n",
    "df_params"
   ]
  },
  {
   "cell_type": "code",
   "execution_count": 6,
   "id": "03bda5cd",
   "metadata": {},
   "outputs": [],
   "source": [
    "# optimal tick width calcs with period slider for various fits\n",
    "def delta_c(alpha: float, sigma: float, tau: float) -> float:\n",
    "    num = 6\n",
    "    denom = (8 / (sigma * (tau ** (1/alpha))) ** 2) * (gamma(3/alpha) / gamma(1/alpha)) - 1\n",
    "    return num / denom\n",
    "\n",
    "def error_fn(alpha: float, sigma: float, tau: float, delta: float) -> float:\n",
    "    z = delta / (sigma * (tau ** (1/alpha)))\n",
    "    return stats.levy_stable.cdf(z, alpha, 0) - stats.levy_stable.cdf(-z, alpha, 0)\n",
    "\n",
    "def g(alpha: float, sigma: float, tau: float, delta: float) -> float:\n",
    "    return error_fn(alpha, sigma, tau, delta) / (1 - np.exp(-delta/2))"
   ]
  },
  {
   "cell_type": "code",
   "execution_count": 7,
   "id": "0bd5e6dc",
   "metadata": {},
   "outputs": [],
   "source": [
    "BLOCK_START = 12509859\n",
    "BLOCK_STOP = 17765859\n",
    "BLOCK_STEP = 2400"
   ]
  },
  {
   "cell_type": "code",
   "execution_count": 8,
   "id": "07af9bfa",
   "metadata": {},
   "outputs": [],
   "source": [
    "# TODO: different csvs for different delta choices (to compare results)\n",
    "BACKTEST_FEE0_PATH = f\"results/UniswapV3LPFixedWidthFee0Runner_backtest_0x88e6A0c2dDD26FEEb64F039a2c41296FcB3f5640_{BLOCK_START}_{BLOCK_STOP}_{BLOCK_STEP}.csv\"\n",
    "BACKTEST_FEE1_PATH = f\"results/UniswapV3LPFixedWidthFee1Runner_backtest_0x88e6A0c2dDD26FEEb64F039a2c41296FcB3f5640_{BLOCK_START}_{BLOCK_STOP}_{BLOCK_STEP}.csv\""
   ]
  },
  {
   "cell_type": "code",
   "execution_count": null,
   "id": "e9556f03",
   "metadata": {},
   "outputs": [],
   "source": []
  }
 ],
 "metadata": {
  "kernelspec": {
   "display_name": "Python 3 (ipykernel)",
   "language": "python",
   "name": "python3"
  },
  "language_info": {
   "codemirror_mode": {
    "name": "ipython",
    "version": 3
   },
   "file_extension": ".py",
   "mimetype": "text/x-python",
   "name": "python",
   "nbconvert_exporter": "python",
   "pygments_lexer": "ipython3",
   "version": "3.9.6"
  }
 },
 "nbformat": 4,
 "nbformat_minor": 5
}
